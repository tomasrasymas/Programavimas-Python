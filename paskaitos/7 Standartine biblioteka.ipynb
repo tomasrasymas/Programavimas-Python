{
 "cells": [
  {
   "cell_type": "markdown",
   "metadata": {
    "deletable": true,
    "editable": true
   },
   "source": [
    "# Standartinė Python biblioteka\n",
    "\n",
    "Su kiekviena Python instaliacija yra įdiegiama ir standartinė Python biblioteka, kurioje yra jau paruoštų naudojimui modulių. Pilnas standartinės Python bibliotekos sąrašą galima rasti adresu https://docs.python.org/3/library/index.html. \n",
    "\n",
    "Toliau bus apžvelgiami pagrindiniai ir dažniausiai naudojami moduliai iš standartinės bibliotekos."
   ]
  },
  {
   "cell_type": "markdown",
   "metadata": {
    "deletable": true,
    "editable": true
   },
   "source": [
    "# time\n",
    "\n",
    "Modulyje realizuotos funkcijos skirtos darbui su laiku. "
   ]
  },
  {
   "cell_type": "code",
   "execution_count": null,
   "metadata": {
    "collapsed": false,
    "deletable": true,
    "editable": true
   },
   "outputs": [],
   "source": [
    "# laiko pradžia UNIX sistemose yra laikoma 1970-01-01 vidurnaktis, kitose sistemose - time.gmtime(0) \n",
    "import time\n",
    "print(time.gmtime(0))"
   ]
  },
  {
   "cell_type": "code",
   "execution_count": null,
   "metadata": {
    "collapsed": false,
    "deletable": true,
    "editable": true
   },
   "outputs": [],
   "source": [
    "# time.time() grąžina sekundes (float) nuo epochos\n",
    "import time\n",
    "\n",
    "print(\"Dabartinis laikas: \", time.time())"
   ]
  },
  {
   "cell_type": "markdown",
   "metadata": {
    "deletable": true,
    "editable": true
   },
   "source": [
    "Laikas Python yra traktuojamas kaip 9 skaičių sąrašas.\n",
    "\n",
    "indeksas | aprašymas | reikšmės\n",
    "--- | --- | ---\n",
    "0\t| 4-skaitmenų metai\t        | 2016\n",
    "1\t| mėnesis         \t        | 1 iki 12\n",
    "2\t| diena\t                    | 1 iki 31\n",
    "3\t| valandos          \t    | 0 iki 23\n",
    "4\t| minutės          \t        | 0 iki 59\n",
    "5\t| sekundės         \t        | 0 iki 61 (60 arba 61 yra keliamos sekundės (angl. leap-seconds))\n",
    "6\t| savaitės diena\t        | 0 iki 6 (0 yra pirmadienis)\n",
    "7\t| metų diena         \t    | 1 iki 366\n",
    "8\t| laikrodžio prasukimas\t    |-1, 0, 1, -1 nurodo, jog boblioteka nustato laikrodžio prasukimą"
   ]
  },
  {
   "cell_type": "code",
   "execution_count": null,
   "metadata": {
    "collapsed": false,
    "deletable": true,
    "editable": true
   },
   "outputs": [],
   "source": [
    "import time\n",
    "print(time.localtime())\n",
    "print(time.localtime(t).tm_year)"
   ]
  },
  {
   "cell_type": "code",
   "execution_count": null,
   "metadata": {
    "collapsed": false,
    "deletable": true,
    "editable": true
   },
   "outputs": [],
   "source": [
    "# sekundžių nuo epochos pradžios pavertimas į laiką\n",
    "import time\n",
    "\n",
    "t = time.time()\n",
    "\n",
    "local_time = time.localtime(t)\n",
    "print (\"Lokalus laikas yra: \", local_time)\n",
    "\n",
    "utc_time = time.gmtime(t)\n",
    "print (\"UTC laikas yra: \", local_time)"
   ]
  },
  {
   "cell_type": "code",
   "execution_count": null,
   "metadata": {
    "collapsed": false,
    "deletable": true,
    "editable": true
   },
   "outputs": [],
   "source": [
    "# time.sleep(secs) sustabdo proceso darbą nurodytam laikui (sekundėmis)\n",
    "import time\n",
    "\n",
    "print(\"Dabartinis laikas: \", time.localtime(time.time()))\n",
    "time.sleep(10)\n",
    "print(\"Po 10 sekundžių: \", time.localtime(time.time()))"
   ]
  },
  {
   "cell_type": "code",
   "execution_count": null,
   "metadata": {
    "collapsed": false,
    "deletable": true,
    "editable": true
   },
   "outputs": [],
   "source": [
    "# time.strftime(format, time) paverčia laiką į suformatuotą tekstą\n",
    "# https://docs.python.org/3/library/time.html#time.strftime\n",
    "import time\n",
    "\n",
    "t = time.time()\n",
    "print(time.strftime(\"%Y-%M-%d %H:%M:%S\", time.localtime(t)))"
   ]
  },
  {
   "cell_type": "code",
   "execution_count": null,
   "metadata": {
    "collapsed": false,
    "deletable": true,
    "editable": true
   },
   "outputs": [],
   "source": [
    "# aritmetika su laiku\n",
    "import time\n",
    "\n",
    "t = time.time()\n",
    "print(\"Dabar\", time.strftime(\"%Y-%M-%d %H:%M:%S\", time.localtime(t)))\n",
    "\n",
    "print(\"Prieš 15 sekundžių\", time.strftime(\"%Y-%M-%d %H:%M:%S\", time.localtime(t-15)))\n",
    "\n",
    "print(\"Po 15 sekundžių\", time.strftime(\"%Y-%M-%d %H:%M:%S\", time.localtime(t+15)))"
   ]
  },
  {
   "cell_type": "markdown",
   "metadata": {
    "deletable": true,
    "editable": true
   },
   "source": [
    "# datetime\n",
    "\n",
    "Modulyje realizuotos funkcijos skirtos darbui su laiku. "
   ]
  },
  {
   "cell_type": "code",
   "execution_count": null,
   "metadata": {
    "collapsed": false,
    "deletable": true,
    "editable": true
   },
   "outputs": [],
   "source": [
    "# datetime struktūra\n",
    "import datetime\n",
    "\n",
    "t = datetime.datetime.now()\n",
    "print(t)\n",
    "print(\"valandos: \", t.hour)\n",
    "print(\"minutės: \", t.minute)\n",
    "print(\"sekundės: \", t.second)\n",
    "print(\"mikrosekundės: \", t.microsecond)\n",
    "print(\"laiko zona: \", t.tzinfo)"
   ]
  },
  {
   "cell_type": "code",
   "execution_count": null,
   "metadata": {
    "collapsed": false,
    "deletable": true,
    "editable": true
   },
   "outputs": [],
   "source": [
    "# datetime formatavimas\n",
    "import datetime\n",
    "\n",
    "dt = datetime.datetime.now()\n",
    "print(dt.strftime(\"%Y-%m-%d %H:%M:%S\"))"
   ]
  },
  {
   "cell_type": "code",
   "execution_count": null,
   "metadata": {
    "collapsed": false,
    "deletable": true,
    "editable": true
   },
   "outputs": [],
   "source": [
    "# teksto konvertavimas į datetime objektą\n",
    "import datetime\n",
    "\n",
    "dt_object = datetime.datetime.strptime(\"2018-01-22 20:03\", \"%Y-%m-%d %H:%M\")\n",
    "print(dt_object)"
   ]
  },
  {
   "cell_type": "code",
   "execution_count": null,
   "metadata": {
    "collapsed": false,
    "deletable": true,
    "editable": true
   },
   "outputs": [],
   "source": [
    "# aritmentika su datetime\n",
    "import datetime\n",
    "\n",
    "dt = datetime.datetime.now()\n",
    "print(dt.strftime(\"%Y-%m-%d %H:%M:%S\"))\n",
    "\n",
    "dt += datetime.timedelta(minutes=5)\n",
    "print(dt.strftime(\"%Y-%m-%d %H:%M:%S\"))\n",
    "\n",
    "dt -= datetime.timedelta(days=5)\n",
    "print(dt.strftime(\"%Y-%m-%d %H:%M:%S\"))\n",
    "\n",
    "datetime.datetime.now()\n",
    "t_delta = dt - (dt - datetime.timedelta(minutes=5))\n",
    "print(t_delta)"
   ]
  },
  {
   "cell_type": "markdown",
   "metadata": {
    "deletable": true,
    "editable": true
   },
   "source": [
    "# random\n",
    "\n",
    "Modulyje realizuotos funkcijos skirtos psiaudo atsitiktinių skaičių generavimui, pagal Mersenne Twister algoritmą."
   ]
  },
  {
   "cell_type": "code",
   "execution_count": null,
   "metadata": {
    "collapsed": false,
    "deletable": true,
    "editable": true
   },
   "outputs": [],
   "source": [
    "# random.random() grąžina atsitiktinį skaičių nuo 0 iki 1.0\n",
    "import random\n",
    "\n",
    "for i in range(5):\n",
    "    print(\"%04.3f\" % random.random(), end=\" \")\n",
    "print()"
   ]
  },
  {
   "cell_type": "code",
   "execution_count": null,
   "metadata": {
    "collapsed": false,
    "deletable": true,
    "editable": true
   },
   "outputs": [],
   "source": [
    "# random.uniform() atsitiktinų skaičių generavimas iš tam tikro rėžio\n",
    "import random\n",
    "\n",
    "for i in range(5):\n",
    "    print(\"{:04.3f}\".format(random.uniform(1, 100)), end=\" \")\n",
    "print()"
   ]
  },
  {
   "cell_type": "markdown",
   "metadata": {
    "deletable": true,
    "editable": true
   },
   "source": [
    "random funkcija grąžina atsitiktinius skaitmenis kiekvienu iškvietimu, tačiau kartais reikia atkartoti skaitmenis. Tam yra naudojama seed() funkcija, kuri inicializuoja atsitiktinių skaičių generatorių. "
   ]
  },
  {
   "cell_type": "code",
   "execution_count": null,
   "metadata": {
    "collapsed": false,
    "deletable": true,
    "editable": true
   },
   "outputs": [],
   "source": [
    "# seed() atsitiktinių skaitmenų pakartojimas\n",
    "import random\n",
    "\n",
    "random.seed(1)\n",
    "\n",
    "for i in range(5):\n",
    "    print(\"{:04.3f}\".format(random.random()), end=\" \")\n",
    "print()\n",
    "\n",
    "random.seed(1)\n",
    "\n",
    "for i in range(5):\n",
    "    print(\"{:04.3f}\".format(random.random()), end=\" \")\n",
    "print()"
   ]
  },
  {
   "cell_type": "code",
   "execution_count": null,
   "metadata": {
    "collapsed": false,
    "deletable": true,
    "editable": true
   },
   "outputs": [],
   "source": [
    "# randint() atsitiktinių int tipo skaičių generavimas\n",
    "import random\n",
    "\n",
    "print(\"[1, 100]:\", end=\" \")\n",
    "\n",
    "for i in range(3):\n",
    "    print(random.randint(1, 100), end=\" \")\n",
    "\n",
    "print(\"\\n[-5, 5]:\", end=\" \")\n",
    "for i in range(3):\n",
    "    print(random.randint(-5, 5), end=\" \")\n",
    "print()"
   ]
  },
  {
   "cell_type": "code",
   "execution_count": null,
   "metadata": {
    "collapsed": false,
    "deletable": true,
    "editable": true
   },
   "outputs": [],
   "source": [
    "# choice() atsitiktinių reikšmių pasirinkimas\n",
    "import random\n",
    "\n",
    "outcomes = {\n",
    "    \"heads\": 0,\n",
    "    \"tails\": 0,\n",
    "}\n",
    "sides = list(outcomes.keys())\n",
    "\n",
    "for i in range(10000):\n",
    "    outcomes[random.choice(sides)] += 1\n",
    "\n",
    "print('Heads:', outcomes['heads'])\n",
    "print('Tails:', outcomes['tails'])"
   ]
  },
  {
   "cell_type": "markdown",
   "metadata": {
    "deletable": true,
    "editable": true
   },
   "source": [
    "# math\n",
    "\n",
    "Modulyje realizuotos funkcijos skirtos matematinių operacijų atlikimui."
   ]
  },
  {
   "cell_type": "code",
   "execution_count": null,
   "metadata": {
    "collapsed": false,
    "deletable": true,
    "editable": true
   },
   "outputs": [],
   "source": [
    "# konstantos\n",
    "\n",
    "import math\n",
    "\n",
    "print(\"π: %.30f\" % math.pi)\n",
    "print(\"e: %.30f\" % math.e)"
   ]
  },
  {
   "cell_type": "code",
   "execution_count": null,
   "metadata": {
    "collapsed": false,
    "deletable": true,
    "editable": true
   },
   "outputs": [],
   "source": [
    "# fabs() abosliuti reikšmė\n",
    "import math\n",
    "\n",
    "print(math.fabs(-1.1))\n",
    "print(math.fabs(-0.0))\n",
    "print(math.fabs(0.0))\n",
    "print(math.fabs(1.1))"
   ]
  },
  {
   "cell_type": "code",
   "execution_count": null,
   "metadata": {
    "collapsed": false,
    "deletable": true,
    "editable": true
   },
   "outputs": [],
   "source": [
    "# factorial() faktorialo skaičiavimas\n",
    "import math\n",
    "\n",
    "for i in [ 0, 1.0, 2.0, 3.0, 4.0, 5.0, 6.1 ]:\n",
    "    try:\n",
    "        print(\"{:2.0f}  {:6.0f}\".format(i, math.factorial(i)))\n",
    "    except ValueError as err:\n",
    "        print(\"Error computing factorial(%s):\" % i, err)"
   ]
  },
  {
   "cell_type": "code",
   "execution_count": null,
   "metadata": {
    "collapsed": false,
    "deletable": true,
    "editable": true
   },
   "outputs": [],
   "source": [
    "# kėlimas laipsniu iršaknies traukima\n",
    "import math\n",
    "\n",
    "print(math.pow(4, 3))\n",
    "print(math.sqrt(16))"
   ]
  },
  {
   "cell_type": "code",
   "execution_count": null,
   "metadata": {
    "collapsed": false,
    "deletable": true,
    "editable": true
   },
   "outputs": [],
   "source": [
    "# log() logarimtas\n",
    "import math\n",
    "\n",
    "print(math.log(8))\n",
    "print(math.log(8, 2))"
   ]
  },
  {
   "cell_type": "code",
   "execution_count": null,
   "metadata": {
    "collapsed": false,
    "deletable": true,
    "editable": true
   },
   "outputs": [],
   "source": [
    "# sinusas, kosinusas, tangentas, laipsnių konvertavimas į radianus\n",
    "import math\n",
    "\n",
    "print(\"Degrees  Radians  Sine     Cosine    Tangent\")\n",
    "print(\"-------  -------  -------  --------  -------\")\n",
    "\n",
    "fmt = \"  \".join([\"%7.2f\"] * 5)\n",
    "\n",
    "for deg in range(0, 361, 30):\n",
    "    rad = math.radians(deg)\n",
    "    if deg in (90, 270):\n",
    "        t = float(\"inf\")\n",
    "    else:\n",
    "        t = math.tan(rad)\n",
    "    print(fmt % (deg, rad, math.sin(rad), math.cos(rad), t))"
   ]
  },
  {
   "cell_type": "markdown",
   "metadata": {
    "deletable": true,
    "editable": true
   },
   "source": [
    "# statistics\n",
    "\n",
    "Modulyje realizuotos funkcijos skirtos statistinėms operacijoms atlikti."
   ]
  },
  {
   "cell_type": "code",
   "execution_count": null,
   "metadata": {
    "collapsed": false,
    "deletable": true,
    "editable": true
   },
   "outputs": [],
   "source": [
    "# vidurkis\n",
    "from statistics import *\n",
    "\n",
    "data = [1, 2, 2, 5, 10, 12]\n",
    "\n",
    "print('{:0.2f}'.format(mean(data)))"
   ]
  },
  {
   "cell_type": "code",
   "execution_count": null,
   "metadata": {
    "collapsed": false,
    "deletable": true,
    "editable": true
   },
   "outputs": [],
   "source": [
    "# moda\n",
    "from statistics import *\n",
    "\n",
    "data = [1, 2, 2, 5, 10, 12]\n",
    "\n",
    "print(mode(data))"
   ]
  },
  {
   "cell_type": "code",
   "execution_count": null,
   "metadata": {
    "collapsed": false,
    "deletable": true,
    "editable": true
   },
   "outputs": [],
   "source": [
    "# mediana\n",
    "from statistics import *\n",
    "\n",
    "data = [1, 2, 2, 5, 10, 12]\n",
    "\n",
    "print(\"mediana     : {:0.2f}\".format(median(data)))\n",
    "print(\"low        : {:0.2f}\".format(median_low(data)))\n",
    "print(\"high       : {:0.2f}\".format(median_high(data)))"
   ]
  },
  {
   "cell_type": "code",
   "execution_count": null,
   "metadata": {
    "collapsed": false,
    "deletable": true,
    "editable": true
   },
   "outputs": [],
   "source": [
    "# variacija\n",
    "from statistics import *\n",
    "\n",
    "data = [1, 5, 5]\n",
    "\n",
    "print(variance(data))"
   ]
  },
  {
   "cell_type": "code",
   "execution_count": null,
   "metadata": {
    "collapsed": false,
    "deletable": true,
    "editable": true
   },
   "outputs": [],
   "source": [
    "# standartinis nuokrypis\n",
    "from statistics import *\n",
    "\n",
    "data = [1, 5, 5]\n",
    "\n",
    "print(stdev(data))"
   ]
  },
  {
   "cell_type": "markdown",
   "metadata": {
    "deletable": true,
    "editable": true
   },
   "source": [
    "# os\n",
    "\n",
    "Modulyje realizuotos funkcijos skirtos sąveikauti su OS."
   ]
  },
  {
   "cell_type": "code",
   "execution_count": null,
   "metadata": {
    "collapsed": false,
    "deletable": true,
    "editable": true
   },
   "outputs": [],
   "source": [
    "# dabartinė direktorija\n",
    "import os\n",
    "\n",
    "print(os.getcwd())"
   ]
  },
  {
   "cell_type": "code",
   "execution_count": null,
   "metadata": {
    "collapsed": true,
    "deletable": true,
    "editable": true
   },
   "outputs": [],
   "source": [
    "# katalogo sukūrimas\n",
    "import os\n",
    "\n",
    "os.mkdir(\"testuojamas\")"
   ]
  },
  {
   "cell_type": "code",
   "execution_count": null,
   "metadata": {
    "collapsed": true,
    "deletable": true,
    "editable": true
   },
   "outputs": [],
   "source": [
    "# katalogo pervadinimas\n",
    "\n",
    "os.rename(\"testuojamas\", \"testuojamas_1\")"
   ]
  },
  {
   "cell_type": "code",
   "execution_count": null,
   "metadata": {
    "collapsed": true,
    "deletable": true,
    "editable": true
   },
   "outputs": [],
   "source": [
    "# katalogo pašalinimas\n",
    "\n",
    "os.rmdir(\"testuojamas_1\")"
   ]
  },
  {
   "cell_type": "code",
   "execution_count": null,
   "metadata": {
    "collapsed": false,
    "deletable": true,
    "editable": true
   },
   "outputs": [],
   "source": [
    "# kelio iki katalogo/failo skaidymas\n",
    "import os.path\n",
    "\n",
    "print(os.path.split(os.getcwd()))"
   ]
  },
  {
   "cell_type": "code",
   "execution_count": null,
   "metadata": {
    "collapsed": false,
    "deletable": true,
    "editable": true
   },
   "outputs": [],
   "source": [
    "# katalogo/failo pavadinims iš viso kelio\n",
    "import os.path\n",
    "\n",
    "print(os.path.basename(os.getcwd()))"
   ]
  },
  {
   "cell_type": "code",
   "execution_count": null,
   "metadata": {
    "collapsed": false,
    "deletable": true,
    "editable": true
   },
   "outputs": [],
   "source": [
    "# kelias iki katalogo/failo\n",
    "import os.path\n",
    "\n",
    "print(os.path.dirname(os.getcwd()))"
   ]
  },
  {
   "cell_type": "code",
   "execution_count": null,
   "metadata": {
    "collapsed": false,
    "deletable": true,
    "editable": true
   },
   "outputs": [],
   "source": [
    "# failo pavadinimo skaidymas į pavadinimą ir plėtinį\n",
    "import os.path\n",
    "\n",
    "print(os.path.splitext(\"failas.doc\"))"
   ]
  },
  {
   "cell_type": "code",
   "execution_count": null,
   "metadata": {
    "collapsed": false,
    "deletable": true,
    "editable": true
   },
   "outputs": [],
   "source": [
    "# failo/katalogo kelio formavimas\n",
    "import os.path\n",
    "\n",
    "print(os.path.join(\"pirmas\", \"antras\", \"failas.txt\"))\n",
    "print(os.path.join(os.getcwd(), \"pakatalogis\", \"failas.txt\"))"
   ]
  },
  {
   "cell_type": "code",
   "execution_count": null,
   "metadata": {
    "collapsed": false,
    "deletable": true,
    "editable": true
   },
   "outputs": [],
   "source": [
    "# failo laikai\n",
    "import os.path\n",
    "import time\n",
    "\n",
    "f = os.path.join(os.getcwd(), \"files\", \"modules\", \"lib.py\")\n",
    "\n",
    "print(\"Failas\", f)\n",
    "print(\"Panaudojimo laikas\", time.ctime(os.path.getatime(f)))\n",
    "print(\"Modifikavimo laikas\", time.ctime(os.path.getmtime(f)))\n",
    "print(\"Sukūrimo laikas\", time.ctime(os.path.getctime(f)))\n",
    "print(\"Dydis baitais\", os.path.getsize(f))"
   ]
  },
  {
   "cell_type": "code",
   "execution_count": null,
   "metadata": {
    "collapsed": false,
    "deletable": true,
    "editable": true
   },
   "outputs": [],
   "source": [
    "# tikrinimas\n",
    "import os.path\n",
    "\n",
    "f = os.path.join(os.getcwd(), \"files\", \"modules\", \"lib.py\")\n",
    "\n",
    "print(os.path.isdir(f))\n",
    "print(os.path.isdir(os.getcwd()))\n",
    "\n",
    "print(os.path.isfile(f))\n",
    "print(os.path.isfile(os.getcwd()))\n",
    "\n",
    "print(os.path.exists(f))\n",
    "print(os.path.exists(os.getcwd()))\n",
    "print(os.path.exists(os.path.join(os.getcwd(), \"nerastas\")))"
   ]
  },
  {
   "cell_type": "markdown",
   "metadata": {
    "deletable": true,
    "editable": true
   },
   "source": [
    "# pickle\n",
    "\n",
    "Modulyje realizuotos funkcijos skirtos bet kokį Python objektą paversti į baitus (angl. serializing the object)."
   ]
  },
  {
   "cell_type": "code",
   "execution_count": null,
   "metadata": {
    "collapsed": false,
    "deletable": true,
    "editable": true
   },
   "outputs": [],
   "source": [
    "# objekto pavertimas į baitų seką\n",
    "import pickle\n",
    "\n",
    "scores = {\n",
    "    \"petras\": 3, \n",
    "    \"jonas\": 10, \n",
    "    \"lukas\": 7\n",
    "}\n",
    "\n",
    "scores_data = pickle.dumps(scores)\n",
    "print(scores_data)"
   ]
  },
  {
   "cell_type": "code",
   "execution_count": null,
   "metadata": {
    "collapsed": false,
    "deletable": true,
    "editable": true
   },
   "outputs": [],
   "source": [
    "# baitų sekos pavertimas į objektą\n",
    "import pickle\n",
    "\n",
    "scores = pickle.loads(scores_data)\n",
    "print(scores)"
   ]
  },
  {
   "cell_type": "code",
   "execution_count": null,
   "metadata": {
    "collapsed": true,
    "deletable": true,
    "editable": true
   },
   "outputs": [],
   "source": [
    "# objekto rašymas į failą\n",
    "import pickle\n",
    "\n",
    "scores = {\n",
    "    \"petras\": 3, \n",
    "    \"jonas\": 10, \n",
    "    \"lukas\": 7\n",
    "}\n",
    "\n",
    "pickle.dump(scores, open(\"scores.p\", \"wb\"))"
   ]
  },
  {
   "cell_type": "code",
   "execution_count": null,
   "metadata": {
    "collapsed": false,
    "deletable": true,
    "editable": true
   },
   "outputs": [],
   "source": [
    "# objekto užkrovimas iš failo\n",
    "import pickle\n",
    "\n",
    "scores = pickle.load(open(\"scores.p\", \"rb\"))\n",
    "print(scores)"
   ]
  },
  {
   "cell_type": "markdown",
   "metadata": {
    "deletable": true,
    "editable": true
   },
   "source": [
    "# tempfile\n",
    "\n",
    "Modulyje realizuotos funkcijos leidžia susikurti laikiną (angl. temporary) failą duomenų saugojimui. Toks metodas tinka jei nereikia failo dalintis su kitomis sistemomis, nes nuorodos į laikiną failą failų sistemos lentelėje nebus. Uždarius failą jis iš karto pašalinamas."
   ]
  },
  {
   "cell_type": "code",
   "execution_count": null,
   "metadata": {
    "collapsed": false,
    "deletable": true,
    "editable": true
   },
   "outputs": [],
   "source": [
    "import tempfile\n",
    "\n",
    "print(\"TemporaryFile:\")\n",
    "temp = tempfile.TemporaryFile()\n",
    "try:\n",
    "    print(\"temp:\", temp)\n",
    "    print(\"temp.name:\", temp.name)\n",
    "finally:\n",
    "    temp.close()"
   ]
  },
  {
   "cell_type": "markdown",
   "metadata": {
    "deletable": true,
    "editable": true
   },
   "source": [
    "# urllib\n",
    "\n",
    "Šis modulis suteikia galimybę naudotis interneto paslaugomis žinant jų adresą."
   ]
  },
  {
   "cell_type": "code",
   "execution_count": null,
   "metadata": {
    "collapsed": false,
    "deletable": true,
    "editable": true
   },
   "outputs": [],
   "source": [
    "# GET\n",
    "from urllib.request import urlopen\n",
    "\n",
    "response = urlopen(\"https://jsonplaceholder.typicode.com/posts/\")\n",
    "print(\"RESPONSE:\", response)\n",
    "print(\"URL     :\", response.geturl())\n",
    "\n",
    "headers = response.info()\n",
    "print(\"DATE    :\", headers[\"date\"])\n",
    "print(\"HEADERS :\")\n",
    "print(\"---------\")\n",
    "print(headers)\n",
    "\n",
    "data = response.read()\n",
    "print(\"LENGTH  :\", len(data))\n",
    "print(\"DATA    :\")\n",
    "print(\"---------\")\n",
    "print(data)"
   ]
  },
  {
   "cell_type": "code",
   "execution_count": null,
   "metadata": {
    "collapsed": false,
    "deletable": true,
    "editable": true
   },
   "outputs": [],
   "source": [
    "from urllib import parse\n",
    "from urllib import request\n",
    "\n",
    "query_args = {\n",
    "    \"title\": \"Python programavimas\",\n",
    "    \"body\": \"Hello world\",\n",
    "    \"userId\": 1\n",
    "}\n",
    "\n",
    "encoded_args = parse.urlencode(query_args).encode(\"utf-8\")\n",
    "\n",
    "url = \"https://jsonplaceholder.typicode.com/posts\"\n",
    "\n",
    "print(request.urlopen(url, data=encoded_args).read().decode(\"utf-8\"))"
   ]
  },
  {
   "cell_type": "markdown",
   "metadata": {
    "deletable": true,
    "editable": true
   },
   "source": [
    "# Užduotys\n",
    "\n",
    "1. Savarankiškai susipažinti su kitais į standartinę biblioteką įeinančiais moduliais.\n",
    "2. Savarankiškai pasianalizuoti kokios yra kitos trečių šalių populiarios, darbą palengvinančios, bibliotekos. Pasirinkti tris ir paruošti jų pristatymą (slaidai, kodo pavyzdžiai, paaiškinimai ir pan.)."
   ]
  }
 ],
 "metadata": {
  "kernelspec": {
   "display_name": "Python 3",
   "language": "python",
   "name": "python3"
  },
  "language_info": {
   "codemirror_mode": {
    "name": "ipython",
    "version": 3
   },
   "file_extension": ".py",
   "mimetype": "text/x-python",
   "name": "python",
   "nbconvert_exporter": "python",
   "pygments_lexer": "ipython3",
   "version": "3.6.3"
  }
 },
 "nbformat": 4,
 "nbformat_minor": 2
}

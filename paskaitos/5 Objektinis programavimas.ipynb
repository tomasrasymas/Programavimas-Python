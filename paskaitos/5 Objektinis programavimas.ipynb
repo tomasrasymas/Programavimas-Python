{
 "cells": [
  {
   "cell_type": "markdown",
   "metadata": {},
   "source": [
    "# Objektinis programavimas\n",
    "\n",
    "Kol kas visose programose, kurias rašėm iki šiol naudojom funkcijas, tai vadinama procedūriniu programavimu. Be procedūrinio programavimo yra ir objektinis programavimas. Klasės ir objektai yra pagrindiniai objektinio programavimo aspektai. Klasės - būdas grupuoti funkcijas ir kintamuosius. Pagrindiniai terminai:\n",
    "* Klasė (angl. class) - funkcijų bei kintamųjų rinkinys, kuris apjungia kažkokią vieną prasmingą temą ar paskirtį.\n",
    "* Klasės kintamasis (angl. class variable) - kintamasis, kuris yra bendras visiems klasės egzemplioriams.\n",
    "* Egzempliorio/objekto kintamasis (angl. instance variable) - kintamasis, kuris priklauso tik konkrečiam egzemplioriui.\n",
    "* Egzempliorius/objektas (angl. instance) - konkrečios klasės objektas.\n",
    "* Metodas (angl. method) - klasės viduje aprašyta funkcija.\n",
    "* Abstrakcija - galimybė programuoti nežinant konkrečių detalių apie realizaciją.\n",
    "* Inkapsuliacija (informacijos slėpimas) - užtikrina, kad objekto naudotojas negali pakeisti objekto būsenos nenumatytu būdu.\n",
    "* Polimorfizmas - objekto elgsena priklausanti nuo jo klasės. \n",
    "* Paveldėjimas - viena klasė yra kitos klasės išplėtimas.\n",
    "\n",
    "Svarbu: jei klasės kintamasis nustatomas naudojant objektą, klasės kintamojo reikšmė pakeičiama tik tam konkrečiam objektui ir klasės kintamasis pakeičiamas į objekto kintamąjį."
   ]
  },
  {
   "cell_type": "code",
   "execution_count": null,
   "metadata": {
    "collapsed": false
   },
   "outputs": [],
   "source": [
    "# klasės sukūrumas\n",
    "class Person:\n",
    "    pass\n",
    "\n",
    "p = Person() # sukuriamas naujas Person objektas\n",
    "\n",
    "print(p)\n",
    "print(type(p))"
   ]
  },
  {
   "cell_type": "code",
   "execution_count": null,
   "metadata": {
    "collapsed": false
   },
   "outputs": [],
   "source": [
    "# klasės metodo sukūrimas\n",
    "class Person:\n",
    "    def say_hi(self): # klasės metodas\n",
    "        print(\"Labas, kaip sekasi?\")\n",
    "\n",
    "p = Person()\n",
    "p.say_hi()"
   ]
  },
  {
   "cell_type": "markdown",
   "metadata": {},
   "source": [
    "\\__init__ - klasės metodas skirtas objekto inicializacijai atlikti, dar vadinamas konstruktoriu. Šis metodas yra vykdomas iš karto kaip tik sukuriamas objektas."
   ]
  },
  {
   "cell_type": "code",
   "execution_count": null,
   "metadata": {
    "collapsed": false
   },
   "outputs": [],
   "source": [
    "# klasės konstruktorius\n",
    "class Person:\n",
    "    def __init__(self, name): # inicializacijos metodas, kuris turi parametrą name\n",
    "        self.name = name # objekto kintamasis\n",
    "\n",
    "    def say_hi(self):\n",
    "        print(\"Labas, mano vardas yra\", self.name)\n",
    "\n",
    "p = Person(\"Jonas\")\n",
    "p.say_hi()"
   ]
  },
  {
   "cell_type": "code",
   "execution_count": null,
   "metadata": {
    "collapsed": false
   },
   "outputs": [],
   "source": [
    "class Robot:\n",
    "    \"\"\"Klasė skirta roboto valdymui\"\"\"\n",
    "\n",
    "    # klasės kintamasis, skirtas robotų skaičiui sekti\n",
    "    population = 0\n",
    "\n",
    "    def __init__(self, name):\n",
    "        self.name = name # objekto kintamasis\n",
    "        \n",
    "        print(\"Konstruktorius {}\".format(self.name))\n",
    "        Robot.population += 1\n",
    "\n",
    "    def die(self):\n",
    "        print(\"{} sunaikinamas!\".format(self.name))\n",
    "\n",
    "        Robot.population -= 1\n",
    "\n",
    "        if Robot.population == 0:\n",
    "            print(\"{} buvo paskutinis robotas.\".format(self.name))\n",
    "        else:\n",
    "            print(\"Dar likę {:d} robotų.\".format(Robot.population))\n",
    "\n",
    "    def say_hi(self):\n",
    "        print(\"Sveikinimai, aš robotas {}.\".format(self.name))\n",
    "    \n",
    "    def how_many():\n",
    "        print(\"Dar likę {} robotai.\".format(Robot.population))\n",
    "\n",
    "\n",
    "droid1 = Robot(\"Robotas policininkas\")\n",
    "droid1.say_hi()\n",
    "Robot.how_many()\n",
    "\n",
    "droid2 = Robot(\"Praimas\")\n",
    "droid2.say_hi()\n",
    "Robot.how_many()\n",
    "\n",
    "droid3 = Robot(\"Megatronas\")\n",
    "droid3.say_hi()\n",
    "Robot.how_many()\n",
    "\n",
    "droid1.die()\n",
    "droid2.die()\n",
    "droid3.die()\n",
    "\n",
    "Robot.how_many()"
   ]
  },
  {
   "cell_type": "code",
   "execution_count": null,
   "metadata": {
    "collapsed": false
   },
   "outputs": [],
   "source": [
    "# klasės kintamojo pavyzdys\n",
    "class ProgrammingLanguage:\n",
    "    language_name = \"python\"\n",
    "\n",
    "    def __init__(self):\n",
    "        pass\n",
    "\n",
    "c_plus_plus = ProgrammingLanguage()\n",
    "c = ProgrammingLanguage()\n",
    "python = ProgrammingLanguage()\n",
    "\n",
    "print(c_plus_plus.language_name)\n",
    "print(c.language_name)\n",
    "print(python.language_name)\n",
    "\n",
    "ProgrammingLanguage.language_name = \"C++\"\n",
    "\n",
    "print(c_plus_plus.language_name)\n",
    "print(c.language_name)\n",
    "print(python.language_name)\n",
    "\n",
    "python.language_name = \"python\"\n",
    "\n",
    "print(c_plus_plus.language_name)\n",
    "print(c.language_name)\n",
    "print(python.language_name)\n",
    "\n",
    "ProgrammingLanguage.language_name = \"C\"\n",
    "\n",
    "print(c_plus_plus.language_name)\n",
    "print(c.language_name)\n",
    "print(python.language_name)"
   ]
  },
  {
   "cell_type": "markdown",
   "metadata": {},
   "source": [
    "# Paveldėjimas\n",
    "\n",
    "Vienas iš pagrindinių objektinio programavimo privalumų - programinio kodo perpanaudojimas. To galima pasiekti naudojant paveldėjimą. Paveldėjimas – objektinio programavimo principas, kai tam tikra klasė yra kitos klasės konkretizacija. Bendresnė klasė vadinama tėvine klase ar viršklasiu arba bazine klase (angl. base, parent), paveldėjusi klasė – dukterine klase ar poklasiu arba išvestine klase (angl. derived, child)."
   ]
  },
  {
   "cell_type": "code",
   "execution_count": null,
   "metadata": {
    "collapsed": false
   },
   "outputs": [],
   "source": [
    "# paveldėjimas ir metodų perrašymas\n",
    "class SchoolMember:\n",
    "    \"\"\"Mokyklos narys\"\"\"\n",
    "    def __init__(self, name, age):\n",
    "        self.name = name\n",
    "        self.age = age\n",
    "        print('Konstruktorius: {}'.format(self.name))\n",
    "\n",
    "    def tell(self):\n",
    "        print(\"Name:'{}' Age:'{}'\".format(self.name, self.age), end=\" \")\n",
    "\n",
    "\n",
    "class Teacher(SchoolMember):\n",
    "    \"\"\"Mokytojas\"\"\"\n",
    "    def __init__(self, name, age, salary):\n",
    "        SchoolMember.__init__(self, name, age)\n",
    "        self.salary = salary\n",
    "        print('Konstruktorius mokytojas: {}'.format(self.name))\n",
    "\n",
    "    def tell(self):\n",
    "        SchoolMember.tell(self)\n",
    "        print(\"Atlyginimas: '{:d}'\".format(self.salary))\n",
    "\n",
    "\n",
    "class Student(SchoolMember):\n",
    "    \"\"\"Studentas\"\"\"\n",
    "    def __init__(self, name, age, marks):\n",
    "        SchoolMember.__init__(self, name, age)\n",
    "        self.marks = marks\n",
    "        print('Konstruktorius studentas: {}'.format(self.name))\n",
    "\n",
    "    def tell(self):\n",
    "        SchoolMember.tell(self)\n",
    "        print(\"Įvertinimas: '{:d}'\".format(self.marks))\n",
    "\n",
    "t = Teacher(\"Tomas\", 40, 30000)\n",
    "s = Student(\"Jonas\", 25, 75)\n",
    "\n",
    "members = [t, s]\n",
    "for member in members:\n",
    "    member.tell()"
   ]
  },
  {
   "cell_type": "code",
   "execution_count": null,
   "metadata": {
    "collapsed": false
   },
   "outputs": [],
   "source": [
    "# paveldėjimo tikrinimas\n",
    "print(isinstance(t, Teacher))\n",
    "print(isinstance(t, SchoolMember))\n",
    "print(isinstance(t, Student))\n",
    "\n",
    "print(issubclass(Teacher, SchoolMember))\n",
    "print(issubclass(Student, SchoolMember))\n",
    "print(issubclass(int, SchoolMember))"
   ]
  },
  {
   "cell_type": "code",
   "execution_count": 2,
   "metadata": {
    "collapsed": false
   },
   "outputs": [
    {
     "name": "stdout",
     "output_type": "stream",
     "text": [
      "Rainė: Meu!\n",
      "Murkė: Meu!\n",
      "Lesė: Au, au!\n"
     ]
    }
   ],
   "source": [
    "# polimorfizmo pavysdys\n",
    "class Animal:\n",
    "    def __init__(self, name):\n",
    "        self.name = name\n",
    "        \n",
    "    def talk(self):              # abstraktus metodas, kuris bus aprašytas vėliau\n",
    "        raise NotImplementedError(\"Dar nesukurtas\")\n",
    "\n",
    "class Cat(Animal):\n",
    "    def talk(self):\n",
    "        return \"Meu!\"\n",
    "\n",
    "class Dog(Animal):\n",
    "    def talk(self):\n",
    "        return \"Au, au!\"\n",
    "\n",
    "animals = [Cat(\"Rainė\"),\n",
    "           Cat(\"Murkė\"),\n",
    "           Dog(\"Lesė\")]\n",
    "\n",
    "for animal in animals:\n",
    "    print(animal.name + ': ' + animal.talk())"
   ]
  },
  {
   "cell_type": "markdown",
   "metadata": {},
   "source": [
    "# Globalūs ir privatūs metodai/kintamieji\n",
    "\n",
    "* \"\\_\" - importuojant (from M import *) objektai prasidedantys \\_ neimportuojami. Taip pat naudojamas imformuoti, kad metodas/kintamasis turėtų būti traktuojamas kaip privatus ir su juo reiktų elgtis atsargiai.\n",
    "* \"__\" - nurodo kad metodas ar kintamasis yra privatus."
   ]
  },
  {
   "cell_type": "code",
   "execution_count": null,
   "metadata": {
    "collapsed": false
   },
   "outputs": [],
   "source": [
    "class Car:\n",
    "    def say_hello(self):\n",
    "        print(\"Labas globalus\")\n",
    "    def _say_hello(self):\n",
    "        print(\"Labas privatus\")\n",
    "    def __say_hello(self):\n",
    "        print(\"Labas privatus\")\n",
    "\n",
    "c = Car()\n",
    "c.say_hello()\n",
    "c._say_hello()\n",
    "c.__say_hello()"
   ]
  },
  {
   "cell_type": "markdown",
   "metadata": {},
   "source": [
    "# classmethod ir staticmethod dekoratoriai\n",
    "\n",
    "* classmethod - toks metodas, kurį galima iškviesti ne tik objekto, bet ir klasės pagalba ir yra susietas su pačia klase. Klasės metodas apibrėžiamas dekoratoriaus classmethod pagalba. Pirmasis metodo argumentas yra cls.\n",
    "* staticmethod - toks metodas, kurį galima iškviesti ne tik objekto, bet ir klasės pagalba. Statinis metodas apibrėžiamas dekoratoriaus staticmethod pagalba."
   ]
  },
  {
   "cell_type": "code",
   "execution_count": null,
   "metadata": {
    "collapsed": false
   },
   "outputs": [],
   "source": [
    "# classmethod pavyzdys\n",
    "class Student:\n",
    "    def __init__(self, first_name, last_name):\n",
    "        self.first_name = first_name\n",
    "        self.last_name = last_name\n",
    "    \n",
    "    @classmethod\n",
    "    def from_string_dot(cls, name_str):\n",
    "        first_name, last_name = name_str.split(\".\")\n",
    "        student = cls(first_name, last_name)\n",
    "        return student\n",
    "\n",
    "    @classmethod\n",
    "    def from_string_comma(cls, name_str):\n",
    "        first_name, last_name = name_str.split(\",\")\n",
    "        student = cls(first_name, last_name)\n",
    "        return student\n",
    "    \n",
    "    def say_hello(self):\n",
    "        print(\"Labas\", self.first_name, self.last_name)\n",
    "\n",
    "s1 = Student.from_string_dot(\"Jonas.Jonaitis\")\n",
    "s2 = Student.from_string_comma(\"Petras,Petraitis\")\n",
    "\n",
    "s1.say_hello()\n",
    "s2.say_hello()\n",
    "\n",
    "s3 = s1.from_string_comma(\"Laimis,Laimutis\")\n",
    "s3.say_hello()"
   ]
  },
  {
   "cell_type": "code",
   "execution_count": null,
   "metadata": {
    "collapsed": false
   },
   "outputs": [],
   "source": [
    "# staticmethod pavyzdys\n",
    "class Student:\n",
    "    @staticmethod\n",
    "    def is_full_name(name_str):\n",
    "        names = name_str.split(\" \")\n",
    "        return len(names) > 1\n",
    "\n",
    "print(Student.is_full_name(\"Jonas Jonaitis\"))\n",
    "print(Student.is_full_name(\"Petras\"))\n",
    "\n",
    "s = Student()\n",
    "\n",
    "print(s.is_full_name(\"Laimis Laimutis\"))"
   ]
  },
  {
   "cell_type": "markdown",
   "metadata": {},
   "source": [
    "# property dekoratorius\n",
    "\n",
    "Gera praktika uždrausti tiesioginį priėjimą prie viešų klasės kintamųjų. Tai galima atlikti naudojant property dekoratorių. Taip pat property naudojimas leidžia atlikti reikšmių validavimą prieš priskiriant jas vidiniams kintamiesiams. Tai yra inkapsuliacijos pavyzdys."
   ]
  },
  {
   "cell_type": "code",
   "execution_count": null,
   "metadata": {
    "collapsed": false
   },
   "outputs": [],
   "source": [
    "class Person:  \n",
    "    def __init__(self, first_name, last_name):\n",
    "        self.first_name = first_name\n",
    "        self.last_name = last_name\n",
    "\n",
    "    @property\n",
    "    def full_name(self):\n",
    "        return \"Property\" + \" \" + self.first_name + \" \" + self.last_name\n",
    "\n",
    "    @full_name.setter\n",
    "    def full_name(self, value):\n",
    "        first_name, last_name = value.split(\" \")\n",
    "        self.first_name = first_name\n",
    "        self.last_name = last_name\n",
    "\n",
    "    @full_name.deleter\n",
    "    def full_name(self):\n",
    "        del self.first_name\n",
    "        del self.last_name\n",
    "    \n",
    "    def say_hello(self):\n",
    "        print(self.first_name, self.last_name)\n",
    "        \n",
    "p1 = Person(\"Jonas\", \"Jonaitis\")\n",
    "p1.say_hello()\n",
    "print(p1.full_name)\n",
    "\n",
    "p1.full_name = \"Petras Petraitis\"\n",
    "p1.say_hello()\n",
    "print(p1.full_name)\n",
    "\n",
    "del p1.full_name"
   ]
  },
  {
   "cell_type": "markdown",
   "metadata": {},
   "source": [
    "# Specialūs klasės metodai"
   ]
  },
  {
   "cell_type": "markdown",
   "metadata": {},
   "source": [
    "# Užduotys"
   ]
  }
 ],
 "metadata": {
  "kernelspec": {
   "display_name": "Python 3",
   "language": "python",
   "name": "python3"
  },
  "language_info": {
   "codemirror_mode": {
    "name": "ipython",
    "version": 3
   },
   "file_extension": ".py",
   "mimetype": "text/x-python",
   "name": "python",
   "nbconvert_exporter": "python",
   "pygments_lexer": "ipython3",
   "version": "3.6.3"
  }
 },
 "nbformat": 4,
 "nbformat_minor": 2
}

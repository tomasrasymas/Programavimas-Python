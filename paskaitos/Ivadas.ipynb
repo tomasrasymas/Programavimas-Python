{
 "cells": [
  {
   "cell_type": "markdown",
   "metadata": {},
   "source": [
    "# Įvadas\n",
    "\n",
    "Python yra interpretuojama, interaktyvi programavimo kalba sukurta Guido van Rossumo 1990 metais.\n",
    "\n",
    "Python kūrėjų tikslai buvo sukurti kalbą, kuri yra lengvai skaitoma, išraiškinga, išreikštinė, paprasta (tinkama neprofesionaliems programuotojams). \n",
    "\n",
    "Python kalbos privalumai:\n",
    "1. Paprasta\n",
    "2. Lengvai išmokstama\n",
    "3. Atviro kodo\n",
    "4. Portabili\n",
    "5. Interpretuojama\n",
    "6. Objektiškai oriantuota\n",
    "7. Praplėčiama\n",
    "8. Plati standartinė biblioteka, daug papildomų bibliotekų \"Python Package Index\"\n",
    "\n",
    "Kelios didesnės kompanijos, kurios naudoja Python programavimo kalbą: Google (Youtube), Facebook, Dropbox, Yahoo, NASA, IBM, Mozilla, Quora, Instagram, Reddit...\n",
    "\n",
    "Python naudojama viskam, nuo mikrokontrolerių programavimo iki žaidimų kūrimo."
   ]
  },
  {
   "cell_type": "markdown",
   "metadata": {},
   "source": [
    "## Komentarai\n",
    "\n",
    "Komentarai skirti programinio kodo paaiškinimui. Dažniausiai vadovaujamasi taisykle: programinis kodas pasako \"kaip\", o komentarai turi pasakyti \"kodėl\". Jūsų parašytą programinį kodą skaitis ir kiti programuotojai - komentarai yra puikus būdas palengvinti jiems darbą/sutaupyti laiko."
   ]
  },
  {
   "cell_type": "code",
   "execution_count": null,
   "metadata": {
    "collapsed": true
   },
   "outputs": [],
   "source": [
    "# vienos eilutės komentaras\n",
    "\n",
    "# eilučių komentaras\n",
    "# per kelias eilutes"
   ]
  },
  {
   "cell_type": "markdown",
   "metadata": {},
   "source": [
    "## Kintamieji\n",
    "\n",
    "Viskas Python programavimo kalboje yra objektas, kuris gali būti kintamas (angl. mutable) arba nekintamas (angl. immutable). Nekintami tipai: boolean, integer, float, tuple, string. Kintami tipai: list ir dictionary.  \n",
    "\n",
    "Python programavimo kalboje nereikia nurodyti kintamojo tipo, jie nustatomi dinamiškai. Norint gauti kintamojo tipą galima naudoti funkciją type().\n",
    "\n",
    "Kintamieji yra nuorodos į objektus (funkcija id(kintamasis) grąžina kintamojo unikalų identifikatorių).\n",
    "\n",
    "Ypatingas tipas - None. Jis reiškia, jog nėra duomenų, tuščia."
   ]
  },
  {
   "cell_type": "code",
   "execution_count": 22,
   "metadata": {
    "collapsed": false
   },
   "outputs": [],
   "source": [
    "# kintamajam priskiriamas sveikas skaičius\n",
    "a = 3\n",
    "\n",
    "# kintamajam priskiriamas tekstas\n",
    "a = \"tekstas\""
   ]
  },
  {
   "cell_type": "code",
   "execution_count": 23,
   "metadata": {
    "collapsed": false
   },
   "outputs": [
    {
     "name": "stdout",
     "output_type": "stream",
     "text": [
      "3\n",
      "4305321152\n",
      "3\n",
      "4305321152\n",
      "4\n",
      "4305321184\n",
      "3\n",
      "4305321152\n"
     ]
    }
   ],
   "source": [
    "#kintamasis a rodo į objektą 3\n",
    "a = 3\n",
    "print(a)\n",
    "print(id(a))\n",
    "\n",
    "#kintamasis b rodo į objektą 3\n",
    "b = a\n",
    "print(b)\n",
    "print(id(b))\n",
    "\n",
    "#kintamasis a rodo į objektą 4\n",
    "a = 4\n",
    "print(a)\n",
    "print(id(a))\n",
    "print(b)\n",
    "print(id(b))"
   ]
  },
  {
   "cell_type": "code",
   "execution_count": 25,
   "metadata": {
    "collapsed": false
   },
   "outputs": [
    {
     "name": "stdout",
     "output_type": "stream",
     "text": [
      "<class 'int'>\n",
      "<class 'float'>\n",
      "<class 'str'>\n",
      "<class 'bool'>\n",
      "<class 'list'>\n",
      "<class 'tuple'>\n",
      "<class 'dict'>\n",
      "<class 'NoneType'>\n"
     ]
    }
   ],
   "source": [
    "a = 3\n",
    "print(type(a))\n",
    "\n",
    "a = 4.5\n",
    "print(type(a))\n",
    "\n",
    "a = \"tekstas\"\n",
    "print(type(a))\n",
    "\n",
    "a = True\n",
    "print(type(a))\n",
    "\n",
    "a = [1, 2, \"trečias\"]\n",
    "print(type(a))\n",
    "\n",
    "a = (1, 2, \"trečias\")\n",
    "print(type(a))\n",
    "\n",
    "a = {\"a\": 1, \"b\": \"2\"}\n",
    "print(type(a))\n",
    "\n",
    "a = None\n",
    "print(type(a))"
   ]
  },
  {
   "cell_type": "markdown",
   "metadata": {},
   "source": [
    "## Skaičiai\n",
    "\n",
    "Skaičiai gali būti sveikieji (angl. integer) ir slankaus kablelio (angl. float).\n",
    "\n",
    "Sveikieji skaičiai: 1, 56, 67, 100 ir pan.\n",
    "\n",
    "Slankaus kablelio skaičiai: 23.5678557, 0.3, 678.43, 52.3E-4 ir pan. Skaičiai su E naudojami aprašyti labai mažiems arba labai didelieps skaičiams, pvz.: 52.3E-4 reiškia 52.3 * 10^-4, 4.5e6 reiškia 4.5 * 10^6. Svarbu, dalybos rezultatas visada bus slankaus kablelio skaičius."
   ]
  },
  {
   "cell_type": "code",
   "execution_count": 13,
   "metadata": {
    "collapsed": false
   },
   "outputs": [
    {
     "name": "stdout",
     "output_type": "stream",
     "text": [
      "9\n",
      "-4\n",
      "6\n",
      "9.2\n",
      "1.5\n",
      "2.0\n",
      "2\n",
      "1\n",
      "8\n"
     ]
    }
   ],
   "source": [
    "print(4+5)\n",
    "print(1-5)\n",
    "print(3*2)\n",
    "print(4*2.3)\n",
    "print(3/2)\n",
    "print(4/2)\n",
    "print(7//3)\n",
    "print(7%3)\n",
    "print(2**3)"
   ]
  },
  {
   "cell_type": "markdown",
   "metadata": {},
   "source": [
    "## Tekstas\n",
    "\n",
    "Tekstas tai tiesiog simbolių seka (angl. string) užrašoma viengubose arba dvigubose kabutėse. Jei tekstas yra per kelias eilutes, užrašymui naudojama trigubos kabutės. Su teksto kintamaisiais galima atlikti sudėties ir daugybos veiksmus."
   ]
  },
  {
   "cell_type": "code",
   "execution_count": 18,
   "metadata": {
    "collapsed": false
   },
   "outputs": [
    {
     "name": "stdout",
     "output_type": "stream",
     "text": [
      "Paprastas tekstas\n",
      "Paprastas tekstas\n",
      "\n",
      "        Paprastas tekstas \n",
      "        per kelias eilutes\n",
      "      \n"
     ]
    }
   ],
   "source": [
    "print('Paprastas tekstas')\n",
    "print(\"Paprastas tekstas\")\n",
    "print(\"\"\"\n",
    "        Paprastas tekstas \n",
    "        per kelias eilutes\n",
    "      \"\"\")"
   ]
  },
  {
   "cell_type": "code",
   "execution_count": 26,
   "metadata": {
    "collapsed": false
   },
   "outputs": [
    {
     "name": "stdout",
     "output_type": "stream",
     "text": [
      "Paprastas tekstas\n",
      "Paprastas tekstasPaprastas tekstas\n",
      "Paprastas tekstasPaprastas tekstasPaprastas tekstasPaprastas tekstasPaprastas tekstasPaprastas tekstas\n"
     ]
    }
   ],
   "source": [
    "a = \"Paprastas tekstas\"\n",
    "print(a)\n",
    "\n",
    "# teksto kintamūjų sudėtis\n",
    "a = a + a\n",
    "print(a)\n",
    "\n",
    "# teksto kintamojo dauginimas iš skaičiaus\n",
    "a = a * 3\n",
    "print(a)"
   ]
  },
  {
   "cell_type": "markdown",
   "metadata": {},
   "source": [
    "## Boolean\n",
    "\n",
    "Šio tipo kintamieji gali įgyti tik dvi reikšmes True arba False. Su šio tipo kintamaisiais galima alikti loginius veiksmus ir (and), arba (or), ne (not), lygu (==) ir nelygu (!=)."
   ]
  },
  {
   "cell_type": "code",
   "execution_count": 28,
   "metadata": {
    "collapsed": false
   },
   "outputs": [
    {
     "name": "stdout",
     "output_type": "stream",
     "text": [
      "True\n",
      "True\n",
      "False\n",
      "False\n",
      "False\n"
     ]
    }
   ],
   "source": [
    "a = True\n",
    "b = True\n",
    "\n",
    "print(a and b)\n",
    "print(a or b)\n",
    "print(not b)\n",
    "print(a == (not b))\n",
    "print(a != b)"
   ]
  },
  {
   "cell_type": "markdown",
   "metadata": {},
   "source": [
    "## Sąrašai\n",
    "\n",
    "Tai to paties arba skirtingo tipo reikšmių sąrašas. Sąrašai gali būti dviejų tipų: kintamas - list ir nekintamas - tuple. Kintamas sąrašas užrašomas laužtiniuose skliaustuose, o nekintamas paprastuose skliaustuose. Visos operacijos kintamo ir nekintamo s1rašo yra identiškos išskyrus koregavimo operacijas.\n",
    "\n",
    "Sąrašai yra indeksuoti, todėl galima pasiekti kiekvieną sąrašo elementą pagal indeksą."
   ]
  },
  {
   "cell_type": "code",
   "execution_count": 29,
   "metadata": {
    "collapsed": false
   },
   "outputs": [
    {
     "name": "stdout",
     "output_type": "stream",
     "text": [
      "[1, 2, 3, 'tekstas'] (1, 2, 3, 'tekstas')\n"
     ]
    }
   ],
   "source": [
    "mutable = [1, 2, 3, \"tekstas\"]\n",
    "immutable = (1, 2, 3, \"tekstas\")\n",
    "\n",
    "print(mutable, immutable)"
   ]
  },
  {
   "cell_type": "code",
   "execution_count": 30,
   "metadata": {
    "collapsed": false
   },
   "outputs": [
    {
     "name": "stdout",
     "output_type": "stream",
     "text": [
      "1\n",
      "2\n",
      "3\n"
     ]
    }
   ],
   "source": [
    "a = [1, 2, 3, 4, 5, 6]\n",
    "print(a[0])\n",
    "print(a[1])\n",
    "print(a[2])"
   ]
  },
  {
   "cell_type": "code",
   "execution_count": 32,
   "metadata": {
    "collapsed": false
   },
   "outputs": [
    {
     "name": "stdout",
     "output_type": "stream",
     "text": [
      "k\n",
      "None\n",
      "100\n"
     ]
    }
   ],
   "source": [
    "a = [\"Tekstas\", 3, None, (100, 200)]\n",
    "print(a[0][2])\n",
    "print(a[2])\n",
    "print(a[3][0])"
   ]
  },
  {
   "cell_type": "markdown",
   "metadata": {},
   "source": [
    "## Reikšmių tipų keitimas\n",
    "\n",
    "Bet kuri kitokio tipo reikšmė gali būti pakeista į boolean tipą. Dauguma reikšmių keičiamos į True, o \"tuščio\" reikšmės keičiamos į False."
   ]
  },
  {
   "cell_type": "markdown",
   "metadata": {},
   "source": [
    "## Operatoriai"
   ]
  }
 ],
 "metadata": {
  "kernelspec": {
   "display_name": "Python 3",
   "language": "python",
   "name": "python3"
  },
  "language_info": {
   "codemirror_mode": {
    "name": "ipython",
    "version": 3
   },
   "file_extension": ".py",
   "mimetype": "text/x-python",
   "name": "python",
   "nbconvert_exporter": "python",
   "pygments_lexer": "ipython3",
   "version": "3.6.3"
  }
 },
 "nbformat": 4,
 "nbformat_minor": 2
}

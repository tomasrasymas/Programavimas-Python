{
 "cells": [
  {
   "cell_type": "markdown",
   "metadata": {
    "deletable": true,
    "editable": true
   },
   "source": [
    "# Įvadas\n",
    "\n",
    "Python yra interpretuojama, interaktyvi programavimo kalba sukurta Guido van Rossumo 1990 metais.\n",
    "\n",
    "Python kūrėjų tikslai buvo sukurti kalbą, kuri yra lengvai skaitoma, išraiškinga, išreikštinė, paprasta (tinkama neprofesionaliems programuotojams). \n",
    "\n",
    "Python kalbos privalumai:\n",
    "1. Paprasta\n",
    "2. Lengvai išmokstama\n",
    "3. Atviro kodo\n",
    "4. Portabili\n",
    "5. Interpretuojama\n",
    "6. Objektiškai oriantuota\n",
    "7. Praplėčiama\n",
    "8. Plati standartinė biblioteka, daug papildomų bibliotekų \"Python Package Index\"\n",
    "\n",
    "Kelios didesnės kompanijos, kurios naudoja Python programavimo kalbą: Google (Youtube), Facebook, Dropbox, Yahoo, NASA, IBM, Mozilla, Quora, Instagram, Reddit...\n",
    "\n",
    "Python naudojama viskam, nuo mikrokontrolerių programavimo iki žaidimų kūrimo."
   ]
  },
  {
   "cell_type": "markdown",
   "metadata": {
    "deletable": true,
    "editable": true
   },
   "source": [
    "## Komentarai\n",
    "\n",
    "Komentarai skirti programinio kodo paaiškinimui. Dažniausiai vadovaujamasi taisykle: programinis kodas pasako \"kaip\", o komentarai turi pasakyti \"kodėl\". Jūsų parašytą programinį kodą skaitis ir kiti programuotojai - komentarai yra puikus būdas palengvinti jiems darbą/sutaupyti laiko."
   ]
  },
  {
   "cell_type": "code",
   "execution_count": null,
   "metadata": {
    "collapsed": true,
    "deletable": true,
    "editable": true
   },
   "outputs": [],
   "source": [
    "# vienos eilutės komentaras\n",
    "\n",
    "# eilučių komentaras\n",
    "# per kelias eilutes"
   ]
  },
  {
   "cell_type": "markdown",
   "metadata": {
    "deletable": true,
    "editable": true
   },
   "source": [
    "## Kintamieji\n",
    "\n",
    "Viskas Python programavimo kalboje yra objektas, kuris gali būti kintamas (angl. mutable) arba nekintamas (angl. immutable). Nekintami tipai: boolean, integer, float, tuple, string. Kintami tipai: list ir dictionary.  \n",
    "\n",
    "Python programavimo kalboje nereikia nurodyti kintamojo tipo, jie nustatomi dinamiškai. Norint gauti kintamojo tipą galima naudoti funkciją type().\n",
    "\n",
    "Kintamieji yra nuorodos į objektus (funkcija id(kintamasis) grąžina kintamojo unikalų identifikatorių).\n",
    "\n",
    "Ypatingas tipas - None. Jis reiškia, jog nėra duomenų, tuščia."
   ]
  },
  {
   "cell_type": "code",
   "execution_count": null,
   "metadata": {
    "collapsed": false,
    "deletable": true,
    "editable": true
   },
   "outputs": [],
   "source": [
    "# kintamajam priskiriamas sveikas skaičius\n",
    "a = 3\n",
    "\n",
    "# kintamajam priskiriamas tekstas\n",
    "a = \"tekstas\""
   ]
  },
  {
   "cell_type": "code",
   "execution_count": null,
   "metadata": {
    "collapsed": false,
    "deletable": true,
    "editable": true
   },
   "outputs": [],
   "source": [
    "#kintamasis a rodo į objektą 3\n",
    "a = 3\n",
    "print(a)\n",
    "print(id(a))"
   ]
  },
  {
   "cell_type": "code",
   "execution_count": null,
   "metadata": {
    "collapsed": true
   },
   "outputs": [],
   "source": [
    "#kintamasis b rodo į objektą 3\n",
    "b = a\n",
    "print(b)\n",
    "print(id(b))"
   ]
  },
  {
   "cell_type": "code",
   "execution_count": null,
   "metadata": {
    "collapsed": true
   },
   "outputs": [],
   "source": [
    "#kintamasis a rodo į objektą 4\n",
    "a = 4\n",
    "print(a)\n",
    "print(id(a))\n",
    "print(b)\n",
    "print(id(b))"
   ]
  },
  {
   "cell_type": "code",
   "execution_count": null,
   "metadata": {
    "collapsed": false,
    "deletable": true,
    "editable": true
   },
   "outputs": [],
   "source": [
    "a = 3\n",
    "print(type(a))\n",
    "\n",
    "a = 4.5\n",
    "print(type(a))\n",
    "\n",
    "a = \"tekstas\"\n",
    "print(type(a))\n",
    "\n",
    "a = True\n",
    "print(type(a))\n",
    "\n",
    "a = [1, 2, \"trečias\"]\n",
    "print(type(a))\n",
    "\n",
    "a = (1, 2, \"trečias\")\n",
    "print(type(a))\n",
    "\n",
    "a = {\"a\": 1, \"b\": \"2\"}\n",
    "print(type(a))\n",
    "\n",
    "a = None\n",
    "print(type(a))"
   ]
  },
  {
   "cell_type": "markdown",
   "metadata": {
    "deletable": true,
    "editable": true
   },
   "source": [
    "## Skaičiai\n",
    "\n",
    "Skaičiai gali būti sveikieji (angl. integer) ir trupmeniniai (angl. float).\n",
    "\n",
    "Sveikieji skaičiai: 1, 56, 67, 100 ir pan.\n",
    "\n",
    "Trupmeniniai skaičiai: 23.5678557, 0.3, 678.43, 52.3E-4 ir pan. Skaičiai su E naudojami aprašyti labai mažiems arba labai didelieps skaičiams, pvz.: 52.3E-4 reiškia 52.3 * 10^-4, 4.5e6 reiškia 4.5 * 10^6. Trupmeniniai skaičiai iš prigimties yra visada apytiksliai, tad jų negalima tiesiogiai lyginti su nuliu ar vieno su kitu."
   ]
  },
  {
   "cell_type": "code",
   "execution_count": null,
   "metadata": {
    "collapsed": false,
    "deletable": true,
    "editable": true
   },
   "outputs": [],
   "source": [
    "print(4+5)\n",
    "print(1-5)\n",
    "print(3*2)\n",
    "print(4*2.3)\n",
    "print(3/2)\n",
    "print(4/2)\n",
    "print(7//3)\n",
    "print(7%3)\n",
    "print(2**3)"
   ]
  },
  {
   "cell_type": "code",
   "execution_count": null,
   "metadata": {
    "collapsed": false,
    "deletable": true,
    "editable": true
   },
   "outputs": [],
   "source": [
    "a = 1.1 + 2.2\n",
    "print(a)"
   ]
  },
  {
   "cell_type": "markdown",
   "metadata": {
    "deletable": true,
    "editable": true
   },
   "source": [
    "## Tekstas\n",
    "\n",
    "Tekstas tai tiesiog simbolių seka (angl. string) užrašoma viengubose arba dvigubose kabutėse. Jei tekstas yra per kelias eilutes, užrašymui naudojama trigubos kabutės. Su teksto kintamaisiais galima atlikti sudėties ir daugybos veiksmus."
   ]
  },
  {
   "cell_type": "code",
   "execution_count": null,
   "metadata": {
    "collapsed": false,
    "deletable": true,
    "editable": true
   },
   "outputs": [],
   "source": [
    "print('Paprastas tekstas')\n",
    "print(\"Paprastas tekstas\")\n",
    "print(\"\"\"\n",
    "        Paprastas tekstas \n",
    "        per kelias eilutes\n",
    "      \"\"\")"
   ]
  },
  {
   "cell_type": "code",
   "execution_count": null,
   "metadata": {
    "collapsed": false,
    "deletable": true,
    "editable": true
   },
   "outputs": [],
   "source": [
    "a = \"Paprastas tekstas\"\n",
    "print(a)\n",
    "\n",
    "# teksto kintamūjų sudėtis\n",
    "a = a + a\n",
    "print(a)\n",
    "\n",
    "# teksto kintamojo dauginimas iš skaičiaus\n",
    "a = a * 3\n",
    "print(a)"
   ]
  },
  {
   "cell_type": "markdown",
   "metadata": {
    "deletable": true,
    "editable": true
   },
   "source": [
    "## Boolean\n",
    "\n",
    "Šio tipo kintamieji gali įgyti tik dvi reikšmes True arba False. Su šio tipo kintamaisiais galima alikti loginius veiksmus ir (and), arba (or), ne (not), lygu (==) ir nelygu (!=)."
   ]
  },
  {
   "cell_type": "code",
   "execution_count": null,
   "metadata": {
    "collapsed": false,
    "deletable": true,
    "editable": true
   },
   "outputs": [],
   "source": [
    "a = True\n",
    "b = True\n",
    "\n",
    "print(a and b)\n",
    "print(a or b)\n",
    "print(not b)\n",
    "print(a == (not b))\n",
    "print(a != b)"
   ]
  },
  {
   "cell_type": "markdown",
   "metadata": {
    "deletable": true,
    "editable": true
   },
   "source": [
    "## Sąrašas\n",
    "\n",
    "Tai to paties arba skirtingo tipo reikšmių sąrašas. Sąrašai gali būti dviejų tipų: kintamas - list ir nekintamas - tuple. Kintamas sąrašas užrašomas laužtiniuose skliaustuose, o nekintamas paprastuose skliaustuose. Visos kintamo ir nekintamo sąrašo operacijos yra identiškos išskyrus koregavimo operacijas.\n",
    "\n",
    "Sąrašai yra indeksuoti, todėl galima pasiekti kiekvieną sąrašo elementą pagal indeksą.\n",
    "\n",
    "Sąrašo funkcijos:\n",
    "* append() - sukuria elementą sąrašo pabaigoje.\n",
    "* extend() - sujungia kelis sąrašus.\n",
    "* insert() - įterpia elementą į sąrašo vietą.\n",
    "* remove() - pašalina elementą iš sąrašo.\n",
    "* pop() - pašalina ir grąžina elementą pagal jo indeksą.\n",
    "* clear() - išvalo visą sąrašą.\n",
    "* index() - grąžina pirmo sutampančio elemento indeksą.\n",
    "* count() - grąžina sutampančių elementų, pagal parametrą, skaičių.\n",
    "* sort() - surikiuoja sąrašą didėjimo tvarka.\n",
    "* reverse() - apverčia sąrašą.\n",
    "* copy() - grąžina sąrašo kopiją."
   ]
  },
  {
   "cell_type": "code",
   "execution_count": null,
   "metadata": {
    "collapsed": false,
    "deletable": true,
    "editable": true
   },
   "outputs": [],
   "source": [
    "mutable = [1, 2, 3, \"tekstas\"]\n",
    "immutable = (1, 2, 3, \"tekstas\")\n",
    "\n",
    "print(mutable, immutable)"
   ]
  },
  {
   "cell_type": "code",
   "execution_count": null,
   "metadata": {
    "collapsed": false,
    "deletable": true,
    "editable": true
   },
   "outputs": [],
   "source": [
    "# tuščias sąrašas\n",
    "a = []\n",
    "\n",
    "# sąrašas su elementais\n",
    "a = [1, 2, 3, 4, 5, 6]\n",
    "print(a[0])\n",
    "print(a[1])\n",
    "print(a[2])\n",
    "print(a[-1])\n",
    "print(a[-2])"
   ]
  },
  {
   "cell_type": "code",
   "execution_count": null,
   "metadata": {
    "collapsed": false,
    "deletable": true,
    "editable": true
   },
   "outputs": [],
   "source": [
    "a = [\"Tekstas\", 3, None, (100, 200)]\n",
    "print(a[0][2])\n",
    "print(a[2])\n",
    "print(a[3][0])"
   ]
  },
  {
   "cell_type": "code",
   "execution_count": null,
   "metadata": {
    "collapsed": false,
    "deletable": true,
    "editable": true
   },
   "outputs": [],
   "source": [
    "a = []\n",
    "\n",
    "# sąrašo elementų įterpimas\n",
    "a.append(2)\n",
    "a.append(7)\n",
    "a.append(\"7\")\n",
    "a.append([1, 10])\n",
    "print(a)\n",
    "\n",
    "a.extend([100, 200, 300])\n",
    "print(a)\n",
    "\n",
    "a.insert(0, 99)\n",
    "print(a)"
   ]
  },
  {
   "cell_type": "code",
   "execution_count": null,
   "metadata": {
    "collapsed": true
   },
   "outputs": [],
   "source": [
    "# sąrašo elementų šalinimas\n",
    "a.pop(0)\n",
    "a.pop(-1)\n",
    "print(a)\n",
    "\n",
    "del a[0]\n",
    "print(a)\n",
    "\n",
    "del a[1:4]\n",
    "print(a)\n",
    "\n",
    "a.remove(200)\n",
    "print(a)"
   ]
  },
  {
   "cell_type": "code",
   "execution_count": null,
   "metadata": {
    "collapsed": true
   },
   "outputs": [],
   "source": [
    "# sąrašų \"pjaustymas\"\n",
    "a = \"Paprastas tekstas\"\n",
    "print(a[0:9])\n",
    "print(a[:])\n",
    "print(a[3:-1])\n",
    "print(a[-1:])"
   ]
  },
  {
   "cell_type": "code",
   "execution_count": null,
   "metadata": {
    "collapsed": true
   },
   "outputs": [],
   "source": [
    "# sąrašo elementų reikšmių keitimas\n",
    "a = [1, 2, 3, 4, 5, 6]\n",
    "a[0] = 10\n",
    "a[-1] = 10\n",
    "a[2:4] = [100, 100]\n",
    "print(a)\n",
    "\n",
    "print([1, 2, 3] + [4, 5, 6])"
   ]
  },
  {
   "cell_type": "code",
   "execution_count": null,
   "metadata": {
    "collapsed": true
   },
   "outputs": [],
   "source": [
    "# patikrinimas ar elementas yra sąraše\n",
    "print(100 in a)\n",
    "print(1000 in a)\n",
    "\n",
    "print(a.index(100))\n",
    "print(a.index(1000))"
   ]
  },
  {
   "cell_type": "markdown",
   "metadata": {},
   "source": [
    "## Žodynas\n",
    "\n",
    "Žodyne (angl. dictionary) saugomos reikšmių poros (raktas: reikšmė (angl. key: value)). Žodyno reikšmės gali būti bet kokio tipo, o rankto reikšmės privalo būti iš nekeičiamo tipo.\n",
    "\n",
    "* clear() - ištrina visas reikšmias iš žodyno.\n",
    "* copy() - sukuria žodyno kopiją.\n",
    "* fromkeys(seq, v) - sukuriamas naujas žodynas su raktais iš seq sąrašo ir reikšmia v.\n",
    "* get(key) - grąžina rakto reikšmę.\n",
    "* setdefault(key, default) - grąžina rakto reikšmę, jei neranda grąžina default reikšmę.\n",
    "* items() - grąžina sąrašą sudarytą iš žodyno rakto ir reikšmės porų.\n",
    "* keys() - grąžina žodyno raktų sąrašą.\n",
    "* pop(key) - pašalina elementą iš žodyno pagal raktą.\n",
    "* popitem() - šalinama po vieną elementą.\n",
    "* update(other_dict) - prie žodyno prideda other_dict žodyno key:value poras.\n",
    "* values() - grąžina žodyno reikšmių sąrašą."
   ]
  },
  {
   "cell_type": "code",
   "execution_count": null,
   "metadata": {
    "collapsed": false
   },
   "outputs": [],
   "source": [
    "# tuščias žodynas\n",
    "a = {}\n",
    "\n",
    "# užpildytas žodynas\n",
    "a = {1: \"obuolys\", 2: \"kriaušė\", \"tekstas\": [1, 2, 3, 4, 5, 6], 4: {\"a\": \"a\"}}\n",
    "print(a)"
   ]
  },
  {
   "cell_type": "code",
   "execution_count": null,
   "metadata": {
    "collapsed": false
   },
   "outputs": [],
   "source": [
    "# reikšmių gavimas\n",
    "print(a[1])\n",
    "print(a.get(1))\n",
    "print(a[\"tekstas\"])\n",
    "print(a.get(\"tekstas\"))"
   ]
  },
  {
   "cell_type": "code",
   "execution_count": null,
   "metadata": {
    "collapsed": false
   },
   "outputs": [],
   "source": [
    "# reikšmių keitimas, kūrimas\n",
    "a[\"tomas\"] = 1986\n",
    "a[\"jonas\"] = (\"a\", \"b\", \"c\")\n",
    "print(a)\n",
    "\n",
    "a[\"tomas\"] = 2000\n",
    "print(a)"
   ]
  },
  {
   "cell_type": "code",
   "execution_count": null,
   "metadata": {
    "collapsed": false
   },
   "outputs": [],
   "source": [
    "# reikšmių šalinimas\n",
    "a.pop(\"tekstas\")\n",
    "print(a)\n",
    "\n",
    "a.popitem() # šalinama po vieną elementą\n",
    "print(a)\n",
    "a.popitem()\n",
    "print(a)\n",
    "\n",
    "del a[1] \n",
    "print(a)"
   ]
  },
  {
   "cell_type": "code",
   "execution_count": null,
   "metadata": {
    "collapsed": false
   },
   "outputs": [],
   "source": [
    "# patikrinimas ar raktas yra sąraše\n",
    "print(2 in a)\n",
    "print(\"2\" in a)\n",
    "\n",
    "print(a.setdefault(2, \"Nėra\"))\n",
    "print(a.setdefault(\"2\", \"Nėra\"))"
   ]
  },
  {
   "cell_type": "markdown",
   "metadata": {
    "deletable": true,
    "editable": true
   },
   "source": [
    "## Kintamojo tipo keitimas\n",
    "\n",
    "Bet kuri kitokio tipo reikšmė gali būti pakeista į boolean tipą. Dauguma reikšmių keičiamos į True, o \"tuščio\" reikšmės keičiamos į False."
   ]
  }
 ],
 "metadata": {
  "kernelspec": {
   "display_name": "Python 3",
   "language": "python",
   "name": "python3"
  },
  "language_info": {
   "codemirror_mode": {
    "name": "ipython",
    "version": 3
   },
   "file_extension": ".py",
   "mimetype": "text/x-python",
   "name": "python",
   "nbconvert_exporter": "python",
   "pygments_lexer": "ipython3",
   "version": "3.6.3"
  }
 },
 "nbformat": 4,
 "nbformat_minor": 2
}

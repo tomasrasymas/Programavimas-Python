{
 "cells": [
  {
   "cell_type": "markdown",
   "metadata": {
    "collapsed": true,
    "deletable": true,
    "editable": true
   },
   "source": [
    "# Interneto sistemų, paslaugų kūrimas\n",
    "\n",
    "Flask - \"mažas\" karkasas (angl. microframework) skirtas web sistemų kūrimui. Flask yra pagrįstas Werkzeug (WSGI biblioteka (angl. Web Server Gateway Interface)) ir Jinja 2 (šablonų variklis (angl. template engine)) bibliotekomis. Mažu šis karkasas vadinamas, todėl, jog šis karkasas yra ganėtinai \"plikas\", neturi kitiems karkasas būdingų funcionalumų, pvz. validatoriai, duomenų bazės palaikymas, migracijos ir t.t. Jūs gaunat pagrindą, o reikiamus funkcionalumus, struktūrą ir pan. kuriatės patys (diegiat reikiamus Flask papildymus)."
   ]
  },
  {
   "cell_type": "code",
   "execution_count": null,
   "metadata": {
    "collapsed": false,
    "deletable": true,
    "editable": true
   },
   "outputs": [],
   "source": [
    "# aplikacijos pavyzdys\n",
    "from flask import Flask # importuojame Flask modulį\n",
    "app = Flask(__name__) # sukuriamas Flask objektas\n",
    "\n",
    "@app.route(\"/\") # sukuriama URL taisyklė, kurią pasiekus iškviečiama dekoruojama funkcija\n",
    "def index(): # funkcija, kuri bus vykdoma pasiekus URL, dažnai vadinama view'u\n",
    "    return(\"Hello World\") # atsakas (angl. response) duomenys\n",
    "\n",
    "if __name__ == \"__main__\":\n",
    "    app.run() # app.run(host, port, debug, options)"
   ]
  },
  {
   "cell_type": "markdown",
   "metadata": {
    "collapsed": true,
    "deletable": true,
    "editable": true
   },
   "source": [
    "Norint užregistruoti funkciją, kuri bus iškviečiama pasiekus tam tikrą URL, funkcija dekoruojama dekoratoriumi @app.route(\"/\"). Be šio dekoratoriaus tą patį rezultatą galima pasiekti ir panaudojus funkciją app.add_url_rule(\"/\", \"index\", index)"
   ]
  },
  {
   "cell_type": "code",
   "execution_count": null,
   "metadata": {
    "collapsed": false,
    "deletable": true,
    "editable": true
   },
   "outputs": [],
   "source": [
    "# aplikacijos pavyzdys\n",
    "from flask import Flask # importuojame Flask modulį\n",
    "app = Flask(__name__) # sukuriamas Flask objektas\n",
    "\n",
    "def index():\n",
    "    return(\"Hello World\") # atsakas (angl. response) duomenys\n",
    "\n",
    "app.add_url_rule(\"/\", \"index\", index) # sukuriama URL taisyklė, kurią pasiekus iškviečiama nurodyta funkcija\n",
    "\n",
    "if __name__ == \"__main__\":\n",
    "    app.run() # app.run(host, port, debug, options)"
   ]
  },
  {
   "cell_type": "code",
   "execution_count": null,
   "metadata": {
    "collapsed": false,
    "deletable": true,
    "editable": true
   },
   "outputs": [],
   "source": [
    "# galima sukurti kiek tik reikia URL taisyklių, taip pat vienai funkcijai nurodyti kelias URL taisykles\n",
    "from flask import Flask\n",
    "\n",
    "app = Flask(__name__)\n",
    "\n",
    "@app.route(\"/\")\n",
    "def index():\n",
    "    return(\"\"\"\n",
    "    <!DOCTYPE html>\n",
    "      <html>\n",
    "      <head><title>Hello</title></head>\n",
    "      <body><h1>Hello, from HTML</h1></body>\n",
    "      </html>\n",
    "    \"\"\")\n",
    "\n",
    "@app.route(\"/career/\")\n",
    "def career():\n",
    "    return(\"Career Page\")\n",
    "\n",
    "@app.route(\"/feedback/\")\n",
    "def feedback():\n",
    "    return(\"Feedback Page\")\n",
    "\n",
    "@app.route('/first/first/')\n",
    "@app.route('/second/first/')\n",
    "def numbers():\n",
    "    return(\"Multiple URLS\")\n",
    "\n",
    "if __name__ == \"__main__\":\n",
    "    app.run()"
   ]
  },
  {
   "cell_type": "markdown",
   "metadata": {
    "deletable": true,
    "editable": true
   },
   "source": [
    "### Dinaminiai URL, parametrai\n",
    "\n",
    "Norint sukurti dinaminius URL (funkcijai perduoti parametrus) aprašant URL naudojamas sekantis formatas: \"/user/<id>/\". Toks užrašymas nurodo kad funkcijai bus perduodamas parametras id, kurio tipas yra bet koks. Toks URL užrašymas įvykdys funkciją kai bus pasiekiamas adresas /users/1/, /users/100/, /users/pirmas/, /users/antras/. Kaip matom id laukas galės įgyti tiek int tiek string tipo reikšmes. Dėl to galima naudoti tokį URL formatą <konvertatorius:kintamojo pavadinimas>, kuris nurodo kokio tipo kintamojo tikimės, galimos reikšmės: string, int, float, path, uuid."
   ]
  },
  {
   "cell_type": "code",
   "execution_count": null,
   "metadata": {
    "collapsed": false,
    "deletable": true,
    "editable": true
   },
   "outputs": [],
   "source": [
    "# dinaminis URL\n",
    "from flask import Flask\n",
    "\n",
    "app = Flask(__name__)\n",
    "\n",
    "@app.route(\"/user/<id>/\")\n",
    "def user_profile(id):\n",
    "    return(\"Profile page of user #{}\".format(id))\n",
    "\n",
    "if __name__ == \"__main__\":\n",
    "    app.run()"
   ]
  },
  {
   "cell_type": "code",
   "execution_count": null,
   "metadata": {
    "collapsed": false,
    "deletable": true,
    "editable": true
   },
   "outputs": [],
   "source": [
    "# dinaminis URL su parametro tipo tikrinimu\n",
    "from flask import Flask\n",
    "\n",
    "app = Flask(__name__)\n",
    "\n",
    "@app.route(\"/user/<int:id>/\")\n",
    "def user_profile(id):\n",
    "    return(\"Profile page of user #{}\".format(id))\n",
    "\n",
    "if __name__ == \"__main__\":\n",
    "    app.run()"
   ]
  },
  {
   "cell_type": "markdown",
   "metadata": {
    "deletable": true,
    "editable": true
   },
   "source": [
    "### Debug būsena\n",
    "\n",
    "Pagal nutylėjimą debug būsena yra išjungta. Jei įvyksta klaida programiniame kode, vartotojui grąžinamas 500 atsakas, be papildomų paaiškinimų. Įsijungus debug būseną į ekraną grąžinama pilna informacija apie klaidą. Taip pat jei įjungta ši būsena, po kiekvieno failo pakoregavimo ir išsaugojimo serveris yra perleidžiamas iš naujo."
   ]
  },
  {
   "cell_type": "code",
   "execution_count": null,
   "metadata": {
    "collapsed": false,
    "deletable": true,
    "editable": true
   },
   "outputs": [],
   "source": [
    "from flask import Flask\n",
    "app = Flask(__name__)\n",
    "\n",
    "@app.route(\"/\")\n",
    "def index():\n",
    "    print(i)\n",
    "    return(\"Index\")\n",
    "\n",
    "if __name__ == \"__main__\":\n",
    "    app.run(debug=True) # True/False"
   ]
  },
  {
   "cell_type": "markdown",
   "metadata": {
    "deletable": true,
    "editable": true
   },
   "source": [
    "### URL ir funkcijų sąrašas\n",
    "\n",
    "app objekta turi metodą app.url_map, kuris grąžina sąrašą URL->funkcija susiejimų."
   ]
  },
  {
   "cell_type": "code",
   "execution_count": null,
   "metadata": {
    "collapsed": false,
    "deletable": true,
    "editable": true
   },
   "outputs": [],
   "source": [
    "from flask import Flask\n",
    "\n",
    "app = Flask(__name__)\n",
    "\n",
    "@app.route(\"/\")\n",
    "def index():\n",
    "    return(\"Home Page\")\n",
    "\n",
    "@app.route(\"/career/\")\n",
    "def career():\n",
    "    return(\"Career Page\")\n",
    "\n",
    "@app.route(\"/feedback/\")\n",
    "def feedback():\n",
    "    return(\"Feedback Page\")\n",
    "\n",
    "@app.route('/first/first/')\n",
    "@app.route('/second/first/')\n",
    "def numbers():\n",
    "    return(\"Multiple URLS\")\n",
    "\n",
    "print(app.url_map)"
   ]
  },
  {
   "cell_type": "markdown",
   "metadata": {
    "deletable": true,
    "editable": true
   },
   "source": [
    "### Kontekstas (angl. contexts) Flask karkase\n",
    "\n",
    "Kaip pastebėjote, visose view funkcijose nėra paduodamas pačios užklausos (angl. request) parametras. Šis parametras yra pasiekiamas visose funkcijose. Gali susidaryti įspūdis, jog jis yra globalus, tačiau taip nėra, nes daugiagijėse (angl. multithread) programose kiltų problemų (vienu metu paleistos kelios applikacijos, pvz. naudojant DispatcherMiddleware), kokia užklausa priklauso kokiai gijai (angl. thread), todėl Flask naudoja kintamuosius, kurie yra lokalūs kiekvienai gijai (angl. thread locals), turi savo kontekstą.\n",
    "\n",
    "Flask turi kelis skirtingus kontekstus: aplikacijos ir užklausos. Aplikacijos kontekstas skirtas saugoti bendrus duomenis, tokius kaip duomenų bazės prisijungimus, kitus nustatymus, o užklausos kontekste saugomi duomenys skirti kiekvienai užklausai.\n",
    "\n",
    "http://flask.pocoo.org/docs/0.12/appcontext/\n",
    "http://flask.pocoo.org/docs/0.12/reqcontext/\n",
    "\n",
    "Flask karkase aplikacijos ir užklausos kontekstai yra aktyvuojami/sukuriami kai gaunama nauja užklausa, ir deaktyvuojami, kai užklausa yra apdorota."
   ]
  },
  {
   "cell_type": "code",
   "execution_count": null,
   "metadata": {
    "collapsed": false,
    "deletable": true,
    "editable": true
   },
   "outputs": [],
   "source": [
    "# užklausos konteksto pavyzdys\n",
    "from flask import Flask, request\n",
    "\n",
    "app = Flask(__name__)\n",
    "\n",
    "@app.route(\"/\")\n",
    "def requestdata():\n",
    "    return(\"Hello! Your IP is {} and you are using {}: \".format(request.remote_addr, request.user_agent))\n",
    "\n",
    "if __name__ == \"__main__\":\n",
    "    app.run()"
   ]
  },
  {
   "cell_type": "markdown",
   "metadata": {
    "deletable": true,
    "editable": true
   },
   "source": [
    "### Užklausos atsakymas (angl. response)\n",
    "\n",
    "Flask karkase yra trys atsakymo tipai:\n",
    "1. Paprastas tekstas arba naudojant šablonų variklį.\n",
    "2. Response objektas.\n",
    "3. Sąrašas iš (atsakyams, būsena, antraštės) arba (atsakymas, antraštės/būsena) (angl. (response, status, headers) or (response, headers/status)).\n",
    "\n",
    "Kai grąžinamas tekstas Flask automatiškai tą tekstą paverčia į Response objektą (naudojant funkciją make_response()) su HTTP būsena 200 ir antrašte content-type = text/html. Norint pakeisti grąžinamus parametrus, galima išsikviesti make_response() funkciją ir atlikti jo grąžinto objekto korekcijas."
   ]
  },
  {
   "cell_type": "code",
   "execution_count": null,
   "metadata": {
    "collapsed": true,
    "deletable": true,
    "editable": true
   },
   "outputs": [],
   "source": [
    "# make_response funkcijos pavyzdys\n",
    "from flask import Flask, make_response\n",
    "\n",
    "@app.route(\"/books/<genre>\")\n",
    "def books(genre):\n",
    "    res = make_response(\"All Books in {} category\".format(genre))\n",
    "    res.headers[\"Content-Type\"] = \"text/plain\"\n",
    "    res.headers[\"Server\"] = \"VU\"\n",
    "    return(res)"
   ]
  },
  {
   "cell_type": "code",
   "execution_count": null,
   "metadata": {
    "collapsed": true,
    "deletable": true,
    "editable": true
   },
   "outputs": [],
   "source": [
    "# grąžinamas atsakymas su būsena 400\n",
    "@app.route(\"/\")\n",
    "def http_404_handler():\n",
    "    return make_response(\"<h2>404 Error</h2>\", 400)"
   ]
  },
  {
   "cell_type": "code",
   "execution_count": null,
   "metadata": {
    "collapsed": true,
    "deletable": true,
    "editable": true
   },
   "outputs": [],
   "source": [
    "# sausainėlių (angl. cookies) nustatymas\n",
    "@app.route(\"/set-cookie\")\n",
    "def set_cookie():\n",
    "    res = make_response(\"Cookie setter\")    \n",
    "    res.set_cookie(\"favorite-color\", \"skyblue\")\n",
    "    res.set_cookie(\"favorite-font\", \"sans-serif\")\n",
    "    # res.set_cookie(\"favorite-color\", \"skyblue\", 60*60*24*15) # cookies su galiojimo laiku\n",
    "    # res.set_cookie(\"favorite-font\", \"sans-serif\", 60*60*24*15) # cookies su galiojimo laiku\n",
    "    return res"
   ]
  },
  {
   "cell_type": "code",
   "execution_count": null,
   "metadata": {
    "collapsed": true,
    "deletable": true,
    "editable": true
   },
   "outputs": [],
   "source": [
    "# atsakymas kaip sąrašas\n",
    "@app.route(\"/\")\n",
    "def http_500_handler():\n",
    "    return (\"<h2>500 Error</h2>\", 500)\n",
    "    # return(\"## Heading\", 200, {'Content-Type': 'text/markdown'}) # grąžinamas atsakymas su antraštėmis"
   ]
  },
  {
   "cell_type": "markdown",
   "metadata": {
    "deletable": true,
    "editable": true
   },
   "source": [
    "### Užklausos peradresavimas"
   ]
  },
  {
   "cell_type": "code",
   "execution_count": null,
   "metadata": {
    "collapsed": true,
    "deletable": true,
    "editable": true
   },
   "outputs": [],
   "source": [
    "@app.route(\"/transfer\")\n",
    "def transfer():\n",
    "    return \"\", 302, {\"location\": \"http://localhost:5000/login\"}"
   ]
  },
  {
   "cell_type": "code",
   "execution_count": null,
   "metadata": {
    "collapsed": true,
    "deletable": true,
    "editable": true
   },
   "outputs": [],
   "source": [
    "from flask import Flask, redirect\n",
    "\n",
    "@app.route(\"/transfer\")\n",
    "def transfer():\n",
    "    return redirect(\"http://localhost:5000/login\")\n",
    "    # return redirect(\"http://localhost:5000/login\", code=301) # peradresavimas su būsena"
   ]
  },
  {
   "cell_type": "markdown",
   "metadata": {
    "deletable": true,
    "editable": true
   },
   "source": [
    "### Spąstų vietos (angl. hook points)\n",
    "\n",
    "Dažnai web aplikacijose reikia atlikti tam tikrus veiksmus prieš kiekvieną užklausą, pvz. kliento IP adreso užloginimas, arba vartotojo autentikavimas prieš parodant jiems turinį ir pan. Flask turi kelis dekoratorius, kurie gali pagelbėti atlikti šiuos veiksmus:\n",
    "\n",
    "* before_first_request - vykdys funkciją prieš pirmą užklausą.\n",
    "* before_request - vykdys funkciją prieš kiekvieną užklausą.\n",
    "* after_request - vykdys funkciją po užklausos vykdymo. Nėra vykdoma įvykus nesuvaldytai klaidai (angl. unhandled exception). Funkcija privalo priimti atsakymo objektą (angl. response objext), o grąžinti tą patį arba naują atsakymo objektą.\n",
    "* teardown_request - panašu į after_request dekoratorių, tik šį funkciją bus vykdoma visada nepaisant ar buvo klaida ar ne."
   ]
  },
  {
   "cell_type": "code",
   "execution_count": null,
   "metadata": {
    "collapsed": false,
    "deletable": true,
    "editable": true
   },
   "outputs": [],
   "source": [
    "from flask import Flask, request\n",
    "\n",
    "app = Flask(__name__)\n",
    "\n",
    "@app.before_first_request\n",
    "def before_first_request():\n",
    "    print(\"before_first_request() called\")\n",
    "\n",
    "@app.before_request\n",
    "def before_request():\n",
    "    print(\"before_request() called\")\n",
    "\n",
    "@app.after_request\n",
    "def after_request(response):\n",
    "    print(\"after_request() called\")\n",
    "    return(response)\n",
    "\n",
    "@app.route(\"/\")\n",
    "def index():\n",
    "    print(\"index() called\")\n",
    "    return(\"<p>Testings Request Hooks</p>\")\n",
    "\n",
    "@app.teardown_request\n",
    "def teardown_request(response):\n",
    "    print(\"teardown_request() called\")\n",
    "    return(response)\n",
    "\n",
    "if __name__ == \"__main__\":\n",
    "    app.run(debug=True)"
   ]
  },
  {
   "cell_type": "markdown",
   "metadata": {
    "collapsed": true,
    "deletable": true,
    "editable": true
   },
   "source": [
    "### Užklausų atšaukimas\n",
    "\n",
    "Užklausų atšaukimui naudojama funkcija abort() su grąžinamu atsakymo kodu. Tokiu atveju grąžinamas tas pats atsakymas skirtingų klaidų atveju. Norint sukurti atskirus klaidų atsakymus naudojamas errorhandler dekoratorius."
   ]
  },
  {
   "cell_type": "code",
   "execution_count": null,
   "metadata": {
    "collapsed": true,
    "deletable": true,
    "editable": true
   },
   "outputs": [],
   "source": [
    "from flask import Flask, abort\n",
    "\n",
    "@app.route(\"/\")\n",
    "def index():\n",
    "    abort(404)\n",
    "    # tolimesnis kodas nebus vykdomas\n",
    "\n",
    "if __name__ == \"__main__\":\n",
    "    app.run(debug=True)"
   ]
  },
  {
   "cell_type": "code",
   "execution_count": null,
   "metadata": {
    "collapsed": true,
    "deletable": true,
    "editable": true
   },
   "outputs": [],
   "source": [
    "@app.errorhandler(404)\n",
    "def http_404_handler(error):\n",
    "    return(\"<p>HTTP 404 Error Encountered</p>\", 404)\n",
    "\n",
    "@app.errorhandler(500)\n",
    "def http_500_handler(error):\n",
    "    return(\"<p>HTTP 500 Error Encountered</p>\", 500)"
   ]
  },
  {
   "cell_type": "markdown",
   "metadata": {
    "deletable": true,
    "editable": true
   },
   "source": [
    "### Šablonai (angl. templates)\n",
    "\n",
    "Šablonas - HTML failas, kuris sudarytas iš statinio HTML kodo, bei dinaminių žymų, kurios bus žinomas užklausos apdorojimo metu. Procesas, kurio metu dinaminė žymė, pakeičiama į HTML kodą vadinamas šablono generavimu (angl. template rendering). \n",
    "\n",
    "Jinja šablonų variklis (angl. template engine) - vienas populiariausių šablonų generavimo variklių, tad jis ir bus naudojamas.\n",
    "\n",
    "Pagal nutylėjimą Flask ieško šablonų aplikacijos pakatalogyje \"templates\". Pakeisti šablonų katalogą galima nurodant \"template_folder\" parametro reikšmę\n",
    "\n",
    "```python\n",
    "app = Flask(__name__, template_folder=\"jinja_templates\")\n",
    "```"
   ]
  },
  {
   "cell_type": "markdown",
   "metadata": {
    "deletable": true,
    "editable": true
   },
   "source": [
    "Sukurkime failą index.html, su kodu:\n",
    "```html\n",
    "<html>\n",
    "    <head>\n",
    "        <title>Title</title>\n",
    "    </head>\n",
    "    <body>\n",
    "        <p>Name: {{ name }}</p>\n",
    "    </body>\n",
    "</html>\n",
    "```\n",
    "\n",
    "Kaip matome šalia standarinių HTML žymių naudojamas ir dinaminis komponentas {{name}}. Tarp {{ ir }} esantis pavadinimas nurodo kintamojo pavadinimą, kurio reikšmę reikia patalpinti nurodytoje vietoje."
   ]
  },
  {
   "cell_type": "markdown",
   "metadata": {
    "deletable": true,
    "editable": true
   },
   "source": [
    "Flask turi funkciją \"render_template()\", kuri atlieka šablono generavimą. Kviečiant šią funkciją jei nurodoma kokį šabloną krauti, bei su kokiais duomenimis."
   ]
  },
  {
   "cell_type": "code",
   "execution_count": null,
   "metadata": {
    "collapsed": false,
    "deletable": true,
    "editable": true
   },
   "outputs": [],
   "source": [
    "from flask import Flask, request, render_template\n",
    "import os\n",
    "app = Flask(__name__, template_folder=os.path.join(\"files\", \"templates\"))\n",
    "\n",
    "@app.route('/')\n",
    "def index():\n",
    "    return render_template(\"index.html\", name=\"Jerry\")\n",
    "\n",
    "if __name__ == \"__main__\":\n",
    "    app.run()"
   ]
  },
  {
   "cell_type": "markdown",
   "metadata": {
    "deletable": true,
    "editable": true
   },
   "source": [
    "Funkcijai \"render_template\" galima paduodi daugiau duomenų.\n",
    "```python\n",
    "name, age, profession = \"Jerry\", 24, 'Programmer'\n",
    "template_context = dict(name=name, age=age , profession=profession)\n",
    "return render_template('index.html', **template_context)\n",
    "```\n",
    "\n",
    "Jei funkcijai nenurodomi duomenys, kuriuos naudoti generuojant šabloną, tai šablonas bus sugeneruotas su tuščiais duomenimis.\n",
    "\n",
    "Daugiau apie Jinja http://jinja.pocoo.org/docs/2.10/"
   ]
  },
  {
   "cell_type": "markdown",
   "metadata": {
    "deletable": true,
    "editable": true
   },
   "source": [
    "Pagrindinės Jinja komandos.\n",
    "\n",
    "IF\n",
    "```html\n",
    "{% if user %}\n",
    "    <p>Vartotojas prisijungęs</p>\n",
    "{% else %}\n",
    "    <p>Vartotojas neprisijungęs</p>\n",
    "{% endif %}\n",
    "```\n",
    "\n",
    "```html\n",
    "{% if user == 'Jonas' %}\n",
    "    <p>Vartotojas prisijungęs</p>\n",
    "{% else %}\n",
    "    <p>Vartotojas neprisijungęs</p>\n",
    "{% endif %}\n",
    "```\n",
    "\n",
    "FOR\n",
    "```html\n",
    "<ul>\n",
    "{% for user in user_list %}\n",
    "    <li>{{ user }}</li>\n",
    "{% endfor %}\n",
    "</ul>\n",
    "```\n",
    "\n",
    "Objektų atributų pasiekiamumas\n",
    "```html\n",
    "{{ obj.i }}\n",
    "```"
   ]
  },
  {
   "cell_type": "markdown",
   "metadata": {
    "deletable": true,
    "editable": true
   },
   "source": [
    "Šablonų įterpimas - include komanda.\n",
    "```html\n",
    "{% include 'path/to/template' %}\n",
    "```"
   ]
  },
  {
   "cell_type": "markdown",
   "metadata": {
    "deletable": true,
    "editable": true
   },
   "source": [
    "Šablonų paveldimumas - extends komanda (naudojama su block komanda).\n",
    "```html\n",
    "{% extends 'base.html' %}\n",
    "\n",
    "{% block title %}\n",
    "{% endblock %}\n",
    "```"
   ]
  },
  {
   "cell_type": "code",
   "execution_count": null,
   "metadata": {
    "collapsed": false,
    "deletable": true,
    "editable": true
   },
   "outputs": [],
   "source": [
    "from flask import Flask, request, render_template\n",
    "import os\n",
    "app = Flask(__name__, template_folder=os.path.join(\"files\", \"templates\"))\n",
    "\n",
    "@app.route('/base')\n",
    "def base():\n",
    "    return render_template(\"base.html\")\n",
    "\n",
    "@app.route('/index')\n",
    "def index():\n",
    "    return render_template(\"index.html\", title=\"Python programavimas\", user=None, students_list=[(\"Marius\", \"Mariauskas\"), (\"Petras\", \"Petrauskas\"), (\"Ignas\", \"Ignauskas\")])\n",
    "\n",
    "if __name__ == \"__main__\":\n",
    "    app.run()"
   ]
  },
  {
   "cell_type": "markdown",
   "metadata": {
    "deletable": true,
    "editable": true
   },
   "source": [
    "index.html\n",
    "```html\n",
    "{% extends 'base.html' %}\n",
    "\n",
    "{% block title %}\n",
    "{{title}}\n",
    "{% endblock %}\n",
    "\n",
    "{% block content %}\n",
    "\t{% if user %}\n",
    "\t\t<p>Sveikas {{ user }}</p>\n",
    "\t{% else %}\n",
    "\t\t<p>Vartotojas nežinomas</p>\n",
    "\t{% endif %}\n",
    "\n",
    "   \t<br>\n",
    "\n",
    "\t{% include 'include.html' %}\n",
    "\n",
    "\t<table>\n",
    "\t\t{% for student in students_list %}\n",
    "    \t\t<tr>\n",
    "    \t\t\t<td>{{ student[0] }}</td>\n",
    "    \t\t\t<td>{{ student[1] }}</td> \n",
    "  \t\t\t</tr>\n",
    "\t\t{% endfor %}\n",
    "\t</table>\n",
    "{% endblock %}\n",
    "```\n",
    "\n",
    "base.html\n",
    "```html\n",
    "<html>\n",
    "    <head>\n",
    "        <title>{% block title %}Default Title{% endblock %}</title>\n",
    "    </head>\n",
    "    <body>\n",
    "        <nav>\n",
    "            <a href=\"/home\">Home</a>\n",
    "            <a href=\"/blog\">Blog</a>\n",
    "            <a href=\"/contact\">Contact</a>  \n",
    "        </nav>\n",
    "    \t{% block content %}\n",
    "\t\t{% endblock %}\n",
    "    </body>\n",
    "</html>\n",
    "```\n",
    "\n",
    "include.html\n",
    "```html\n",
    "<p>Included from another file.</p>\n",
    "```"
   ]
  },
  {
   "cell_type": "markdown",
   "metadata": {
    "deletable": true,
    "editable": true
   },
   "source": [
    "### URL nuorodų generavimas\n",
    "\n",
    "Kietai įrašyti (angl. harcode) URL nuorodas programiniame kode yra bloga praktika. Todėl visada reikia naudoti funkciją \"url_for()\" tiek šablonuose, tiek programiniam kode. Jei adresas yra su parametru, t.y. dinaminis, parametro reikšmę galima nurodyti šioje funkcijoje, pvz.: adresas /post/<int:id>, tai URL generavimo funkcijoje nurodysime url_for('post', id=100)."
   ]
  },
  {
   "cell_type": "code",
   "execution_count": null,
   "metadata": {
    "collapsed": false,
    "deletable": true,
    "editable": true
   },
   "outputs": [],
   "source": [
    "from flask import Flask, request, render_template, url_for\n",
    "import os\n",
    "app = Flask(__name__, template_folder=os.path.join(\"files\", \"templates\"))\n",
    "\n",
    "@app.route('/login')\n",
    "def login():\n",
    "    return \"<p>Please login</p>\"\n",
    "\n",
    "@app.route('/urls')\n",
    "def urls():\n",
    "    return render_template(\"urls.html\", login_url=url_for(\"login\"))\n",
    "\n",
    "if __name__ == \"__main__\":\n",
    "    app.run()"
   ]
  },
  {
   "cell_type": "markdown",
   "metadata": {
    "deletable": true,
    "editable": true
   },
   "source": [
    "### Statiniai failai\n",
    "\n",
    "Statiniai failai (angl. static files) tai tokie failai kurie dažnai nesikeičia, pvz.: css, js, font failai ir pan. Pagal nutylėjimą Flask ieško statinių failų aplikacijos pakatalogyje \"static\", tačiau jį galima perrašyti naudojant parametrą \"static_folder\".\n",
    "\n",
    "```python\n",
    "app = Flask(__name__, static_folder=\"static_dir\")\n",
    "```\n",
    "\n",
    "Stainius failus Flask automatiškai leidžia pasiekti per adresą /static/<failo_pavadinimas>, pvz.: http://127.0.0.1:5000/static/style.css."
   ]
  },
  {
   "cell_type": "code",
   "execution_count": null,
   "metadata": {
    "collapsed": false,
    "deletable": true,
    "editable": true
   },
   "outputs": [],
   "source": [
    "from flask import Flask, request, render_template, url_for\n",
    "import os\n",
    "app = Flask(__name__, template_folder=os.path.join(\"files\", \"templates\"), static_folder=os.path.join(\"files\", \"static\"))\n",
    "\n",
    "@app.route('/')\n",
    "def index():\n",
    "    return render_template(\"static_file_index.html\")\n",
    "\n",
    "if __name__ == \"__main__\":\n",
    "    app.run()"
   ]
  },
  {
   "cell_type": "markdown",
   "metadata": {
    "deletable": true,
    "editable": true
   },
   "source": [
    "### Formų valdymas\n",
    "\n",
    "Formos yra labai svarbi web aplikacijų dalis. Jos leidžia vykdyti duomenų įvedimą. Dirbti su formomis yra sudėtinga, nes reikia atkreipti dėmesį į daug detalių: CSRF, XSS, SQL įdėjimas (angl. injection), duomenų validavimas tiek klientinėje dalyje, tiek serveryje ir pan. Biblioteka WTForms gali palenginti visą šį darbą (https://flask-wtf.readthedocs.io/en/stable/)."
   ]
  },
  {
   "cell_type": "code",
   "execution_count": null,
   "metadata": {
    "collapsed": false,
    "deletable": true,
    "editable": true
   },
   "outputs": [],
   "source": [
    "from flask import Flask, render_template, request\n",
    "import os\n",
    "\n",
    "app = Flask(__name__, template_folder=os.path.join(\"files\", \"templates\"))\n",
    "\n",
    "@app.route(\"/login/\", methods=[\"post\", \"get\"])\n",
    "def login():\n",
    "    message = \"\"\n",
    "    if request.method == \"POST\":\n",
    "        username = request.form.get(\"username\")\n",
    "        password = request.form.get(\"password\")\n",
    "\n",
    "        if username == \"root\" and password == \"pass\":\n",
    "            message = \"Correct username and password\"\n",
    "        else:\n",
    "            message = \"Wrong username or password\"\n",
    "\n",
    "    return render_template(\"login.html\", message=message)\n",
    "\n",
    "if __name__ == \"__main__\":\n",
    "    app.run()"
   ]
  },
  {
   "cell_type": "markdown",
   "metadata": {
    "deletable": true,
    "editable": true
   },
   "source": [
    "### Slapukai (angl. cookies)\n",
    "\n",
    "Kol kas naršyklė siunčia užklausą, gavę ją sugeneruojama atsakymo tekstą ir grąžiname jį naršyklei. Viskas yra gan paprasta. Svarbu paminėti, jog HTTP protokolas yra be būsenos (angl. stateless), t.y. gavus kelias užklausas iš kliento yra neįmanoma pasakyti, kad jos yra iš to paties kliento, taip pat neįmanoma pasakyti ar užklausiate puslapio pirmą ar trečią kartą. Šiaip problemai spręsti yra naudojami slapukai (angl. cookies) ir sesijos (angl. sessions).\n",
    "\n",
    "Slapukai - duomenys, kuriuos serveris išsaugo naršyklėje. Pagal wikipedia - mažas tekstinis dokumentas, turintis unikalų identifikacijos numerį, kuris yra perduodamas iš interneto tinklalapio į lankytojo kompiuterio kietąjį diską.\n",
    "\n",
    "Kaip tai veikia:\n",
    "1. Naršyklė siunčia web puslapio užklausą į serverį.\n",
    "2. Serveris siunčia naršyklės užklaustą web puslapį kartu su slapukais.\n",
    "3. Gavus atsakymą naršyklė atvaizduoja web puslapį klientui ir išsaugo slapuko duomenis kietam diske.\n",
    "4. Sekančios naršyklės užklausos į serverį bus siunčiamos su visais slapukais (slapukų antraštėje (angl. cookie header)), tai tęsis tol, kol slapukas galios.\n",
    "\n",
    "Slapukui nustatyti Flask yra naudojama funkcija set_cookie().\n",
    "\n",
    "```python\n",
    "set_cookie(key, value=\"\", max_age=None)\n",
    "```\n",
    "\n",
    "key - raktas, value - reikšmė, max_age - laikas sekundėmis, kiek laiko galios slapukas."
   ]
  },
  {
   "cell_type": "code",
   "execution_count": null,
   "metadata": {
    "collapsed": false,
    "deletable": true,
    "editable": true
   },
   "outputs": [],
   "source": [
    "from flask import Flask, render_template, request, redirect, url_for, flash, make_response\n",
    "\n",
    "app = Flask(__name__)\n",
    "\n",
    "@app.route(\"/cookie/\")\n",
    "def cookie():\n",
    "    res = make_response(\"Setting a cookie\")\n",
    "    res.set_cookie(\"foo\", \"bar\", max_age=60*60*24*365*2)\n",
    "    return res\n",
    "\n",
    "if __name__ == \"__main__\":\n",
    "    app.run()"
   ]
  },
  {
   "cell_type": "markdown",
   "metadata": {
    "deletable": true,
    "editable": true
   },
   "source": [
    "Naršyklėje:\n",
    "\n",
    "![alt text](files/images/cookies.png \"Logo Title Text 1\")"
   ]
  },
  {
   "cell_type": "markdown",
   "metadata": {
    "collapsed": true,
    "deletable": true,
    "editable": true
   },
   "source": [
    "Slapukų nuskaitymui naudojamas request kintamojo atributas cookie. Tai yra žodyno tipo kintamasis, kuriame saugomi visi slapukai, kuriuos siunčia naršyklė. Svarbu paminėti jog kintamasis request yra pasiekiamas ir iš šablonų, tad galima slapukų informaciją pasiekti tiesiai šablone."
   ]
  },
  {
   "cell_type": "code",
   "execution_count": null,
   "metadata": {
    "collapsed": false,
    "deletable": true,
    "editable": true
   },
   "outputs": [],
   "source": [
    "from flask import Flask, render_template, request, redirect, url_for, flash, make_response\n",
    "\n",
    "app = Flask(__name__)\n",
    "\n",
    "@app.route(\"/cookie/\")\n",
    "def cookie():\n",
    "    if not request.cookies.get(\"foo\"):\n",
    "        res = make_response(\"Setting a cookie\")\n",
    "        res.set_cookie(\"foo\", \"bar\", max_age=60*60*24*365*2)\n",
    "    else:\n",
    "        res = make_response(\"Value of cookie foo is {}\".format(request.cookies.get(\"foo\")))\n",
    "    return res\n",
    "\n",
    "if __name__ == \"__main__\":\n",
    "    app.run()"
   ]
  },
  {
   "cell_type": "markdown",
   "metadata": {
    "deletable": true,
    "editable": true
   },
   "source": [
    "Norint pašalinti slapukus naudojama funkcija set_cookie() tik parametro max_age reikšmė nustatoma 0."
   ]
  },
  {
   "cell_type": "code",
   "execution_count": null,
   "metadata": {
    "collapsed": false,
    "deletable": true,
    "editable": true
   },
   "outputs": [],
   "source": [
    "from flask import Flask, render_template, request, redirect, url_for, flash, make_response\n",
    "\n",
    "app = Flask(__name__)\n",
    "\n",
    "@app.route(\"/cookie/\")\n",
    "def cookie():\n",
    "    if not request.cookies.get(\"foo\"):\n",
    "        res = make_response(\"Setting a cookie\")\n",
    "        res.set_cookie(\"foo\", \"bar\", max_age=60*60*24*365*2)\n",
    "    else:\n",
    "        res = make_response(\"Value of cookie foo is {}\".format(request.cookies.get(\"foo\")))\n",
    "    return res\n",
    "\n",
    "@app.route(\"/delete-cookie/\")\n",
    "def delete_cookie():\n",
    "    res = make_response(\"Cookie Removed\")\n",
    "    res.set_cookie(\"foo\", \"bar\", max_age=0)\n",
    "    return res\n",
    "\n",
    "if __name__ == \"__main__\":\n",
    "    app.run()"
   ]
  },
  {
   "cell_type": "markdown",
   "metadata": {
    "deletable": true,
    "editable": true
   },
   "source": [
    "Svarbu žinoti, jog:\n",
    "1. Slapukai yra nesaugus būdas informacijos saugojimui.\n",
    "2. Slapukai gali būti uždrausti naršyklės.\n",
    "3. Slapukuose galima saugoti iki 4 KB informacijos.\n",
    "4. Visi slapukai yra siunčiami su užklausa, tai padidina perduodamos informacijos kiekius."
   ]
  },
  {
   "cell_type": "markdown",
   "metadata": {
    "deletable": true,
    "editable": true
   },
   "source": [
    "### Sesijos (angl. sessions)\n",
    "\n",
    "Sesijos - tai būdas saugoti informaciją tarp užklausų. Jis gan panašus į slapukus. Prieš pradedant naudoti slapukus, būtina Flask nustatyti slaptą raktą, kuriuo bus šifruojami slapukai. Sesijų objektas session naudojamas gauti arba nustatyti sesijos kintamųjų reikšmes, taip pat jis veikia kaip žodynas, tik turi galimybę sekti modifikacijas.\n",
    "\n",
    "Kai naudojamos sesijos, naršyklėje informacija yra saugoma kaip slapukas ir vadinama sesijos slapuku (angl. session cookie). Kitaip nei paprastas slapukas, sesijos slapukas yra šifruotas. Flask kriptografiškai (angl. Flask Cryptographically) pasirašo kiekvieną sesijos slapuką. Tai reiškia, jog visi gali matyti sesijos slapuko informaciją, tačiau niekas negali jos koreguoti, jei neturi slapto rakto, kuris buvo naudotas pasirašant slapuką. Turint nustatytą sesijos slapuką visos sekančios užklausos į serverį atlieka slapuko patikrinimą ir jį iššifruoja, naudojant nustatytą slaptą raktą. Jei sesijos slapuko iššifruoti nepavyksta, naujas sesijos slapukas yra siunčiamas į kliento naršyklę. \n",
    "\n",
    "Flask saugo visą sesijos informaciją kliento kompiuteryje, tai vadinama kliento pusės sesija (angl. client-side sessions), kai tuo tarpu PHP, saugo tik ID, o pati informacija yra saugoma serveryje, tai vadinama serverio pusės sesija (angl. server-side sessions).\n",
    "\n",
    "Norint Flask naudoti sesijas serverio pusėje, galima naudotis trečių šalių bibliotekomis, tokiomis kaip Flask-Session arba Flask-KVSession."
   ]
  },
  {
   "cell_type": "code",
   "execution_count": null,
   "metadata": {
    "collapsed": false,
    "deletable": true,
    "editable": true
   },
   "outputs": [],
   "source": [
    "from flask import Flask, render_template, request, redirect, url_for, flash, make_response, session\n",
    "\n",
    "app = Flask(__name__)\n",
    "\n",
    "app.secret_key = \"dsfdsafdasf98asd7f89sd7fWX/,?RT\"\n",
    "#arba\n",
    "app.config['SECRET_KEY'] = \"dsfdsafdasf98asd7f89sd7fWX/,?RT\"\n",
    "\n",
    "@app.route(\"/visits-counter/\")\n",
    "def visits():\n",
    "    if \"visits\" in session:\n",
    "        session[\"visits\"] = session.get(\"visits\") + 1  # sesijos reikšmės nuskaitymas ir koregavimas\n",
    "    else:\n",
    "        session[\"visits\"] = 1 # sesijos reikšmės nustatymas\n",
    "    return \"Total visits: {}\".format(session.get(\"visits\"))\n",
    "\n",
    "@app.route(\"/delete-visits/\")\n",
    "def delete_visits():\n",
    "    session.pop(\"visits\", None) # reikšmės pašalinimas\n",
    "    return \"Visits deleted\"\n",
    "\n",
    "if __name__ == \"__main__\":\n",
    "    app.run()"
   ]
  },
  {
   "cell_type": "markdown",
   "metadata": {
    "deletable": true,
    "editable": true
   },
   "source": [
    "Pagal nutylėjimą sesijos slapukai galioja tok kol naršyklė neuždaroma. Norint juo išlaikyti ir po naršyklės uždarymo, reikia session objektui nustatyti parametro permanent reikšmę į True. Tada slapukas galio tiek laiko kiek nurodyta aplikacijos nustatymuose permanent_session_lifetime.\n",
    "\n",
    "```python\n",
    "app.permanent_session_lifetime = datetime.timedelta(days=365)\n",
    "# app.config['PERMANENT_SESSION_LIFETIME'] = datetime.timedelta(days=365) # you can also do this\n",
    "```"
   ]
  },
  {
   "cell_type": "markdown",
   "metadata": {
    "deletable": true,
    "editable": true
   },
   "source": [
    "Sesijos objektas turi parametrą modified, kuris nurodo, jog sesijos pakeitimus reikia nusiųsti klientui. Tai aktualu, kai sesijoje saugomas koks nors redaguojamas duomenų tipas, kaip sąrašas. Pakeitus sąrašo kažkurio elemento reikšmę reikia nustatyti modified = True, jog Flask pakeitimus nusiųstų klientui.\n",
    "```python\n",
    "session[\"cart\"][\"pineapples\"] = \"100\"\n",
    "session.modified = True\n",
    "```"
   ]
  },
  {
   "cell_type": "markdown",
   "metadata": {
    "deletable": true,
    "editable": true
   },
   "source": [
    "### SQLAlchemy naudojimas su Flask\n",
    "\n",
    "Norint naudoti SQLAlchemy su Flask patartina naudotis biblioteka Flask-SQLAlchemy, kuri atlieka SQLAlchemy ir Flask integraciją, bei prideda nemažai papildomo funkcionalumo, apie tai plačiau http://derrickgilland.com/posts/demystifying-flask-sqlalchemy/."
   ]
  },
  {
   "cell_type": "code",
   "execution_count": null,
   "metadata": {
    "collapsed": false,
    "deletable": true,
    "editable": true
   },
   "outputs": [],
   "source": [
    "from flask import Flask, render_template, request\n",
    "from flask_sqlalchemy import SQLAlchemy\n",
    "import os\n",
    "app = Flask(__name__, template_folder=os.path.join(\"files\", \"templates\"))\n",
    "\n",
    "# nurodoma kokią DB naudoti SQLAlchemy\n",
    "app.config[\"SQLALCHEMY_DATABASE_URI\"] = \"sqlite:///:memory:\" # \"sqlite:////tmp/test.db\"\n",
    "app.config['SECRET_KEY'] = \"dsfdsafdasf98asd7f89sd7fWX/,?RT\"\n",
    "\n",
    "# sukuriamas duomenų bazės aobjektas\n",
    "db = SQLAlchemy(app)\n",
    "\n",
    "# sukuriamas modelis\n",
    "class User(db.Model):\n",
    "    id = db.Column(db.Integer, primary_key=True)\n",
    "    username = db.Column(db.String(80), unique=True, nullable=False)\n",
    "    email = db.Column(db.String(120), unique=True, nullable=False)\n",
    "\n",
    "    def __repr__(self):\n",
    "        return \"<User %r>\" % self.username\n",
    "\n",
    "# sukuriame lenteles\n",
    "db.create_all()\n",
    "\n",
    "# sukuriami nauji user objektai\n",
    "admin = User(username=\"admin\", email=\"admin@example.com\")\n",
    "guest = User(username=\"guest\", email=\"guest@example.com\")\n",
    "\n",
    "# nauji objektai išsaugomi duomenų bazėje\n",
    "db.session.add(admin)\n",
    "db.session.add(guest)\n",
    "db.session.commit()\n",
    "\n",
    "@app.route(\"/users/\", methods=[\"post\", \"get\"])\n",
    "@app.route(\"/users/<int:id>\", methods=[\"get\"])\n",
    "def users(id=None):\n",
    "    if request.method == \"POST\":\n",
    "        tmp_user = User(username=request.form.get(\"username\"), email=request.form.get(\"email\"))\n",
    "        db.session.add(tmp_user)\n",
    "        db.session.commit()\n",
    "        \n",
    "        return render_template(\"users.html\", users=User.query.all())\n",
    "    elif request.method == \"GET\":\n",
    "        users = None\n",
    "        if id:\n",
    "            users = [User.query.filter_by(id=id).first()]\n",
    "        else:\n",
    "            users = User.query.all()\n",
    "        \n",
    "        return render_template(\"users.html\", users=users)\n",
    "\n",
    "if __name__ == \"__main__\":\n",
    "    app.run()"
   ]
  },
  {
   "cell_type": "markdown",
   "metadata": {
    "collapsed": false,
    "deletable": true,
    "editable": true
   },
   "source": [
    "### Interneto paslaugų kūrimas (angl. RESTful API)\n",
    "\n"
   ]
  },
  {
   "cell_type": "code",
   "execution_count": null,
   "metadata": {
    "collapsed": true,
    "deletable": true,
    "editable": true
   },
   "outputs": [],
   "source": []
  }
 ],
 "metadata": {
  "kernelspec": {
   "display_name": "Python 3",
   "language": "python",
   "name": "python3"
  },
  "language_info": {
   "codemirror_mode": {
    "name": "ipython",
    "version": 3
   },
   "file_extension": ".py",
   "mimetype": "text/x-python",
   "name": "python",
   "nbconvert_exporter": "python",
   "pygments_lexer": "ipython3",
   "version": "3.6.3"
  }
 },
 "nbformat": 4,
 "nbformat_minor": 2
}

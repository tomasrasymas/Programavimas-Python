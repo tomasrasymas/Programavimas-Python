{
 "cells": [
  {
   "cell_type": "markdown",
   "metadata": {
    "collapsed": true,
    "deletable": true,
    "editable": true
   },
   "source": [
    "# Interneto sistemų, paslaugų kūrimas\n",
    "\n",
    "Flask - \"mažas\" karkasas (angl. microframework) skirtas web sistemų kūrimui. Flask yra pagrįstas Werkzeug (WSGI biblioteka (angl. Web Server Gateway Interface)) ir Jinja 2 (šablonų variklis (angl. template engine)) bibliotekomis. Mažu šis karkasas vadinamas, todėl, jog šis karkasas yra ganėtinai \"plikas\", neturi kitiems karkasas būdingų funcionalumų, pvz. validatoriai, duomenų bazės palaikymas, migracijos ir t.t. Jūs gaunat pagrindą, o reikiamus funkcionalumus, struktūrą ir pan. kuriatės patys (diegiat reikiamus Flask papildymus)."
   ]
  },
  {
   "cell_type": "code",
   "execution_count": null,
   "metadata": {
    "collapsed": false,
    "deletable": true,
    "editable": true
   },
   "outputs": [],
   "source": [
    "# aplikacijos pavyzdys\n",
    "from flask import Flask # importuojame Flask modulį\n",
    "app = Flask(__name__) # sukuriamas Flask objektas\n",
    "\n",
    "@app.route(\"/\") # sukuriama URL taisyklė, kurią pasiekus iškviečiama dekoruojama funkcija\n",
    "def index(): # funkcija, kuri bus vykdoma pasiekus URL, dažnai vadinama view'u\n",
    "    return(\"Hello World\") # atsakas (angl. response) duomenys\n",
    "\n",
    "if __name__ == \"__main__\":\n",
    "    app.run() # app.run(host, port, debug, options)"
   ]
  },
  {
   "cell_type": "markdown",
   "metadata": {
    "collapsed": true,
    "deletable": true,
    "editable": true
   },
   "source": [
    "Norint užregistruoti funkciją, kuri bus iškviečiama pasiekus tam tikrą URL, funkcija dekoruojama dekoratoriumi @app.route(\"/\"). Be šio dekoratoriaus tą patį rezultatą galima pasiekti ir panaudojus funkciją app.add_url_rule(\"/\", \"index\", index)"
   ]
  },
  {
   "cell_type": "code",
   "execution_count": null,
   "metadata": {
    "collapsed": false,
    "deletable": true,
    "editable": true
   },
   "outputs": [],
   "source": [
    "# aplikacijos pavyzdys\n",
    "from flask import Flask # importuojame Flask modulį\n",
    "app = Flask(__name__) # sukuriamas Flask objektas\n",
    "\n",
    "def index():\n",
    "    return(\"Hello World\") # atsakas (angl. response) duomenys\n",
    "\n",
    "app.add_url_rule(\"/\", \"index\", index) # sukuriama URL taisyklė, kurią pasiekus iškviečiama nurodyta funkcija\n",
    "\n",
    "if __name__ == \"__main__\":\n",
    "    app.run() # app.run(host, port, debug, options)"
   ]
  },
  {
   "cell_type": "code",
   "execution_count": null,
   "metadata": {
    "collapsed": false,
    "deletable": true,
    "editable": true
   },
   "outputs": [],
   "source": [
    "# galima sukurti kiek tik reikia URL taisyklių, taip pat vienai funkcijai nurodyti kelias URL taisykles\n",
    "from flask import Flask\n",
    "\n",
    "app = Flask(__name__)\n",
    "\n",
    "@app.route(\"/\")\n",
    "def index():\n",
    "    return(\"\"\"\n",
    "    <!DOCTYPE html>\n",
    "      <html>\n",
    "      <head><title>Hello</title></head>\n",
    "      <body><h1>Hello, from HTML</h1></body>\n",
    "      </html>\n",
    "    \"\"\")\n",
    "\n",
    "@app.route(\"/career/\")\n",
    "def career():\n",
    "    return(\"Career Page\")\n",
    "\n",
    "@app.route(\"/feedback/\")\n",
    "def feedback():\n",
    "    return(\"Feedback Page\")\n",
    "\n",
    "@app.route('/first/first/')\n",
    "@app.route('/second/first/')\n",
    "def numbers():\n",
    "    return(\"Multiple URLS\")\n",
    "\n",
    "if __name__ == \"__main__\":\n",
    "    app.run()"
   ]
  },
  {
   "cell_type": "markdown",
   "metadata": {
    "deletable": true,
    "editable": true
   },
   "source": [
    "### Dinaminiai URL, parametrai\n",
    "\n",
    "Norint sukurti dinaminius URL (funkcijai perduoti parametrus) aprašant URL naudojamas sekantis formatas: \"/user/<id>/\". Toks užrašymas nurodo kad funkcijai bus perduodamas parametras id, kurio tipas yra bet koks. Toks URL užrašymas įvykdys funkciją kai bus pasiekiamas adresas /users/1/, /users/100/, /users/pirmas/, /users/antras/. Kaip matom id laukas galės įgyti tiek int tiek string tipo reikšmes. Dėl to galima naudoti tokį URL formatą <konvertatorius:kintamojo pavadinimas>, kuris nurodo kokio tipo kintamojo tikimės, galimos reikšmės: string, int, float, path, uuid."
   ]
  },
  {
   "cell_type": "code",
   "execution_count": null,
   "metadata": {
    "collapsed": false,
    "deletable": true,
    "editable": true
   },
   "outputs": [],
   "source": [
    "# dinaminis URL\n",
    "from flask import Flask\n",
    "\n",
    "app = Flask(__name__)\n",
    "\n",
    "@app.route(\"/user/<id>/\")\n",
    "def user_profile(id):\n",
    "    return(\"Profile page of user #{}\".format(id))\n",
    "\n",
    "if __name__ == \"__main__\":\n",
    "    app.run()"
   ]
  },
  {
   "cell_type": "code",
   "execution_count": null,
   "metadata": {
    "collapsed": false,
    "deletable": true,
    "editable": true
   },
   "outputs": [],
   "source": [
    "# dinaminis URL su parametro tipo tikrinimu\n",
    "from flask import Flask\n",
    "\n",
    "app = Flask(__name__)\n",
    "\n",
    "@app.route(\"/user/<int:id>/\")\n",
    "def user_profile(id):\n",
    "    return(\"Profile page of user #{}\".format(id))\n",
    "\n",
    "if __name__ == \"__main__\":\n",
    "    app.run()"
   ]
  },
  {
   "cell_type": "markdown",
   "metadata": {
    "deletable": true,
    "editable": true
   },
   "source": [
    "### Debug būsena\n",
    "\n",
    "Pagal nutylėjimą debug būsena yra išjungta. Jei įvyksta klaida programiniame kode, vartotojui grąžinamas 500 atsakas, be papildomų paaiškinimų. Įsijungus debug būseną į ekraną grąžinama pilna informacija apie klaidą. Taip pat jei įjungta ši būsena, po kiekvieno failo pakoregavimo ir išsaugojimo serveris yra perleidžiamas iš naujo."
   ]
  },
  {
   "cell_type": "code",
   "execution_count": null,
   "metadata": {
    "collapsed": false,
    "deletable": true,
    "editable": true
   },
   "outputs": [],
   "source": [
    "from flask import Flask\n",
    "app = Flask(__name__)\n",
    "\n",
    "@app.route(\"/\")\n",
    "def index():\n",
    "    print(i)\n",
    "    return(\"Index\")\n",
    "\n",
    "if __name__ == \"__main__\":\n",
    "    app.run(debug=True) # True/False"
   ]
  },
  {
   "cell_type": "markdown",
   "metadata": {
    "deletable": true,
    "editable": true
   },
   "source": [
    "### URL ir funkcijų sąrašas\n",
    "\n",
    "app objekta turi metodą app.url_map, kuris grąžina sąrašą URL->funkcija susiejimų."
   ]
  },
  {
   "cell_type": "code",
   "execution_count": null,
   "metadata": {
    "collapsed": false,
    "deletable": true,
    "editable": true
   },
   "outputs": [],
   "source": [
    "from flask import Flask\n",
    "\n",
    "app = Flask(__name__)\n",
    "\n",
    "@app.route(\"/\")\n",
    "def index():\n",
    "    return(\"Home Page\")\n",
    "\n",
    "@app.route(\"/career/\")\n",
    "def career():\n",
    "    return(\"Career Page\")\n",
    "\n",
    "@app.route(\"/feedback/\")\n",
    "def feedback():\n",
    "    return(\"Feedback Page\")\n",
    "\n",
    "@app.route('/first/first/')\n",
    "@app.route('/second/first/')\n",
    "def numbers():\n",
    "    return(\"Multiple URLS\")\n",
    "\n",
    "print(app.url_map)"
   ]
  },
  {
   "cell_type": "markdown",
   "metadata": {
    "deletable": true,
    "editable": true
   },
   "source": [
    "### Kontekstas (angl. contexts) Flask karkase\n",
    "\n",
    "Kaip pastebėjote, visose view funkcijose nėra paduodamas pačios užklausos (angl. request) parametras. Šis parametras yra pasiekiamas visose funkcijose. Gali susidaryti įspūdis, jog jis yra globalus, tačiau taip nėra, nes daugiagijėse (angl. multithread) programose kiltų problemų (vienu metu paleistos kelios applikacijos, pvz. naudojant DispatcherMiddleware), kokia užklausa priklauso kokiai gijai (angl. thread), todėl Flask naudoja kintamuosius, kurie yra lokalūs kiekvienai gijai (angl. thread locals), turi savo kontekstą.\n",
    "\n",
    "Flask turi kelis skirtingus kontekstus: aplikacijos ir užklausos. Aplikacijos kontekstas skirtas saugoti bendrus duomenis, tokius kaip duomenų bazės prisijungimus, kitus nustatymus, o užklausos kontekste saugomi duomenys skirti kiekvienai užklausai.\n",
    "\n",
    "http://flask.pocoo.org/docs/0.12/appcontext/\n",
    "http://flask.pocoo.org/docs/0.12/reqcontext/\n",
    "\n",
    "Flask karkase aplikacijos ir užklausos kontekstai yra aktyvuojami/sukuriami kai gaunama nauja užklausa, ir deaktyvuojami, kai užklausa yra apdorota."
   ]
  },
  {
   "cell_type": "code",
   "execution_count": null,
   "metadata": {
    "collapsed": false,
    "deletable": true,
    "editable": true
   },
   "outputs": [],
   "source": [
    "# užklausos konteksto pavyzdys\n",
    "from flask import Flask, request\n",
    "\n",
    "app = Flask(__name__)\n",
    "\n",
    "@app.route(\"/\")\n",
    "def requestdata():\n",
    "    return(\"Hello! Your IP is {} and you are using {}: \".format(request.remote_addr, request.user_agent))\n",
    "\n",
    "if __name__ == \"__main__\":\n",
    "    app.run()"
   ]
  },
  {
   "cell_type": "markdown",
   "metadata": {
    "deletable": true,
    "editable": true
   },
   "source": [
    "### Užklausos atsakymas (angl. response)\n",
    "\n",
    "Flask karkase yra trys atsakymo tipai:\n",
    "1. Paprastas tekstas arba naudojant šablonų variklį.\n",
    "2. Response objektas.\n",
    "3. Sąrašas iš (atsakyams, būsena, antraštės) arba (atsakymas, antraštės/būsena) (angl. (response, status, headers) or (response, headers/status)).\n",
    "\n",
    "Kai grąžinamas tekstas Flask automatiškai tą tekstą paverčia į Response objektą (naudojant funkciją make_response()) su HTTP būsena 200 ir antrašte content-type = text/html. Norint pakeisti grąžinamus parametrus, galima išsikviesti make_response() funkciją ir atlikti jo grąžinto objekto korekcijas."
   ]
  },
  {
   "cell_type": "code",
   "execution_count": null,
   "metadata": {
    "collapsed": true,
    "deletable": true,
    "editable": true
   },
   "outputs": [],
   "source": [
    "# make_response funkcijos pavyzdys\n",
    "from flask import Flask, make_response\n",
    "\n",
    "@app.route(\"/books/<genre>\")\n",
    "def books(genre):\n",
    "    res = make_response(\"All Books in {} category\".format(genre))\n",
    "    res.headers[\"Content-Type\"] = \"text/plain\"\n",
    "    res.headers[\"Server\"] = \"VU\"\n",
    "    return(res)"
   ]
  },
  {
   "cell_type": "code",
   "execution_count": null,
   "metadata": {
    "collapsed": true,
    "deletable": true,
    "editable": true
   },
   "outputs": [],
   "source": [
    "# grąžinamas atsakymas su būsena 400\n",
    "@app.route(\"/\")\n",
    "def http_404_handler():\n",
    "    return make_response(\"<h2>404 Error</h2>\", 400)"
   ]
  },
  {
   "cell_type": "code",
   "execution_count": null,
   "metadata": {
    "collapsed": true,
    "deletable": true,
    "editable": true
   },
   "outputs": [],
   "source": [
    "# sausainėlių (angl. cookies) nustatymas\n",
    "@app.route(\"/set-cookie\")\n",
    "def set_cookie():\n",
    "    res = make_response(\"Cookie setter\")    \n",
    "    res.set_cookie(\"favorite-color\", \"skyblue\")\n",
    "    res.set_cookie(\"favorite-font\", \"sans-serif\")\n",
    "    # res.set_cookie(\"favorite-color\", \"skyblue\", 60*60*24*15) # cookies su galiojimo laiku\n",
    "    # res.set_cookie(\"favorite-font\", \"sans-serif\", 60*60*24*15) # cookies su galiojimo laiku\n",
    "    return res"
   ]
  },
  {
   "cell_type": "code",
   "execution_count": null,
   "metadata": {
    "collapsed": true,
    "deletable": true,
    "editable": true
   },
   "outputs": [],
   "source": [
    "# atsakymas kaip sąrašas\n",
    "@app.route(\"/\")\n",
    "def http_500_handler():\n",
    "    return (\"<h2>500 Error</h2>\", 500)\n",
    "    # return(\"## Heading\", 200, {'Content-Type': 'text/markdown'}) # grąžinamas atsakymas su antraštėmis"
   ]
  },
  {
   "cell_type": "markdown",
   "metadata": {
    "deletable": true,
    "editable": true
   },
   "source": [
    "### Užklausos peradresavimas"
   ]
  },
  {
   "cell_type": "code",
   "execution_count": null,
   "metadata": {
    "collapsed": true,
    "deletable": true,
    "editable": true
   },
   "outputs": [],
   "source": [
    "@app.route(\"/transfer\")\n",
    "def transfer():\n",
    "    return \"\", 302, {\"location\": \"http://localhost:5000/login\"}"
   ]
  },
  {
   "cell_type": "code",
   "execution_count": null,
   "metadata": {
    "collapsed": true,
    "deletable": true,
    "editable": true
   },
   "outputs": [],
   "source": [
    "from flask import Flask, redirect\n",
    "\n",
    "@app.route(\"/transfer\")\n",
    "def transfer():\n",
    "    return redirect(\"http://localhost:5000/login\")\n",
    "    # return redirect(\"http://localhost:5000/login\", code=301) # peradresavimas su būsena"
   ]
  },
  {
   "cell_type": "markdown",
   "metadata": {
    "deletable": true,
    "editable": true
   },
   "source": [
    "### Spąstų vietos (angl. hook points)\n",
    "\n",
    "Dažnai web aplikacijose reikia atlikti tam tikrus veiksmus prieš kiekvieną užklausą, pvz. kliento IP adreso užloginimas, arba vartotojo autentikavimas prieš parodant jiems turinį ir pan. Flask turi kelis dekoratorius, kurie gali pagelbėti atlikti šiuos veiksmus:\n",
    "\n",
    "* before_first_request - vykdys funkciją prieš pirmą užklausą.\n",
    "* before_request - vykdys funkciją prieš kiekvieną užklausą.\n",
    "* after_request - vykdys funkciją po užklausos vykdymo. Nėra vykdoma įvykus nesuvaldytai klaidai (angl. unhandled exception). Funkcija privalo priimti atsakymo objektą (angl. response objext), o grąžinti tą patį arba naują atsakymo objektą.\n",
    "* teardown_request - panašu į after_request dekoratorių, tik šį funkciją bus vykdoma visada nepaisant ar buvo klaida ar ne."
   ]
  },
  {
   "cell_type": "code",
   "execution_count": null,
   "metadata": {
    "collapsed": false,
    "deletable": true,
    "editable": true
   },
   "outputs": [],
   "source": [
    "from flask import Flask, request\n",
    "\n",
    "app = Flask(__name__)\n",
    "\n",
    "@app.before_first_request\n",
    "def before_first_request():\n",
    "    print(\"before_first_request() called\")\n",
    "\n",
    "@app.before_request\n",
    "def before_request():\n",
    "    print(\"before_request() called\")\n",
    "\n",
    "@app.after_request\n",
    "def after_request(response):\n",
    "    print(\"after_request() called\")\n",
    "    return(response)\n",
    "\n",
    "@app.route(\"/\")\n",
    "def index():\n",
    "    print(\"index() called\")\n",
    "    return(\"<p>Testings Request Hooks</p>\")\n",
    "\n",
    "@app.teardown_request\n",
    "def teardown_request(response):\n",
    "    print(\"teardown_request() called\")\n",
    "    return(response)\n",
    "\n",
    "if __name__ == \"__main__\":\n",
    "    app.run(debug=True)"
   ]
  },
  {
   "cell_type": "markdown",
   "metadata": {
    "collapsed": true,
    "deletable": true,
    "editable": true
   },
   "source": [
    "### Užklausų atšaukimas\n",
    "\n",
    "Užklausų atšaukimui naudojama funkcija abort() su grąžinamu atsakymo kodu. Tokiu atveju grąžinamas tas pats atsakymas skirtingų klaidų atveju. Norint sukurti atskirus klaidų atsakymus naudojamas errorhandler dekoratorius."
   ]
  },
  {
   "cell_type": "code",
   "execution_count": null,
   "metadata": {
    "collapsed": true,
    "deletable": true,
    "editable": true
   },
   "outputs": [],
   "source": [
    "from flask import Flask, abort\n",
    "\n",
    "@app.route(\"/\")\n",
    "def index():\n",
    "    abort(404)\n",
    "    # tolimesnis kodas nebus vykdomas\n",
    "\n",
    "if __name__ == \"__main__\":\n",
    "    app.run(debug=True)"
   ]
  },
  {
   "cell_type": "code",
   "execution_count": null,
   "metadata": {
    "collapsed": true
   },
   "outputs": [],
   "source": [
    "@app.errorhandler(404)\n",
    "def http_404_handler(error):\n",
    "    return(\"<p>HTTP 404 Error Encountered</p>\", 404)\n",
    "\n",
    "@app.errorhandler(500)\n",
    "def http_500_handler(error):\n",
    "    return(\"<p>HTTP 500 Error Encountered</p>\", 500)"
   ]
  }
 ],
 "metadata": {
  "kernelspec": {
   "display_name": "Python 3",
   "language": "python",
   "name": "python3"
  },
  "language_info": {
   "codemirror_mode": {
    "name": "ipython",
    "version": 3
   },
   "file_extension": ".py",
   "mimetype": "text/x-python",
   "name": "python",
   "nbconvert_exporter": "python",
   "pygments_lexer": "ipython3",
   "version": "3.6.3"
  }
 },
 "nbformat": 4,
 "nbformat_minor": 2
}

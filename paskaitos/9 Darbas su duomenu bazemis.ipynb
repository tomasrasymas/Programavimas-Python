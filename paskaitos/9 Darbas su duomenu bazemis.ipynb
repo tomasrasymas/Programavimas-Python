{
 "cells": [
  {
   "cell_type": "markdown",
   "metadata": {},
   "source": [
    "# SQLAlchemy\n",
    "\n",
    "SQLAlchemy - biblioteka skirta palengvinti darbą su duomenų bazėmis, komunikaciją Python <-> duomenų bazė. Ši biblioteka naudojama kaip ORM (angl. Object Relational Mapper) įrankis, kuris \"išverčia\" Python aprašytas klases į duomenų bazės lenteles ir automatiškai paverčia funkcijų kvietimus į SQL užklausas. SQLAlchemy biblioteka leidžia programuotojui dirbti neprisirišant prie konkrečios duomenų bazės, nes naudojama viena standartinė sąsaja darbui su daug skirtingų duomenų bazių. \n",
    "\n",
    "Kuriama programa <-> SQLAlchemy <-> DBAPI (angl. DataBase API) konkrečios duomenų bazės (MySQL, SQLite, PostgreSQL ir t.t.)\n",
    "\n",
    "Prieš pradedant dirbti su SQLAlchemy ir duomenų bazėmis reikia sukurti varikliuką (angl. engine), kuris atliks komunikaciją su DBAPI funkcijomis. "
   ]
  },
  {
   "cell_type": "code",
   "execution_count": null,
   "metadata": {
    "collapsed": false
   },
   "outputs": [],
   "source": [
    "# sukuriamas variklis darbui su SQLite duomenų baze\n",
    "from sqlalchemy import create_engine\n",
    "engine = create_engine(\"sqlite:///:memory:\", echo=True) # echo=True leis matyti visas SQL komandas"
   ]
  },
  {
   "cell_type": "markdown",
   "metadata": {},
   "source": [
    "Norint nurodyti duomenų bazės lenteles ir jas atitinkančias Python klases naudojama deklaratyvi sistema (angl. Declarative system). Ši sistema leidžia susieti lenteles su klasėmis. Tam naudojama bazinė (angl. Base) klasė, kurios pagalba valdomas klasių ir lentelių sąsaja."
   ]
  },
  {
   "cell_type": "code",
   "execution_count": null,
   "metadata": {
    "collapsed": true
   },
   "outputs": [],
   "source": [
    "# sukuriama deklaratyvi bazinė klasė\n",
    "from sqlalchemy.ext.declarative import declarative_base\n",
    "Base = declarative_base()"
   ]
  },
  {
   "cell_type": "markdown",
   "metadata": {},
   "source": [
    "SQLAlchemy biblioteka palaiko visus populiariausius duomenų tipus. Minimalūs reikalavimai kuriant modelius: \\_\\_tablename\\_\\_ ir bent vienas stulpelis."
   ]
  },
  {
   "cell_type": "code",
   "execution_count": null,
   "metadata": {
    "collapsed": false
   },
   "outputs": [],
   "source": [
    "# deklaratyvios klasės sukūrimas\n",
    "from sqlalchemy import Column, Integer, String\n",
    "\n",
    "class User(Base):\n",
    "    __tablename__ = \"users\"\n",
    "    \n",
    "    id = Column(Integer, primary_key=True)\n",
    "    name = Column(String)\n",
    "    fullname = Column(String)\n",
    "    password = Column(String)\n",
    "    \n",
    "    def __repr__(self):\n",
    "        return \"<User(name='%s', fullname='%s', password='%s')>\" % (self.name, self.fullname, self.password)"
   ]
  },
  {
   "cell_type": "markdown",
   "metadata": {},
   "source": [
    "Sukūrus User klasę per deklaratyvią sistemą, aprašėm informaciją apie lentelę, dar vadinamą metaduomenimis (angl. metadata). Sukurtas lentelės objektas yra didesnės kolekcijos MetaData narys. MetaData yra registras visų lentelių objektų ir jis atlieka jų sukūrimą duomenų bazėje."
   ]
  },
  {
   "cell_type": "code",
   "execution_count": null,
   "metadata": {
    "collapsed": false
   },
   "outputs": [],
   "source": [
    "User.__table__"
   ]
  },
  {
   "cell_type": "code",
   "execution_count": null,
   "metadata": {
    "collapsed": false
   },
   "outputs": [],
   "source": [
    "# sukuriama lentelė duomenų bazėje\n",
    "Base.metadata.create_all(engine)"
   ]
  },
  {
   "cell_type": "markdown",
   "metadata": {},
   "source": [
    "Dabar Users klasė yra susieta su duomenų bazės lentele."
   ]
  },
  {
   "cell_type": "code",
   "execution_count": null,
   "metadata": {
    "collapsed": false
   },
   "outputs": [],
   "source": [
    "# sukuriamas klasės Users objektas\n",
    "tom_user = User(name=\"tom\", fullname=\"Tomas Jonaitis\", password=\"tomo_password\")"
   ]
  },
  {
   "cell_type": "code",
   "execution_count": null,
   "metadata": {
    "collapsed": false
   },
   "outputs": [],
   "source": [
    "print(tom_user.name, tom_user.fullname, tom_user.password)"
   ]
  },
  {
   "cell_type": "markdown",
   "metadata": {},
   "source": [
    "Sukūrus norimas lenteles galima pradėti \"šnekėtis\" (kurti, redaguoti, trinti, ieškoti įrašų) su duomenų baze. Tai atliekama per sisijas (angl. session)."
   ]
  },
  {
   "cell_type": "code",
   "execution_count": null,
   "metadata": {
    "collapsed": true
   },
   "outputs": [],
   "source": [
    "from sqlalchemy.orm import sessionmaker\n",
    "Session = sessionmaker(bind=engine)\n",
    "session = Session()"
   ]
  },
  {
   "cell_type": "code",
   "execution_count": null,
   "metadata": {
    "collapsed": true
   },
   "outputs": [],
   "source": [
    "# duomenų perdavimas į sesiją\n",
    "session.add(tom_user)"
   ]
  },
  {
   "cell_type": "markdown",
   "metadata": {},
   "source": [
    "Kol kas duomenys nėra įrašyti į duomenų bazę, jie yra laukimo (angl. pending) būsenoje. Duomenys į lentelę bus surašyti tik iškvietus duomenų surašymo (angl. commit) komandą. Jei šiuo metu būtų iškviesta duomenų paieškos funkcija, tai laukimo būsenoje esantys duomenys būtų automatiškai surašyti į duomenų bazę. \n",
    "\n",
    "Biblioteka užtikrina, jog visos operacijos atliekamos sesijoje operuos tais pačiais duomenimis."
   ]
  },
  {
   "cell_type": "code",
   "execution_count": null,
   "metadata": {
    "collapsed": false
   },
   "outputs": [],
   "source": [
    "# atliekama duomenų paieška duomenų bazėje pagal name lauką\n",
    "our_user = session.query(User).filter_by(name=\"tom\").first()\n",
    "\n",
    "print(our_user)\n",
    "print(tom_user is our_user)"
   ]
  },
  {
   "cell_type": "code",
   "execution_count": null,
   "metadata": {
    "collapsed": true
   },
   "outputs": [],
   "source": [
    "# į sesiją surašomi nauji User objektai add_all([])\n",
    "session.add_all([\n",
    "    User(name=\"jonas\", fullname=\"Jonas Jonaitis\", password=\"foobar\"),\n",
    "    User(name=\"petras\", fullname=\"Petras Petraitis\", password=\"xxg527\"),\n",
    "    User(name=\"zigmas\", fullname=\"Zigmas Zigmaitis\", password=\"blah\")])"
   ]
  },
  {
   "cell_type": "code",
   "execution_count": null,
   "metadata": {
    "collapsed": true
   },
   "outputs": [],
   "source": [
    "# pakeičiamas vartotojo slaptažodis\n",
    "tom_user.password = \"f8s7ccs\""
   ]
  },
  {
   "cell_type": "markdown",
   "metadata": {},
   "source": [
    "Surašytus duomenis į sesiją galima pamatyti:"
   ]
  },
  {
   "cell_type": "code",
   "execution_count": null,
   "metadata": {
    "collapsed": false
   },
   "outputs": [],
   "source": [
    "print(session.dirty)\n",
    "print(session.new)\n",
    "print(session.deleted)"
   ]
  },
  {
   "cell_type": "code",
   "execution_count": null,
   "metadata": {
    "collapsed": false
   },
   "outputs": [],
   "source": [
    "# inicijuojamas duomenų surašymas į duomenų bazė\n",
    "session.commit()"
   ]
  },
  {
   "cell_type": "code",
   "execution_count": null,
   "metadata": {
    "collapsed": false
   },
   "outputs": [],
   "source": [
    "# duomenys surašyti duomenų bazėje, galima pamatyti sugeneruotas laukų reikšmes\n",
    "print(tom_user.id)"
   ]
  },
  {
   "cell_type": "markdown",
   "metadata": {},
   "source": [
    "# Duomenų atstatymas (angl. rolling back)\n",
    "\n",
    "Kadangi sesijos dirba su tranzakcijomis, yra galimybė atstatyti neįrašytus (angl. commit) pakeitimus."
   ]
  },
  {
   "cell_type": "code",
   "execution_count": null,
   "metadata": {
    "collapsed": true
   },
   "outputs": [],
   "source": [
    "tom_user.name = \"vidmantas\"\n",
    "\n",
    "fake_user = User(name=\"netikras\", fullname=\"Netikras vardas\", password=\"Netikras slaptažodis\")\n",
    "session.add(fake_user)"
   ]
  },
  {
   "cell_type": "code",
   "execution_count": null,
   "metadata": {
    "collapsed": false
   },
   "outputs": [],
   "source": [
    "# duomenys yra surašyti į tranzakciją\n",
    "print(session.query(User).filter(User.name.in_([\"vidmantas\", \"netikras\"])).all())"
   ]
  },
  {
   "cell_type": "code",
   "execution_count": null,
   "metadata": {
    "collapsed": false
   },
   "outputs": [],
   "source": [
    "# duomenų atstatymas\n",
    "session.rollback()"
   ]
  },
  {
   "cell_type": "code",
   "execution_count": null,
   "metadata": {
    "collapsed": false
   },
   "outputs": [],
   "source": [
    "print(session.query(User).filter(User.name.in_([\"vidmantas\", \"netikras\", \"tom\"])).all())\n",
    "print(fake_user in session)"
   ]
  },
  {
   "cell_type": "markdown",
   "metadata": {},
   "source": [
    "# Užklausų formavimas\n",
    "\n",
    "Užklausos (angl. query) objektas sukuriamas naudojant Session metodą query()."
   ]
  },
  {
   "cell_type": "code",
   "execution_count": null,
   "metadata": {
    "collapsed": false
   },
   "outputs": [],
   "source": [
    "for instance in session.query(User).order_by(User.id):\n",
    "    print(instance.name, instance.fullname)"
   ]
  },
  {
   "cell_type": "code",
   "execution_count": null,
   "metadata": {
    "collapsed": false
   },
   "outputs": [],
   "source": [
    "# konkrečių laukų užklausa atsakymą grąžina kaip sąrašą\n",
    "for name, fullname in session.query(User.name, User.fullname):\n",
    "    print(name, fullname)\n",
    "\n",
    "for row in session.query(User.name, User.fullname):\n",
    "    print(row)\n",
    "    \n",
    "for row in session.query(User.name, User.fullname):\n",
    "    print(row.name, row.fullname)\n",
    "    \n",
    "for row in session.query(User.name.label(\"name_label\")).all():\n",
    "    print(row.name_label)"
   ]
  },
  {
   "cell_type": "code",
   "execution_count": null,
   "metadata": {
    "collapsed": false
   },
   "outputs": [],
   "source": [
    "# duomenų ribojimas LIMIT ir OFFSET\n",
    "for u in session.query(User).order_by(User.id)[1:3]:\n",
    "    print(u)"
   ]
  },
  {
   "cell_type": "code",
   "execution_count": null,
   "metadata": {
    "collapsed": false
   },
   "outputs": [],
   "source": [
    "# filtravimas su filter_by(). filter_by() skirtas paprastų užklausų formavimui atrenkant juos \n",
    "# pagal stulpelių pavadinimus, naudojant kwargs\n",
    "for name in session.query(User.name).filter_by(name=\"tom\"):\n",
    "    print(name)\n",
    "    \n",
    "for name in session.query(User.name).filter_by(name=\"tom\").filter_by(fullname=\"Tomas Jonaitis\"):\n",
    "    print(name)"
   ]
  },
  {
   "cell_type": "code",
   "execution_count": null,
   "metadata": {
    "collapsed": false
   },
   "outputs": [],
   "source": [
    "# filtravimas su filter(). filter() leidžia formuoti sudėtingesnes užklausas nenaudojant kwargs\n",
    "for name in session.query(User.name).filter(User.fullname==\"Tomas Jonaitis\"):\n",
    "    print(name)\n",
    "    \n",
    "for name in session.query(User.name).filter(User.fullname==\"Tomas Jonaitis\").filter(User.name==\"tom\"):\n",
    "    print(name)"
   ]
  },
  {
   "cell_type": "markdown",
   "metadata": {},
   "source": [
    "Dažniausiai naudojamos filtravimo operacijos:\n",
    "1. Lygu (angl. equal)\n",
    "```python\n",
    "query.filter(User.name == \"tom\")\n",
    "```\n",
    "2. Nelygu (angl. not equal)\n",
    "```python\n",
    "query.filter(User.name != \"tom\")\n",
    "```\n",
    "3. Panašu (angl. like)\n",
    "```python\n",
    "query.filter(User.name.like(\"%tom%\"))\n",
    "```\n",
    "4. Panašu skiriant didžiąsias ir mažąsias raides (angl. ilike)\n",
    "```python\n",
    "query.filter(User.name.ilike(\"%tom%\"))\n",
    "```\n",
    "5. Yra, egzistuoja (angl. in)\n",
    "```python\n",
    "query.filter(User.name.in_([\"tom\", \"ed\"]))\n",
    "# galima naudoti ir query() objektą\n",
    "query.filter(User.name.in_(session.query(User.name).filter(User.name.like(\"%tom%\"))))\n",
    "```\n",
    "6. Nėra, neegzistuoja (angl. not in)\n",
    "```python\n",
    "query.filter(~User.name.in_([\"ed\", \"tom\"]))\n",
    "```\n",
    "7. Yra tuščia (angl. is null)\n",
    "```python\n",
    "query.filter(User.name == None)\n",
    "query.filter(User.name.is_(None))\n",
    "```\n",
    "8. Nėra tuščia (angl. is not null)\n",
    "```python\n",
    "query.filter(User.name != None)\n",
    "query.filter(User.name.isnot(None))\n",
    "```\n",
    "9. Ir operatorius (angl. and)\n",
    "```python\n",
    "# naudojant and_()\n",
    "from sqlalchemy import and_\n",
    "query.filter(and_(User.name == \"tom\", User.fullname == \"Tomas Jonaitis\"))\n",
    "# kelios užklausos viename filter()\n",
    "query.filter(User.name == \"tom\", User.fullname == \"Tomas Jonaitis\")\n",
    "# keli filter() arba filter_by() metodai\n",
    "query.filter(User.name == \"tom\").filter(User.fullname == \"Tomas Jonaitis\")\n",
    "```\n",
    "10. Arba operatorius (angl. or)\n",
    "```python\n",
    "from sqlalchemy import or_\n",
    "query.filter(or_(User.name == \"tom\", User.name == \"mot\"))\n",
    "```\n",
    "11. Atitinka (angl. match). Ši komanda priklausomai nuo naudojamos duomenų bazės yra verčiama arba į MATCH arba į CONTAINS funkcijas. Taip pat šios komandos veikimas priklausis nuo naudojamos duomenų bazės bibliotekos.\n",
    "```python\n",
    "query.filter(User.name.match(\"tom\"))\n",
    "```"
   ]
  },
  {
   "cell_type": "markdown",
   "metadata": {},
   "source": [
    "# Sąrašų grąžinimas\n",
    "\n",
    "Query() objektas turi daug metodų, kurie iškarto atlieka SQL užklausą ir grąžina rezultatus."
   ]
  },
  {
   "cell_type": "code",
   "execution_count": null,
   "metadata": {
    "collapsed": false
   },
   "outputs": [],
   "source": [
    "query = session.query(User).filter(User.name.like(\"%m%\")).order_by(User.id)"
   ]
  },
  {
   "cell_type": "code",
   "execution_count": null,
   "metadata": {
    "collapsed": false
   },
   "outputs": [],
   "source": [
    "# all() grąžina visus objektus kaip sąrašą\n",
    "print(query.all())"
   ]
  },
  {
   "cell_type": "code",
   "execution_count": null,
   "metadata": {
    "collapsed": false
   },
   "outputs": [],
   "source": [
    "# first() grąžina pirmą objektą iš duomenų bazės\n",
    "print(query.first())"
   ]
  },
  {
   "cell_type": "code",
   "execution_count": null,
   "metadata": {
    "collapsed": false
   },
   "outputs": [],
   "source": [
    "# one() pilnai parsiunčia visas užklausos eilutes, jei rezultatų nėra 1 \n",
    "# iššaukiama klaida MultipleResultsFound arba NoResultFound\n",
    "print(query.one())"
   ]
  },
  {
   "cell_type": "code",
   "execution_count": null,
   "metadata": {
    "collapsed": false
   },
   "outputs": [],
   "source": [
    "# kaip ir one(), tik jei nerasta jokių įrašų grina None ir nekviečia klaidos\n",
    "print(query.one_or_none())"
   ]
  },
  {
   "cell_type": "code",
   "execution_count": null,
   "metadata": {
    "collapsed": false
   },
   "outputs": [],
   "source": [
    "# scalar() iškviečia one() metodą ir jei neįvyksta klaida grąžina pirmos eilutės pirmą stulpelį\n",
    "print(query.scalar())"
   ]
  },
  {
   "cell_type": "markdown",
   "metadata": {},
   "source": [
    "# Tekstinių užklausų formavimas\n",
    "\n",
    "Tekstinių komandų naudojimas leidžia suformuoti lankstesnes užklausas."
   ]
  },
  {
   "cell_type": "code",
   "execution_count": null,
   "metadata": {
    "collapsed": false
   },
   "outputs": [],
   "source": [
    "# teksto panaudojimas užklausų formavime\n",
    "from sqlalchemy import text\n",
    "\n",
    "for user in session.query(User).filter(text(\"id<224\")).order_by(text(\"id\")).all():\n",
    "    print(user.name)"
   ]
  },
  {
   "cell_type": "code",
   "execution_count": null,
   "metadata": {
    "collapsed": true
   },
   "outputs": [],
   "source": [
    "# parametrų nurodymas su params komanda\n",
    "session.query(User).filter(text(\"id<:value and name=:name\")).params(value=224, name=\"tom\").order_by(User.id).one()"
   ]
  },
  {
   "cell_type": "code",
   "execution_count": null,
   "metadata": {
    "collapsed": false
   },
   "outputs": [],
   "source": [
    "# naudojant text() ir from_statement() galima suformuoti pilną tekstinę SQL užklausą\n",
    "session.query(User).from_statement(text(\"SELECT * FROM users where name=:name\")).params(name=\"tom\").all()"
   ]
  },
  {
   "cell_type": "code",
   "execution_count": null,
   "metadata": {
    "collapsed": false
   },
   "outputs": [],
   "source": [
    "# kai užklausoje yra dubliuoti pavadinimai yra sudėtinga analizuoti ir formuoti užklausas tam tikslui galima susieti \n",
    "# tekste aprašytus stulpelius su objekto laukais\n",
    "stmt = text(\"SELECT name, id, fullname, password FROM users where name=:name\")\n",
    "stmt = stmt.columns(User.name, User.id, User.fullname, User.password)\n",
    "session.query(User).from_statement(stmt).params(name=\"tom\").all()"
   ]
  },
  {
   "cell_type": "code",
   "execution_count": null,
   "metadata": {
    "collapsed": false
   },
   "outputs": [],
   "source": [
    "# užklausos laukus galima nurodyti ir query() užklausoje\n",
    "stmt = text(\"SELECT name, id FROM users where name=:name\")\n",
    "stmt = stmt.columns(User.name, User.id)\n",
    "session.query(User.id, User.name).from_statement(stmt).params(name=\"tom\").all()"
   ]
  },
  {
   "cell_type": "markdown",
   "metadata": {},
   "source": [
    "# Įrašų skaičiavimas"
   ]
  },
  {
   "cell_type": "code",
   "execution_count": null,
   "metadata": {
    "collapsed": false
   },
   "outputs": [],
   "source": [
    "# skaičiuojant tokiu būdu visa duomenų užklausa įdedama į subužklausą SELECT count(*) AS count_1 FROM (SELECT .....)\n",
    "session.query(User).filter(User.name.like(\"%m%\")).count()"
   ]
  },
  {
   "cell_type": "code",
   "execution_count": null,
   "metadata": {
    "collapsed": false
   },
   "outputs": [],
   "source": [
    "# skaičiuojant naudojant func.count() suformuojama užklausa kur skaičiuojamas tik konkretus laukas\n",
    "# SELECT count(users.name) AS count_1, users.name AS users_name\n",
    "# FROM users GROUP BY users.name\n",
    "from sqlalchemy import func\n",
    "session.query(func.count(User.name), User.name).group_by(User.name).all()"
   ]
  },
  {
   "cell_type": "code",
   "execution_count": null,
   "metadata": {
    "collapsed": false
   },
   "outputs": [],
   "source": [
    "# paprastos skaičiuojamos užklausos \n",
    "# SELECT count(*) FROM table\n",
    "session.query(func.count(\"*\")).select_from(User).scalar()"
   ]
  },
  {
   "cell_type": "code",
   "execution_count": null,
   "metadata": {
    "collapsed": false
   },
   "outputs": [],
   "source": [
    "session.query(func.count(User.id)).scalar()"
   ]
  },
  {
   "cell_type": "markdown",
   "metadata": {},
   "source": [
    "# Ryšių tarp lentelių kūrimas\n",
    "\n",
    "Sukuriamas naujas modelis, kuris bus susietas su User modeliu vienas su daug ryšiu, t.y. vienas User įrašas turės daug adresų. ForeignKey - nurodo, jog reikšmės stulpelyje user_id yra susietos su kito modelio (lentelės) stulpelio reikšmėmis. Relationship - nurodo ORM, jog Address klasė turi būti sisieta su User klase ir atvirkščiai."
   ]
  },
  {
   "cell_type": "code",
   "execution_count": null,
   "metadata": {
    "collapsed": true
   },
   "outputs": [],
   "source": [
    "from sqlalchemy import ForeignKey\n",
    "from sqlalchemy.orm import relationship\n",
    "\n",
    "class Address(Base):\n",
    "    __tablename__ = \"addresses\"\n",
    "    id = Column(Integer, primary_key=True)\n",
    "    email_address = Column(String, nullable=False)\n",
    "    user_id = Column(Integer, ForeignKey(\"users.id\"))\n",
    "    \n",
    "    user = relationship(\"User\", back_populates=\"addresses\")\n",
    "\n",
    "    def __repr__(self):\n",
    "        return \"<Address(email_address='%s')>\" % self.email_address"
   ]
  },
  {
   "cell_type": "code",
   "execution_count": null,
   "metadata": {
    "collapsed": true
   },
   "outputs": [],
   "source": [
    "User.addresses = relationship(\"Address\", order_by=Address.id, back_populates=\"user\")"
   ]
  },
  {
   "cell_type": "code",
   "execution_count": null,
   "metadata": {
    "collapsed": false
   },
   "outputs": [],
   "source": [
    "# pakeitmai surašomi į duomenų bazę\n",
    "Base.metadata.create_all(engine)"
   ]
  },
  {
   "cell_type": "code",
   "execution_count": null,
   "metadata": {
    "collapsed": false
   },
   "outputs": [],
   "source": [
    "# sukuriamas naujas User įrašas, jo adresus galima pasiekti per User.addresses\n",
    "sim = User(name=\"simas\", fullname=\"Simas Simavičius\", password=\"gjffdd\")\n",
    "print(sim.addresses)"
   ]
  },
  {
   "cell_type": "code",
   "execution_count": null,
   "metadata": {
    "collapsed": false
   },
   "outputs": [],
   "source": [
    "# naujų adresų sukūrimas galimas per User objektą\n",
    "sim.addresses = [\n",
    "    Address(email_address=\"sim@google.com\"),\n",
    "    Address(email_address=\"sim@yahoo.com\")\n",
    "]\n",
    "\n",
    "print(sim.addresses)"
   ]
  },
  {
   "cell_type": "code",
   "execution_count": null,
   "metadata": {
    "collapsed": false
   },
   "outputs": [],
   "source": [
    "# kadangi modeliai yra susieti į abi puses galima pasiekti bet kuriuos susietų modelių eleentus\n",
    "print(sim.addresses[1].user)"
   ]
  },
  {
   "cell_type": "code",
   "execution_count": null,
   "metadata": {
    "collapsed": false
   },
   "outputs": [],
   "source": [
    "# duomenys surašomi į duomenų bazę\n",
    "session.add(sim)\n",
    "session.commit()"
   ]
  },
  {
   "cell_type": "code",
   "execution_count": null,
   "metadata": {
    "collapsed": false
   },
   "outputs": [],
   "source": [
    "# užklausiant vartotojo duomenų adresai nėra užklausiami ta pačia užklausa\n",
    "sim = session.query(User).filter_by(name=\"simas\").one()\n",
    "print(sim)"
   ]
  },
  {
   "cell_type": "code",
   "execution_count": null,
   "metadata": {
    "collapsed": false
   },
   "outputs": [],
   "source": [
    "# vartotojo adresai yra užklausiami iš duomenų bazės tik tada kai jų reikia\n",
    "print(sim.addresses)"
   ]
  },
  {
   "cell_type": "markdown",
   "metadata": {},
   "source": [
    "# Susietų lentelių užklausos\n",
    "\n",
    "Paprastų susietų lentelių užklausų formavimui galima naudoti Query.filter() atrintki kelių susietų lentelių duomenis."
   ]
  },
  {
   "cell_type": "code",
   "execution_count": null,
   "metadata": {
    "collapsed": false
   },
   "outputs": [],
   "source": [
    "# FROM users, addresses WHERE users.id = addresses.user_id\n",
    "for u, a in session.query(User, Address).filter(User.id==Address.user_id).\\\n",
    "                                        filter(Address.email_address==\"sim@google.com\").\\\n",
    "                                        all():\n",
    "    print(u)\n",
    "    print(a)"
   ]
  },
  {
   "cell_type": "code",
   "execution_count": null,
   "metadata": {
    "collapsed": false
   },
   "outputs": [],
   "source": [
    "# FROM users, addresses WHERE users.id = addresses.user_id\n",
    "for u, a in session.query(User, Address).filter(User.id==Address.user_id).\\\n",
    "                                        filter(User.name==\"simas\").\\\n",
    "                                        all():\n",
    "    print(u)\n",
    "    print(a)"
   ]
  },
  {
   "cell_type": "code",
   "execution_count": null,
   "metadata": {
    "collapsed": false
   },
   "outputs": [],
   "source": [
    "# FROM users JOIN addresses ON users.id = addresses.user_id\n",
    "session.query(User).join(Address).filter(Address.email_address==\"sim@google.com\").all()"
   ]
  },
  {
   "cell_type": "code",
   "execution_count": null,
   "metadata": {
    "collapsed": false
   },
   "outputs": [],
   "source": [
    "# FROM users JOIN addresses ON users.id = addresses.user_id\n",
    "session.query(User).join(Address).filter(User.name.like(\"%m%\")).all()"
   ]
  },
  {
   "cell_type": "markdown",
   "metadata": {},
   "source": [
    "Kadangi tarp User ir Address lentelių yra tik vienas raktas (angl. foreign key) query.join() gali lengvai sujungti lenteles, tačiau jei raktų nebūtų arba būtų keli reikia naudoti kitą struktūrą.\n",
    "```python\n",
    "query.join(Address, User.id==Address.user_id)    # nurodoma kokius laukus jungti\n",
    "query.join(User.addresses)                       # nurodomas ryšys iš kairės į dešinę\n",
    "query.join(Address, User.addresses)              # nurodomas sujungimas per modelių ryšį\n",
    "query.join(\"addresses\")                          # tas pats naudojant tekstą\n",
    "```\n",
    "\n",
    "Išorinis sujungimas (angl. outer join):\n",
    "```python\n",
    "query.outerjoin(User.addresses)\n",
    "```"
   ]
  },
  {
   "cell_type": "markdown",
   "metadata": {},
   "source": [
    "### Lentelių pavadinimų santrumpos (angl. alias)\n",
    "\n",
    "Formuojant užklausas kartais pasitaiko situacijų, kai ta pati lentelė turi būti iškviesta kelis kartus. Esant tokiai situacijai reikia naudoti lentelių santrumpas, kurios leidžia atskirti dvi tas pačias lenteles. "
   ]
  },
  {
   "cell_type": "code",
   "execution_count": null,
   "metadata": {
    "collapsed": false
   },
   "outputs": [],
   "source": [
    "from sqlalchemy.orm import aliased\n",
    "adalias1 = aliased(Address)\n",
    "adalias2 = aliased(Address)\n",
    "\n",
    "for username, email1, email2 in session.query(User.name, adalias1.email_address, adalias2.email_address).\\\n",
    "                                join(adalias1, User.addresses).\\\n",
    "                                join(adalias2, User.addresses).\\\n",
    "                                filter(adalias1.email_address==\"sim@google.com\").\\\n",
    "                                filter(adalias2.email_address==\"sim@yahoo.com\"):\n",
    "    print(username, email1, email2)"
   ]
  },
  {
   "cell_type": "markdown",
   "metadata": {},
   "source": [
    "### Užklausos iš užklausų (angl. subqueries)\n",
    "\n",
    "Norint gauti informaciją apie tai kiek adresų turi kiekvienas vartotojas būtų formuojama SQL užklausa:\n",
    "```SQL\n",
    "SELECT users.*, adr_count.address_count FROM users LEFT OUTER JOIN\n",
    "    (SELECT user_id, count(*) AS address_count\n",
    "        FROM addresses GROUP BY user_id) AS adr_count\n",
    "    ON users.id=adr_count.user_id\n",
    "```\n",
    "\n",
    "Formuojama užklausa, kuri suskaičiuoja adresų kiekius, o antroje užklausa suformuoja galutinį atsakymą."
   ]
  },
  {
   "cell_type": "code",
   "execution_count": null,
   "metadata": {
    "collapsed": true
   },
   "outputs": [],
   "source": [
    "# suformuojama užklausa kuri suskaičiuoja adresų kiekius\n",
    "from sqlalchemy.sql import func\n",
    "stmt = session.query(Address.user_id, func.count(\"*\").\\\n",
    "                     label(\"address_count\")).\\\n",
    "                     group_by(Address.user_id).subquery()"
   ]
  },
  {
   "cell_type": "code",
   "execution_count": null,
   "metadata": {
    "collapsed": false
   },
   "outputs": [],
   "source": [
    "# turint užklausą kuri suskaičiuoja kiekius, ją galima traktuoti kaip lentelę ir naudoti kitose užklausose\n",
    "# stulpeliai iš subužklausos pasiekiami per 'c' atributą\n",
    "for u, count in session.query(User, stmt.c.address_count).outerjoin(stmt, User.id==stmt.c.user_id).order_by(User.id):\n",
    "    print(u, count)"
   ]
  },
  {
   "cell_type": "code",
   "execution_count": null,
   "metadata": {
    "collapsed": false
   },
   "outputs": [],
   "source": [
    "# norint gauti adresų elementą naudojamas aliased()\n",
    "stmt = session.query(Address).\\\n",
    "                    filter(Address.email_address != 'j25@yahoo.com').\\\n",
    "                    subquery()\n",
    "        \n",
    "adalias = aliased(Address, stmt)\n",
    "\n",
    "for user, address in session.query(User, adalias).\\\n",
    "        join(adalias, User.addresses):\n",
    "    print(user)\n",
    "    print(address)"
   ]
  },
  {
   "cell_type": "markdown",
   "metadata": {},
   "source": [
    "## Exists komandos naudojimas\n",
    "\n",
    "Exists raktažodis SQL kalboje grąžina True jei pagal duotą išraišką egzistuoja eilučių."
   ]
  },
  {
   "cell_type": "code",
   "execution_count": null,
   "metadata": {
    "collapsed": false
   },
   "outputs": [],
   "source": [
    "# exists komandos konstrukcija\n",
    "from sqlalchemy.sql import exists\n",
    "\n",
    "stmt = exists().where(Address.user_id==User.id)\n",
    "for name, in session.query(User.name).filter(stmt):\n",
    "    print(name)"
   ]
  },
  {
   "cell_type": "code",
   "execution_count": null,
   "metadata": {
    "collapsed": false
   },
   "outputs": [],
   "source": [
    "# exists komandos alternatyva - any()\n",
    "for name, in session.query(User.name).\\\n",
    "        filter(User.addresses.any()):\n",
    "    print(name)"
   ]
  },
  {
   "cell_type": "code",
   "execution_count": null,
   "metadata": {
    "collapsed": false
   },
   "outputs": [],
   "source": [
    "# any() komandoje galima nurodyti ir filtravimo kriterijus\n",
    "for name, in session.query(User.name).\\\n",
    "        filter(User.addresses.any(Address.email_address.like(\"%google%\"))):\n",
    "    print(name)"
   ]
  },
  {
   "cell_type": "code",
   "execution_count": null,
   "metadata": {
    "collapsed": false
   },
   "outputs": [],
   "source": [
    "# has() komanda yra alternatyva any() tik naudojama daug su vienu ryšiuose\n",
    "session.query(Address).filter(~Address.user.has(User.name==\"sim\")).all()"
   ]
  },
  {
   "cell_type": "markdown",
   "metadata": {},
   "source": [
    "# Įrašų šalinimas"
   ]
  },
  {
   "cell_type": "code",
   "execution_count": null,
   "metadata": {
    "collapsed": false
   },
   "outputs": [],
   "source": [
    "# įrašų šalinimas\n",
    "session.delete(sim)\n",
    "session.query(User).filter_by(name=\"sim\").count()"
   ]
  },
  {
   "cell_type": "code",
   "execution_count": null,
   "metadata": {
    "collapsed": false
   },
   "outputs": [],
   "source": [
    "# adresai lieka neištrinti\n",
    "session.query(Address).filter(\n",
    "    Address.email_address.in_([\"sim@google.com\", \"sim@yahoo.com\"])\n",
    ").count()"
   ]
  },
  {
   "cell_type": "markdown",
   "metadata": {},
   "source": [
    "Ištrinami tik User duomenys, tačiau susieti Address duomenys lieka ništrinti, o jų User laukai tampa NULL. Todėl norint jog ištrinant tėvinį įrašą būtų ištrinti ir susieti įrašai reikia SQLAlchemy nurodyti tai (angl. cascade)."
   ]
  },
  {
   "cell_type": "code",
   "execution_count": null,
   "metadata": {
    "collapsed": false
   },
   "outputs": [],
   "source": [
    "session.close()\n",
    "Base = declarative_base()\n",
    "\n",
    "class User(Base):\n",
    "    __tablename__ = 'users'\n",
    "\n",
    "    id = Column(Integer, primary_key=True)\n",
    "    name = Column(String)\n",
    "    fullname = Column(String)\n",
    "    password = Column(String)\n",
    "\n",
    "    addresses = relationship(\"Address\", back_populates='user',\n",
    "                             cascade=\"all, delete, delete-orphan\")\n",
    "\n",
    "    def __repr__(self):\n",
    "        return \"<User(name='%s', fullname='%s', password='%s')>\" % (\n",
    "            self.name, self.fullname, self.password)\n",
    "\n",
    "class Address(Base):\n",
    "    __tablename__ = 'addresses'\n",
    "    id = Column(Integer, primary_key=True)\n",
    "    email_address = Column(String, nullable=False)\n",
    "    user_id = Column(Integer, ForeignKey('users.id'))\n",
    "    user = relationship(\"User\", back_populates=\"addresses\")\n",
    "\n",
    "    def __repr__(self):\n",
    "        return \"<Address(email_address='%s')>\" % self.email_address\n",
    "\n",
    "    \n",
    "sim = session.query(User).get(5)\n",
    "print(sim)\n",
    "del sim.addresses[1]\n",
    "\n",
    "session.query(Address).filter(\n",
    "    Address.email_address.in_([\"sim@google.com\", \"sim@yahoo.com\"])\n",
    ").count()"
   ]
  },
  {
   "cell_type": "code",
   "execution_count": null,
   "metadata": {
    "collapsed": false
   },
   "outputs": [],
   "source": [
    "session.delete(sim)\n",
    "session.query(User).filter_by(name=\"sim\").count()\n",
    "\n",
    "session.query(Address).filter(\n",
    "    Address.email_address.in_([\"sim@google.com\", \"sim@yahoo.com\"])\n",
    ").count()"
   ]
  },
  {
   "cell_type": "markdown",
   "metadata": {},
   "source": [
    "# Užduotys\n",
    "\n",
    "1.\n",
    "2.\n",
    "3.\n",
    "4.\n",
    "5."
   ]
  }
 ],
 "metadata": {
  "kernelspec": {
   "display_name": "Python 3",
   "language": "python",
   "name": "python3"
  },
  "language_info": {
   "codemirror_mode": {
    "name": "ipython",
    "version": 3
   },
   "file_extension": ".py",
   "mimetype": "text/x-python",
   "name": "python",
   "nbconvert_exporter": "python",
   "pygments_lexer": "ipython3",
   "version": "3.6.3"
  }
 },
 "nbformat": 4,
 "nbformat_minor": 2
}

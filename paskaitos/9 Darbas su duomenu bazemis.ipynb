{
 "cells": [
  {
   "cell_type": "markdown",
   "metadata": {},
   "source": [
    "# SQLAlchemy\n",
    "\n",
    "SQLAlchemy - biblioteka skirta palengvinti darbą su duomenų bazėmis, komunikaciją Python <-> duomenų bazė. Ši biblioteka naudojama kaip ORM (angl. Object Relational Mapper) įrankis, kuris \"išverčia\" Python aprašytas klases į duomenų bazės lenteles ir automatiškai paverčia funkcijų kvietimus į SQL užklausas. SQLAlchemy biblioteka leidžia programuotojui dirbti neprisirišant prie konkrečios duomenų bazės, nes naudojama viena standartinė sąsaja darbui su daug skirtingų duomenų bazių. \n",
    "\n",
    "Kuriama programa <-> SQLAlchemy <-> DBAPI (angl. DataBase API) konkrečios duomenų bazės (MySQL, SQLite, PostgreSQL ir t.t.)\n",
    "\n",
    "Prieš pradedant dirbti su SQLAlchemy ir duomenų bazėmis reikia sukurti varikliuką (angl. engine), kuris atliks komunikaciją su DBAPI funkcijomis. "
   ]
  },
  {
   "cell_type": "code",
   "execution_count": 1,
   "metadata": {
    "collapsed": false
   },
   "outputs": [],
   "source": [
    "# sukuriamas variklis darbui su SQLite duomenų baze\n",
    "from sqlalchemy import create_engine\n",
    "engine = create_engine(\"sqlite:///:memory:\", echo=True) # echo=True leis matyti visas SQL komandas"
   ]
  },
  {
   "cell_type": "markdown",
   "metadata": {},
   "source": [
    "Norint nurodyti duomenų bazės lenteles ir jas atitinkančias Python klases naudojamas deklaratyvi sistema (angl. Declarative system). Šis sistema leidžia susieti lenteles su klasėmis. Tam naudojama Bazinė (angl. Base) klasė, kurios pagalba valdomas klasių ir lentelių sąsaja."
   ]
  },
  {
   "cell_type": "code",
   "execution_count": 2,
   "metadata": {
    "collapsed": true
   },
   "outputs": [],
   "source": [
    "# sukuriama deklaratyvi bazinė klasė\n",
    "from sqlalchemy.ext.declarative import declarative_base\n",
    "Base = declarative_base()"
   ]
  },
  {
   "cell_type": "markdown",
   "metadata": {},
   "source": [
    "SQLAlchemy biblioteka palaiko visus populiariausius duomenų tipus. Minimalūs reikalavimai kuriant modelius: \\_\\_tablename\\_\\_ ir bent vienas stulpelis."
   ]
  },
  {
   "cell_type": "code",
   "execution_count": 3,
   "metadata": {
    "collapsed": false
   },
   "outputs": [],
   "source": [
    "# deklaratyvios klasės sukūrimas\n",
    "from sqlalchemy import Column, Integer, String\n",
    "\n",
    "class User(Base):\n",
    "    __tablename__ = \"users\"\n",
    "    \n",
    "    id = Column(Integer, primary_key=True)\n",
    "    name = Column(String)\n",
    "    fullname = Column(String)\n",
    "    password = Column(String)\n",
    "    \n",
    "    def __repr__(self):\n",
    "        return \"<User(name='%s', fullname='%s', password='%s')>\" % (self.name, self.fullname, self.password)"
   ]
  },
  {
   "cell_type": "markdown",
   "metadata": {},
   "source": [
    "Sukūrus User klasę per deklaratyvią sistemą, aprašėm informaciją apie lentelę, dar vadinamą metaduomenimis (angl. metadata). Sukurtas lentelės objektas yra didesnės kolekcijos MetaData narys. MetaData yra registras visų lentelių objektų ir jis atlieka jų sukūrimą duomenų bazėje."
   ]
  },
  {
   "cell_type": "code",
   "execution_count": 4,
   "metadata": {
    "collapsed": false
   },
   "outputs": [
    {
     "data": {
      "text/plain": [
       "Table('users', MetaData(bind=None), Column('id', Integer(), table=<users>, primary_key=True, nullable=False), Column('name', String(), table=<users>), Column('fullname', String(), table=<users>), Column('password', String(), table=<users>), schema=None)"
      ]
     },
     "execution_count": 4,
     "metadata": {},
     "output_type": "execute_result"
    }
   ],
   "source": [
    "User.__table__"
   ]
  },
  {
   "cell_type": "code",
   "execution_count": 5,
   "metadata": {
    "collapsed": false
   },
   "outputs": [
    {
     "name": "stdout",
     "output_type": "stream",
     "text": [
      "2018-02-08 23:48:29,266 INFO sqlalchemy.engine.base.Engine SELECT CAST('test plain returns' AS VARCHAR(60)) AS anon_1\n",
      "2018-02-08 23:48:29,270 INFO sqlalchemy.engine.base.Engine ()\n",
      "2018-02-08 23:48:29,275 INFO sqlalchemy.engine.base.Engine SELECT CAST('test unicode returns' AS VARCHAR(60)) AS anon_1\n",
      "2018-02-08 23:48:29,278 INFO sqlalchemy.engine.base.Engine ()\n",
      "2018-02-08 23:48:29,283 INFO sqlalchemy.engine.base.Engine PRAGMA table_info(\"users\")\n",
      "2018-02-08 23:48:29,284 INFO sqlalchemy.engine.base.Engine ()\n",
      "2018-02-08 23:48:29,290 INFO sqlalchemy.engine.base.Engine \n",
      "CREATE TABLE users (\n",
      "\tid INTEGER NOT NULL, \n",
      "\tname VARCHAR, \n",
      "\tfullname VARCHAR, \n",
      "\tpassword VARCHAR, \n",
      "\tPRIMARY KEY (id)\n",
      ")\n",
      "\n",
      "\n",
      "2018-02-08 23:48:29,292 INFO sqlalchemy.engine.base.Engine ()\n",
      "2018-02-08 23:48:29,297 INFO sqlalchemy.engine.base.Engine COMMIT\n"
     ]
    }
   ],
   "source": [
    "# sukuriama lentelė duomenų bazėje\n",
    "Base.metadata.create_all(engine)"
   ]
  },
  {
   "cell_type": "markdown",
   "metadata": {},
   "source": [
    "Dabar Users klasė yra susieta su duomenų bazės lentele."
   ]
  },
  {
   "cell_type": "code",
   "execution_count": 13,
   "metadata": {
    "collapsed": false
   },
   "outputs": [],
   "source": [
    "# sukuriamas klasės Users objektas\n",
    "tom_user = User(name=\"tom\", fullname=\"Tomas Jonaitis\", password=\"tomo_password\")"
   ]
  },
  {
   "cell_type": "code",
   "execution_count": 14,
   "metadata": {
    "collapsed": false
   },
   "outputs": [
    {
     "name": "stdout",
     "output_type": "stream",
     "text": [
      "tom Tomas Jonaitis tomo_password\n"
     ]
    }
   ],
   "source": [
    "print(tom_user.name, tom_user.fullname, tom_user.password)"
   ]
  },
  {
   "cell_type": "markdown",
   "metadata": {},
   "source": [
    "Sukūrus norimas lenteles galima pradėti \"šnekėtis\" (kurti, redaguoti, trinti, ieškoti įrašų) su duomenų baze. Tai atliekama per sisijas (angl. session)."
   ]
  },
  {
   "cell_type": "code",
   "execution_count": 15,
   "metadata": {
    "collapsed": true
   },
   "outputs": [],
   "source": [
    "from sqlalchemy.orm import sessionmaker\n",
    "Session = sessionmaker(bind=engine)\n",
    "session = Session()"
   ]
  },
  {
   "cell_type": "code",
   "execution_count": 16,
   "metadata": {
    "collapsed": true
   },
   "outputs": [],
   "source": [
    "# duomenų perdavimas į sesiją\n",
    "session.add(tom_user)"
   ]
  },
  {
   "cell_type": "markdown",
   "metadata": {},
   "source": [
    "Kol kas duomenys nėra įrašyti į duomenų bazę, jie yra laukimo (angl. pending) būsenoje. Duomenys į lentelę bus surašyti tik iškvietus duomenų surašymo (angl. commit) komandą. Jei šiuo metu būtų iškviesta duomenų paieškos funkcija, tai laukimo būsenoje esantys duomenys būtų automatiškai surašyti į duomenų bazę. \n",
    "\n",
    "Biblioteka užtikrina, jog visos operacijos atliekamos sesijoje operuos tais pačiais duomenimis."
   ]
  },
  {
   "cell_type": "code",
   "execution_count": 18,
   "metadata": {
    "collapsed": false
   },
   "outputs": [
    {
     "name": "stdout",
     "output_type": "stream",
     "text": [
      "2018-02-09 00:05:08,865 INFO sqlalchemy.engine.base.Engine SELECT users.id AS users_id, users.name AS users_name, users.fullname AS users_fullname, users.password AS users_password \n",
      "FROM users \n",
      "WHERE users.name = ?\n",
      " LIMIT ? OFFSET ?\n",
      "2018-02-09 00:05:08,868 INFO sqlalchemy.engine.base.Engine ('tom', 1, 0)\n",
      "<User(name='tom', fullname='Tomas Jonaitis', password='tomo_password')>\n",
      "True\n"
     ]
    }
   ],
   "source": [
    "# atliekama duomenų paieška duomenų bazėje pagal name lauką\n",
    "our_user = session.query(User).filter_by(name=\"tom\").first()\n",
    "\n",
    "print(our_user)\n",
    "print(tom_user is our_user)"
   ]
  },
  {
   "cell_type": "code",
   "execution_count": 19,
   "metadata": {
    "collapsed": true
   },
   "outputs": [],
   "source": [
    "# į sesiją surašomi nauji User objektai add_all([])\n",
    "session.add_all([\n",
    "    User(name=\"wendy\", fullname=\"Wendy Williams\", password=\"foobar\"),\n",
    "    User(name=\"mary\", fullname=\"Mary Contrary\", password=\"xxg527\"),\n",
    "    User(name=\"fred\", fullname=\"Fred Flinstone\", password=\"blah\")])"
   ]
  },
  {
   "cell_type": "code",
   "execution_count": 20,
   "metadata": {
    "collapsed": true
   },
   "outputs": [],
   "source": [
    "# pakeičiamas vartotojo slaptažodis\n",
    "tom_user.password = 'f8s7ccs'"
   ]
  },
  {
   "cell_type": "markdown",
   "metadata": {},
   "source": [
    "Surašytus duomenis į sesiją galima pamatyti:"
   ]
  },
  {
   "cell_type": "code",
   "execution_count": 21,
   "metadata": {
    "collapsed": false
   },
   "outputs": [
    {
     "name": "stdout",
     "output_type": "stream",
     "text": [
      "IdentitySet([<User(name='tom', fullname='Tomas Jonaitis', password='f8s7ccs')>])\n",
      "IdentitySet([<User(name='wendy', fullname='Wendy Williams', password='foobar')>, <User(name='mary', fullname='Mary Contrary', password='xxg527')>, <User(name='fred', fullname='Fred Flinstone', password='blah')>])\n"
     ]
    }
   ],
   "source": [
    "print(session.dirty)\n",
    "print(session.new)"
   ]
  },
  {
   "cell_type": "code",
   "execution_count": 22,
   "metadata": {
    "collapsed": false
   },
   "outputs": [
    {
     "name": "stdout",
     "output_type": "stream",
     "text": [
      "2018-02-09 00:11:45,315 INFO sqlalchemy.engine.base.Engine UPDATE users SET password=? WHERE users.id = ?\n",
      "2018-02-09 00:11:45,318 INFO sqlalchemy.engine.base.Engine ('f8s7ccs', 2)\n",
      "2018-02-09 00:11:45,322 INFO sqlalchemy.engine.base.Engine INSERT INTO users (name, fullname, password) VALUES (?, ?, ?)\n",
      "2018-02-09 00:11:45,323 INFO sqlalchemy.engine.base.Engine ('wendy', 'Wendy Williams', 'foobar')\n",
      "2018-02-09 00:11:45,326 INFO sqlalchemy.engine.base.Engine INSERT INTO users (name, fullname, password) VALUES (?, ?, ?)\n",
      "2018-02-09 00:11:45,327 INFO sqlalchemy.engine.base.Engine ('mary', 'Mary Contrary', 'xxg527')\n",
      "2018-02-09 00:11:45,329 INFO sqlalchemy.engine.base.Engine INSERT INTO users (name, fullname, password) VALUES (?, ?, ?)\n",
      "2018-02-09 00:11:45,331 INFO sqlalchemy.engine.base.Engine ('fred', 'Fred Flinstone', 'blah')\n",
      "2018-02-09 00:11:45,334 INFO sqlalchemy.engine.base.Engine COMMIT\n"
     ]
    }
   ],
   "source": [
    "# inicijuojamas duomenų surašymas į duomenų bazė\n",
    "session.commit()"
   ]
  },
  {
   "cell_type": "code",
   "execution_count": 25,
   "metadata": {
    "collapsed": false
   },
   "outputs": [
    {
     "name": "stdout",
     "output_type": "stream",
     "text": [
      "2\n"
     ]
    }
   ],
   "source": [
    "# duomenys surašyti duomenų bazėje, galima pamatyti sugeneruotas laukų reikšmes\n",
    "print(tom_user.id)"
   ]
  },
  {
   "cell_type": "markdown",
   "metadata": {},
   "source": [
    "# Duomenų atstatymas (angl. rolling back)"
   ]
  },
  {
   "cell_type": "code",
   "execution_count": null,
   "metadata": {
    "collapsed": true
   },
   "outputs": [],
   "source": []
  }
 ],
 "metadata": {
  "kernelspec": {
   "display_name": "Python 3",
   "language": "python",
   "name": "python3"
  },
  "language_info": {
   "codemirror_mode": {
    "name": "ipython",
    "version": 3
   },
   "file_extension": ".py",
   "mimetype": "text/x-python",
   "name": "python",
   "nbconvert_exporter": "python",
   "pygments_lexer": "ipython3",
   "version": "3.6.3"
  }
 },
 "nbformat": 4,
 "nbformat_minor": 2
}

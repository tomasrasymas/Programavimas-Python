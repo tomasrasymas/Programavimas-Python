{
 "cells": [
  {
   "cell_type": "markdown",
   "metadata": {},
   "source": [
    "# Funkcijos\n",
    "\n",
    "Funkcija, tai perpanaudojama programinio kodo blokas. Funkcija apjungia komandų rinkinį ir suteikia jam pavadinimą, todėl pagal pavadinimą funkciją galima iškviesti bet kurioje programos vietoje, daug kartų. "
   ]
  },
  {
   "cell_type": "code",
   "execution_count": null,
   "metadata": {
    "collapsed": false
   },
   "outputs": [],
   "source": [
    "def say_hello():\n",
    "    print(\"Labas iš funkcijos\")\n",
    "\n",
    "say_hello()\n",
    "\n",
    "for i in range(5):\n",
    "    say_hello()"
   ]
  },
  {
   "cell_type": "markdown",
   "metadata": {},
   "source": [
    "# Funkcijos aprašymo tekstas\n",
    "\n",
    "Pirma tekstinė eilutė po funkcijos antraštės yra vadinama funkcijos aprašymo tekstu (angl. docstring). Ši eilutė naudojama aprašyti funkcijos paskirtį, ką ji tiksliai atlieka, kam skirta ir pan. Ši eilutė yra neprivaloma, tačiau jos naudojimas yra gera praktika."
   ]
  },
  {
   "cell_type": "code",
   "execution_count": null,
   "metadata": {
    "collapsed": false
   },
   "outputs": [],
   "source": [
    "def say_goodbye():\n",
    "    \"\"\"Ši funkcija skirta \n",
    "    atspausdinti atsisveikinimo tekstą.\n",
    "    \"\"\"\n",
    "    print(\"Viso gero iš funkcijos\")\n",
    "\n",
    "say_goodbye()\n",
    "print(say_goodbye.__doc__)"
   ]
  },
  {
   "cell_type": "markdown",
   "metadata": {},
   "source": [
    "# Return komanda\n",
    "\n",
    "Return komanda skirta išeiti iš funkcijos ir grįžti į jos iškvietimo vietą. Šiai komandai galima nurodyti reikšmes, kurios bus grąžintos į jos iškvietimo vietą. Jei nenurodomos jokios reikšmės, arba funkcija baigia darbą be return komandos, tai pagal nutylėjimą grąžinama None reikšmė."
   ]
  },
  {
   "cell_type": "code",
   "execution_count": null,
   "metadata": {
    "collapsed": false
   },
   "outputs": [],
   "source": [
    "# funkcijos vykdymo nutraukimas\n",
    "# funkcijai nenurodytą ką grąžinti, tad grąžinama None\n",
    "def line_numbers():\n",
    "    print(\"Pirma eilutė\")\n",
    "    print(\"Antra eilutė\")\n",
    "    \n",
    "    return\n",
    "    \n",
    "    print(\"Trečia eilutė\")\n",
    "    \n",
    "return_values = line_numbers()\n",
    "print(return_values)"
   ]
  },
  {
   "cell_type": "code",
   "execution_count": null,
   "metadata": {
    "collapsed": false
   },
   "outputs": [],
   "source": [
    "# funkcijai nenurodyta ką grąžinti, todėl grąžinama None\n",
    "def line_numbers():\n",
    "    print(\"Pirma eilutė\")\n",
    "    print(\"Antra eilutė\")\n",
    "    print(\"Trečia eilutė\")\n",
    "    \n",
    "return_values = line_numbers()\n",
    "print(return_values)"
   ]
  },
  {
   "cell_type": "code",
   "execution_count": null,
   "metadata": {
    "collapsed": false
   },
   "outputs": [],
   "source": [
    "# funkcija grąžina skaičių\n",
    "def sum():\n",
    "    a = 10\n",
    "    b = 20\n",
    "    return a + b\n",
    "    \n",
    "return_values = sum()\n",
    "print(return_values)"
   ]
  },
  {
   "cell_type": "code",
   "execution_count": null,
   "metadata": {
    "collapsed": true
   },
   "outputs": [],
   "source": [
    "# funkcija grąžina sąrašą\n",
    "def get_list():\n",
    "    a = [1, 2, 3, 4, 5]\n",
    "    return a\n",
    "    \n",
    "return_values = get_list()\n",
    "print(return_values)"
   ]
  },
  {
   "cell_type": "code",
   "execution_count": null,
   "metadata": {
    "collapsed": false
   },
   "outputs": [],
   "source": [
    "# funkcija grąžina kelias reikšmes\n",
    "def get_multiple_values():\n",
    "    a = 10\n",
    "    b = 20\n",
    "    return a, b\n",
    "    \n",
    "return_values = get_multiple_values()\n",
    "print(type(return_values))\n",
    "print(return_values)\n",
    "\n",
    "return_a, return_b = get_multiple_values()\n",
    "print(type(return_a), type(return_b))\n",
    "print(return_a, return_b)"
   ]
  },
  {
   "cell_type": "markdown",
   "metadata": {},
   "source": [
    "# Funkcijų parametrai\n",
    "\n",
    "Aprašant funkciją galima nurodyti parametrus, kurie bus nurodomi kviečiant funkciją ir naudojami jos viduje. Parametrai gali būti:\n",
    "* Privalomi (angl. required). Šiems parametrams yra svarbi eilės tvarka, tad kviečiant funkciją jie nurodomi tokia eilės tvarka kaip aprašyta funkcijoje.\n",
    "* Raktiniai (angl. keyword). Šiems parametrams jų eilės tvarka nėra svarbi, todėl galima juos nurodyti ne iš eilės, arba praleisti. Funkcijos aprašymas privalomų ir raktinių parametrų naudojimui nesiskiria.\n",
    "* Numatyti (angl. default). Šiems parametrams nurodomos jų numatytos reikšmės, todėl kviečiant funkciją šių parametrų reikšmių galima ir nenurodyti, taip bus naudojama numatyta reikšmė, jei parametras nurodomas, tai bus perrašoma numatyta jo reikšmė.\n",
    "* Kintamo ilgio (angl. variable-length). Kartais nėra žinoma, kiek bus parametrų, kuriuos paduosim funkcijai. Tad tokiose situacijose naudojami kintamo ilgio parametrai.\n",
    "\n",
    "Visi parametrai funkcijai paduodami pagal adresą. Jei funkcijai nurodomas kintamas objektas, pvz. sąrašas, tai funkcijoje jį pakoregavus, jo reikšmė liks pakoreguota ir išėjus iš funkcijos. Tačiau jei funkcijai nurodomas kintamas objektas ir funkcijoje jam priskirsim visiškai naują objektą, tai išėjus iš funkcijos jo reikšmė bus nepakitus. Nekintamų objektų funkcijoje koreguoti neišeis. Išėjus iš funkcijos, jų reikšmės liks senos."
   ]
  },
  {
   "cell_type": "code",
   "execution_count": null,
   "metadata": {
    "collapsed": false
   },
   "outputs": [],
   "source": [
    "# privalomi parametrai\n",
    "def say(text_to_say_1, text_to_say_2):\n",
    "    print(text_to_say_1 + \". \" + text_to_say_2)\n",
    "\n",
    "say(\"Labas\", \"Kaip sekasi?\")\n",
    "say(\"Kaip sekasi?\")\n",
    "say()"
   ]
  },
  {
   "cell_type": "code",
   "execution_count": null,
   "metadata": {
    "collapsed": false
   },
   "outputs": [],
   "source": [
    "# raktiniai parametrai\n",
    "def say(text_to_say_1, text_to_say_2):\n",
    "    print(text_to_say_1 + \". \" + text_to_say_2)\n",
    "\n",
    "say(text_to_say_2=\"Kaip sekasi?\", text_to_say_1=\"Labas\")\n",
    "say(\"Kaip sekasi?\")\n",
    "say()"
   ]
  },
  {
   "cell_type": "code",
   "execution_count": null,
   "metadata": {
    "collapsed": false
   },
   "outputs": [],
   "source": [
    "# numatyti parametrai\n",
    "def say(text_to_say_1, text_to_say_2=\"Kiek dabar valandų?\", text_to_say_3=\"Kur yra Vilnius?\"):\n",
    "    print(text_to_say_1 + \". \" + text_to_say_2 + \" \" + text_to_say_3)\n",
    "\n",
    "say(text_to_say_1=\"Labas\")\n",
    "say(text_to_say_2=\"Kaip sekasi?\", text_to_say_1=\"Iki\")\n",
    "say(\"Hello\")\n",
    "say(\"Hello\", \"Pirmas tekstas.\", \"Antras tekstas.\")\n",
    "say()"
   ]
  },
  {
   "cell_type": "code",
   "execution_count": null,
   "metadata": {
    "collapsed": false
   },
   "outputs": [],
   "source": [
    "# sąrašo tipo kintamo ilgio parametrai\n",
    "def say(*text_to_say):\n",
    "    for text in text_to_say:\n",
    "        print(text)\n",
    "\n",
    "say(\"Labas\", \"Kaip sekasi?\", \"Kiek valandų?\")"
   ]
  },
  {
   "cell_type": "code",
   "execution_count": null,
   "metadata": {
    "collapsed": false
   },
   "outputs": [],
   "source": [
    "# žodyno tipo kintamo ilgio parametrai\n",
    "def say(**dialog):\n",
    "    for key, value in dialog.items():\n",
    "        print(key,\" - \", value)\n",
    "\n",
    "say(jonas=\"Labas Petrai.\", petras=\"Sveikas Jonai.\")"
   ]
  },
  {
   "cell_type": "code",
   "execution_count": null,
   "metadata": {
    "collapsed": false
   },
   "outputs": [],
   "source": [
    "# parametrų koregavimas funkcijoje\n",
    "def add_elements(list):\n",
    "    list.append(\"paskutinis\")\n",
    "    list.append(\"elementas\")\n",
    "\n",
    "a = [1, 2, 3, 4]\n",
    "add_elements(a)\n",
    "print(a)"
   ]
  },
  {
   "cell_type": "code",
   "execution_count": null,
   "metadata": {
    "collapsed": false
   },
   "outputs": [],
   "source": [
    "# parametrų koregavimas funkcijoje\n",
    "def add_elements(list):\n",
    "    list = [10, 20]\n",
    "\n",
    "a = [1, 2, 3, 4]\n",
    "add_elements(a)\n",
    "print(a)"
   ]
  },
  {
   "cell_type": "code",
   "execution_count": null,
   "metadata": {
    "collapsed": false
   },
   "outputs": [],
   "source": [
    "# parametrų koregavimas funkcijoje\n",
    "def change(num):\n",
    "    num = 10\n",
    "\n",
    "a = 5\n",
    "change(a)\n",
    "print(a)"
   ]
  },
  {
   "cell_type": "markdown",
   "metadata": {},
   "source": [
    "# Lokalūs kintamieji ir global komanda\n",
    "\n",
    "Kai funkcijoje sukuriamas kintamasis jis niekaip nėra susijęs su kintamaisiais (net ir to paties vardo) už funkcijos ribų. Tokie kintamieji vadinami lokaliais. Jei funkcijoje norima manipuliuoti kintamuoju, kuris yra už funkcijos ribų, tada naudojama global komanda. Tačiau turėtumėte vengti šios komandos naudojimo, nes ji apsunkina programinio kodo supratimą skaitytojui."
   ]
  },
  {
   "cell_type": "code",
   "execution_count": null,
   "metadata": {
    "collapsed": false
   },
   "outputs": [],
   "source": [
    "# lokalūs kintamieji \n",
    "x = 50\n",
    "\n",
    "def func(x):\n",
    "    print(\"x yra \", x)\n",
    "    x = 2\n",
    "    print(\"Pakeista x reikšmė \", x)\n",
    "\n",
    "\n",
    "func(x)\n",
    "print(\"x reikšmė pabaigoje \", x)"
   ]
  },
  {
   "cell_type": "code",
   "execution_count": null,
   "metadata": {
    "collapsed": false
   },
   "outputs": [],
   "source": [
    "# už funkcijos ribų aprašyti kintamieji funkcijoje nepasiekiami\n",
    "x = 50\n",
    "\n",
    "def func():\n",
    "    print(\"x yra \", x)\n",
    "    x = 2\n",
    "    print(\"Pakeista x reikšmė \", x)\n",
    "\n",
    "\n",
    "func()\n",
    "print(\"x reikšmė pabaigoje \", x)"
   ]
  },
  {
   "cell_type": "code",
   "execution_count": null,
   "metadata": {
    "collapsed": false
   },
   "outputs": [],
   "source": [
    "# global komanda\n",
    "x = 50\n",
    "\n",
    "def func():\n",
    "    global x\n",
    "    print(\"x yra \", x)\n",
    "    x = 2\n",
    "    print(\"Pakeista x reikšmė \", x)\n",
    "\n",
    "\n",
    "func()\n",
    "print(\"x reikšmė pabaigoje \", x)"
   ]
  },
  {
   "cell_type": "markdown",
   "metadata": {},
   "source": [
    "# Anoniminės funkcijos\n",
    "\n",
    "Anoniminės funkcijos (lambda) kuriamos ne standartiniu būdu naudojant def, tačiau naudojant komandą lambda ir jos neturi pavadinimo. Taip pat jos turi kelis papildomus apribojimus:\n",
    "* Anoniminei funkcijai galima paduodi bet kokį skaičių parametrų, tačiau grąžinti galima tik vieną.\n",
    "* Šios funkcijos gali naudoti tik funkcijos parametrsu ir globalius kintamuosius.\n",
    "* Šiose funkcijose gali būti aprašyta tik viena išraiška.\n",
    "* Šios funkcijos yra vienos eilutės."
   ]
  },
  {
   "cell_type": "code",
   "execution_count": 5,
   "metadata": {
    "collapsed": false
   },
   "outputs": [
    {
     "name": "stdout",
     "output_type": "stream",
     "text": [
      "10 + 20 + 1 = 31\n",
      "20 + 20 + 1 = 41\n"
     ]
    }
   ],
   "source": [
    "# anoniminės funkcijos sukūrimas ir panaudojimas\n",
    "a = 1\n",
    "sum = lambda arg1, arg2: arg1 + arg2 + a;\n",
    "\n",
    "print(\"10 + 20 + 1 =\", sum(10, 20))\n",
    "print(\"20 + 20 + 1 =\", sum(20, 20))"
   ]
  }
 ],
 "metadata": {
  "kernelspec": {
   "display_name": "Python 3",
   "language": "python",
   "name": "python3"
  },
  "language_info": {
   "codemirror_mode": {
    "name": "ipython",
    "version": 3
   },
   "file_extension": ".py",
   "mimetype": "text/x-python",
   "name": "python",
   "nbconvert_exporter": "python",
   "pygments_lexer": "ipython3",
   "version": "3.6.3"
  }
 },
 "nbformat": 4,
 "nbformat_minor": 2
}

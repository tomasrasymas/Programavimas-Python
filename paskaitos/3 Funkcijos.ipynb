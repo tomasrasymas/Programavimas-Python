{
 "cells": [
  {
   "cell_type": "markdown",
   "metadata": {
    "deletable": true,
    "editable": true
   },
   "source": [
    "# Funkcijos\n",
    "\n",
    "Funkcija, tai perpanaudojamas programinio kodo blokas. Funkcija apjungia komandų rinkinį ir suteikia jam pavadinimą, todėl pagal pavadinimą funkciją galima iškviesti bet kurioje programos vietoje, daug kartų. "
   ]
  },
  {
   "cell_type": "code",
   "execution_count": null,
   "metadata": {
    "collapsed": false,
    "deletable": true,
    "editable": true
   },
   "outputs": [],
   "source": [
    "def say_hello():\n",
    "    print(\"Labas iš funkcijos\")\n",
    "\n",
    "say_hello()\n",
    "\n",
    "for i in range(5):\n",
    "    say_hello()\n",
    "\n",
    "print(type(say_hello))"
   ]
  },
  {
   "cell_type": "markdown",
   "metadata": {
    "deletable": true,
    "editable": true
   },
   "source": [
    "# Funkcijos aprašymo tekstas\n",
    "\n",
    "Pirma tekstinė eilutė po funkcijos antraštės yra vadinama funkcijos aprašymo tekstu (angl. docstring). Ši eilutė naudojama aprašyti funkcijos paskirtį, ką ji tiksliai atlieka, kam skirta ir pan. Ši eilutė yra neprivaloma, tačiau jos naudojimas yra gera praktika."
   ]
  },
  {
   "cell_type": "code",
   "execution_count": null,
   "metadata": {
    "collapsed": false,
    "deletable": true,
    "editable": true
   },
   "outputs": [],
   "source": [
    "def say_goodbye():\n",
    "    \"\"\"Ši funkcija skirta \n",
    "    atspausdinti atsisveikinimo tekstą.\n",
    "    \"\"\"\n",
    "    print(\"Viso gero iš funkcijos\")\n",
    "\n",
    "say_goodbye()\n",
    "print(say_goodbye.__doc__)"
   ]
  },
  {
   "cell_type": "markdown",
   "metadata": {
    "deletable": true,
    "editable": true
   },
   "source": [
    "# Return komanda\n",
    "\n",
    "Return komanda skirta išeiti iš funkcijos ir grįžti į jos iškvietimo vietą. Šiai komandai galima nurodyti reikšmes, kurios bus grąžintos į jos iškvietimo vietą. Jei nenurodomos jokios reikšmės, arba funkcija baigia darbą be return komandos, tai pagal nutylėjimą grąžinama None reikšmė."
   ]
  },
  {
   "cell_type": "code",
   "execution_count": null,
   "metadata": {
    "collapsed": false,
    "deletable": true,
    "editable": true
   },
   "outputs": [],
   "source": [
    "# funkcijos vykdymo nutraukimas\n",
    "# funkcijai nenurodytą ką grąžinti, tad grąžinama None\n",
    "def line_numbers():\n",
    "    print(\"Pirma eilutė\")\n",
    "    print(\"Antra eilutė\")\n",
    "    \n",
    "    return\n",
    "    \n",
    "    print(\"Trečia eilutė\")\n",
    "    \n",
    "return_values = line_numbers()\n",
    "print(return_values)"
   ]
  },
  {
   "cell_type": "code",
   "execution_count": null,
   "metadata": {
    "collapsed": false,
    "deletable": true,
    "editable": true
   },
   "outputs": [],
   "source": [
    "# funkcijai nenurodyta ką grąžinti, todėl grąžinama None\n",
    "def line_numbers():\n",
    "    print(\"Pirma eilutė\")\n",
    "    print(\"Antra eilutė\")\n",
    "    print(\"Trečia eilutė\")\n",
    "    \n",
    "return_values = line_numbers()\n",
    "print(return_values)"
   ]
  },
  {
   "cell_type": "code",
   "execution_count": null,
   "metadata": {
    "collapsed": false,
    "deletable": true,
    "editable": true
   },
   "outputs": [],
   "source": [
    "# funkcija grąžina skaičių\n",
    "def sum():\n",
    "    a = 10\n",
    "    b = 20\n",
    "    return a + b\n",
    "    \n",
    "return_values = sum()\n",
    "print(return_values)"
   ]
  },
  {
   "cell_type": "code",
   "execution_count": null,
   "metadata": {
    "collapsed": true,
    "deletable": true,
    "editable": true
   },
   "outputs": [],
   "source": [
    "# funkcija grąžina sąrašą\n",
    "def get_list():\n",
    "    a = [1, 2, 3, 4, 5]\n",
    "    return a\n",
    "    \n",
    "return_values = get_list()\n",
    "print(return_values)"
   ]
  },
  {
   "cell_type": "code",
   "execution_count": null,
   "metadata": {
    "collapsed": false,
    "deletable": true,
    "editable": true
   },
   "outputs": [],
   "source": [
    "# funkcija grąžina kelias reikšmes\n",
    "def get_multiple_values():\n",
    "    a = 10\n",
    "    b = 20\n",
    "    return a, b\n",
    "    \n",
    "return_values = get_multiple_values()\n",
    "print(type(return_values))\n",
    "print(return_values)\n",
    "\n",
    "return_a, return_b = get_multiple_values()\n",
    "print(type(return_a), type(return_b))\n",
    "print(return_a, return_b)"
   ]
  },
  {
   "cell_type": "markdown",
   "metadata": {
    "deletable": true,
    "editable": true
   },
   "source": [
    "# Funkcijų parametrai\n",
    "\n",
    "Aprašant funkciją galima nurodyti parametrus, kurie bus nurodomi kviečiant funkciją ir naudojami jos viduje. Parametrai gali būti:\n",
    "* Privalomi (angl. required). Šiems parametrams yra svarbi eilės tvarka, tad kviečiant funkciją jie nurodomi tokia eilės tvarka kaip aprašyta funkcijoje.\n",
    "* Raktiniai (angl. keyword). Šiems parametrams jų eilės tvarka nėra svarbi, todėl galima juos nurodyti ne iš eilės, arba praleisti. Funkcijos aprašymas privalomų ir raktinių parametrų naudojimui nesiskiria.\n",
    "* Numatyti (angl. default). Šiems parametrams nurodomos jų numatytos reikšmės, todėl kviečiant funkciją šių parametrų reikšmių galima ir nenurodyti, taip bus naudojama numatyta reikšmė, jei parametras nurodomas, tai bus perrašoma numatyta jo reikšmė.\n",
    "* Kintamo ilgio (angl. variable-length). Kartais nėra žinoma, kiek bus parametrų, kuriuos paduosim funkcijai. Tad tokiose situacijose naudojami kintamo ilgio parametrai.\n",
    "\n",
    "Visi parametrai funkcijai paduodami pagal adresą. Jei funkcijai nurodomas kintamas objektas, pvz. sąrašas, tai funkcijoje jį pakoregavus, jo reikšmė liks pakoreguota ir išėjus iš funkcijos. Tačiau jei funkcijai nurodomas kintamas objektas ir funkcijoje jam priskirsim visiškai naują objektą, tai išėjus iš funkcijos jo reikšmė bus nepakitus. Nekintamų objektų funkcijoje koreguoti neišeis. Išėjus iš funkcijos, jų reikšmės liks senos."
   ]
  },
  {
   "cell_type": "code",
   "execution_count": null,
   "metadata": {
    "collapsed": false,
    "deletable": true,
    "editable": true
   },
   "outputs": [],
   "source": [
    "# privalomi parametrai\n",
    "def say(text_to_say_1, text_to_say_2):\n",
    "    print(text_to_say_1 + \". \" + text_to_say_2)\n",
    "\n",
    "say(\"Labas\", \"Kaip sekasi?\")\n",
    "say(\"Kaip sekasi?\")\n",
    "say()"
   ]
  },
  {
   "cell_type": "code",
   "execution_count": null,
   "metadata": {
    "collapsed": false,
    "deletable": true,
    "editable": true
   },
   "outputs": [],
   "source": [
    "# raktiniai parametrai\n",
    "def say(text_to_say_1, text_to_say_2):\n",
    "    print(text_to_say_1 + \". \" + text_to_say_2)\n",
    "\n",
    "say(text_to_say_2=\"Kaip sekasi?\", text_to_say_1=\"Labas\")\n",
    "say(\"Kaip sekasi?\")\n",
    "say()"
   ]
  },
  {
   "cell_type": "code",
   "execution_count": null,
   "metadata": {
    "collapsed": false,
    "deletable": true,
    "editable": true
   },
   "outputs": [],
   "source": [
    "# numatyti parametrai\n",
    "def say(text_to_say_1, text_to_say_2=\"Kiek dabar valandų?\", text_to_say_3=\"Kur yra Vilnius?\"):\n",
    "    print(text_to_say_1 + \". \" + text_to_say_2 + \" \" + text_to_say_3)\n",
    "\n",
    "say(text_to_say_1=\"Labas\")\n",
    "say(text_to_say_2=\"Kaip sekasi?\", text_to_say_1=\"Iki\")\n",
    "say(\"Hello\")\n",
    "say(\"Hello\", \"Pirmas tekstas.\", \"Antras tekstas.\")\n",
    "say()"
   ]
  },
  {
   "cell_type": "code",
   "execution_count": null,
   "metadata": {
    "collapsed": false,
    "deletable": true,
    "editable": true
   },
   "outputs": [],
   "source": [
    "# sąrašo tipo kintamo ilgio parametrai\n",
    "def say(*text_to_say):\n",
    "    for text in text_to_say:\n",
    "        print(text)\n",
    "\n",
    "say(\"Labas\", \"Kaip sekasi?\", \"Kiek valandų?\")"
   ]
  },
  {
   "cell_type": "code",
   "execution_count": null,
   "metadata": {
    "collapsed": false,
    "deletable": true,
    "editable": true
   },
   "outputs": [],
   "source": [
    "# žodyno tipo kintamo ilgio parametrai\n",
    "def say(**dialog):\n",
    "    for key, value in dialog.items():\n",
    "        print(key,\" - \", value)\n",
    "\n",
    "say(jonas=\"Labas Petrai.\", petras=\"Sveikas Jonai.\")"
   ]
  },
  {
   "cell_type": "code",
   "execution_count": null,
   "metadata": {
    "collapsed": false,
    "deletable": true,
    "editable": true
   },
   "outputs": [],
   "source": [
    "# parametrų koregavimas funkcijoje\n",
    "def add_elements(l):\n",
    "    l.append(\"paskutinis\")\n",
    "    l.append(\"elementas\")\n",
    "\n",
    "a = [1, 2, 3, 4]\n",
    "add_elements(a)\n",
    "print(a)"
   ]
  },
  {
   "cell_type": "code",
   "execution_count": null,
   "metadata": {
    "collapsed": false,
    "deletable": true,
    "editable": true
   },
   "outputs": [],
   "source": [
    "# parametrų koregavimas funkcijoje\n",
    "def add_elements(l):\n",
    "    l = [10, 20]\n",
    "\n",
    "a = [1, 2, 3, 4]\n",
    "add_elements(a)\n",
    "print(a)"
   ]
  },
  {
   "cell_type": "code",
   "execution_count": null,
   "metadata": {
    "collapsed": false,
    "deletable": true,
    "editable": true
   },
   "outputs": [],
   "source": [
    "# parametrų koregavimas funkcijoje\n",
    "def change(num):\n",
    "    num = 10\n",
    "\n",
    "a = 5\n",
    "change(a)\n",
    "print(a)"
   ]
  },
  {
   "cell_type": "markdown",
   "metadata": {
    "deletable": true,
    "editable": true
   },
   "source": [
    "# Lokalūs ir globalūs kintamieji\n",
    "\n",
    "Kai funkcijoje sukuriamas kintamasis jis niekaip nėra susijęs su kintamaisiais (net ir to paties vardo) už funkcijos ribų. Tokie kintamieji vadinami lokaliais. Jei funkcijoje norima manipuliuoti kintamuoju, kuris yra už funkcijos ribų, tada naudojama global komanda. Tačiau turėtumėte vengti šios komandos naudojimo, nes ji apsunkina programinio kodo supratimą skaitytojui."
   ]
  },
  {
   "cell_type": "code",
   "execution_count": null,
   "metadata": {
    "collapsed": false,
    "deletable": true,
    "editable": true
   },
   "outputs": [],
   "source": [
    "# lokalūs kintamieji \n",
    "x = 50\n",
    "\n",
    "def func(x):\n",
    "    print(\"x yra \", x)\n",
    "    x = 2\n",
    "    print(\"Pakeista x reikšmė \", x)\n",
    "\n",
    "\n",
    "func(x)\n",
    "print(\"x reikšmė pabaigoje \", x)"
   ]
  },
  {
   "cell_type": "code",
   "execution_count": null,
   "metadata": {
    "collapsed": false,
    "deletable": true,
    "editable": true
   },
   "outputs": [],
   "source": [
    "# už funkcijos ribų aprašyti kintamieji funkcijoje nepasiekiami\n",
    "x = 50\n",
    "\n",
    "def func():\n",
    "    print(\"x yra \", x)\n",
    "    x = 2\n",
    "    print(\"Pakeista x reikšmė \", x)\n",
    "\n",
    "\n",
    "func()\n",
    "print(\"x reikšmė pabaigoje \", x)"
   ]
  },
  {
   "cell_type": "code",
   "execution_count": null,
   "metadata": {
    "collapsed": false,
    "deletable": true,
    "editable": true
   },
   "outputs": [],
   "source": [
    "# global komanda\n",
    "x = 50\n",
    "\n",
    "def func():\n",
    "    global x\n",
    "    print(\"x yra \", x)\n",
    "    x = 2\n",
    "    print(\"Pakeista x reikšmė \", x)\n",
    "\n",
    "\n",
    "func()\n",
    "print(\"x reikšmė pabaigoje \", x)"
   ]
  },
  {
   "cell_type": "markdown",
   "metadata": {
    "deletable": true,
    "editable": true
   },
   "source": [
    "# Anoniminės funkcijos\n",
    "\n",
    "Anoniminės funkcijos (lambda) kuriamos ne standartiniu būdu naudojant def, tačiau naudojant komandą lambda ir jos neturi pavadinimo. Taip pat jos turi kelis papildomus apribojimus:\n",
    "* Anoniminei funkcijai galima paduodi bet kokį skaičių parametrų, tačiau grąžinti galima tik vieną.\n",
    "* Šios funkcijos gali naudoti tik funkcijos parametrus ir globalius kintamuosius.\n",
    "* Šiose funkcijose gali būti aprašyta tik viena išraiška.\n",
    "* Šios funkcijos yra vienos eilutės."
   ]
  },
  {
   "cell_type": "code",
   "execution_count": null,
   "metadata": {
    "collapsed": false,
    "deletable": true,
    "editable": true
   },
   "outputs": [],
   "source": [
    "# anoniminės funkcijos sukūrimas ir panaudojimas\n",
    "a = 1\n",
    "sum = lambda arg1, arg2: arg1 + arg2 + a;\n",
    "\n",
    "print(\"10 + 20 + 1 =\", sum(10, 20))\n",
    "print(\"20 + 20 + 1 =\", sum(20, 20))"
   ]
  },
  {
   "cell_type": "markdown",
   "metadata": {
    "deletable": true,
    "editable": true
   },
   "source": [
    "# Funkcija funkcijoje\n",
    "\n",
    "Funkcija funkcijoje (angl. nested functions), tai vidinės funkcijos sukūrimas ir panaudojimas kitoje funkcijoje."
   ]
  },
  {
   "cell_type": "code",
   "execution_count": 1,
   "metadata": {
    "collapsed": false,
    "deletable": true,
    "editable": true
   },
   "outputs": [
    {
     "name": "stdout",
     "output_type": "stream",
     "text": [
      "Labas\n",
      "pasauli\n"
     ]
    }
   ],
   "source": [
    "# funkcija funkcijoje\n",
    "def outer_function():\n",
    "    print (\"Labas\")\n",
    "    \n",
    "    def inner_function():\n",
    "        print (\"pasauli\")\n",
    "    \n",
    "    inner_function()\n",
    "\n",
    "outer_function()"
   ]
  },
  {
   "cell_type": "code",
   "execution_count": 2,
   "metadata": {
    "collapsed": false,
    "deletable": true,
    "editable": true
   },
   "outputs": [
    {
     "name": "stdout",
     "output_type": "stream",
     "text": [
      "3\n"
     ]
    }
   ],
   "source": [
    "# išorinės funkcijos kintamieji vidinėje funkcijoje\n",
    "def outer_function():\n",
    "    x = 1\n",
    "    \n",
    "    def inner_function(y):\n",
    "        print (x + y)\n",
    "    \n",
    "    inner_function(2)\n",
    "\n",
    "outer_function()"
   ]
  },
  {
   "cell_type": "code",
   "execution_count": 3,
   "metadata": {
    "collapsed": false,
    "deletable": true,
    "editable": true
   },
   "outputs": [
    {
     "name": "stdout",
     "output_type": "stream",
     "text": [
      "6\n",
      "1\n"
     ]
    }
   ],
   "source": [
    "# išorinės funkcijos kintamieji vidinėje funkcijoje\n",
    "def outer_function():\n",
    "    x = 1\n",
    "    \n",
    "    def inner_function(y):\n",
    "        x = 4\n",
    "        print (x + y)\n",
    "    \n",
    "    inner_function(2)\n",
    "    print(x)\n",
    "\n",
    "outer_function()"
   ]
  },
  {
   "cell_type": "code",
   "execution_count": 4,
   "metadata": {
    "collapsed": false,
    "deletable": true,
    "editable": true
   },
   "outputs": [
    {
     "name": "stdout",
     "output_type": "stream",
     "text": [
      "6\n",
      "4\n"
     ]
    }
   ],
   "source": [
    "# išorinės funkcijos kintamųjų koregavimas vidinėje funkcijoje\n",
    "def outer_function():\n",
    "    outer_function.x = 1\n",
    "    \n",
    "    def inner_function(y):\n",
    "        outer_function.x = 4\n",
    "        print (outer_function.x + y)\n",
    "    \n",
    "    inner_function(2)\n",
    "    print(outer_function.x)\n",
    "\n",
    "outer_function()"
   ]
  },
  {
   "cell_type": "code",
   "execution_count": 5,
   "metadata": {
    "collapsed": false,
    "deletable": true,
    "editable": true
   },
   "outputs": [
    {
     "name": "stdout",
     "output_type": "stream",
     "text": [
      "6\n",
      "4\n"
     ]
    }
   ],
   "source": [
    "# išorinės funkcijos kintamųjų koregavimas vidinėje funkcijoje naudojant nonlocal komandą\n",
    "def outer_function():\n",
    "    x = 1\n",
    "    \n",
    "    def inner_function(y):\n",
    "        nonlocal x\n",
    "        x = 4\n",
    "        print (x + y)\n",
    "    \n",
    "    inner_function(2)\n",
    "    print(x)\n",
    "\n",
    "outer_function()"
   ]
  },
  {
   "cell_type": "markdown",
   "metadata": {
    "deletable": true,
    "editable": true
   },
   "source": [
    "# Uždaros funkcijos\n",
    "\n",
    "Uždaros funkcijos (angl. closures functions), tai funkcijos (išorinė) kurios grąžina kitą funkciją (vidinę), kur grąžinta funkcija atsimena išorinės funkcijos, kurioje buvo sukurta, būseną, net ir po išorinės funkcijos įvykdymo."
   ]
  },
  {
   "cell_type": "code",
   "execution_count": null,
   "metadata": {
    "collapsed": false,
    "deletable": true,
    "editable": true
   },
   "outputs": [],
   "source": [
    "# uždaros funkcijos\n",
    "def outer_function(x):\n",
    "    def inner_function(y):\n",
    "        return x + y\n",
    "    \n",
    "    return inner_function\n",
    "\n",
    "add_1 = outer_function(1)\n",
    "add_2 = outer_function(2)\n",
    "\n",
    "print(add_1(100))\n",
    "print(add_2(200))"
   ]
  },
  {
   "cell_type": "markdown",
   "metadata": {
    "deletable": true,
    "editable": true
   },
   "source": [
    "# Funkcijos generatoriai\n",
    "\n",
    "Generatoriai (angl. generators), tai funkcijos, kurios grąžina rezultatų seką. Jos išsaugo savo vidinę būseną, todėl jų vykdymas gali būti atnaujintas nuo tos pačios būsenos, kurioje buvo baigtas. Tai iš dalies panašu į iteratorių tik turintį daugiau galimybių. Vidinė funkcijos būsena išsaugoma su komanda yield, kuri veikia panačiai kaip return grąžina reikšmę."
   ]
  },
  {
   "cell_type": "code",
   "execution_count": null,
   "metadata": {
    "collapsed": false,
    "deletable": true,
    "editable": true
   },
   "outputs": [],
   "source": [
    "# funkcijos generatoriai\n",
    "def number_generator(n):\n",
    "    number = 0\n",
    "    while number < n:\n",
    "        yield number\n",
    "        number += 1\n",
    "\n",
    "generator = number_generator(3)\n",
    "\n",
    "print(next(generator))  \n",
    "print(next(generator))  \n",
    "print(next(generator)) \n",
    "\n",
    "generator = number_generator(10)\n",
    "\n",
    "print(next(generator))  \n",
    "print(next(generator))  \n",
    "print(next(generator)) \n",
    "print(next(generator)) \n",
    "print(next(generator)) \n",
    "print(next(generator)) "
   ]
  },
  {
   "cell_type": "code",
   "execution_count": null,
   "metadata": {
    "collapsed": false,
    "deletable": true,
    "editable": true
   },
   "outputs": [],
   "source": [
    "# generatoriaus panaudojimas cikle\n",
    "def number_generator(n):\n",
    "    number = 0\n",
    "    while number < n:\n",
    "        yield number\n",
    "        number += 1\n",
    "\n",
    "for num in number_generator(7):\n",
    "    print(num)"
   ]
  },
  {
   "cell_type": "code",
   "execution_count": null,
   "metadata": {
    "collapsed": false,
    "deletable": true,
    "editable": true
   },
   "outputs": [],
   "source": [
    "# return komandos panaudojimas generatoriuje\n",
    "def number_generator(n):\n",
    "    if n <= 20:\n",
    "        number = 0\n",
    "        while number < n:\n",
    "            yield number\n",
    "            number += 1\n",
    "    else:\n",
    "        return\n",
    "\n",
    "for num in number_generator(2):\n",
    "    print(num)\n",
    "\n",
    "for num in number_generator(22):\n",
    "    print(num)"
   ]
  },
  {
   "cell_type": "markdown",
   "metadata": {
    "deletable": true,
    "editable": true
   },
   "source": [
    "# Funkcijos dekoratoriai\n",
    "\n",
    "Dekoratoiai (angl. decorators), tai bet koks vykdytinas (angl. callable) Python objektas, kuris skirtas funkcijų arba klasių (apie jas vėliau) modifikavimui. Funkcijos arba klasės nuoroda yra perduodama dekoratoriui, o jis grąžina modifikuotą šios funkcijos arba klasės versiją."
   ]
  },
  {
   "cell_type": "code",
   "execution_count": 6,
   "metadata": {
    "collapsed": false,
    "deletable": true,
    "editable": true
   },
   "outputs": [
    {
     "name": "stdout",
     "output_type": "stream",
     "text": [
      "Python rocks!\n",
      "<b>Python rocks!</b>\n"
     ]
    }
   ],
   "source": [
    "# dekoratorius\n",
    "def bold(func):\n",
    "    def wrapper():\n",
    "        return \"<b>\" + func() + \"</b>\"\n",
    "    return wrapper\n",
    "  \n",
    "def formatted_text():\n",
    "    return 'Python rocks!'\n",
    " \n",
    "print(formatted_text())\n",
    "\n",
    "formatted_text = bold(formatted_text)\n",
    "print(formatted_text())"
   ]
  },
  {
   "cell_type": "code",
   "execution_count": 7,
   "metadata": {
    "collapsed": false,
    "deletable": true,
    "editable": true
   },
   "outputs": [
    {
     "name": "stdout",
     "output_type": "stream",
     "text": [
      "<b>Python rocks!</b>\n"
     ]
    }
   ],
   "source": [
    "# dekoratorius\n",
    "def bold(func):\n",
    "    def wrapper():\n",
    "        return \"<b>\" + func() + \"</b>\"\n",
    "    return wrapper\n",
    "\n",
    "@bold\n",
    "def formatted_text():\n",
    "    return 'Python rocks!'\n",
    " \n",
    "print(formatted_text())"
   ]
  },
  {
   "cell_type": "code",
   "execution_count": 8,
   "metadata": {
    "collapsed": false,
    "deletable": true,
    "editable": true
   },
   "outputs": [
    {
     "name": "stdout",
     "output_type": "stream",
     "text": [
      "<i><b>Python rocks!</b></i>\n"
     ]
    }
   ],
   "source": [
    "# keli dekoratoriai\n",
    "def bold(func):\n",
    "    def wrapper():\n",
    "        return \"<b>\" + func() + \"</b>\"\n",
    "    return wrapper\n",
    "\n",
    "def italic(func):\n",
    "    def wrapper():\n",
    "        return \"<i>\" + func() + \"</i>\"\n",
    "    return wrapper\n",
    "\n",
    "@italic\n",
    "@bold\n",
    "def formatted_text():\n",
    "    return 'Python rocks!'\n",
    " \n",
    "print(formatted_text())"
   ]
  },
  {
   "cell_type": "code",
   "execution_count": 9,
   "metadata": {
    "collapsed": false,
    "deletable": true,
    "editable": true
   },
   "outputs": [
    {
     "name": "stdout",
     "output_type": "stream",
     "text": [
      "Prieš kviečiant succ\n",
      "11\n",
      "Po kvietimo succ\n"
     ]
    }
   ],
   "source": [
    "# dekoratorius\n",
    "def our_decorator(func):\n",
    "    def function_wrapper(x):\n",
    "        print(\"Prieš kviečiant \" + func.__name__)\n",
    "        \n",
    "        res = func(x)\n",
    "        \n",
    "        print(res)\n",
    "        print(\"Po kvietimo \" + func.__name__)\n",
    "    return function_wrapper\n",
    "\n",
    "@our_decorator\n",
    "def succ(n):\n",
    "    return n + 1\n",
    "\n",
    "succ(10)"
   ]
  },
  {
   "cell_type": "markdown",
   "metadata": {
    "deletable": true,
    "editable": true
   },
   "source": [
    "# Rekursija\n",
    "\n",
    "Rekursija kaip ir ciklai naudojama kokios nors programos kodo dalies kartojimui realizuoti. Wikipedia apibrėžimas: rekursija - programų ar algoritmų sudarymo metodas, kai programa kreipiasi pati į save, esant mažesnėms argumentų reikšmėms. Rekursyviai programai reikia papildomai apibrėžti atvejį, kai pasiektos mažiausios galimos reikšmės."
   ]
  },
  {
   "cell_type": "code",
   "execution_count": null,
   "metadata": {
    "collapsed": false,
    "deletable": true,
    "editable": true
   },
   "outputs": [],
   "source": [
    "# faktorialo skaičiavimas\n",
    "def factorial(n):\n",
    "    print(\"factorial funkcija iškviesta su n = \", n)\n",
    "    if n == 1:\n",
    "        return 1\n",
    "    else:\n",
    "        res = n * factorial(n-1)\n",
    "        print(\"tarpinis rezultatas\", n, \"* factorial(\" , n-1, \"): \", res)\n",
    "        return res\n",
    "\n",
    "print(factorial(5))"
   ]
  },
  {
   "cell_type": "code",
   "execution_count": null,
   "metadata": {
    "collapsed": false,
    "deletable": true,
    "editable": true
   },
   "outputs": [],
   "source": [
    "# faktorialas naudojant ciklus\n",
    "def factorial(n):\n",
    "    result = 1\n",
    "    for i in range(2, n+1):\n",
    "        result *= i\n",
    "    return result\n",
    "\n",
    "print(factorial(5))"
   ]
  },
  {
   "cell_type": "code",
   "execution_count": null,
   "metadata": {
    "collapsed": false,
    "deletable": true,
    "editable": true
   },
   "outputs": [],
   "source": [
    "# fubonačio skaičius (0, 1, 1, 2, 3, 5, 8, 13, 21, 34, 55, 89, 144, 233)\n",
    "def fib(n):\n",
    "    if n == 0:\n",
    "        return 0\n",
    "    elif n == 1:\n",
    "        return 1\n",
    "    else:\n",
    "        return fib(n-1) + fib(n-2)\n",
    "\n",
    "print(fib(6))"
   ]
  },
  {
   "cell_type": "code",
   "execution_count": null,
   "metadata": {
    "collapsed": false,
    "deletable": true,
    "editable": true
   },
   "outputs": [],
   "source": [
    "# fibonačio skaičius naudojant ciklą\n",
    "def fib(n):\n",
    "    a, b = 0, 1\n",
    "    for i in range(n):\n",
    "        a, b = b, a + b\n",
    "    return a\n",
    "\n",
    "print(fib(3))"
   ]
  },
  {
   "cell_type": "markdown",
   "metadata": {
    "deletable": true,
    "editable": true
   },
   "source": [
    "# Užduotys\n",
    "\n",
    "1. Parašyti programą pitagoro teoremai apskaičiuoti. Pitagoro teorema turi būti skaičiuojama funkcijoje. Reikiamas reikšmes turi įvesti vartotojas. Parašyti duomenų validavimo išimtis.\n",
    "2. Parašyti programą kūno masės indeksui apskaičiuoti. Kūno masės indeksas turi būti skaičiuojamas funkcijoje. Nepamiršti patikrinti parametrų taisyklingumo. Reikiamas reikšmes turi įvesti vartotojas. Parašyti duomenų validavimo išimtis.\n",
    "3. Parašyti funkciją, kuri galėtų priimti du parametrus: pirmas - skaičius, antras - sąrašas skaičių. Funkcija turi grąžinti: sąrašo vidurkį, didžiausią ir mažiausią skaičių, skaičių kiek skaitmenų sąraše yra mažesni ir didesni negu pirmas parametras.\n",
    "4. Parašyti dekoratorių pirmos užduoties funkcijai, kuri visas grąžinamas reikšmes padaugintų iš dviejų, bei jas atspausdintų.\n",
    "5. Parašyti programą, kuri vartotojo paprašytų įvesti kableliu atskirtų skaitmenų seką. Sukurti generatorių, kuriam paduodami du parametrai: pirmas - vartotojo įvestas tekstas paverstas į sąrašą, bei parametras \"stop\", kurio numatytoji reikšmė lygi 2. Generatorius turėtų formuoti grąžinamus elementus pagal formulę: sąrašo reikšmė * 0.5. Parametras \"stop\" nurodo kiek elementų generatoriui grąžinti. Kai pasiekiamas \"stop\" parametre nurodytas grąžinamų elementų skaičius, generatorius baigia darbą. Parašyti duomenų validumo išimtis.\n",
    "6. Parašyti programą, kuri paprašytų vartotojo įvesti skaičių. Naudojant rekursiją suskaičiuoti visų skaičių nuo 0 iki įvesto skaičiaus sumą ir ją atspausdinti. Jei įveda 4, tai 0 + 1 + 2 + 3 + 4 = 10"
   ]
  }
 ],
 "metadata": {
  "kernelspec": {
   "display_name": "Python 3",
   "language": "python",
   "name": "python3"
  },
  "language_info": {
   "codemirror_mode": {
    "name": "ipython",
    "version": 3
   },
   "file_extension": ".py",
   "mimetype": "text/x-python",
   "name": "python",
   "nbconvert_exporter": "python",
   "pygments_lexer": "ipython3",
   "version": "3.6.3"
  }
 },
 "nbformat": 4,
 "nbformat_minor": 2
}

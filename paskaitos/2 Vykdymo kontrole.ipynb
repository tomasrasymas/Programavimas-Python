{
 "cells": [
  {
   "cell_type": "markdown",
   "metadata": {
    "collapsed": true,
    "deletable": true,
    "editable": true
   },
   "source": [
    "# Programos vykdymo kontrolė"
   ]
  },
  {
   "cell_type": "markdown",
   "metadata": {
    "deletable": true,
    "editable": true
   },
   "source": [
    "# if...else... sąlygos sakinys\n",
    "\n",
    "Šis sakinys skirtas patikrinti tam tikrą loginę sąlygą. Jei sąlyga teisinga (True) vykdomas vienas programos blokas, jei sąlyga klaidinga (False) vykdomas kitas programos blokas."
   ]
  },
  {
   "cell_type": "code",
   "execution_count": null,
   "metadata": {
    "collapsed": false,
    "deletable": true,
    "editable": true
   },
   "outputs": [],
   "source": [
    "# if sąlyga\n",
    "a = int(input(\"Įveskite skaičių\"))\n",
    "\n",
    "if a == 100:\n",
    "    print(\"Šimtas\")\n",
    "\n",
    "if a != 100:\n",
    "    print(\"Kitoks skaičius\")"
   ]
  },
  {
   "cell_type": "code",
   "execution_count": null,
   "metadata": {
    "collapsed": false,
    "deletable": true,
    "editable": true
   },
   "outputs": [],
   "source": [
    "# if...else... sąlyga\n",
    "a = int(input(\"Įveskite skaičių\"))\n",
    "\n",
    "if a == 100:\n",
    "    print(\"Šimtas\")\n",
    "else:\n",
    "    print(\"Kitoks skaičius\")"
   ]
  },
  {
   "cell_type": "code",
   "execution_count": null,
   "metadata": {
    "collapsed": false,
    "deletable": true,
    "editable": true
   },
   "outputs": [],
   "source": [
    "# apjungtos sąlygos\n",
    "a = int(input(\"Įveskite skaičių\"))\n",
    "\n",
    "if a == 100:\n",
    "    print(\"Šimtas\")\n",
    "elif a == 200:\n",
    "    print(\"Du šimtai\")\n",
    "elif a == 300:\n",
    "    print(\"Trys šimtai\")\n",
    "else:\n",
    "    print(\"Kitoks skaičius\")"
   ]
  },
  {
   "cell_type": "code",
   "execution_count": null,
   "metadata": {
    "collapsed": false,
    "deletable": true,
    "editable": true
   },
   "outputs": [],
   "source": [
    "# kelios sąlygos viename if'e\n",
    "a = int(input(\"Įveskite skaičių\"))\n",
    "\n",
    "if a >= 100 and a < 200:\n",
    "    print(\"Skaičius tarp 100 ir 200\")\n",
    "else:\n",
    "    print(\"Skaičius ne tarp 100 ir 200\")"
   ]
  },
  {
   "cell_type": "code",
   "execution_count": null,
   "metadata": {
    "collapsed": true,
    "deletable": true,
    "editable": true
   },
   "outputs": [],
   "source": [
    "# if'as if'e\n",
    "a = int(input(\"Įveskite skaičių\"))\n",
    "\n",
    "if a >= 100 and a < 200:\n",
    "    if a == 150:\n",
    "        print(\"Tai 150\")\n",
    "    else:\n",
    "        print(\"Skaičius tarp 100 ir 200\")\n",
    "else:\n",
    "    print(\"Skaičius ne tarp 100 ir 200\")"
   ]
  },
  {
   "cell_type": "code",
   "execution_count": null,
   "metadata": {
    "collapsed": false,
    "deletable": true,
    "editable": true
   },
   "outputs": [],
   "source": [
    "# if'as vienoje eilutėje\n",
    "a = int(input(\"Įveskite skaičių\"))\n",
    "print(\"Daugiau už 100\" if a >= 100 else \"Mažiau už 100\")"
   ]
  },
  {
   "cell_type": "markdown",
   "metadata": {
    "deletable": true,
    "editable": true
   },
   "source": [
    "# while ciklas\n",
    "\n",
    "Ciklas skirtas vykdyti programinio kodo bloką tol, kol sąlyga yra teisinga."
   ]
  },
  {
   "cell_type": "code",
   "execution_count": null,
   "metadata": {
    "collapsed": false,
    "deletable": true,
    "editable": true
   },
   "outputs": [],
   "source": [
    "# while ciklas be else sąlygos\n",
    "sum = 0\n",
    "i = 1\n",
    "\n",
    "while i <= 10:\n",
    "    sum += i\n",
    "    \n",
    "    print(i, sum)\n",
    "    \n",
    "    i += 1\n",
    "\n",
    "print(\"Suma: \", sum)"
   ]
  },
  {
   "cell_type": "code",
   "execution_count": null,
   "metadata": {
    "collapsed": false,
    "deletable": true,
    "editable": true
   },
   "outputs": [],
   "source": [
    "# while ciklas su else sąlyga\n",
    "number = 23\n",
    "running = True\n",
    "\n",
    "while running:\n",
    "    guess = int(input(\"Įvestike skaičių:\"))\n",
    "\n",
    "    if guess == number:\n",
    "        print(\"Atspėjot skaičių!\")\n",
    "        running = False\n",
    "    elif guess < number:\n",
    "        print(\"Skaičius yra didesnis.\")\n",
    "    else:\n",
    "        print(\"Skaičius yra mažesnis.\")\n",
    "else:\n",
    "    print(\"Ciklas baigtas\")\n",
    "\n",
    "print(\"Pabaiga\")"
   ]
  },
  {
   "cell_type": "markdown",
   "metadata": {
    "deletable": true,
    "editable": true
   },
   "source": [
    "# for ciklas\n",
    "\n",
    "Ciklas skirtas iteruoti per iteruojamus objektus: sąrašus, žodynus, tekstą. Naudojant šį ciklą svarbi komanda yra range. Range sugeneruoja nekintamą sąrašą sudarytą iš skaičių ir dažnai naudojamas kontroliuoti for ciklo vykdymo kartus. Jei reikia iteruoti per sąrašą ir gauti einamo elemento indeksą, naudojama funkcija enumerate."
   ]
  },
  {
   "cell_type": "code",
   "execution_count": null,
   "metadata": {
    "collapsed": false,
    "deletable": true,
    "editable": true
   },
   "outputs": [],
   "source": [
    "# funkcijos range naudojimas\n",
    "a = range(10)\n",
    "print(list(a))\n",
    "\n",
    "a = range(3, 10)\n",
    "print(list(a))\n",
    "\n",
    "a = range(3, 10, 2)\n",
    "print(list(a))"
   ]
  },
  {
   "cell_type": "code",
   "execution_count": null,
   "metadata": {
    "collapsed": false,
    "deletable": true,
    "editable": true
   },
   "outputs": [],
   "source": [
    "numbers = [6, 5, 3, 8, 4, 2, 5, 4, 11]\n",
    "\n",
    "sum = 0\n",
    "\n",
    "for val in numbers:\n",
    "    sum += val\n",
    "\n",
    "print(\"Suma: \", sum)"
   ]
  },
  {
   "cell_type": "code",
   "execution_count": null,
   "metadata": {
    "collapsed": false,
    "deletable": true,
    "editable": true
   },
   "outputs": [],
   "source": [
    "sum = 0\n",
    "\n",
    "for val in range(1, 10, 3):\n",
    "    print(val)\n",
    "    sum += val\n",
    "\n",
    "print(\"Suma: \", sum)"
   ]
  },
  {
   "cell_type": "code",
   "execution_count": null,
   "metadata": {
    "collapsed": false,
    "deletable": true,
    "editable": true
   },
   "outputs": [],
   "source": [
    "for val in \"Labas\":\n",
    "    print(val)"
   ]
  },
  {
   "cell_type": "code",
   "execution_count": null,
   "metadata": {
    "collapsed": false,
    "deletable": true,
    "editable": true
   },
   "outputs": [],
   "source": [
    "# vienos eilutės for ciklas\n",
    "a = [1, 2, 3, 4, 5]\n",
    "\n",
    "a = [x * 2 for x in a]\n",
    "print(a)"
   ]
  },
  {
   "cell_type": "code",
   "execution_count": null,
   "metadata": {
    "collapsed": false,
    "deletable": true,
    "editable": true
   },
   "outputs": [],
   "source": [
    "# vienos eilutės for ciklas su if sąlyga\n",
    "a = [1, 2, 3, 4, 5]\n",
    "\n",
    "a = [x * 2 if x * 2 >= 6 else 0 for x in a]\n",
    "print(a)"
   ]
  },
  {
   "cell_type": "code",
   "execution_count": null,
   "metadata": {
    "collapsed": true
   },
   "outputs": [],
   "source": [
    "# vienos eilutės for ciklas su "
   ]
  },
  {
   "cell_type": "code",
   "execution_count": null,
   "metadata": {
    "collapsed": false,
    "deletable": true,
    "editable": true
   },
   "outputs": [],
   "source": [
    "# iteravimas per sąrašą su indeksu\n",
    "for idx, val in enumerate(\"Labas\"):\n",
    "    print(idx, val)"
   ]
  },
  {
   "cell_type": "code",
   "execution_count": null,
   "metadata": {
    "collapsed": false,
    "deletable": true,
    "editable": true
   },
   "outputs": [],
   "source": [
    "# iteravimas per žodyną\n",
    "a = {\n",
    "    \"Jonas\": \"pirmas\",\n",
    "    \"Petras\": \"antras\",\n",
    "    \"Saulius\": \"trčias\"\n",
    "}\n",
    "\n",
    "print(a.items())\n",
    "\n",
    "for key, value in a.items():\n",
    "    print(key, value)\n",
    "    \n",
    "for key in a:\n",
    "    print(key)\n",
    "\n",
    "for key in a.keys():\n",
    "    print(key)\n",
    "    \n",
    "for values in a.values():\n",
    "    print(values)"
   ]
  },
  {
   "cell_type": "code",
   "execution_count": null,
   "metadata": {
    "collapsed": false,
    "deletable": true,
    "editable": true
   },
   "outputs": [],
   "source": [
    "# teksto skaidymas, simbolių keitimas\n",
    "a = \"nulis.vienas.du.trys.keturi.penkti.šeši.septyni.aštuoni.devyni\"\n",
    "print(a)\n",
    "\n",
    "a = a.replace(\".\", \"-\")\n",
    "print(a)\n",
    "\n",
    "a = a.split(\"-\")\n",
    "print(a)\n",
    "\n",
    "for val in a:\n",
    "    print(val)"
   ]
  },
  {
   "cell_type": "markdown",
   "metadata": {
    "deletable": true,
    "editable": true
   },
   "source": [
    "# Iteratoriai\n",
    "\n",
    "Iteratoriai - tai objektai, kurie leidžia peržiūrėti visus kolekcijos elementus, grąžindami po vieną kolekcijos elementą vienu metu. Iteratoriai privalo turėti metodą __next__(), kuris grąžina sekantį kolekcijos elementą, jei elementų nebėra - išaukia StopIteration klaidą (apie klaidas vėliau).\n",
    "\n",
    "Funkcijai iter() padavus bet kokį objektą, ji bando grąžina iteratorių, jei to padaryti nepavyksta grąžina TypeError klaidą.\n",
    "\n",
    "Naudojant for ciklą for x in Y, Y turi būti iteratorius arba objektas kurį padavus funkcijai iter() būtų grąžintas iteratorius."
   ]
  },
  {
   "cell_type": "code",
   "execution_count": null,
   "metadata": {
    "collapsed": false,
    "deletable": true,
    "editable": true
   },
   "outputs": [],
   "source": [
    "# iteratoriai\n",
    "a = (1, 2, 3, 4)   #sąrašas\n",
    "a_iter = iter(a)   #a sąrašo iteratorius\n",
    "\n",
    "print(type(a))\n",
    "print(type(a_iter))\n",
    "\n",
    "print(a_iter.__next__())\n",
    "print(a_iter.__next__())\n",
    "print(a_iter.__next__())\n",
    "\n",
    "print(type(tuple(a_iter)))\n",
    "\n",
    "print(a.__next__())"
   ]
  },
  {
   "cell_type": "code",
   "execution_count": null,
   "metadata": {
    "collapsed": false,
    "deletable": true,
    "editable": true
   },
   "outputs": [],
   "source": [
    "# iteravimas for cikle. Abu ciklai vienodi.\n",
    "a = (1, 2, 3, 4)\n",
    "\n",
    "for i in iter(a):\n",
    "    print(i)\n",
    "\n",
    "for i in a:\n",
    "    print(i)"
   ]
  },
  {
   "cell_type": "markdown",
   "metadata": {
    "deletable": true,
    "editable": true
   },
   "source": [
    "# ciklo valdymas su break ir continue komandomis\n",
    "\n",
    "* break - sustabdo ciklo vykdymą ir vykdymą perduoda komandai po ciklo.\n",
    "* continue - praleidžia likusią ciklo bloko dalį ir iš naujo patikrina vykdymo sąlygą."
   ]
  },
  {
   "cell_type": "code",
   "execution_count": null,
   "metadata": {
    "collapsed": false,
    "deletable": true,
    "editable": true
   },
   "outputs": [],
   "source": [
    "for val in \"tekstas\":\n",
    "    if val == \"s\":\n",
    "        break\n",
    "    print(val)\n",
    "\n",
    "print(\"Pabaiga\")"
   ]
  },
  {
   "cell_type": "code",
   "execution_count": null,
   "metadata": {
    "collapsed": false,
    "deletable": true,
    "editable": true
   },
   "outputs": [],
   "source": [
    "val = 10\n",
    "\n",
    "while val > 0:\n",
    "    val -= 1\n",
    "    if val == 5:\n",
    "        continue\n",
    "    print(\"Reikšmė: \", val)\n",
    "print(\"Pabaiga!\")"
   ]
  },
  {
   "cell_type": "markdown",
   "metadata": {
    "deletable": true,
    "editable": true
   },
   "source": [
    "# pass komanda\n",
    "\n",
    "Tai tuščia komanda, ji naudojama tik dėl sintaksės. "
   ]
  },
  {
   "cell_type": "code",
   "execution_count": null,
   "metadata": {
    "collapsed": false,
    "deletable": true,
    "editable": true
   },
   "outputs": [],
   "source": [
    "sequence = [1, 2, 3, 4]\n",
    "\n",
    "for val in sequence:\n",
    "    pass\n",
    "\n",
    "print(\"Pabaiga\")"
   ]
  },
  {
   "cell_type": "markdown",
   "metadata": {
    "deletable": true,
    "editable": true
   },
   "source": [
    "# Klaidų valdymas\n",
    "\n",
    "Išskiriamos dviejų tipų klaidos:\n",
    "* Sintaksės klaidos.\n",
    "* Klaidos vykstančios programos vykdymo metu (angl. runtime), kai sintaksė yra validi.\n",
    "\n",
    "Sąrašas jau sukurtų išimčių (angl. exceptions) yra pateikiamas čia https://docs.python.org/3/library/exceptions.html#bltin-exceptions.\n",
    "\n",
    "Išimčių valdymui yra naudojamos try...except komanda. Ši komanda turi du neprivalomus sakinius, tai else ir finally. Else bloke aprašoma kas bus vykdoma jei try bloke neįvyko klaida, o finally bloke aprašoma tai kas bus vykdoma visais atvejais, nepriklausomai buvo klaida ar ne.\n",
    "\n",
    "Išimties iššaukimui naudojama raise komanda."
   ]
  },
  {
   "cell_type": "code",
   "execution_count": null,
   "metadata": {
    "collapsed": false,
    "deletable": true,
    "editable": true
   },
   "outputs": [],
   "source": [
    "# tikimasi skaičiaus, o įvedamas tekstas, gaunamas ValueError\n",
    "n = int(input(\"Įveskite skaičių: \"))"
   ]
  },
  {
   "cell_type": "code",
   "execution_count": null,
   "metadata": {
    "collapsed": false,
    "deletable": true,
    "editable": true
   },
   "outputs": [],
   "source": [
    "# ValueError išimtis\n",
    "while True:\n",
    "    try:\n",
    "        n = input(\"Įveskite skaičių: \")\n",
    "        n = int(n)\n",
    "        break\n",
    "    except ValueError:\n",
    "        print(\"Tai ne skaičius. Bandykite dar kartą...\")\n",
    "print(\"Įvestas skaičius\")"
   ]
  },
  {
   "cell_type": "code",
   "execution_count": null,
   "metadata": {
    "collapsed": false,
    "deletable": true,
    "editable": true
   },
   "outputs": [],
   "source": [
    "# ValueError pagaunama, tačiau ZeroDivisionError ne\n",
    "while True:\n",
    "    try:\n",
    "        n = input(\"Įveskite skaičių: \")\n",
    "        n = int(n)\n",
    "        print(\"Rezultatas:\", 10 / n)\n",
    "        break\n",
    "    except ValueError:\n",
    "        print(\"Tai ne skaičius. Bandykite dar kartą...\")"
   ]
  },
  {
   "cell_type": "code",
   "execution_count": null,
   "metadata": {
    "collapsed": false,
    "deletable": true,
    "editable": true
   },
   "outputs": [],
   "source": [
    "# kelios išimtys: ZeroDivisionError ir ValueError\n",
    "while True:\n",
    "    try:\n",
    "        n = input(\"Įveskite skaičių: \")\n",
    "        n = int(n)\n",
    "        print(\"Rezultatas:\", 10 / n)\n",
    "        break\n",
    "    except ValueError as e:\n",
    "        print(e.args)\n",
    "        print(\"Tai ne skaičius. Bandykite dar kartą...\")\n",
    "    except ZeroDivisionError as e:\n",
    "        print(e.args)\n",
    "        print(\"Dalyba iš nulio negalima. Bandykite dar kartą...\")"
   ]
  },
  {
   "cell_type": "code",
   "execution_count": null,
   "metadata": {
    "collapsed": false,
    "deletable": true,
    "editable": true
   },
   "outputs": [],
   "source": [
    "# visų išimčių suvaldymas\n",
    "while True:\n",
    "    try:\n",
    "        n = input(\"Įveskite skaičių: \")\n",
    "        n = int(n)\n",
    "        print(\"Rezultatas:\", 10 / n)\n",
    "        break\n",
    "    except:\n",
    "        print(\"Kažkas negerai. Bandykite dar kartą...\")"
   ]
  },
  {
   "cell_type": "code",
   "execution_count": null,
   "metadata": {
    "collapsed": false,
    "deletable": true,
    "editable": true
   },
   "outputs": [],
   "source": [
    "# išimties iššaukimas\n",
    "while True:\n",
    "    try:\n",
    "        n = input(\"Įveskite skaičių: \")\n",
    "        n = int(n)\n",
    "        \n",
    "        if n > 100:\n",
    "            raise ValueError(\"Skaičius didesnis už 100.\")\n",
    "        \n",
    "        print(\"Rezultatas:\", 10 / n)\n",
    "        break\n",
    "    except ValueError as e:\n",
    "        print(e.args)\n",
    "    except:\n",
    "        print(\"Kažkas negerai. Bandykite dar kartą...\")"
   ]
  },
  {
   "cell_type": "code",
   "execution_count": null,
   "metadata": {
    "collapsed": false,
    "deletable": true,
    "editable": true
   },
   "outputs": [],
   "source": [
    "# else ir finally blokai\n",
    "def proper_divide(x, y):\n",
    "    try:\n",
    "        result = x / y\n",
    "    except ZeroDivisionError:\n",
    "        print(\"Dalyba iš nulio negalima\")\n",
    "    else:\n",
    "        print(\"Dalybos rezultatas: \", result)\n",
    "    finally:\n",
    "        print(\"Pabaiga\")\n",
    "\n",
    "proper_divide(10, 0)\n",
    "proper_divide(10, 2)"
   ]
  },
  {
   "cell_type": "markdown",
   "metadata": {
    "deletable": true,
    "editable": true
   },
   "source": [
    "# Užduotys\n",
    "\n",
    "1. Parašyti programą, kuri iš dviejų sąrašų x ir y elementų suformuotų ir į ekraną išvestų naują surikiuotą sąrašą, sudarytą iš bendrų x ir y sąrašų elementų.\n",
    "```python\n",
    "    x = [1, 2, 3, 4, 5, 100, 200, 300, 1000]\n",
    "    y = [100, 1000, 250, 200, 2, 2]\n",
    "```\n",
    "2. Parašyti programą, kuri surastų visus skaitmenis, kurie dalinasi iš 7, bet nesidalina iš 5, iš intervalo 2000 - 4000 (įskaitant abu skaitmenis). Šiuos skaitmenis išvesti į ekraną. \n",
    "3. Parašyti programą, kuri paprašytų įvesti skaičių (n), tada nuo 0 iki n sugeneruoti žodyną, kurio raktas ir reikšmė būtų (i, i*2). Sugeneruotą žodyną išvesti į ekraną.\n",
    "4. Parašyti programą, kuri atliktų simbolių keitimą, pagal žodyne aprašytas taisykles. Pakeistą tekstą išvesti į ekraną.\n",
    "```python\n",
    "    rules = {\n",
    "        \".\": \"\",\n",
    "        \",\": \".\",\n",
    "        \"!\": \"?\",\n",
    "        \"a\": \"A\"\n",
    "    }\n",
    "```\n",
    "5. Pakoreguoti trečios užduoties programinį kodą taip, jog įvedus skaitmenį nuo 2 iki 4 būtų iššaukiama ValueError klaida."
   ]
  }
 ],
 "metadata": {
  "kernelspec": {
   "display_name": "Python 3",
   "language": "python",
   "name": "python3"
  },
  "language_info": {
   "codemirror_mode": {
    "name": "ipython",
    "version": 3
   },
   "file_extension": ".py",
   "mimetype": "text/x-python",
   "name": "python",
   "nbconvert_exporter": "python",
   "pygments_lexer": "ipython3",
   "version": "3.6.3"
  }
 },
 "nbformat": 4,
 "nbformat_minor": 2
}

{
 "cells": [
  {
   "cell_type": "markdown",
   "metadata": {
    "collapsed": true,
    "deletable": true,
    "editable": true
   },
   "source": [
    "# Programos vykdymo kontrolė"
   ]
  },
  {
   "cell_type": "markdown",
   "metadata": {},
   "source": [
    "# if...else... sąlygos sakinys\n",
    "\n",
    "Šis sakinys skirtas patikrinti tam tikrą loginę sąlygą. Jei sąlyga teisinga (True) vykdomas vienas programos blokas, jei sąlyga klaidinga (False) vykdomas kitas programos blokas."
   ]
  },
  {
   "cell_type": "code",
   "execution_count": null,
   "metadata": {
    "collapsed": false
   },
   "outputs": [],
   "source": [
    "# if sąlyga\n",
    "a = int(input(\"Įveskite skaičių\"))\n",
    "\n",
    "if a == 100:\n",
    "    print(\"Šimtas\")\n",
    "\n",
    "if a != 100:\n",
    "    print(\"Kitoks skaičius\")"
   ]
  },
  {
   "cell_type": "code",
   "execution_count": null,
   "metadata": {
    "collapsed": false
   },
   "outputs": [],
   "source": [
    "# if...else... sąlyga\n",
    "a = int(input(\"Įveskite skaičių\"))\n",
    "\n",
    "if a == 100:\n",
    "    print(\"Šimtas\")\n",
    "else:\n",
    "    print(\"Kitoks skaičius\")"
   ]
  },
  {
   "cell_type": "code",
   "execution_count": null,
   "metadata": {
    "collapsed": false
   },
   "outputs": [],
   "source": [
    "# apjungtos sąlygos\n",
    "a = int(input(\"Įveskite skaičių\"))\n",
    "\n",
    "if a == 100:\n",
    "    print(\"Šimtas\")\n",
    "elif a == 200:\n",
    "    print(\"Du šimtai\")\n",
    "elif a == 300:\n",
    "    print(\"Trys šimtai\")\n",
    "else:\n",
    "    print(\"Kitoks skaičius\")"
   ]
  },
  {
   "cell_type": "code",
   "execution_count": null,
   "metadata": {
    "collapsed": false
   },
   "outputs": [],
   "source": [
    "# kelios sąlygos viename if'e\n",
    "a = int(input(\"Įveskite skaičių\"))\n",
    "\n",
    "if a >= 100 and a < 200:\n",
    "    print(\"Skaičius tarp 100 ir 200\")\n",
    "else:\n",
    "    print(\"Skaičius ne tarp 100 ir 200\")"
   ]
  },
  {
   "cell_type": "code",
   "execution_count": null,
   "metadata": {
    "collapsed": true
   },
   "outputs": [],
   "source": [
    "# if'as if'e\n",
    "a = int(input(\"Įveskite skaičių\"))\n",
    "\n",
    "if a >= 100 and a < 200:\n",
    "    if a == 150:\n",
    "        print(\"Tai 150\")\n",
    "    else:\n",
    "        print(\"Skaičius tarp 100 ir 200\")\n",
    "else:\n",
    "    print(\"Skaičius ne tarp 100 ir 200\")"
   ]
  },
  {
   "cell_type": "code",
   "execution_count": null,
   "metadata": {
    "collapsed": false
   },
   "outputs": [],
   "source": [
    "# if'as vienoje eilutėje\n",
    "a = int(input(\"Įveskite skaičių\"))\n",
    "print(\"Daugiau už 100\" if a >= 100 else \"Mažiau už 100\")"
   ]
  },
  {
   "cell_type": "markdown",
   "metadata": {},
   "source": [
    "# for ciklas"
   ]
  },
  {
   "cell_type": "markdown",
   "metadata": {},
   "source": [
    "# while ciklas"
   ]
  },
  {
   "cell_type": "markdown",
   "metadata": {},
   "source": [
    "# ciklo valdymas su break ir continue komandomis"
   ]
  }
 ],
 "metadata": {
  "kernelspec": {
   "display_name": "Python 3",
   "language": "python",
   "name": "python3"
  },
  "language_info": {
   "codemirror_mode": {
    "name": "ipython",
    "version": 3
   },
   "file_extension": ".py",
   "mimetype": "text/x-python",
   "name": "python",
   "nbconvert_exporter": "python",
   "pygments_lexer": "ipython3",
   "version": "3.6.3"
  }
 },
 "nbformat": 4,
 "nbformat_minor": 2
}

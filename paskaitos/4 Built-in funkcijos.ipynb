{
 "cells": [
  {
   "cell_type": "markdown",
   "metadata": {
    "deletable": true,
    "editable": true
   },
   "source": [
    "# Python built-in funkcijos\n",
    "\n",
    "Python turi jau paruoštų funkcijų, kurios palengvina darbą. Jos yra prieinamos be papildomų aprašymų.\n",
    "\n",
    "https://docs.python.org/3/library/functions.html"
   ]
  },
  {
   "cell_type": "code",
   "execution_count": null,
   "metadata": {
    "collapsed": false,
    "deletable": true,
    "editable": true
   },
   "outputs": [],
   "source": [
    "# abs(x) - grąžina absoliutinę skaičiau reikšmę\n",
    "\n",
    "print(abs(-45))\n",
    "print(abs(-5))\n",
    "print(abs(10))"
   ]
  },
  {
   "cell_type": "code",
   "execution_count": null,
   "metadata": {
    "collapsed": false,
    "deletable": true,
    "editable": true
   },
   "outputs": [],
   "source": [
    "# all(iterator) - grąžina True jei visi elementai iteratoriuje yra True\n",
    "a = [1, 2, 3]\n",
    "print(all(a))\n",
    "\n",
    "a = [1, 0, 3]\n",
    "print(all(a))\n",
    "\n",
    "a = [1, \"2\", 3, []]\n",
    "print(all(a))"
   ]
  },
  {
   "cell_type": "code",
   "execution_count": null,
   "metadata": {
    "collapsed": false,
    "deletable": true,
    "editable": true
   },
   "outputs": [],
   "source": [
    "# any(iterator) - grąžina True jei bent vienas elementas iteratoriuje yra True\n",
    "a = [0, \"\", None]\n",
    "print(any(a))\n",
    "\n",
    "a = [None, 0, 3]\n",
    "print(any(a))\n",
    "\n",
    "a = [0, \"2\", None, []]\n",
    "print(any(a))"
   ]
  },
  {
   "cell_type": "code",
   "execution_count": null,
   "metadata": {
    "collapsed": false,
    "deletable": true,
    "editable": true
   },
   "outputs": [],
   "source": [
    "# ascii(object) - grąžina objektą paverstą į tekstą, bet  pakeičiant ne ASCII koduotės simbolius\n",
    "print(ascii(\"Labas\"))\n",
    "print(ascii(\"Labas, kur mano pieštukas\"))"
   ]
  },
  {
   "cell_type": "code",
   "execution_count": null,
   "metadata": {
    "collapsed": false,
    "deletable": true,
    "editable": true
   },
   "outputs": [],
   "source": [
    "# bin(x) - paverčia sveiką skaičių į bitų tekstą su \"0b\" priekyje\n",
    "print(bin(4))\n",
    "print(bin(48))"
   ]
  },
  {
   "cell_type": "code",
   "execution_count": null,
   "metadata": {
    "collapsed": false,
    "deletable": true,
    "editable": true
   },
   "outputs": [],
   "source": [
    "# bool([x]) - paverčia x į True arba False pagal taisykles aprašytas pirmoje paskaitoje\n",
    "print(bool([]))\n",
    "print(bool(4))\n",
    "print(bool(0))"
   ]
  },
  {
   "cell_type": "code",
   "execution_count": null,
   "metadata": {
    "collapsed": false,
    "deletable": true,
    "editable": true
   },
   "outputs": [],
   "source": [
    "# callable(object) - patikrina ar objektas gali būti iškviestas, jei taip grąžina True, jei ne False\n",
    "def func():\n",
    "    print(\"Tekstas\")\n",
    "    \n",
    "print(callable(4))\n",
    "print(callable(func))"
   ]
  },
  {
   "cell_type": "code",
   "execution_count": null,
   "metadata": {
    "collapsed": false,
    "deletable": true,
    "editable": true
   },
   "outputs": [],
   "source": [
    "# chr(x) - grąžina simbolį, kurio Unicode koduotėje kodas yra x\n",
    "print(chr(234))\n",
    "print(chr(8364))"
   ]
  },
  {
   "cell_type": "code",
   "execution_count": null,
   "metadata": {
    "collapsed": false,
    "deletable": true,
    "editable": true
   },
   "outputs": [],
   "source": [
    "# complex([real[, imag]]) - grąžina sudėtingą skaičių (angl. complex number) su \n",
    "# realia ir įsivaizduojama dalimis (real + imag*1j).\n",
    "print(complex(\"1+2j\"))\n",
    "print(complex(45))"
   ]
  },
  {
   "cell_type": "code",
   "execution_count": null,
   "metadata": {
    "collapsed": false,
    "deletable": true,
    "editable": true
   },
   "outputs": [],
   "source": [
    "# dict(**kwarg) / dict(mapping, **kwarg) / dict(iterable, **kwarg) - sukuria naują žodyną\n",
    "print(dict([(\"1\", 1), (\"2\", 2), (\"3\", 3), (\"4\", 4)]))"
   ]
  },
  {
   "cell_type": "code",
   "execution_count": null,
   "metadata": {
    "collapsed": false,
    "deletable": true,
    "editable": true
   },
   "outputs": [],
   "source": [
    "# divmod(a, b) - grąžina sąrašą iš dalmens ir liekanos \n",
    "print(\"divmod(8, 3) = \", divmod(8, 3))\n",
    "print(\"divmod(3, 8) = \", divmod(3, 8))\n",
    "print(\"divmod(5, 5) = \", divmod(5, 5))"
   ]
  },
  {
   "cell_type": "code",
   "execution_count": null,
   "metadata": {
    "collapsed": false,
    "deletable": true,
    "editable": true
   },
   "outputs": [],
   "source": [
    "# enumerate(iterable, start=0) - grąžina sunumeruotą objektą\n",
    "a = enumerate([1, 2, 3])\n",
    "print(next(a))\n",
    "print(next(a))"
   ]
  },
  {
   "cell_type": "code",
   "execution_count": null,
   "metadata": {
    "collapsed": false,
    "deletable": true,
    "editable": true
   },
   "outputs": [],
   "source": [
    "# eval(expression, globals=None, locals=None) - vykdo Python kodą\n",
    "x = 1\n",
    "print(eval(\"x + 1\"))\n",
    "print(eval(\"type(x)\"))\n",
    "eval(\"print('Labas')\")"
   ]
  },
  {
   "cell_type": "code",
   "execution_count": null,
   "metadata": {
    "collapsed": false,
    "deletable": true,
    "editable": true
   },
   "outputs": [],
   "source": [
    "# exec(object[, globals[, locals]]) - dinaminis Python kodo vykdymas\n",
    "exec(\"print('Labas')\")"
   ]
  },
  {
   "cell_type": "code",
   "execution_count": null,
   "metadata": {
    "collapsed": false,
    "deletable": true,
    "editable": true
   },
   "outputs": [],
   "source": [
    "# filter(function, iterable) - grąžina naują iteratorių iš tų iterable parametro reikšių kurioms funkcija function \n",
    "# grąžina True reikšmę\n",
    "number_list = range(-5, 5)\n",
    "\n",
    "print(number_list)\n",
    "\n",
    "less_than_zero = filter(lambda x: x < 0, number_list)\n",
    "\n",
    "print(less_than_zero)\n",
    "\n",
    "less_than_zero = list(less_than_zero)\n",
    "\n",
    "print(less_than_zero)"
   ]
  },
  {
   "cell_type": "code",
   "execution_count": null,
   "metadata": {
    "collapsed": false,
    "deletable": true,
    "editable": true
   },
   "outputs": [],
   "source": [
    "# float([x]) - atlieka tipo konvertavimą į float\n",
    "print(float(2))\n",
    "print(float(\"20\"))"
   ]
  },
  {
   "cell_type": "code",
   "execution_count": null,
   "metadata": {
    "collapsed": false,
    "deletable": true,
    "editable": true
   },
   "outputs": [],
   "source": [
    "# format(value[, format_spec]) - konvertuoja reikšmę į formatuotą, pagal formatavimo specifikaciją\n",
    "# https://docs.python.org/3/library/string.html#formatspec\n",
    "\n",
    "# integer\n",
    "print(format(123, \"d\"))\n",
    "\n",
    "# float\n",
    "print(format(123, \"f\"))\n",
    "\n",
    "# binary\n",
    "print(format(12, \"b\"))\n",
    "\n",
    "# integer \n",
    "print(format(1234, \"*>+7,d\"))\n",
    "\n",
    "# float\n",
    "print(format(123.4567, \"^-09.2f\"))"
   ]
  },
  {
   "cell_type": "code",
   "execution_count": null,
   "metadata": {
    "collapsed": false,
    "deletable": true,
    "editable": true
   },
   "outputs": [],
   "source": [
    "# frozenset([iterable]) - grąžina naują nekoreguojamą eilės objektą\n",
    "print(type(frozenset([1, 2, 2, 4])))\n",
    "print(list(frozenset([1, 2, 2, 4])))"
   ]
  },
  {
   "cell_type": "code",
   "execution_count": null,
   "metadata": {
    "collapsed": false,
    "deletable": true,
    "editable": true
   },
   "outputs": [],
   "source": [
    "# hash(object) - grąžina iš skaičių sudarytą eilutę. Ji yra naudojama greitam žodyno rakto reikšmių patikrinimui\n",
    "# hash skaičiui\n",
    "print(\"Hash 181:\", hash(181))\n",
    "\n",
    "# hash dešimtainio skaičiaus\n",
    "print(\"Hash 181.23:\", hash(181.23))\n",
    "\n",
    "# hash teksto\n",
    "print(\"Hash Python:\", hash('Python'))"
   ]
  },
  {
   "cell_type": "code",
   "execution_count": null,
   "metadata": {
    "collapsed": false,
    "deletable": true,
    "editable": true
   },
   "outputs": [],
   "source": [
    "# help([object]) - iškviečiama Python pagalbos sistema\n",
    "print(help(list))\n",
    "help(help(int))"
   ]
  },
  {
   "cell_type": "code",
   "execution_count": null,
   "metadata": {
    "collapsed": false,
    "deletable": true,
    "editable": true
   },
   "outputs": [],
   "source": [
    "# hex(x) - konvertuoja skaičių į šešioliktainį skaičių su \"0x\" pradžia\n",
    "print(hex(40))\n",
    "print(hex(13))"
   ]
  },
  {
   "cell_type": "code",
   "execution_count": null,
   "metadata": {
    "collapsed": false,
    "deletable": true,
    "editable": true
   },
   "outputs": [],
   "source": [
    "# id(object) - grąžina objekto unikalų identifikatorių\n",
    "a = 1\n",
    "b = a\n",
    "\n",
    "print(id(a))\n",
    "print(id(b))"
   ]
  },
  {
   "cell_type": "code",
   "execution_count": null,
   "metadata": {
    "collapsed": false,
    "deletable": true,
    "editable": true
   },
   "outputs": [],
   "source": [
    "# input([prompt]) - duomenų nuskaitymas\n",
    "print(input(\"Kuo jūs vardu\"))"
   ]
  },
  {
   "cell_type": "code",
   "execution_count": null,
   "metadata": {
    "collapsed": false,
    "deletable": true,
    "editable": true
   },
   "outputs": [],
   "source": [
    "# int(x=0) / int(x, base=10) - atlieka tipo konvertavimą į int\n",
    "print(type(int(2.33)))\n",
    "print(type(int(\"5\")))"
   ]
  },
  {
   "cell_type": "code",
   "execution_count": null,
   "metadata": {
    "collapsed": false,
    "deletable": true,
    "editable": true
   },
   "outputs": [],
   "source": [
    "# iter(object[, sentinel]) - grąžina iteratoriaus objektą\n",
    "print(type(iter([1, 2, 3])))"
   ]
  },
  {
   "cell_type": "code",
   "execution_count": null,
   "metadata": {
    "collapsed": false,
    "deletable": true,
    "editable": true
   },
   "outputs": [],
   "source": [
    "# len(s) - grąžina objekto ilgį\n",
    "print(len([1, 2, 3]))\n",
    "print(len(\"trys\"))"
   ]
  },
  {
   "cell_type": "code",
   "execution_count": null,
   "metadata": {
    "collapsed": false,
    "deletable": true,
    "editable": true
   },
   "outputs": [],
   "source": [
    "# list([iterable]) - grąžina sąrašo objektą\n",
    "print(type(list(iter([1, 2, 3]))))"
   ]
  },
  {
   "cell_type": "code",
   "execution_count": null,
   "metadata": {
    "collapsed": false,
    "deletable": true,
    "editable": true
   },
   "outputs": [],
   "source": [
    "# map(function, iterable, ...) - grąžina objektą gautą pritaikius funkciją kiekvienam iteratoriaus elementui\n",
    "def calculate_square(n):\n",
    "    return n * n\n",
    "\n",
    "numbers = (1, 2, 3, 4)\n",
    "result = map(calculate_square, numbers)\n",
    "print(list(result))\n",
    "\n",
    "result = map(lambda a: a * a , numbers)\n",
    "print(list(result))"
   ]
  },
  {
   "cell_type": "code",
   "execution_count": null,
   "metadata": {
    "collapsed": false,
    "deletable": true,
    "editable": true
   },
   "outputs": [],
   "source": [
    "# max(iterable, *[, key, default]) / max(arg1, arg2, *args[, key]) - grąžina didžiausią reikšmę\n",
    "print(max(100, 300, 12))\n",
    "print(max([100, 300, 12]))"
   ]
  },
  {
   "cell_type": "code",
   "execution_count": null,
   "metadata": {
    "collapsed": true,
    "deletable": true,
    "editable": true
   },
   "outputs": [],
   "source": [
    "# min(iterable, *[, key, default]) / min(arg1, arg2, *args[, key]) - grąžina mažiausią reikšmę\n",
    "print(min(100, 300, 12))\n",
    "print(min([100, 300, 12]))"
   ]
  },
  {
   "cell_type": "code",
   "execution_count": null,
   "metadata": {
    "collapsed": false,
    "deletable": true,
    "editable": true
   },
   "outputs": [],
   "source": [
    "# next(iterator[, default]) - grąžina sekantį iteratoriaus elementą\n",
    "random = [5, 9, \"10\"]\n",
    "\n",
    "random_iterator = iter(random)\n",
    "print(random_iterator)\n",
    "\n",
    "print(next(random_iterator))"
   ]
  },
  {
   "cell_type": "code",
   "execution_count": null,
   "metadata": {
    "collapsed": false,
    "deletable": true,
    "editable": true
   },
   "outputs": [],
   "source": [
    "# oct(x) - paverčia skaičių į aštuntainį skaitmenį su \"0o\" pradžia\n",
    "print(oct(7))\n",
    "print(oct(17))"
   ]
  },
  {
   "cell_type": "code",
   "execution_count": null,
   "metadata": {
    "collapsed": false,
    "deletable": true,
    "editable": true
   },
   "outputs": [],
   "source": [
    "# ord(c) - grąžina skaičių atitinkantį simbolio Unicode koduotę\n",
    "print(ord(\"ę\"))\n",
    "print(ord(\"€\"))"
   ]
  },
  {
   "cell_type": "code",
   "execution_count": null,
   "metadata": {
    "collapsed": false,
    "deletable": true,
    "editable": true
   },
   "outputs": [],
   "source": [
    "# pow(x, y[, z]) - skaičiaus kėlimas laipsniu\n",
    "print(pow(2, 3))\n",
    "print(pow(4, 2))"
   ]
  },
  {
   "cell_type": "code",
   "execution_count": null,
   "metadata": {
    "collapsed": true,
    "deletable": true,
    "editable": true
   },
   "outputs": [],
   "source": [
    "# print(*objects, sep=' ', end='\\n', file=sys.stdout, flush=False) - teksto išvedimas\n",
    "print(\"Tekstas\")"
   ]
  },
  {
   "cell_type": "code",
   "execution_count": null,
   "metadata": {
    "collapsed": false,
    "deletable": true,
    "editable": true
   },
   "outputs": [],
   "source": [
    "# range(stop) / range(start, stop[, step]) - grąžina intervalą\n",
    "print(type(range(10)))\n",
    "print(type(list(range(10))))"
   ]
  },
  {
   "cell_type": "code",
   "execution_count": null,
   "metadata": {
    "collapsed": false,
    "deletable": true,
    "editable": true
   },
   "outputs": [],
   "source": [
    "# reversed(seq) - grąžina apverstą iteratorių\n",
    "a = [1, 5, \"r\"]\n",
    "print(a)\n",
    "print(list(reversed(a)))"
   ]
  },
  {
   "cell_type": "code",
   "execution_count": null,
   "metadata": {
    "collapsed": false,
    "deletable": true,
    "editable": true
   },
   "outputs": [],
   "source": [
    "# round(number[, ndigits]) - grąžina suapvalintą skaičių\n",
    "print(round(12.3456))\n",
    "print(round(2.665, 2))"
   ]
  },
  {
   "cell_type": "code",
   "execution_count": null,
   "metadata": {
    "collapsed": false,
    "deletable": true,
    "editable": true
   },
   "outputs": [],
   "source": [
    "# class set([iterable]) - grąžina naują eilės objektą\n",
    "print(set(\"Python\"))"
   ]
  },
  {
   "cell_type": "code",
   "execution_count": null,
   "metadata": {
    "collapsed": false,
    "deletable": true,
    "editable": true
   },
   "outputs": [],
   "source": [
    "# class slice(stop) / class slice(start, stop[, step]) - grąžina \"išpjautą\" objektą\n",
    "text = \"Python\"\n",
    "\n",
    "slice_obj = slice(3)\n",
    "print(text[slice_obj])\n",
    "\n",
    "slice_obj = slice(1, 5, 2)\n",
    "print(text[slice_obj])"
   ]
  },
  {
   "cell_type": "code",
   "execution_count": null,
   "metadata": {
    "collapsed": false,
    "deletable": true,
    "editable": true
   },
   "outputs": [],
   "source": [
    "# sorted(iterable, *, key=None, reverse=False) - grąžina surikiuotą iteratorių\n",
    "a = [45, 34, 99, 23]\n",
    "\n",
    "print(sorted(a))\n",
    "print(sorted(a, reverse=True))\n",
    "\n",
    "\n",
    "a = [(2, 2), (3, 4), (4, 1), (1, 3)]\n",
    "print(sorted(a, key=lambda x: x[1]))"
   ]
  },
  {
   "cell_type": "code",
   "execution_count": null,
   "metadata": {
    "collapsed": false,
    "deletable": true,
    "editable": true
   },
   "outputs": [],
   "source": [
    "# class str(object='') / class str(object=b'', encoding='utf-8', errors='strict') - konvertuoja reikšmę į tekstą\n",
    "print(type(str(6)))\n",
    "print(str(6))\n",
    "print(type(str([1, 6])))\n",
    "print(str([1, 6]))"
   ]
  },
  {
   "cell_type": "code",
   "execution_count": null,
   "metadata": {
    "collapsed": false,
    "deletable": true,
    "editable": true
   },
   "outputs": [],
   "source": [
    "# sum(iterable[, start]) - sumuoja iteratoriaus reikšmes, jei nurodytas start parametras, tai jis yra prisumuojamas\n",
    "a = [1, 2, 3, 4, 5]\n",
    "\n",
    "print(sum(a))\n",
    "print(sum(a, 4))"
   ]
  },
  {
   "cell_type": "code",
   "execution_count": null,
   "metadata": {
    "collapsed": false,
    "deletable": true,
    "editable": true
   },
   "outputs": [],
   "source": [
    "# tuple([iterable]) - konvertuoja iteratorių į neredaguojamą sąrašą\n",
    "print(type(tuple([1, 2, 3])))\n",
    "print(type(tuple(\"Python\")))"
   ]
  },
  {
   "cell_type": "code",
   "execution_count": null,
   "metadata": {
    "collapsed": false,
    "deletable": true,
    "editable": true
   },
   "outputs": [],
   "source": [
    "# class type(object) / class type(name, bases, dict) - grąžina objekto tipą\n",
    "print(type(int()))"
   ]
  },
  {
   "cell_type": "code",
   "execution_count": null,
   "metadata": {
    "collapsed": false,
    "deletable": true,
    "editable": true
   },
   "outputs": [],
   "source": [
    "# zip(*iterables) - sukuria iteratorių apjungiant visų iteruojamų objektų elementus\n",
    "a = zip([\"a\", \"b\", \"c\", \"d\"], [1, 2, 3, 4])\n",
    "b = list(a)\n",
    "\n",
    "print(b)\n",
    "\n",
    "x, y = zip(*b)\n",
    "print(x, y)"
   ]
  },
  {
   "cell_type": "code",
   "execution_count": null,
   "metadata": {
    "collapsed": false
   },
   "outputs": [],
   "source": [
    "# išpakavimo (angl. unpack) operatorius *\n",
    "def func(a, b, c, d):\n",
    "    print(a, b, c, d)\n",
    "\n",
    "my_list = [1, 2, 3, 4] \n",
    "func(my_list)"
   ]
  },
  {
   "cell_type": "code",
   "execution_count": null,
   "metadata": {
    "collapsed": false
   },
   "outputs": [],
   "source": [
    "# išpakavimo (angl. unpack) operatorius *\n",
    "def func(a, b, c, d):\n",
    "    print(a, b, c, d)\n",
    "\n",
    "my_list = [1, 2, 3, 4] \n",
    "func(*my_list)"
   ]
  },
  {
   "cell_type": "code",
   "execution_count": null,
   "metadata": {
    "collapsed": false
   },
   "outputs": [],
   "source": [
    "# išpakavimo (angl. unpack) operatorius *\n",
    "def func(a, b, c, d):\n",
    "    print(a, b, c, d)\n",
    "\n",
    "my_dict = {\"a\": 10, \"b\": 20, \"c\": 30, \"d\": 40}\n",
    "func(**my_dict)"
   ]
  },
  {
   "cell_type": "markdown",
   "metadata": {
    "deletable": true,
    "editable": true
   },
   "source": [
    "# Užduotys\n",
    "\n",
    "1. Parašyti programą, kuri paprašytų vartotojo suvesti kableliu atskirtus skaitmenis. Parašyti duomenų valdymo išimtis. Naudojant Python built-in funkcijas į ekraną išvesti: įvestų skaitmenų sumą, didžiausią ir mažiausią reikšmes, reikšmes, kurių indeksas yra nuo 2 iki 4, įvestų skaičių kiekį, reikšmes, kurios didesniės negu 10, surikiuotą sąrašą didėjimo ir mažėjimo kryptimi, bei \"apverstą\" įvestą sąrašą. \n",
    "2. Surikiuoti sąrašą pagal elementų ilgį didėjimo ir mažėjimo kryptimis.\n",
    "```python\n",
    "    sort_me = [\"Kaunas\", \"Vilnius\", \"Alytus\", \"Klaipėda\", \"Varėna\", \"Druskininkai\", \"Klaipėda\"]\n",
    "```\n",
    "3. Atlikti sąrašo elementų transformaciją: 1. pagal formulę: x = x * (x - 10), 2. kiekvieną elementą pakelti kvadratu.\n",
    "```python\n",
    "    my_list = [12, 45, 23, 56, -546, 34]\n",
    "```"
   ]
  }
 ],
 "metadata": {
  "kernelspec": {
   "display_name": "Python 3",
   "language": "python",
   "name": "python3"
  },
  "language_info": {
   "codemirror_mode": {
    "name": "ipython",
    "version": 3
   },
   "file_extension": ".py",
   "mimetype": "text/x-python",
   "name": "python",
   "nbconvert_exporter": "python",
   "pygments_lexer": "ipython3",
   "version": "3.6.3"
  }
 },
 "nbformat": 4,
 "nbformat_minor": 2
}

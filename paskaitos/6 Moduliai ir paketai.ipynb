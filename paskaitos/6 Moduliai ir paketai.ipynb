{
 "cells": [
  {
   "cell_type": "markdown",
   "metadata": {
    "collapsed": true,
    "deletable": true,
    "editable": true
   },
   "source": [
    "# Moduliai\n",
    "\n",
    "Modulis (angl. module) - savarankiška programos dalis, talpinanti savyje programinį kodą ir duomenis daugkartiniam panaudojimui. Python failas, pvz. \"example.py\" yra vadinamas moduliu, kurio pavadinimas yra \"example\". Dažniausiai naudojamos funkcijos, klasės yra aprašomos modulyje, o ne kopijuojamos ten kur jų reikia.\n",
    "\n",
    "Failas modules/lib.py yra modulis, kurio pavadinimas \"lib\". Šiame faile yra dvi funkcijos add ir subtract.\n",
    "```python\n",
    "def add(a, b):\n",
    "   \"\"\"This program adds two\n",
    "   numbers and return the result\"\"\"\n",
    "   \n",
    "   result = a + b\n",
    "   return result\n",
    "\n",
    "\n",
    "def subtract(a, b):\n",
    "   \"\"\"This program subtracts two\n",
    "   numbers and return the result\"\"\"\n",
    "   \n",
    "   result = a - b\n",
    "   return result\n",
    "```\n",
    "\n",
    "Norint naudoti modulyje aprašytas funkcijas/klases naudojama import komanda, pvz.: import lib"
   ]
  },
  {
   "cell_type": "code",
   "execution_count": null,
   "metadata": {
    "collapsed": true,
    "deletable": true,
    "editable": true
   },
   "outputs": [],
   "source": [
    "# nurodom katalogą, kurį reikia tikrinti dėl importuojamų modulių\n",
    "import sys\n",
    "sys.path.append(\"files/modules\")\n",
    "sys.path.append(\"files/packages\")"
   ]
  },
  {
   "cell_type": "code",
   "execution_count": null,
   "metadata": {
    "collapsed": false,
    "deletable": true,
    "editable": true
   },
   "outputs": [],
   "source": [
    "# modulio importavimas\n",
    "import lib\n",
    "\n",
    "print(lib.add(4, 5))"
   ]
  },
  {
   "cell_type": "code",
   "execution_count": null,
   "metadata": {
    "collapsed": false,
    "deletable": true,
    "editable": true
   },
   "outputs": [],
   "source": [
    "# modulio importavimas su pavadinimo perrašymu\n",
    "import lib as l\n",
    "\n",
    "print(l.add(4, 5))"
   ]
  },
  {
   "cell_type": "code",
   "execution_count": null,
   "metadata": {
    "collapsed": false,
    "deletable": true,
    "editable": true
   },
   "outputs": [],
   "source": [
    "# konkrečių modulio funkcijų/klasių importavimas\n",
    "from lib import add, subtract\n",
    "print(add(4, 5))\n",
    "print(subtract(4, 5))"
   ]
  },
  {
   "cell_type": "code",
   "execution_count": null,
   "metadata": {
    "collapsed": false,
    "deletable": true,
    "editable": true
   },
   "outputs": [],
   "source": [
    "# visų modulio funkcijų/klasių importavimas. Bloga praktika, gali nutikti pavadinimų sudubliavimas\n",
    "from lib import *\n",
    "print(add(4, 5))\n",
    "print(subtract(4, 5))"
   ]
  },
  {
   "cell_type": "markdown",
   "metadata": {
    "deletable": true,
    "editable": true
   },
   "source": [
    "dir() - funkcija grąžina surikiuotą modulyje aprašytų funkcijų/klasių sąrašą."
   ]
  },
  {
   "cell_type": "code",
   "execution_count": null,
   "metadata": {
    "collapsed": false,
    "deletable": true,
    "editable": true
   },
   "outputs": [],
   "source": [
    "import lib\n",
    "\n",
    "content = dir(lib)\n",
    "print(content)"
   ]
  },
  {
   "cell_type": "markdown",
   "metadata": {
    "deletable": true,
    "editable": true
   },
   "source": [
    "## Modulių paieška\n",
    "\n",
    "Importuojant modulį Python jo ieško tam tikrose vietose:\n",
    "1. Built-in modulių sąrašas\n",
    "2. Katalogai aprašyti sys.path\n",
    "    1. Esamame kataloge\n",
    "    2. PYTHONPATH aplinkos kintamasis (angl. environment variable)\n",
    "    3. Instaliacijos katalogas"
   ]
  },
  {
   "cell_type": "markdown",
   "metadata": {
    "deletable": true,
    "editable": true
   },
   "source": [
    "## Modulių perkrovimas\n",
    "\n",
    "Python importuoja modulį vieną kartą. Jei vykdysime programinį kodą\n",
    "```python\n",
    "import lib\n",
    "import lib\n",
    "import lib\n",
    "```\n",
    "tik pirma komanda bus įvykdyta. Jei modulis pasikeičia kodo vykdymo metu jį reikia perkrauti, kad pakeitimai taptų pasiekiamais. Tam yra skirtas Python modulis imp."
   ]
  },
  {
   "cell_type": "code",
   "execution_count": null,
   "metadata": {
    "collapsed": false,
    "deletable": true,
    "editable": true
   },
   "outputs": [],
   "source": [
    "import imp\n",
    "import lib\n",
    "imp.reload(lib)"
   ]
  },
  {
   "cell_type": "markdown",
   "metadata": {
    "deletable": true,
    "editable": true
   },
   "source": [
    "## Modulio pavadinimas \\__name\\__\n",
    "\n",
    "Kiekvienas modulis turi pavadinimą - \\__name\\__ parametras. Šis parametras yra naudingas, kai norime nustatyti ar modulis yra importuojamas ar vykdomas. Jei modulio \\__name\\__ reikšmė yra \"\\__main\\__\", tai modulis yra vykdomas, jei kita reikšmė jis yra importuojamas."
   ]
  },
  {
   "cell_type": "code",
   "execution_count": null,
   "metadata": {
    "collapsed": false,
    "deletable": true,
    "editable": true
   },
   "outputs": [],
   "source": [
    "# modulio pavadinimas\n",
    "import lib\n",
    "\n",
    "print(lib.__name__)"
   ]
  },
  {
   "cell_type": "code",
   "execution_count": null,
   "metadata": {
    "collapsed": false,
    "deletable": true,
    "editable": true
   },
   "outputs": [],
   "source": [
    "# modulis importuojamas ar vykdomas\n",
    "import lib_with_name\n",
    "\n",
    "if __name__ == \"__main__\":\n",
    "    print(\"Modulis yra vykdomas\")\n",
    "else:\n",
    "    print(\"Modulis yra importuojamas\")"
   ]
  },
  {
   "cell_type": "markdown",
   "metadata": {
    "deletable": true,
    "editable": true
   },
   "source": [
    "Modulių importavimas yra ganėtinai brangus procesas, todėl Python interpretatorius, kai vykdomas modulio importavimas išsisaugo sukompiliuotą jo versiją (.pyc). Šis failas naudingas kai modulis bus importuojamas kitą kartą. Interpretatorius pamatęs jog yra .pyc failas iš naujo nekompiliuos .py failo, o iš karto užkraus .pyc failą. Ar .py failas nepasikeitęs po .pyc sukūrimo interpretatorius nusprendžia pagal laiko žymą saugomą .pyc file. "
   ]
  },
  {
   "cell_type": "markdown",
   "metadata": {
    "deletable": true,
    "editable": true
   },
   "source": [
    "Python turi labai plačią standartinę biblioteką, kurioje yra realizuota ir paruošta naudojimui daug funkcijų palengvinančių programuotojų darbą. Apie jas kitoje paskaitoje."
   ]
  },
  {
   "cell_type": "markdown",
   "metadata": {
    "deletable": true,
    "editable": true
   },
   "source": [
    "# Paketai\n",
    "\n",
    "Paketai (angl. package) - apjungia skirtingus modulius. Funkcijos, kintamieji apjungiami modulyje, skirtingi moduliai apjugniami paketuose. Tai tiesiog katalogai, kuriuose yra specialus failas \"\\__init\\__.py\". Šio failo būvimas kataloge nurodo interpretatoriui, jog šiame kataloge yra Python modulių. Paketai gali turėti subpaketų ir pan. Importavimas iš paketų vykdomas taip pat su import komanda."
   ]
  },
  {
   "cell_type": "code",
   "execution_count": null,
   "metadata": {
    "collapsed": false,
    "deletable": true,
    "editable": true
   },
   "outputs": [],
   "source": [
    "# importavimas\n",
    "import my_package.lib\n",
    "\n",
    "print(my_package.lib.add(9, 11))"
   ]
  },
  {
   "cell_type": "code",
   "execution_count": null,
   "metadata": {
    "collapsed": false,
    "deletable": true,
    "editable": true
   },
   "outputs": [],
   "source": [
    "# importavimas\n",
    "from my_package import lib\n",
    "\n",
    "print(lib.add(9, 11))"
   ]
  },
  {
   "cell_type": "code",
   "execution_count": null,
   "metadata": {
    "collapsed": false,
    "deletable": true,
    "editable": true
   },
   "outputs": [],
   "source": [
    "# importavimas\n",
    "from my_package.lib import add\n",
    "\n",
    "print(add(9, 11))"
   ]
  },
  {
   "cell_type": "code",
   "execution_count": null,
   "metadata": {
    "collapsed": false,
    "deletable": true,
    "editable": true
   },
   "outputs": [],
   "source": [
    "# importavimas\n",
    "from my_package.lib import Person\n",
    "\n",
    "p = Person(\"Jonas\")\n",
    "print(p.name)"
   ]
  },
  {
   "cell_type": "markdown",
   "metadata": {
    "deletable": true,
    "editable": true
   },
   "source": [
    "# Užduotys\n",
    "\n",
    "1. Pakoreguoti penktos užduoties metu sukurtas programas, taip jog pagrindinės funkcijos ir klasės būtų organizuojamos paketuose ir moduliuose."
   ]
  }
 ],
 "metadata": {
  "kernelspec": {
   "display_name": "Python 3",
   "language": "python",
   "name": "python3"
  },
  "language_info": {
   "codemirror_mode": {
    "name": "ipython",
    "version": 3
   },
   "file_extension": ".py",
   "mimetype": "text/x-python",
   "name": "python",
   "nbconvert_exporter": "python",
   "pygments_lexer": "ipython3",
   "version": "3.6.3"
  }
 },
 "nbformat": 4,
 "nbformat_minor": 2
}

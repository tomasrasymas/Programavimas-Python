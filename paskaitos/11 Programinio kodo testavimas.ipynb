{
 "cells": [
  {
   "cell_type": "markdown",
   "metadata": {
    "collapsed": true,
    "deletable": true,
    "editable": true
   },
   "source": [
    "Kiekvieną parašytą programą reikia testuoti, ją pakoregavus - testavimą pakartoti. Programos korekcijų gali būti daug, tad kartoti testus rankiniu būdu yra neefektyvu. Dėl šios priežasties buvo pasiūlytas automatinis programinio kodo testavimas. Galima išskirti du testavimo būdus: \n",
    "\n",
    "* modulių testai - kai testuojamos pavienės funkcijos\n",
    "* sistemos testai - kai testuojama visa sistema\n",
    "\n",
    "Šioje paskaitoje daugiausia dėmesio skirsime modulių testavimui.\n",
    "\n",
    "\n",
    "# Testais grįstas programavimas\n",
    "\n",
    "Testais grįstas programavimas (angl. test-driven development) tai procesas kai surinti kliento poreikia paverčiami testais, o tik tada rašomas programinis kodas, kad testai įvyktų sėkmingai (\"praeitų\").\n",
    "\n",
    "https://en.wikipedia.org/wiki/Test-driven_development\n",
    "\n",
    "Testais grįstas programavimas yra iteracinis procesas:\n",
    "1. Sukuriamas testas\n",
    "2. Paleidžiamas testas, jis nepraeina\n",
    "3. Rašomas programinis kodas\n",
    "4. Paleidžiamas testas, jis praeina\n",
    "5. Kartojama\n",
    "\n",
    "Pagrindiniai privalumai testais grįsto programavimo:\n",
    "* turimas pilnas testų rinkinys\n",
    "* kodas yra lengvai naudojamas\n",
    "* sumažinamas klaidų skaičius, kurios iškyla po kodo korekcijų\n",
    "\n",
    "\n",
    "Standartinėje Python bibliotekoje yra modulis \"unittest\" modulis, kuris palengvina testų rašymą ir vykdymą.\n",
    "\n",
    "Pagrindiniai metodai, kurie yra naudojami testavimui, programinio kodo patikrinimui:\n",
    "* assertEqual(a, b) - patikrinama ar a ir b yra vienodi\n",
    "* assertNotEqual(a, b) - patikrina ar a ir b nėra vienodi\n",
    "* assertIn(a, b) - patikrinama ar a elementas egzistuoja b\n",
    "* assertNotIn(a, b) - patikrinama ar a elementas neegzistuoja b\n",
    "* assertFalse(a) - patikrina ar a reikšmė yra False\n",
    "* assertTrue(a) - patikrina ar a reikšmė yra True\n",
    "* assertIsInstance(a, TYPE) - patikrina ar a tipas yra TYPE\n",
    "* assertRaises(ERROR, a, args) - patikrina, ar a funkcija iškviesta su argumentais args iškviečia klaidą ERROR"
   ]
  },
  {
   "cell_type": "code",
   "execution_count": null,
   "metadata": {
    "collapsed": false
   },
   "outputs": [],
   "source": [
    "import unittest # importuojamas testavimo modulis\n",
    "\n",
    "\n",
    "class Calculator:\n",
    "    def add(self, a, b):\n",
    "        pass\n",
    "\n",
    "    \n",
    "class CalculatorTests(unittest.TestCase): # sukuriama klasė, kurioje bus realizuoti testavimo metodai\n",
    "    def test_calculator_add_method(self): # sukuriamas testas, jis turi prasidėti tekstu \"test_\"\n",
    "        calc = Calculator()\n",
    "        result = calc.add(2, 2)\n",
    "        self.assertEqual(4, result)\n",
    "\n",
    "        \n",
    "if __name__ == '__main__':\n",
    "    unittest.main()"
   ]
  },
  {
   "cell_type": "markdown",
   "metadata": {},
   "source": [
    "Rašant testus kartais prireikia inicializavimo/išvalymo metodų, kurie būtų vykdomi prieš testus ir po jų, tokie metodai yra setUp ir tearDown."
   ]
  },
  {
   "cell_type": "code",
   "execution_count": null,
   "metadata": {
    "collapsed": false
   },
   "outputs": [],
   "source": [
    "import unittest # importuojamas testavimo modulis\n",
    "\n",
    "\n",
    "class Calculator:\n",
    "    def add(self, a, b):\n",
    "        return a + b\n",
    "    \n",
    "\n",
    "class CalculatorTests(unittest.TestCase): # sukuriama klasė, kurioje bus realizuoti testavimo metodai\n",
    "    def setUp(self): # metodas vykdomas prieš visus testus\n",
    "        self.calc = Calculator()\n",
    "        \n",
    "    def test_calculator_add_method(self):\n",
    "        result = self.calc.add(2, 2)\n",
    "        self.assertEqual(4, result)\n",
    "        \n",
    "    def test_calculator_add_on_params_string(self):\n",
    "        self.assertRaises(ValueError, self.calc.add, 'two', 'three')\n",
    "    \n",
    "    def tearDown(self): # metodas vykdomas po visų testų\n",
    "        pass\n",
    "\n",
    "if __name__ == '__main__':\n",
    "    unittest.main()"
   ]
  },
  {
   "cell_type": "markdown",
   "metadata": {},
   "source": [
    "Testų vykdymas iš komandinės eilutės:\n",
    "* python test_calculator.py\n",
    "* python -m unittest tmp/test_calculator.py\n",
    "\n",
    "Norint gauti detalesnį rezultatą galima paduoti parametrą -v, kas nurodo aukštesnį detalumą (angl. verbose)."
   ]
  },
  {
   "cell_type": "markdown",
   "metadata": {},
   "source": [
    "unittest modulis turi realizuotą paprastą failų paiešką, kuri tinka tais atvejais kai reikia suieškoti visus projekto testavimo failus.\n",
    "* python -m unittest discover\n",
    "\n",
    "Detaliau: https://docs.python.org/3/library/unittest.html#unittest-test-discovery"
   ]
  }
 ],
 "metadata": {
  "kernelspec": {
   "display_name": "Python 3",
   "language": "python",
   "name": "python3"
  },
  "language_info": {
   "codemirror_mode": {
    "name": "ipython",
    "version": 3
   },
   "file_extension": ".py",
   "mimetype": "text/x-python",
   "name": "python",
   "nbconvert_exporter": "python",
   "pygments_lexer": "ipython3",
   "version": "3.6.3"
  }
 },
 "nbformat": 4,
 "nbformat_minor": 2
}

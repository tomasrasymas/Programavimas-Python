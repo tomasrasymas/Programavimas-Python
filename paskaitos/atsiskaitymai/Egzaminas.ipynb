{
 "cells": [
  {
   "cell_type": "markdown",
   "metadata": {
    "deletable": true,
    "editable": true
   },
   "source": [
    "Baigus darbą visus failus suarchyvuoti ir atsiųsti email tomas.rasymas@gmail.com su savo vardu ir pavarde.\n",
    "\n",
    "Kodą būtina komentuoti."
   ]
  },
  {
   "cell_type": "markdown",
   "metadata": {
    "deletable": true,
    "editable": true
   },
   "source": [
    "# 1 užduotis\n",
    "\n",
    "Sukurti funkciją \"order_and_square\" kuri priima vieną parametrą - sąrašą. Funkcija turi sąrašą surikiuoti didėjimo tvarka ir kiekvieną elementą pakelti kvadratu, Funkcija grąžina pakoreguotą sąrašą.\n",
    "\n",
    "##### Pavyzdys:\n",
    "```python\n",
    "print(order_and_square([2, 1, 10, 5]))\n",
    "```\n",
    "\n",
    "##### Rezultatas\n",
    "[1, 4, 25, 100]"
   ]
  },
  {
   "cell_type": "markdown",
   "metadata": {
    "deletable": true,
    "editable": true
   },
   "source": [
    "# 2 užduotis\n",
    "\n",
    "Sukurti užduočų valdymo klasę \"Tasks\". Šios klasės konstruktorius priima du parametrus: užduoties pavadinimas (name) ir laiką iki kada ji turi būti atlikta, kuris saugomas tekstiniu formatu, (till_datetime). Taip pat klasė turi tris metodus užduočių pridėjimui, ištrynimui ir atvaizdavimui \"add_task\", \"remove_task\" ir \"display_tasks\". Kuriant klasę, jos konstruktoriui galima paduoti pirmos užduoties pavadinimą ir laiką, tačiau tai neprivaloma.\n",
    "\n",
    "##### Pavyzdys:\n",
    "```python\n",
    "tasks = Tasks()\n",
    "\n",
    "tasks.add_task('pirma', '2019-08-01 12:00:00')\n",
    "tasks.add_task('antra', '2019-08-01 13:00:00')\n",
    "tasks.add_task('trecia', '2019-08-01 14:00:00')\n",
    "\n",
    "tasks.display_tasks()\n",
    "\n",
    "tasks.remove_task('antra', '2019-08-01 13:00:00')\n",
    "\n",
    "tasks.display_tasks()\n",
    "\n",
    "tasks = Tasks('susitikimas', '2019-09-03 15:00:00')\n",
    "tasks.display_tasks()\n",
    "```\n",
    "\n",
    "##### Rezultatas\n",
    "pirma 2019-08-01 12:00:00  \n",
    "antra 2019-08-01 13:00:00  \n",
    "trecia 2019-08-01 14:00:00  \n",
    "pirma 2019-08-01 12:00:00  \n",
    "trecia 2019-08-01 14:00:00  \n",
    "susitikimas 2019-09-03 15:00:00  "
   ]
  },
  {
   "cell_type": "markdown",
   "metadata": {
    "deletable": true,
    "editable": true
   },
   "source": [
    "# 3 užduotis\n",
    "\n",
    "Naudojant SQLAlchemy sukurti du modelius (vienas tv kanalas turi daug laidų):\n",
    "\n",
    "**Channel (TV kanalas)**, lentelės pavadinimas - channels:\n",
    "* id - sveikas skaičius, pirminis raktas\n",
    "* name - tekstas 40 simbolių ilgio, privalomas (nėra tuščias)\n",
    "* created_at - įrašo sukūrimo data ir laikas\n",
    "* shows - ryšys į show modelį\n",
    "\n",
    "**Show (TV kanalo laida)**, lentelės pavadinimas - shows:\n",
    "* id - sveikas skaičius, pirminis raktas\n",
    "* channel_id - sveikas skaičius, ForeignKey į channles.id\n",
    "* start_datetime - laidos pradžios data ir laikas (privalomas)\n",
    "* rate - sveikas skaičius, nurodantis laidos vertinimą (reitingą)\n",
    "* name - tekstas 40 simbolių ilgio, privalomas (nėra tuščias)\n",
    "* channel - ryšys į channel modelį\n",
    "\n",
    "\n",
    "Sukurti testinius duomenis: 2 kanalus ir pirmam kanalui 2, o antram kanalui 3 laidas.\n",
    "\n",
    "\n",
    "Parašyti užklausas:\n",
    "* atspausdintų kiekvieno kanalo laidų skaičių\n",
    "* atspausdintų suminį kiekvieno kanalo laidų reitingą\n",
    "* atspaustintų kiekvieno kanalo laidą, kuri turi didžiausią reitingą"
   ]
  }
 ],
 "metadata": {
  "kernelspec": {
   "display_name": "Python 3",
   "language": "python",
   "name": "python3"
  },
  "language_info": {
   "codemirror_mode": {
    "name": "ipython",
    "version": 3
   },
   "file_extension": ".py",
   "mimetype": "text/x-python",
   "name": "python",
   "nbconvert_exporter": "python",
   "pygments_lexer": "ipython3",
   "version": "3.6.3"
  }
 },
 "nbformat": 4,
 "nbformat_minor": 2
}

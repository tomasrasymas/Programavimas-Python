{
 "cells": [
  {
   "cell_type": "markdown",
   "metadata": {
    "deletable": true,
    "editable": true
   },
   "source": [
    "Baigus darbą visu failus suarchyvuoti ir atsiųsti email tomas.rasymas@gmail.com su savo vardu ir pavarde.\n",
    "\n",
    "Kodą būtina komentuoti."
   ]
  },
  {
   "cell_type": "markdown",
   "metadata": {
    "deletable": true,
    "editable": true
   },
   "source": [
    "# 1 užduotis\n",
    "\n",
    "Sukurti du modelius:\n",
    "\n",
    "**Article** - saugoma informacija apie straipnsius:\n",
    "\n",
    "id - sveikas skaičius, unikalus identifikatorius, pirminis raktas\n",
    "\n",
    "author - tekstas, 100 simbolių ilgio, autoriaus vardas ir pavrdė, privalomas\n",
    "\n",
    "title - tekstas, 50 simbolių ilgio, straipsnio pavadinimas, privalomas\n",
    "\n",
    "article_text - tekstas, 1000 simbolių ilgio, straipsnio tekstas, privalomas\n",
    "\n",
    "created_at - data ir laikas, kada straipsnis buvo sukurtas, užsipildo automatiškai sukuriant įrašą\n",
    "\n",
    "\n",
    "**Comment** - saugomi straipsnių komentarai:\n",
    "\n",
    "id - sveikas skaičius, unikalus identifikatorius, pirminis raktas\n",
    "\n",
    "email - tekstas, 50 simbolių ilgio, vartotojo, kuris rašo komentarą el. paštas, privalomas\n",
    "\n",
    "comment_text - tekstas, 100 simbolių ilgio, vartotojo komentaras, privalomas\n",
    "\n",
    "created_at - data ir laikas, kada komentaras buvo sukurtas, užsipildo automatiškai sukuriant komentarą\n",
    "\n",
    "\n",
    "Vienas straipsnis turi daug komentarų, o vienas komentaras turi vieną straipsnį. Sukurti atitinkamus ryšius tarp modelių."
   ]
  },
  {
   "cell_type": "markdown",
   "metadata": {
    "deletable": true,
    "editable": true
   },
   "source": [
    "# 2 užduotis\n",
    "\n",
    "Sukurti tris straipnsius bei kiekvienam priskirti po tris komentarus."
   ]
  },
  {
   "cell_type": "markdown",
   "metadata": {
    "deletable": true,
    "editable": true
   },
   "source": [
    "# 3 užduotis\n",
    "\n",
    "Sukurti tris šablonus: atvaizduoti vieną straipsnį, atvaizduoti sąrašą straipsnių, atvaizduoti vieno straipsnio komentarus. Taip pat sukurti bazinį šabloną, kurį paveldėtų kiti šablonai. Baziniame šablone pateikiamas jūsų vardas ir pavardė, bei nuoroda į visų straipsnių sąrašą. \n",
    "\n",
    "Straipsnių sąraše paspaudus ant vieno straipsnio - atidaromas konkretaus straipsnio langas. Iš konkretaus straipsnio lango turi būti galimybė pasiekti jo komentarus."
   ]
  },
  {
   "cell_type": "markdown",
   "metadata": {
    "deletable": true,
    "editable": true
   },
   "source": [
    "# 4 užduotis\n",
    "\n",
    "URL | HTTP metodas | Aprašymas\n",
    "--- | --- | ---\n",
    "/articles | GET | Grąžina straipsnių sąrašą (panaudoti šabloną)\n",
    "/articles/< int:id > | GET | Grąžina konkretų straipsnį (panaudoti šabloną)\n",
    "/articles/< int:id >/comments | GET | Grąžina straipsnio (parametras ID - straipsnio identifikatorius) visus komentarus (panaudoti šabloną)\n",
    "---"
   ]
  },
  {
   "cell_type": "markdown",
   "metadata": {
    "deletable": true,
    "editable": true
   },
   "source": [
    "# 5 užduotis\n",
    "\n",
    "Sukurti RESTFul API resursą straipsnių informacijos atnaujinimui/sukūrimui/šalinimui. Resursas palaiko tris HTTP metodus: POST - sukurti straipsnį, PUT - atnaujinti straipsnio informaciją ir DELETE - ištrinti straipsnį. Atitinkamai resursas pasiekiamas per adresus /api/article/< int:id > arba /api/article/.\n",
    "\n",
    "POST metodui sukurti užklausos duomenų validatorių (parserį), kuris patikrintų jog kviečiant šį metodą būtų paduoti author, title ir article_text laukai. \n",
    "\n",
    "Visi metodai, turi grąžinti objektą sudarytą iš: id, author, title, article_text laukų (panaudoti marshal metodą arba marshal_with dekoratorių)."
   ]
  }
 ],
 "metadata": {
  "kernelspec": {
   "display_name": "Python 3",
   "language": "python",
   "name": "python3"
  },
  "language_info": {
   "codemirror_mode": {
    "name": "ipython",
    "version": 3
   },
   "file_extension": ".py",
   "mimetype": "text/x-python",
   "name": "python",
   "nbconvert_exporter": "python",
   "pygments_lexer": "ipython3",
   "version": "3.6.3"
  }
 },
 "nbformat": 4,
 "nbformat_minor": 2
}

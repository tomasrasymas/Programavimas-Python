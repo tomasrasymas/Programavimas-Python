{
 "cells": [
  {
   "cell_type": "markdown",
   "metadata": {
    "deletable": true,
    "editable": true
   },
   "source": [
    "Baigus darbą visu failus suarchyvuoti ir atsiųsti email tomas.rasymas@gmail.com su savo vardu ir pavarde.\n",
    "\n",
    "Kodą būtina komentuoti."
   ]
  },
  {
   "cell_type": "markdown",
   "metadata": {
    "deletable": true,
    "editable": true
   },
   "source": [
    "# 1 užduotis\n",
    "\n",
    "Sukurti modelius:\n",
    "\n",
    "**Shop (parduotuvė)**, lentelės pavadinimas - shops:\n",
    "* id - sveikas skaičius, pirminis raktas\n",
    "* name - tekstas 40 simbolių ilgio, privalomas (nėra tuščias)\n",
    "* address - tekstas 100 simbolių ilgio\n",
    "* items - ryšys į Item modelį\n",
    "\n",
    "**Item (prekė)**, lentelės pavadinimas - items:\n",
    "* id - sveikas skaičius, pirminis raktas\n",
    "* barcode - tekstas 32 simbolių ilgio, unikalus\n",
    "* name - tekstas 40 simbolių ilgio, privalomas (nėra tuščias)\n",
    "* description - tekstas 200 simbolių ilgio, numatyta reikšmė - EMPTY\n",
    "* unit_price - dešimtainis skaičius su tikslumu (10, 2), privalomas (nėra tuščias), numatyta reikšmė 1.00\n",
    "* created_at - data ir laikas (DateTime), numatyta reikšmė - įrašo sukūrimo data ir laikas\n",
    "* shop_id - sveikas skaičius, ForeignKey į shops.id\n",
    "* shop - ryšys į Shop modelį\n",
    "* components - ryšys į Component modelį\n",
    "\n",
    "**Component (komponentas)**, lentelės pavadinimas - components:\n",
    "* id - sveikas skaičius, pirminis raktas\n",
    "* name - tekstas 20 simbolių ilgio\n",
    "* quantity - dešimtainis skaičius su tikslumu (10, 2), numatyta reikšmė 1.00\n",
    "* item_id - sveikas skaičius, ForeignKey į items.id\n",
    "* item - ryšys į Item modelį\n",
    "\n",
    "Viena parduotuvė (shop) turi daug prekių (item), viena prekė (item) yra sudaryta iš daug komponentų."
   ]
  },
  {
   "cell_type": "markdown",
   "metadata": {
    "deletable": true,
    "editable": true
   },
   "source": [
    "# 2 užduotis\n",
    "\n",
    "Sukurti įrašus modeliuose:\n",
    "\n",
    "**Shop:**\n",
    "* name='IKI', address='Kaunas, Iki gatvė 1'\n",
    "* name='MAXIMA', address='Kaunas, Maksima gatvė 2'\n",
    "\n",
    "**Item:** \n",
    "* **IKI shop**\n",
    "  * barcode='112233112233', name='Žemaičių duona', unit_price=1.55\n",
    "  * barcode='33333222111', description='Pienas iš Žemaitijos', name='Žemaičių pienas', unit_price=2.69\n",
    "* **MAXIMA shop**\n",
    "  * barcode='99898989898', name='Aukštaičių duona', unit_price=1.65\n",
    "  * barcode='99919191991', description='Pienas iš Aukštaitijos', name='Aukštaičių pienas', unit_price=2.99\n",
    " \n",
    "**Component**\n",
    "* **IKI Žemaičių duona**\n",
    "  * name='Miltai', quantity=1.50\n",
    "  * name='Vanduo', quantity=1.00\n",
    "* **IKI Žemaičių pienas**\n",
    "  * name='Pienas', quantity=1.00\n",
    "* **MAXIMA Aukštaičių duona**\n",
    "  * name='Miltai', quantity=1.60\n",
    "  * name='Vanduo', quantity=1.10\n",
    "* **MAXIMA Aukštaičių pienas**\n",
    "  * name='Pienas', quantity=1.10"
   ]
  },
  {
   "cell_type": "markdown",
   "metadata": {
    "deletable": true,
    "editable": true
   },
   "source": [
    "# 3 užduotis\n",
    "\n",
    "* Pakeisti 'IKI' parduotuvės, 'Žemaičių duonos' komponento 'Vandens' kiekį (quantity) iš 1.00 į 1.45.\n",
    "* Ištrinti 'MAXIMA' parduotuvės, 'Aukštaičių pieno' komponentą 'Pienas'."
   ]
  },
  {
   "cell_type": "markdown",
   "metadata": {
    "deletable": true,
    "editable": true
   },
   "source": [
    "# 4 užduotis\n",
    "\n",
    "Atspausdinti visų parduotuvių prekes, bei tų prekių komponentus."
   ]
  },
  {
   "cell_type": "markdown",
   "metadata": {
    "deletable": true,
    "editable": true
   },
   "source": [
    "# 5 užduotis\n",
    "\n",
    "Sukurti užklausas:\n",
    "* Atrinkti prekes, kurios turi susietų komponentų\n",
    "* Atrinkti prekes, kurių pavadinime yra tekstas 'ien'\n",
    "* Suskaičiuoti iš kiek komponentų sudaryta kiekviena prekė\n",
    "* Suskaičiuoti kiekvienos prekės komponentų kiekį (quantity)\n",
    "* Savo nuožiūra suformuoti pasirinktų duomenų užklausą, bei ją aprašyti."
   ]
  }
 ],
 "metadata": {
  "kernelspec": {
   "display_name": "Python 3",
   "language": "python",
   "name": "python3"
  },
  "language_info": {
   "codemirror_mode": {
    "name": "ipython",
    "version": 3
   },
   "file_extension": ".py",
   "mimetype": "text/x-python",
   "name": "python",
   "nbconvert_exporter": "python",
   "pygments_lexer": "ipython3",
   "version": "3.6.3"
  }
 },
 "nbformat": 4,
 "nbformat_minor": 2
}

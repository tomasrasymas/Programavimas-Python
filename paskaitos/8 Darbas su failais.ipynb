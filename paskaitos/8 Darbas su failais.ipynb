{
 "cells": [
  {
   "cell_type": "markdown",
   "metadata": {
    "collapsed": true,
    "deletable": true,
    "editable": true
   },
   "source": [
    "# Darbas su tekstiniais failais\n",
    "\n",
    "Darbo su duomenų failais veiksmų seka: failas atidaromas, atliekamos operacijos (skaitymas, rašymas), failas uždaromas ir atlaisvinami resursai.\n",
    "\n",
    "Failo atidarymui skirta built-in funkcija open(), kuri grąžina failo objektą."
   ]
  },
  {
   "cell_type": "code",
   "execution_count": null,
   "metadata": {
    "collapsed": false,
    "deletable": true,
    "editable": true
   },
   "outputs": [],
   "source": [
    "file_obj = open(\"files/files/names.txt\")\n",
    "print(file_obj)"
   ]
  },
  {
   "cell_type": "markdown",
   "metadata": {
    "deletable": true,
    "editable": true
   },
   "source": [
    "Atidarant failą, galima nurodyti būdą, kuriuo failas bus atidarytas. Failo atidarymo būdas leidžia nurodyta ar failas bus naudojamas skaitymui, rašymui, duomenų pridėjimui. Taip pat galima nurodyti ar failas bus kaip tekstis ar kaip binarinis. Jei nenurodomas joks būdas, pagal nutylėjimą failas atodaromas teksto skaitymo rėžimu. Python failo atodarymo būdai:\n",
    "\n",
    "būdas | aprašymas\n",
    "--- | ---\n",
    "r\t| skaitymui\n",
    "w\t| rašymui (jei failo nėra, jis sukuriamas, jei yra perrašomas)\n",
    "x\t| atidaro failą išskirtiniam sukūrimui (jei failas jau yra, operacija negalima)\n",
    "a\t| redagavimui (jei failo nėra, jis sukuriamas)\n",
    "t\t| atidaro tekstiniu rėžimu\n",
    "b\t| atidaro binariniu rėžimu\n",
    "+\t| atidaro failą koregavimui (skaitymui ir rašymui)"
   ]
  },
  {
   "cell_type": "code",
   "execution_count": null,
   "metadata": {
    "collapsed": true,
    "deletable": true,
    "editable": true
   },
   "outputs": [],
   "source": [
    "file_obj = open(\"files/files/names.txt\")      # atitinka 'rt'\n",
    "file_obj = open(\"files/files/names.txt\",'w')  # rašymas teksto rėžime\n",
    "file_obj = open(\"files/files/names.txt\",'r+b') # skaitymas ir rašymas binariame rėžime"
   ]
  },
  {
   "cell_type": "markdown",
   "metadata": {
    "deletable": true,
    "editable": true
   },
   "source": [
    "Dirbant su tekstiniais failais svarbu nurodyti failo koduotė."
   ]
  },
  {
   "cell_type": "code",
   "execution_count": null,
   "metadata": {
    "collapsed": false,
    "deletable": true,
    "editable": true
   },
   "outputs": [],
   "source": [
    "file_obj = open(\"files/files/names.txt\", mode=\"r\", encoding=\"utf-8\")"
   ]
  },
  {
   "cell_type": "code",
   "execution_count": null,
   "metadata": {
    "collapsed": true,
    "deletable": true,
    "editable": true
   },
   "outputs": [],
   "source": [
    "# baigus darbą su failu jį būtina uždaryti\n",
    "file_obj.close()"
   ]
  },
  {
   "cell_type": "markdown",
   "metadata": {
    "deletable": true,
    "editable": true
   },
   "source": [
    "Atidarius failą ir atliekant veiksmus su juo gali iškilti tam tikros klaidos, kurios sustabdys kodo vykdymą nepasiekus failo uždarymo komandos. Todėl dirbant su failais svarbu visada užtikritni failo uždarymą."
   ]
  },
  {
   "cell_type": "code",
   "execution_count": null,
   "metadata": {
    "collapsed": true,
    "deletable": true,
    "editable": true
   },
   "outputs": [],
   "source": [
    "# saugus failo uždarymas try..finally...\n",
    "try:\n",
    "    file_obj = open(\"files/files/names.txt\")\n",
    "    # atliekamos operacijos su failu\n",
    "finally:\n",
    "    file_obj.close()"
   ]
  },
  {
   "cell_type": "code",
   "execution_count": null,
   "metadata": {
    "collapsed": true,
    "deletable": true,
    "editable": true
   },
   "outputs": [],
   "source": [
    "# saugus failo uždarymas with komanda, atidarytas failas automatiškai uždaromas\n",
    "with open(\"files/files/names.txt\") as file_obj:\n",
    "    pass # atliekamos operacijos su failu"
   ]
  },
  {
   "cell_type": "markdown",
   "metadata": {
    "deletable": true,
    "editable": true
   },
   "source": [
    "Norint rašyti duomenis į failą, jį reikia atsidaryti 'w', 'a' arba 'x' rėžimu."
   ]
  },
  {
   "cell_type": "code",
   "execution_count": null,
   "metadata": {
    "collapsed": false,
    "deletable": true,
    "editable": true
   },
   "outputs": [],
   "source": [
    "# write rašo į failą ir grąžina įrašytų simbolių skaičių\n",
    "with open(\"files/files/numbers.txt\", \"w\") as file_obj:\n",
    "    print(file_obj.write(\"vienas\\n\"))\n",
    "    file_obj.write(\"du\\n\")\n",
    "    file_obj.write(\"trys\\n\")\n",
    "    file_obj.write(\"šeši\\n\")\n",
    "    print(file_obj.write(\"septyni\\n\"))"
   ]
  },
  {
   "cell_type": "code",
   "execution_count": null,
   "metadata": {
    "collapsed": true,
    "deletable": true,
    "editable": true
   },
   "outputs": [],
   "source": [
    "# writelines rašo eilučių sąrašą į failą\n",
    "with open(\"files/files/numbers.txt\", \"w\") as file_obj:\n",
    "    file_obj.writelines([\"trys\\n\", \"keturi\\n\", \"penki\\n\"])"
   ]
  },
  {
   "cell_type": "markdown",
   "metadata": {
    "deletable": true,
    "editable": true
   },
   "source": [
    "Norint skaityti duomenis iš failo reikia failą atsidaryti skaitymo rėžimu."
   ]
  },
  {
   "cell_type": "code",
   "execution_count": null,
   "metadata": {
    "collapsed": false,
    "deletable": true,
    "editable": true
   },
   "outputs": [],
   "source": [
    "# failas skaitomas su read komanda\n",
    "with open(\"files/files/numbers.txt\", \"r\") as file_obj:\n",
    "    print(file_obj.read(3))\n",
    "    print(file_obj.read(4))\n",
    "    print(file_obj.read())\n",
    "    print(file_obj.read())\n",
    "    print(file_obj.read(3))"
   ]
  },
  {
   "cell_type": "code",
   "execution_count": null,
   "metadata": {
    "collapsed": false,
    "deletable": true,
    "editable": true
   },
   "outputs": [],
   "source": [
    "# failo kursoriaus pozicijos keitimas\n",
    "with open(\"files/files/numbers.txt\", \"r\") as file_obj:\n",
    "    print(file_obj.read(5))\n",
    "    print(file_obj.tell()) # esama kursoriaus pozicija\n",
    "    print(file_obj.read(7))\n",
    "    print(file_obj.tell()) # esama kursoriaus pozicija\n",
    "    file_obj.seek(0) # kursoriaus pozicijos keitimas\n",
    "    print(file_obj.read(5))\n",
    "    print(file_obj.tell()) # esama kursoriaus pozicija\n",
    "    file_obj.seek(12) # kursoriaus pozicijos keitimas\n",
    "    print(file_obj.read())"
   ]
  },
  {
   "cell_type": "code",
   "execution_count": null,
   "metadata": {
    "collapsed": false,
    "deletable": true,
    "editable": true
   },
   "outputs": [],
   "source": [
    "# failo vienos eilutės skaitymas\n",
    "with open(\"files/files/numbers.txt\", \"r\") as file_obj:\n",
    "    print(file_obj.readline())\n",
    "    print(file_obj.readline())\n",
    "    print(file_obj.readline())\n",
    "    print(file_obj.readline())"
   ]
  },
  {
   "cell_type": "code",
   "execution_count": null,
   "metadata": {
    "collapsed": false,
    "deletable": true,
    "editable": true
   },
   "outputs": [],
   "source": [
    "# failo visų eilučių skaitymas\n",
    "with open(\"files/files/numbers.txt\", \"r\") as file_obj:\n",
    "    print(file_obj.readlines())"
   ]
  },
  {
   "cell_type": "code",
   "execution_count": null,
   "metadata": {
    "collapsed": false,
    "deletable": true,
    "editable": true
   },
   "outputs": [],
   "source": [
    "# failo skaitymas po vieną eilutę\n",
    "with open(\"files/files/numbers.txt\", \"r\") as file_obj:\n",
    "    for line in file_obj:\n",
    "        print(line, end=\"\")"
   ]
  },
  {
   "cell_type": "markdown",
   "metadata": {
    "deletable": true,
    "editable": true
   },
   "source": [
    "# Darbas su CSV failais\n",
    "\n",
    "Darbui su CSV (angl. Comma Separated Values) failais Python'e yra sukurtas csv modulis. CSV failas yra žmogui suprantamas ir skaitomas tekstinis failas. CSV sudaro eilutės sudarytos iš duomenų laukų atskirtų kableliais (gali būti ir kitoks laukų skyriklis).\n",
    "```csv\n",
    "Žaidėjas,Pozicija,Numeris\n",
    "Brandon Davies,Centro puolėjas,0\n",
    "Kevin Pangos,Gynėjas,3\n",
    "Arturas Milaknis,Gynėjas,21\n",
    "```"
   ]
  },
  {
   "cell_type": "code",
   "execution_count": null,
   "metadata": {
    "collapsed": false,
    "deletable": true,
    "editable": true
   },
   "outputs": [],
   "source": [
    "# duomenų rašymas į csv failą naudojant writerow() metodą\n",
    "data = [\"Žaidėjas,Pozicija,Numeris\".split(\",\"),\n",
    "        \"Brandon Davies,Centro puolėjas,0\".split(\",\"),\n",
    "        \"Kevin Pangos,Gynėjas,3\".split(\",\"),\n",
    "        \"Arturas Milaknis,Gynėjas,21\".split(\",\")\n",
    "       ]\n",
    "\n",
    "with open(\"files/files/players.csv\", \"w\") as file_obj:\n",
    "    writer = csv.writer(file_obj, delimiter=\",\")\n",
    "    for line in data:\n",
    "        writer.writerow(line)"
   ]
  },
  {
   "cell_type": "code",
   "execution_count": null,
   "metadata": {
    "collapsed": true,
    "deletable": true,
    "editable": true
   },
   "outputs": [],
   "source": [
    "# duomenų rašymas į csv failą naudojant DictWriter klasę\n",
    "field_names = \"Žaidėjas,Pozicija,Numeris\".split(\",\")\n",
    "\n",
    "data = [\"Brandon Davies,Centro puolėjas,0\".split(\",\"),\n",
    "        \"Kevin Pangos,Gynėjas,3\".split(\",\"),\n",
    "        \"Arturas Milaknis,Gynėjas,21\".split(\",\")\n",
    "       ]\n",
    "\n",
    "with open(\"files/files/players.csv\", \"w\") as file_obj:\n",
    "    writer = csv.DictWriter(file_obj, delimiter=\",\", fieldnames=field_names)\n",
    "    writer.writeheader()\n",
    "    \n",
    "    for line in data:\n",
    "        writer.writerow({\"Numeris\": line[2], \"Žaidėjas\": line[0], \"Pozicija\": line[1]})"
   ]
  },
  {
   "cell_type": "code",
   "execution_count": null,
   "metadata": {
    "collapsed": false,
    "deletable": true,
    "editable": true
   },
   "outputs": [],
   "source": [
    "# csv failo skaitymas naudojant reader() funkciją\n",
    "import csv\n",
    "\n",
    "with open(\"files/files/players.csv\", \"r\") as file_obj:\n",
    "    reader = csv.reader(file_obj)\n",
    "    for row in reader:\n",
    "        print(row)"
   ]
  },
  {
   "cell_type": "code",
   "execution_count": null,
   "metadata": {
    "collapsed": false,
    "deletable": true,
    "editable": true
   },
   "outputs": [],
   "source": [
    "# csv failo skaitymas naudojant DictReader klasę\n",
    "import csv\n",
    "\n",
    "with open(\"files/files/players.csv\", \"r\") as file_obj:\n",
    "    reader = csv.DictReader(file_obj, delimiter=\",\")\n",
    "    for line in reader:\n",
    "        print(line[\"Žaidėjas\"]),\n",
    "        print(line[\"Pozicija\"])\n",
    "        print(line[\"Numeris\"])"
   ]
  },
  {
   "cell_type": "markdown",
   "metadata": {
    "deletable": true,
    "editable": true
   },
   "source": [
    "# Darbas su JSON failais\n",
    "\n",
    "Darbui su JSON (angl. JavaScript Object Notation) failais Python'e yra sukurtas json modulis. JSON failo struktūra yra labai panaši į žodyno struktūrą. \n",
    "```json\n",
    "{\n",
    "    \"darbuotojai\":[\n",
    "        {\"vardas\":\"Jonas\", \"pavardė\":\"Jonaitis\"}, \n",
    "        {\"vardas\":\"Petras\", \"pavardė\":\"Petraitis\"},\n",
    "        {\"vardas\":\"Sima\", \"pavardė\":\"Simutė\"}\n",
    "    ]\n",
    "}\n",
    "```"
   ]
  },
  {
   "cell_type": "code",
   "execution_count": null,
   "metadata": {
    "collapsed": false,
    "deletable": true,
    "editable": true
   },
   "outputs": [],
   "source": [
    "# duomenų rašymas į json failą naudoajnt dump() funkciją\n",
    "import json\n",
    "\n",
    "data = {\n",
    "    \"darbuotojai\":[\n",
    "        {\"vardas\":\"Jonas\", \"pavardė\":\"Jonaitis\"}, \n",
    "        {\"vardas\":\"Petras\", \"pavardė\":\"Petraitis\"},\n",
    "        {\"vardas\":\"Sima\", \"pavardė\":\"Simutė\"}\n",
    "    ]\n",
    "}\n",
    "\n",
    "with open(\"files/files/employees.json\", \"w\", encoding=\"utf8\") as file_obj:\n",
    "    json.dump(data, file_obj, ensure_ascii=False, indent=4)"
   ]
  },
  {
   "cell_type": "code",
   "execution_count": null,
   "metadata": {
    "collapsed": false,
    "deletable": true,
    "editable": true
   },
   "outputs": [],
   "source": [
    "# duomenų konvertavimas į json tekstą\n",
    "import json\n",
    "\n",
    "data = {\n",
    "    \"darbuotojai\":[\n",
    "        {\"vardas\":\"Jonas\", \"pavardė\":\"Jonaitis\"}, \n",
    "        {\"vardas\":\"Petras\", \"pavardė\":\"Petraitis\"},\n",
    "        {\"vardas\":\"Sima\", \"pavardė\":\"Simutė\"}\n",
    "    ]\n",
    "}\n",
    "\n",
    "json_text = json.dumps(data, ensure_ascii=False)\n",
    "print(type(json_text))\n",
    "print(json_text)"
   ]
  },
  {
   "cell_type": "code",
   "execution_count": null,
   "metadata": {
    "collapsed": false,
    "deletable": true,
    "editable": true
   },
   "outputs": [],
   "source": [
    "# duomenų skaitymas iš json failo naudojant load() funkciją\n",
    "import json\n",
    "\n",
    "with open(\"files/files/employees.json\", \"r\", encoding=\"utf8\") as file_obj:\n",
    "    json_data = json.load(file_obj)\n",
    "    print(type(json_data))\n",
    "    print(json_data)"
   ]
  },
  {
   "cell_type": "code",
   "execution_count": null,
   "metadata": {
    "collapsed": false,
    "deletable": true,
    "editable": true
   },
   "outputs": [],
   "source": [
    "# teksto konvertavimas į json tipą (žodyną)\n",
    "import json\n",
    "\n",
    "json_text = '{\"darbuotojai\": [{\"vardas\": \"Jonas\", \"pavardė\": \"Jonaitis\"}, {\"vardas\": \"Petras\", \"pavardė\": \"Petraitis\"}, {\"vardas\": \"Sima\", \"pavardė\": \"Simutė\"}]}'\n",
    "\n",
    "json_data = json.loads(json_text)\n",
    "print(type(json_data))\n",
    "print(json_data)"
   ]
  },
  {
   "cell_type": "markdown",
   "metadata": {
    "deletable": true,
    "editable": true
   },
   "source": [
    "# Darbas su XML failais\n",
    "\n",
    "Darbui su XML (angl. Extensible Markup Language) failais Python'e yra sukurtas xml modulis. Šiuose failuose duomenys struktūrizuojami medžio principu.\n",
    "\n",
    "```xml\n",
    "<data>  \n",
    "    <items>\n",
    "        <item id=\"1\">Coca Cola</item>\n",
    "        <item id=\"2\">Sprite</item>\n",
    "        <item id=\"3\">Fanta</item>\n",
    "        <item id=\"4\">Lietuviškas</item>\n",
    "    </items>\n",
    "</data>  \n",
    "```"
   ]
  },
  {
   "cell_type": "code",
   "execution_count": null,
   "metadata": {
    "collapsed": false,
    "deletable": true,
    "editable": true
   },
   "outputs": [],
   "source": [
    "# duomenų rašymas į xml failą naudojant ElementTree\n",
    "import xml.etree.ElementTree as ET\n",
    "\n",
    "data = ET.Element(\"data\")\n",
    "items = ET.SubElement(data, \"items\")\n",
    "item_1 = ET.SubElement(items, \"item\")\n",
    "item_2 = ET.SubElement(items, \"item\")\n",
    "item_3 = ET.SubElement(items, \"item\")\n",
    "item_4 = ET.SubElement(items, \"item\")\n",
    "\n",
    "item_1.set(\"id\", \"1\")\n",
    "item_2.set(\"id\", \"2\")\n",
    "item_3.set(\"id\", \"3\")\n",
    "item_4.set(\"id\", \"4\")\n",
    "\n",
    "item_1.text = \"Coca Cola\"\n",
    "item_2.text = \"Sprite\"\n",
    "item_3.text = \"Fanta\"\n",
    "item_4.text = \"Lietuviškas\"\n",
    "\n",
    "tree = ET.ElementTree(data)\n",
    "tree.write(\"files/files/items.xml\", encoding=\"utf-8\")"
   ]
  },
  {
   "cell_type": "code",
   "execution_count": null,
   "metadata": {
    "collapsed": false,
    "deletable": true,
    "editable": true
   },
   "outputs": [],
   "source": [
    "# xml duomenų skaitymas\n",
    "import xml.etree.ElementTree as ET\n",
    "\n",
    "tree = ET.parse(\"files/files/items.xml\")\n",
    "root = tree.getroot()\n",
    "\n",
    "print(\"Konkretus atributas\")\n",
    "print(root[0][1].attrib)\n",
    "\n",
    "print(\"Visi atributai\")\n",
    "for elem in root:\n",
    "    for subelem in elem:\n",
    "        print(subelem.attrib)\n",
    "\n",
    "print(\"Konkretaus elemento duomenys\")\n",
    "print(root[0][1].text)\n",
    "\n",
    "print(\"Visų elementų duomenys\")\n",
    "for elem in root:\n",
    "    for subelem in elem:\n",
    "        print(subelem.text)"
   ]
  },
  {
   "cell_type": "code",
   "execution_count": null,
   "metadata": {
    "collapsed": false,
    "deletable": true,
    "editable": true
   },
   "outputs": [],
   "source": [
    "# duomenų paieška xml faile\n",
    "import xml.etree.ElementTree as ET\n",
    "tree = ET.parse(\"files/files/items.xml\")\n",
    "root = tree.getroot()\n",
    "\n",
    "print(root.tag)\n",
    "\n",
    "for elem in root:\n",
    "    print(elem.tag)\n",
    "    for subelem in elem.findall(\"item\"):\n",
    "        print(subelem.attrib)\n",
    "        print(subelem.get(\"id\"))"
   ]
  },
  {
   "cell_type": "markdown",
   "metadata": {
    "deletable": true,
    "editable": true
   },
   "source": [
    "# Užduotys\n",
    "\n",
    "1. Papildyti adresų knygelės programą kontaktų eksportavimo į failą funkcionalumu. Sukurkite naują meniu \"Eksportuoti į failą\". Galimi pasirinkimai: \"txt\" - į tekstinį failą, \"json\" - json failą, \"csv\" - csv failą ir \"xml\" - xml failą."
   ]
  }
 ],
 "metadata": {
  "kernelspec": {
   "display_name": "Python 3",
   "language": "python",
   "name": "python3"
  },
  "language_info": {
   "codemirror_mode": {
    "name": "ipython",
    "version": 3
   },
   "file_extension": ".py",
   "mimetype": "text/x-python",
   "name": "python",
   "nbconvert_exporter": "python",
   "pygments_lexer": "ipython3",
   "version": "3.6.3"
  }
 },
 "nbformat": 4,
 "nbformat_minor": 2
}

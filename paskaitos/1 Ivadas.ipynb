{
 "cells": [
  {
   "cell_type": "markdown",
   "metadata": {
    "deletable": true,
    "editable": true
   },
   "source": [
    "# Įvadas\n",
    "\n",
    "Python yra interpretuojama, interaktyvi programavimo kalba sukurta Guido van Rossumo 1990 metais.\n",
    "\n",
    "Python kūrėjų tikslai buvo sukurti kalbą, kuri yra lengvai skaitoma, išraiškinga, išreikštinė, paprasta (tinkama neprofesionaliems programuotojams). \n",
    "\n",
    "Python kalbos privalumai:\n",
    "1. Paprasta\n",
    "2. Lengvai išmokstama\n",
    "3. Atviro kodo\n",
    "4. Portabili\n",
    "5. Interpretuojama\n",
    "6. Objektiškai oriantuota\n",
    "7. Praplėčiama\n",
    "8. Plati standartinė biblioteka, daug papildomų bibliotekų \"Python Package Index\"\n",
    "\n",
    "Kelios didesnės kompanijos, kurios naudoja Python programavimo kalbą: Google (Youtube), Facebook, Dropbox, Yahoo, NASA, IBM, Mozilla, Quora, Instagram, Reddit...\n",
    "\n",
    "Python naudojama viskam, nuo mikrokontrolerių programavimo iki žaidimų kūrimo."
   ]
  },
  {
   "cell_type": "markdown",
   "metadata": {
    "deletable": true,
    "editable": true
   },
   "source": [
    "# Komentarai\n",
    "\n",
    "Komentarai skirti programinio kodo paaiškinimui. Dažniausiai vadovaujamasi taisykle: programinis kodas pasako \"kaip\", o komentarai turi pasakyti \"kodėl\". Jūsų parašytą programinį kodą skaitis ir kiti programuotojai - komentarai yra puikus būdas palengvinti jiems darbą/sutaupyti laiko."
   ]
  },
  {
   "cell_type": "code",
   "execution_count": null,
   "metadata": {
    "collapsed": true,
    "deletable": true,
    "editable": true
   },
   "outputs": [],
   "source": [
    "# vienos eilutės komentaras\n",
    "\n",
    "# kelių eilučių \n",
    "# komentaras"
   ]
  },
  {
   "cell_type": "markdown",
   "metadata": {
    "deletable": true,
    "editable": true
   },
   "source": [
    "# Kintamieji\n",
    "\n",
    "Viskas Python programavimo kalboje yra objektas, kuris gali būti kintamas (angl. mutable) arba nekintamas (angl. immutable). Nekintami tipai: boolean, integer, float, tuple, string. Kintami tipai: list ir dictionary.  \n",
    "\n",
    "Python programavimo kalboje nereikia nurodyti kintamojo tipo, jie nustatomi dinamiškai. Norint gauti kintamojo tipą galima naudoti funkciją type().\n",
    "\n",
    "Kintamieji yra nuorodos į objektus (funkcija id(kintamasis) grąžina kintamojo unikalų identifikatorių).\n",
    "\n",
    "Ypatingas tipas - None. Jis reiškia, jog nėra duomenų, tuščia."
   ]
  },
  {
   "cell_type": "code",
   "execution_count": null,
   "metadata": {
    "collapsed": false,
    "deletable": true,
    "editable": true
   },
   "outputs": [],
   "source": [
    "# kintamajam priskiriamas sveikas skaičius\n",
    "a = 3\n",
    "\n",
    "# kintamajam priskiriamas tekstas\n",
    "a = \"tekstas\""
   ]
  },
  {
   "cell_type": "code",
   "execution_count": null,
   "metadata": {
    "collapsed": false,
    "deletable": true,
    "editable": true
   },
   "outputs": [],
   "source": [
    "#kintamasis a rodo į objektą 3\n",
    "a = 3\n",
    "print(a)\n",
    "print(id(a))"
   ]
  },
  {
   "cell_type": "code",
   "execution_count": null,
   "metadata": {
    "collapsed": false,
    "deletable": true,
    "editable": true
   },
   "outputs": [],
   "source": [
    "#kintamasis b rodo į objektą 3\n",
    "b = a\n",
    "print(b)\n",
    "print(id(b))"
   ]
  },
  {
   "cell_type": "code",
   "execution_count": null,
   "metadata": {
    "collapsed": false,
    "deletable": true,
    "editable": true
   },
   "outputs": [],
   "source": [
    "#kintamasis a rodo į objektą 4\n",
    "a = 4\n",
    "print(a)\n",
    "print(id(a))\n",
    "print(b)\n",
    "print(id(b))"
   ]
  },
  {
   "cell_type": "code",
   "execution_count": null,
   "metadata": {
    "collapsed": false,
    "deletable": true,
    "editable": true
   },
   "outputs": [],
   "source": [
    "a = 3\n",
    "print(type(a))\n",
    "\n",
    "a = 4.5\n",
    "print(type(a))\n",
    "\n",
    "a = \"tekstas\"\n",
    "print(type(a))\n",
    "\n",
    "a = True\n",
    "print(type(a))\n",
    "\n",
    "a = [1, 2, \"trečias\"]\n",
    "print(type(a))\n",
    "\n",
    "a = (1, 2, \"trečias\")\n",
    "print(type(a))\n",
    "\n",
    "a = {\"a\": 1, \"b\": \"2\"}\n",
    "print(type(a))\n",
    "\n",
    "a = None\n",
    "print(type(a))"
   ]
  },
  {
   "cell_type": "markdown",
   "metadata": {
    "deletable": true,
    "editable": true
   },
   "source": [
    "# Skaičiai\n",
    "\n",
    "Skaičiai gali būti sveikieji (angl. integer) ir trupmeniniai (angl. float).\n",
    "\n",
    "Sveikieji skaičiai: 1, 56, 67, 100 ir pan.\n",
    "\n",
    "Trupmeniniai skaičiai: 23.5678557, 0.3, 678.43, 52.3E-4 ir pan. Skaičiai su E naudojami aprašyti labai mažiems arba labai didelieps skaičiams, pvz.: 52.3E-4 reiškia 52.3 * 10^-4, 4.5e6 reiškia 4.5 * 10^6. Trupmeniniai skaičiai iš prigimties yra visada apytiksliai, tad jų negalima tiesiogiai lyginti su nuliu ar vieno su kitu."
   ]
  },
  {
   "cell_type": "code",
   "execution_count": null,
   "metadata": {
    "collapsed": false,
    "deletable": true,
    "editable": true
   },
   "outputs": [],
   "source": [
    "print(4+5)\n",
    "print(1-5)\n",
    "print(3*2)\n",
    "print(4*2.3)\n",
    "print(3/2)\n",
    "print(4/2)\n",
    "print(7//3)\n",
    "print(7%3)\n",
    "print(2**3)"
   ]
  },
  {
   "cell_type": "code",
   "execution_count": null,
   "metadata": {
    "collapsed": false,
    "deletable": true,
    "editable": true
   },
   "outputs": [],
   "source": [
    "a = 1.1 + 2.2\n",
    "print(a)"
   ]
  },
  {
   "cell_type": "markdown",
   "metadata": {
    "deletable": true,
    "editable": true
   },
   "source": [
    "# Tekstas\n",
    "\n",
    "Tekstas tai tiesiog simbolių seka (angl. string) užrašoma viengubose arba dvigubose kabutėse. Jei tekstas yra per kelias eilutes, užrašymui naudojama trigubos kabutės. Su teksto kintamaisiais galima atlikti sudėties ir daugybos veiksmus."
   ]
  },
  {
   "cell_type": "code",
   "execution_count": null,
   "metadata": {
    "collapsed": false,
    "deletable": true,
    "editable": true
   },
   "outputs": [],
   "source": [
    "print('Paprastas tekstas')\n",
    "print(\"Paprastas tekstas\")\n",
    "print(\"\"\"\n",
    "        Paprastas tekstas \n",
    "        per kelias eilutes\n",
    "      \"\"\")"
   ]
  },
  {
   "cell_type": "code",
   "execution_count": null,
   "metadata": {
    "collapsed": false,
    "deletable": true,
    "editable": true
   },
   "outputs": [],
   "source": [
    "a = \"Paprastas tekstas\"\n",
    "print(a)\n",
    "\n",
    "# teksto kintamūjų sudėtis\n",
    "a = a + a\n",
    "print(a)\n",
    "\n",
    "# teksto kintamojo dauginimas iš skaičiaus\n",
    "a = a * 3\n",
    "print(a)"
   ]
  },
  {
   "cell_type": "markdown",
   "metadata": {
    "deletable": true,
    "editable": true
   },
   "source": [
    "# Boolean\n",
    "\n",
    "Šio tipo kintamieji gali įgyti tik dvi reikšmes True arba False. Su šio tipo kintamaisiais galima alikti loginius veiksmus ir (and), arba (or), ne (not), lygu (==) ir nelygu (!=)."
   ]
  },
  {
   "cell_type": "code",
   "execution_count": null,
   "metadata": {
    "collapsed": false,
    "deletable": true,
    "editable": true
   },
   "outputs": [],
   "source": [
    "a = True\n",
    "b = True\n",
    "\n",
    "print(a and b)\n",
    "print(a or b)\n",
    "print(not b)\n",
    "print(a == (not b))\n",
    "print(a != b)"
   ]
  },
  {
   "cell_type": "markdown",
   "metadata": {
    "deletable": true,
    "editable": true
   },
   "source": [
    "# Sąrašas\n",
    "\n",
    "Tai to paties arba skirtingo tipo reikšmių sąrašas. Sąrašai gali būti dviejų tipų: kintamas - list ir nekintamas - tuple. Kintamas sąrašas užrašomas laužtiniuose skliaustuose, o nekintamas paprastuose skliaustuose. Visos kintamo ir nekintamo sąrašo operacijos yra identiškos išskyrus koregavimo operacijas.\n",
    "\n",
    "Sąrašai yra indeksuoti, todėl galima pasiekti kiekvieną sąrašo elementą pagal indeksą.\n",
    "\n",
    "Sąrašo funkcijos:\n",
    "* append() - sukuria elementą sąrašo pabaigoje.\n",
    "* extend() - sujungia kelis sąrašus.\n",
    "* insert() - įterpia elementą į sąrašo vietą.\n",
    "* remove() - pašalina elementą iš sąrašo.\n",
    "* pop() - pašalina ir grąžina elementą pagal jo indeksą.\n",
    "* clear() - išvalo visą sąrašą.\n",
    "* index() - grąžina pirmo sutampančio elemento indeksą.\n",
    "* count() - grąžina sutampančių elementų, pagal parametrą, skaičių.\n",
    "* sort() - surikiuoja sąrašą didėjimo tvarka.\n",
    "* reverse() - apverčia sąrašą.\n",
    "* copy() - grąžina sąrašo kopiją."
   ]
  },
  {
   "cell_type": "code",
   "execution_count": null,
   "metadata": {
    "collapsed": false,
    "deletable": true,
    "editable": true
   },
   "outputs": [],
   "source": [
    "mutable = [1, 2, 3, \"tekstas\"]\n",
    "immutable = (1, 2, 3, \"tekstas\")\n",
    "\n",
    "print(mutable, immutable)"
   ]
  },
  {
   "cell_type": "code",
   "execution_count": null,
   "metadata": {
    "collapsed": false,
    "deletable": true,
    "editable": true
   },
   "outputs": [],
   "source": [
    "# tuščias sąrašas\n",
    "a = []\n",
    "\n",
    "# sąrašas su elementais\n",
    "a = [1, 2, 3, 4, 5, 6]\n",
    "print(a[0])\n",
    "print(a[1])\n",
    "print(a[2])\n",
    "print(a[-1])\n",
    "print(a[-2])"
   ]
  },
  {
   "cell_type": "code",
   "execution_count": null,
   "metadata": {
    "collapsed": false,
    "deletable": true,
    "editable": true
   },
   "outputs": [],
   "source": [
    "a = [\"Tekstas\", 3, None, (100, 200)]\n",
    "print(a[0][2])\n",
    "print(a[2])\n",
    "print(a[3][0])"
   ]
  },
  {
   "cell_type": "code",
   "execution_count": null,
   "metadata": {
    "collapsed": false,
    "deletable": true,
    "editable": true
   },
   "outputs": [],
   "source": [
    "a = []\n",
    "\n",
    "# sąrašo elementų įterpimas\n",
    "a.append(2)\n",
    "a.append(7)\n",
    "a.append(\"7\")\n",
    "a.append([1, 10])\n",
    "print(a)\n",
    "\n",
    "a.extend([100, 200, 300])\n",
    "print(a)\n",
    "\n",
    "a.insert(0, 99)\n",
    "print(a)"
   ]
  },
  {
   "cell_type": "code",
   "execution_count": null,
   "metadata": {
    "collapsed": false,
    "deletable": true,
    "editable": true
   },
   "outputs": [],
   "source": [
    "# sąrašo elementų šalinimas\n",
    "a.pop(0)\n",
    "a.pop(-1)\n",
    "print(a)\n",
    "\n",
    "del a[0]\n",
    "print(a)\n",
    "\n",
    "del a[1:4]\n",
    "print(a)\n",
    "\n",
    "a.remove(200)\n",
    "print(a)"
   ]
  },
  {
   "cell_type": "code",
   "execution_count": null,
   "metadata": {
    "collapsed": false,
    "deletable": true,
    "editable": true
   },
   "outputs": [],
   "source": [
    "# sąrašų \"pjaustymas\"\n",
    "a = \"Paprastas tekstas\"\n",
    "print(a[0:9])\n",
    "print(a[:])\n",
    "print(a[3:-1])\n",
    "print(a[-1:])"
   ]
  },
  {
   "cell_type": "code",
   "execution_count": null,
   "metadata": {
    "collapsed": false,
    "deletable": true,
    "editable": true
   },
   "outputs": [],
   "source": [
    "# sąrašo elementų reikšmių keitimas\n",
    "a = [1, 2, 3, 4, 5, 6]\n",
    "a[0] = 10\n",
    "a[-1] = 10\n",
    "a[2:4] = [100, 100]\n",
    "print(a)\n",
    "\n",
    "print([1, 2, 3] + [4, 5, 6])"
   ]
  },
  {
   "cell_type": "code",
   "execution_count": null,
   "metadata": {
    "collapsed": false,
    "deletable": true,
    "editable": true
   },
   "outputs": [],
   "source": [
    "# patikrinimas ar elementas yra sąraše\n",
    "print(100 in a)\n",
    "print(1000 in a)\n",
    "\n",
    "print(a.index(100))\n",
    "print(a.index(1000))"
   ]
  },
  {
   "cell_type": "code",
   "execution_count": null,
   "metadata": {
    "collapsed": false,
    "deletable": true,
    "editable": true
   },
   "outputs": [],
   "source": [
    "# sąrašo elementų sujungimui į tekstinį objektą naudinga funkcija join()\n",
    "a = [\"T\", \"o\", \"m\", \"a\", \"s\"]\n",
    "print(a, type(a))\n",
    "\n",
    "a = \".\".join(a)\n",
    "print(a, type(a))"
   ]
  },
  {
   "cell_type": "markdown",
   "metadata": {},
   "source": [
    "# Eilė\n",
    "\n",
    "Eilė (angl. set) yra nerikiuota kolekcija be sudubliuotų elementų. Pagrindinė paskirtis elementų ekgzistavimo tikrinimas ir dublių eliminavimas."
   ]
  },
  {
   "cell_type": "code",
   "execution_count": null,
   "metadata": {
    "collapsed": false
   },
   "outputs": [],
   "source": [
    "basket = set(['apple', 'orange', 'apple', 'pear', 'orange', 'banana'])\n",
    "print(basket)\n",
    "\n",
    "basket = {'apple', 'orange', 'apple', 'pear', 'orange', 'banana'}\n",
    "print(basket)\n",
    "\n",
    "a = set('abracadabra')\n",
    "b = set('alacazam')\n",
    "\n",
    "print(a, b)\n",
    "\n",
    "print(a - b)    # simboliai yra a, bet nėra b eilėje\n",
    "print(a | b)    # simboliai yra a arba b eilėse\n",
    "print(a & b)    # simboliai yra a ir b eilėse\n",
    "print(a ^ b)    # simboliai yra a arba b eilėse, bet ne abiejose"
   ]
  },
  {
   "cell_type": "markdown",
   "metadata": {
    "deletable": true,
    "editable": true
   },
   "source": [
    "# Žodynas\n",
    "\n",
    "Žodyne (angl. dictionary) saugomos reikšmių poros (raktas: reikšmė (angl. key: value)). Žodyno reikšmės gali būti bet kokio tipo, o rankto reikšmės privalo būti iš nekeičiamo tipo.\n",
    "\n",
    "* clear() - ištrina visas reikšmias iš žodyno.\n",
    "* copy() - sukuria žodyno kopiją.\n",
    "* fromkeys(seq, v) - sukuriamas naujas žodynas su raktais iš seq sąrašo ir reikšmia v.\n",
    "* get(key) - grąžina rakto reikšmę.\n",
    "* setdefault(key, default) - grąžina rakto reikšmę, jei neranda grąžina default reikšmę.\n",
    "* items() - grąžina sąrašą sudarytą iš žodyno rakto ir reikšmės porų.\n",
    "* keys() - grąžina žodyno raktų sąrašą.\n",
    "* pop(key) - pašalina elementą iš žodyno pagal raktą.\n",
    "* popitem() - šalinama po vieną elementą.\n",
    "* update(other_dict) - prie žodyno prideda other_dict žodyno key:value poras.\n",
    "* values() - grąžina žodyno reikšmių sąrašą."
   ]
  },
  {
   "cell_type": "code",
   "execution_count": null,
   "metadata": {
    "collapsed": false,
    "deletable": true,
    "editable": true
   },
   "outputs": [],
   "source": [
    "# tuščias žodynas\n",
    "a = {}\n",
    "\n",
    "# užpildytas žodynas\n",
    "a = {1: \"obuolys\", 2: \"kriaušė\", \"tekstas\": [1, 2, 3, 4, 5, 6], 4: {\"a\": \"a\"}}\n",
    "print(a)"
   ]
  },
  {
   "cell_type": "code",
   "execution_count": null,
   "metadata": {
    "collapsed": false,
    "deletable": true,
    "editable": true
   },
   "outputs": [],
   "source": [
    "# reikšmių gavimas\n",
    "print(a[1])\n",
    "print(a.get(1))\n",
    "print(a[\"tekstas\"])\n",
    "print(a.get(\"tekstas\"))"
   ]
  },
  {
   "cell_type": "code",
   "execution_count": null,
   "metadata": {
    "collapsed": false,
    "deletable": true,
    "editable": true
   },
   "outputs": [],
   "source": [
    "# reikšmių keitimas, kūrimas\n",
    "a[\"tomas\"] = 1986\n",
    "a[\"jonas\"] = (\"a\", \"b\", \"c\")\n",
    "print(a)\n",
    "\n",
    "a[\"tomas\"] = 2000\n",
    "print(a)"
   ]
  },
  {
   "cell_type": "code",
   "execution_count": null,
   "metadata": {
    "collapsed": false,
    "deletable": true,
    "editable": true
   },
   "outputs": [],
   "source": [
    "# reikšmių šalinimas\n",
    "a.pop(\"tekstas\")\n",
    "print(a)\n",
    "\n",
    "a.popitem() # šalinama po vieną elementą\n",
    "print(a)\n",
    "a.popitem()\n",
    "print(a)\n",
    "\n",
    "del a[1] \n",
    "print(a)"
   ]
  },
  {
   "cell_type": "code",
   "execution_count": null,
   "metadata": {
    "collapsed": false,
    "deletable": true,
    "editable": true
   },
   "outputs": [],
   "source": [
    "# patikrinimas ar raktas yra sąraše\n",
    "print(2 in a)\n",
    "print(\"2\" in a)\n",
    "\n",
    "print(a.setdefault(2, \"Nėra\"))\n",
    "print(a.setdefault(\"2\", \"Nėra\"))"
   ]
  },
  {
   "cell_type": "markdown",
   "metadata": {
    "deletable": true,
    "editable": true
   },
   "source": [
    "# Kintamojo tipo keitimas\n",
    "\n",
    "Kartais tenka atlikti kintamojo reikšmės tipo keitimą, pvz. skaičių paversti tekstu, ar tekstą skaičiu. Bet kurio tipo kintamasis gali būti paverstas į boolean tipą. Dauguma reikšmių keičiamos į True, o \"tuščios\" (0, None, \"\", [], (), {}) reikšmės keičiamos į False."
   ]
  },
  {
   "cell_type": "code",
   "execution_count": null,
   "metadata": {
    "collapsed": false,
    "deletable": true,
    "editable": true
   },
   "outputs": [],
   "source": [
    "# tekstas pakeičiamas į skaičių\n",
    "a = \"1\"\n",
    "print(a, type(a))\n",
    "\n",
    "a = int(a)\n",
    "print(a, type(a))"
   ]
  },
  {
   "cell_type": "code",
   "execution_count": null,
   "metadata": {
    "collapsed": false,
    "deletable": true,
    "editable": true
   },
   "outputs": [],
   "source": [
    "a = \"1\"\n",
    "print(a, type(a))\n",
    "\n",
    "a = float(a)\n",
    "print(a, type(a))"
   ]
  },
  {
   "cell_type": "code",
   "execution_count": null,
   "metadata": {
    "collapsed": false,
    "deletable": true,
    "editable": true
   },
   "outputs": [],
   "source": [
    "# skaičius paverčiamas į tekstą\n",
    "a = 3.0\n",
    "print(a, type(a))\n",
    "\n",
    "a = str(a)\n",
    "print(a, type(a))"
   ]
  },
  {
   "cell_type": "code",
   "execution_count": null,
   "metadata": {
    "collapsed": false,
    "deletable": true,
    "editable": true
   },
   "outputs": [],
   "source": [
    "# int paverčiamas į float\n",
    "a = 3\n",
    "print(a, type(a))\n",
    "\n",
    "a = float(a)\n",
    "print(a, type(a))"
   ]
  },
  {
   "cell_type": "code",
   "execution_count": null,
   "metadata": {
    "collapsed": false,
    "deletable": true,
    "editable": true
   },
   "outputs": [],
   "source": [
    "# keitimas į bool tipą\n",
    "print(bool(\"tekstas\"))\n",
    "print(bool(\"\"))\n",
    "\n",
    "print(bool(-4))\n",
    "print(bool(0))\n",
    "\n",
    "print(bool([1, 2]))\n",
    "print(bool([]))"
   ]
  },
  {
   "cell_type": "code",
   "execution_count": null,
   "metadata": {
    "collapsed": false
   },
   "outputs": [],
   "source": [
    "# tuple/list/set keitimai\n",
    "a = (1, 2, 3, 4)\n",
    "print(type(a))\n",
    "\n",
    "a = list(a)\n",
    "print(type(a))\n",
    "\n",
    "a = set(a)\n",
    "print(type(a))\n",
    "\n",
    "a = tuple(a)\n",
    "print(type(a))"
   ]
  },
  {
   "cell_type": "markdown",
   "metadata": {
    "deletable": true,
    "editable": true
   },
   "source": [
    "# Pagrindiniai operatoriai"
   ]
  },
  {
   "cell_type": "code",
   "execution_count": null,
   "metadata": {
    "collapsed": false,
    "deletable": true,
    "editable": true
   },
   "outputs": [],
   "source": [
    "# palyginimo operatoriai\n",
    "a = 10\n",
    "b = 20\n",
    "\n",
    "print(a == b)    # lygu\n",
    "print(a != b)    # nelygu\n",
    "print(a > b)     # daugiau\n",
    "print(a < b)     # mažiau\n",
    "print(a >= b)    # daugiau arba lygu\n",
    "print(a <= b)    # mažiau arba lygu"
   ]
  },
  {
   "cell_type": "code",
   "execution_count": null,
   "metadata": {
    "collapsed": false,
    "deletable": true,
    "editable": true
   },
   "outputs": [],
   "source": [
    "# priskyrimo operatoriai\n",
    "a = 11\n",
    "b = 22\n",
    "\n",
    "c = a + b       # reikšmės priskyrimas\n",
    "print(c)\n",
    "\n",
    "c += a          # atitinka c = c + a\n",
    "print(c)\n",
    "\n",
    "c -= a          # atitinka c = c - a\n",
    "print(c)\n",
    "\n",
    "c *= a          # atitinka c = c * a\n",
    "print(c)\n",
    "\n",
    "c /= a          # atitinka c = c / a\n",
    "print(c)\n",
    "\n",
    "c %= a          # atitinka c = c % a\n",
    "print(c)\n",
    "\n",
    "c **= a          # atitinka c = c ** a\n",
    "print(c)\n",
    "\n",
    "c //= a          # atitinka c = c // a\n",
    "print(c)"
   ]
  },
  {
   "cell_type": "code",
   "execution_count": null,
   "metadata": {
    "collapsed": true,
    "deletable": true,
    "editable": true
   },
   "outputs": [],
   "source": [
    "# loginiai operatoriai\n",
    "\n",
    "print(True and False)   # loginis ir\n",
    "print(True or False)    # loginis arba\n",
    "print(not True)         # loginis ne"
   ]
  },
  {
   "cell_type": "code",
   "execution_count": null,
   "metadata": {
    "collapsed": false,
    "deletable": true,
    "editable": true
   },
   "outputs": [],
   "source": [
    "# narystės operatoriai\n",
    "a = [\"a\", \"b\", \"c\", \"d\"]\n",
    "\n",
    "print(\"v\" in a)        # reikšmė yra sekoje\n",
    "print(\"v\" not in a)    # reikšmės nėra sekoje"
   ]
  },
  {
   "cell_type": "code",
   "execution_count": null,
   "metadata": {
    "collapsed": false,
    "deletable": true,
    "editable": true
   },
   "outputs": [],
   "source": [
    "# identifikavimo operatoriai lygina funkcijos id() reikšmes\n",
    "a = 10\n",
    "b = a\n",
    "\n",
    "print(a is b)        # ar kintamieji rodo į tą patį objektą\n",
    "b = 3\n",
    "print(a is b)        # ar kintamieji rodo į tą patį objektą\n",
    "\n",
    "print(a is not b)    # ar kintamieji rodo į skirtingus objektus"
   ]
  },
  {
   "cell_type": "markdown",
   "metadata": {
    "deletable": true,
    "editable": true
   },
   "source": [
    "# Informacijos įvedimas/išvedimas\n",
    "\n",
    "* print() - informacijos išvedimas į ekraną\n",
    "* input() - informacijos įvedimas\n",
    "* str.format() - teksto formavimas su kita informacija"
   ]
  },
  {
   "cell_type": "code",
   "execution_count": null,
   "metadata": {
    "collapsed": false,
    "deletable": true,
    "editable": true
   },
   "outputs": [],
   "source": [
    "# informacijos įvedimas\n",
    "name = input(\"Jūsų vardas:\")\n",
    "print(name, type(name))\n",
    "\n",
    "age = input(\"Jūsų amžius:\")\n",
    "print(age, type(age))\n",
    "age = int(age)\n",
    "print(age, type(age))"
   ]
  },
  {
   "cell_type": "code",
   "execution_count": null,
   "metadata": {
    "collapsed": false,
    "deletable": true,
    "editable": true
   },
   "outputs": [],
   "source": [
    "# informacijos išvedimas į ekraną\n",
    "a = 2\n",
    "print(a)\n",
    "\n",
    "b = \"tekstas\"\n",
    "print(b)\n",
    "\n",
    "c = [1, 2, 4, None, [3, 4], (4, 4), {\"a\": 1, \"b\": 2}]\n",
    "print(c)\n",
    "\n",
    "print(a, b, c)\n",
    "\n",
    "print(\"viena\", end=\" \")\n",
    "print(\"eilutė\")"
   ]
  },
  {
   "cell_type": "code",
   "execution_count": null,
   "metadata": {
    "collapsed": false,
    "deletable": true,
    "editable": true
   },
   "outputs": [],
   "source": [
    "# formatuotas informacijos išvedimas\n",
    "age = 40\n",
    "name = \"Tomas\"\n",
    "\n",
    "print(\"Sveiki, mano vardas {0}, man yra {1}\".format(name, age))\n",
    "print(\"Labas, {0}\".format(name))\n",
    "\n",
    "print(\"Sveiki, mano vardas {}, man yra {}\".format(name, age))\n",
    "print(\"Labas, {}\".format(name))\n",
    "\n",
    "print(\"Sveiki, mano vardas \" + name + \", man yra \" + str(age))\n",
    "print(\"Labas, \" + str(name))\n",
    "\n",
    "print(\"Sveiki, mano vardas {name}, man yra {age}\".format(name=\"Tomas\", age=40))\n",
    "print(\"Labas, {name}\".format(name=\"Tomas\"))\n",
    "\n",
    "print(\"{0:.3f}\".format(1.0/3))          # dešimtainio skaičiaus tikslumas\n",
    "print(\"{0:-^11}\".format(\"Labas\"))       # užpildyti brūkšneliais (-), su tekstu centruotu (^) iki 11 simbolių"
   ]
  },
  {
   "cell_type": "markdown",
   "metadata": {
    "deletable": true,
    "editable": true
   },
   "source": [
    "# Programavimo kultūra\n",
    "https://www.python.org/dev/peps/pep-0008/#naming-conventions"
   ]
  },
  {
   "cell_type": "markdown",
   "metadata": {
    "deletable": true,
    "editable": true
   },
   "source": [
    "# Užduotys\n",
    "* Sukurkite programą, kuri paprašytų vartotoją įvesti jo vardą, pavardę ir amžių. Vartotojui į ekraną išveskite pasisveikinimo eilutę su jo suvesta informacija, bei eilutę, kurioje būtų nurodomi metai, kada vartotojui sueis 100 metų.\n",
    "* Sukurkite programą, kuri paprašytų vartotoją įvesti sveiką skaičių. Vartotojui į ekraną išvesti ar tas skaičius yra lyginis ar nelyginis.\n",
    "* Sukurkite programą, kuri paprašytų vartotoją įvesti 5 simbolius. Suvestus simbolius saugokit sąraše. Į ekraną vartotojui pirmoje eilutėje išveskite vartotojo suvestus pirmus tris simbolius, antroje eilutėje - du paskutinius, trečioje eilutėje - simbolius išrikiuotus atvirkštine jų suvedimo seka. \n",
    "* Sukurkite programą, kuri paprašytų vartotoją įvesti jo vardą, pagal vardą atliktų paiešką profesijų žodyne ir jei toks vardas egzistuoja žodyne į ekraną išvestų vartotojo vardą ir jo profesiją, jei ne - vartotojo vardą ir tekstą \"profesija nerasta\".\n",
    "```python\n",
    "{\n",
    "    \"Tomas\": \"Lakūnas\",\n",
    "    \"Jonas\": \"Kosmonautas\",\n",
    "    \"Petras\": \"Mokytojas\"\n",
    "}\n",
    "```\n",
    "* Sukurkite programą, kuri paprašytų vartotoją įvesti 5 skaitmenis. Vartotojui į ekraną išvesti didėjimo tvarka surikiuotus skaitmenis."
   ]
  }
 ],
 "metadata": {
  "kernelspec": {
   "display_name": "Python 3",
   "language": "python",
   "name": "python3"
  },
  "language_info": {
   "codemirror_mode": {
    "name": "ipython",
    "version": 3
   },
   "file_extension": ".py",
   "mimetype": "text/x-python",
   "name": "python",
   "nbconvert_exporter": "python",
   "pygments_lexer": "ipython3",
   "version": "3.6.3"
  }
 },
 "nbformat": 4,
 "nbformat_minor": 2
}

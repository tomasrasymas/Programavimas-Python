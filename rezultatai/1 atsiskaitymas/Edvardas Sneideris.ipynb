{
 "cells": [
  {
   "cell_type": "markdown",
   "metadata": {},
   "source": [
    "# 1 užduotis\n",
    "\n",
    "Sukurti funkciją, kuri priima tris parametrus: n - tekstas, a - tekstas, kurio simboliai yra teigiami, b - tekstas, kurio simboliai yra neigiami. Teigiami simboliai yra verti 1, neigiami verti -1, o simboliai, kurių nėra nei a, nei b tekste yra vertas 0. Funkcija suskaičiuoja teksto įvertį ir jį grąžina.\n",
    "\n",
    "##### Pavyzdys:\n",
    "```python\n",
    "n = \"vienas du trys\"  \n",
    "a = \"vn \"  \n",
    "b = \"ayds\"  \n",
    "```\n",
    "\n",
    "##### Rezultatas\n",
    "-1\n",
    "\n",
    "##### Pavyzdys:\n",
    "```python\n",
    "n = \"keturiolika\"  \n",
    "a = \"ktur\"  \n",
    "b = \"ila\"  \n",
    "```\n",
    "##### Rezultatas\n",
    "1\n"
   ]
  },
  {
   "cell_type": "code",
   "execution_count": 16,
   "metadata": {},
   "outputs": [
    {
     "name": "stdout",
     "output_type": "stream",
     "text": [
      "Main text: keturiolika\n",
      "Positive text: ktur\n",
      "Negative text: ila\n",
      "1\n"
     ]
    }
   ],
   "source": [
    "mainText = input(\"Main text: \")\n",
    "positiveText = input(\"Positive text: \")\n",
    "negativeText = input(\"Negative text: \")\n",
    "sum = 0\n",
    "for val in mainText:\n",
    "    for pval in positiveText:\n",
    "        if val == pval:\n",
    "            sum += 1\n",
    "    for nval in negativeText:\n",
    "        if val == nval:\n",
    "            sum -= 1\n",
    "        \n",
    "print(sum)"
   ]
  },
  {
   "cell_type": "code",
   "execution_count": null,
   "metadata": {
    "collapsed": true
   },
   "outputs": [],
   "source": []
  },
  {
   "cell_type": "markdown",
   "metadata": {},
   "source": [
    "# 2 užduotis\n",
    "\n",
    "Sukurti funkciją, kuri priima vieną parametrą a - vienos dimensijos sąrašas. Funkcijoje atliekamas sąrašo filtravimas paliekant reikšmes iš intervalo 10-100. Funkcija grąžina išfiltruotų reikšmių: vidurkį, didžiausią ir mažiausią reikšmes, bei sumą. Sukurti antrą funkciją, kuri priima vieną parametrą b - sąrašą sudarytą iš sąrašų ir kiekvienam sąrašo elementui iškviečia pirmą funkciją ir atspausdina gautą rezultatą.\n",
    "\n",
    "##### Pavyzdys:\n",
    "```python\n",
    "data_list = [\n",
    "    [1, 10, 34, 110, 400, 30, 20],\n",
    "    [-5, -10, 55, 120, 30],\n",
    "    [2, 67, 23, 78, 200],\n",
    "]\n",
    "```\n",
    "\n",
    "##### Rezultatas\n",
    "```python\n",
    "(23.5, 10, 34, 94)\n",
    "(42.5, 30, 55, 85)\n",
    "(56.0, 23, 78, 168)\n",
    "```\n",
    "\n",
    "##### Pavyzdys:\n",
    "```python\n",
    "data_list = [\n",
    "    [-1, 45, 23, 32, 999],\n",
    "    [67, 99, 23],\n",
    "    [23],\n",
    "]\n",
    "```\n",
    "\n",
    "##### Rezultatas\n",
    "```python\n",
    "(33.333333333333336, 23, 45, 100)\n",
    "(63.0, 23, 99, 189)\n",
    "(23.0, 23, 23, 23)\n",
    "```"
   ]
  },
  {
   "cell_type": "code",
   "execution_count": 23,
   "metadata": {},
   "outputs": [
    {
     "name": "stdout",
     "output_type": "stream",
     "text": [
      "[[10, 34, 30, 20], [55, 30], [67, 23, 78]]\n",
      "[[[23.5, 10, 34, 94, 42.5, 30, 55, 85, 56.0, 23, 78, 168]], [[23.5, 10, 34, 94, 42.5, 30, 55, 85, 56.0, 23, 78, 168]], [[23.5, 10, 34, 94, 42.5, 30, 55, 85, 56.0, 23, 78, 168]]]\n"
     ]
    }
   ],
   "source": [
    "def filter(data_list):\n",
    "    ats = []\n",
    "    tarpAts = []\n",
    "    data_lenght = len(data_list)\n",
    "    i = 0\n",
    "    while i < data_lenght:\n",
    "        sum = 0\n",
    "        a = len(data_list[i])\n",
    "        x = 0\n",
    "        while x < a:\n",
    "            if data_list[i][x] < 10 or data_list[i][x] > 100:\n",
    "                data_list[i].remove(data_list[i][x])\n",
    "                x -= 1\n",
    "                a -= 1\n",
    "            else:\n",
    "                sum += data_list[i][x]\n",
    "            x += 1\n",
    "        tarpAts.append(sum/a)\n",
    "        tarpAts.append(min(data_list[i]))\n",
    "        tarpAts.append(max(data_list[i]))\n",
    "        tarpAts.append(sum)\n",
    "        ats.append([tarpAts])\n",
    "        i += 1\n",
    "    print(data_list)\n",
    "    print(ats)\n",
    "\n",
    "data_list = [\n",
    "    [1, 10, 34, 110, 400, 30, 20],\n",
    "    [-5, -10, 55, 120, 30],\n",
    "    [2, 67, 23, 78, 200],\n",
    "]\n",
    "filter(data_list)"
   ]
  },
  {
   "cell_type": "markdown",
   "metadata": {},
   "source": [
    "# 3 užduotis\n",
    "\n",
    "Sukurti programą, kuri vartotojo paprašo įvesti simbolių seką - x, bei vieną skaitmenį - y. Atlikti patikrinimus, jog y tikrai skaičius, jog jis yra didesnis už 0, bei x ilgis dalinasi į lygias dalis po y simbolių. Jei šios sąlygos tenkinamos suskaidyti tekstą į lygias dalis po y simbolių ir atspausdinti unikalius simbolius (svarbu išlaikyti simbolių eiliškumą).\n",
    "\n",
    "##### Pavyzdys:\n",
    "```python\n",
    "x = \"AABCAAADA\"\n",
    "y = 3\n",
    "```\n",
    "\n",
    "##### Rezultatas\n",
    "```python\n",
    "AB\n",
    "CA\n",
    "AD\n",
    "```\n",
    "\n",
    "##### Pavyzdys:\n",
    "```python\n",
    "x = \"AABCADAA\"\n",
    "y = 4\n",
    "```\n",
    "\n",
    "##### Rezultatas\n",
    "```python\n",
    "ABC\n",
    "AD\n",
    "```"
   ]
  },
  {
   "cell_type": "code",
   "execution_count": null,
   "metadata": {
    "collapsed": true
   },
   "outputs": [],
   "source": []
  },
  {
   "cell_type": "markdown",
   "metadata": {},
   "source": [
    "# 4 užduotis\n",
    "\n",
    "Sukurti dekoratorių antros užduoties funkcijai, kuri grąžina vidurkį, didžiausią ir mažiausią reikšmes, bei sumą. Dekoratorius priima vieną parametrą x - skaičių. Atimti parametrą x iš kiekvienos dekoruojamos funkcijos grąžinamos reikšmės. \n",
    "\n",
    "##### Pavyzdys:\n",
    "```python\n",
    "data_list = [\n",
    "    [1, 10, 34, 110, 400, 30, 20],\n",
    "    [-5, -10, 55, 120, 30],\n",
    "    [2, 67, 23, 78, 200],\n",
    "]\n",
    "\n",
    "x = 10\n",
    "```\n",
    "\n",
    "##### Rezultatas\n",
    "```python\n",
    "(13.5, 0, 24, 84)\n",
    "(32.5, 20, 45, 75)\n",
    "(46.0, 13, 68, 158)\n",
    "```\n",
    "\n",
    "##### Pavyzdys:\n",
    "```python\n",
    "data_list = [\n",
    "    [-1, 45, 23, 32, 999],\n",
    "    [67, 99, 23],\n",
    "    [23],\n",
    "]\n",
    "\n",
    "x = 10\n",
    "```\n",
    "\n",
    "##### Rezultatas\n",
    "```python\n",
    "(23.333333333333336, 13, 35, 90)\n",
    "(53.0, 13, 89, 179)\n",
    "(13.0, 13, 13, 13)\n",
    "```"
   ]
  },
  {
   "cell_type": "code",
   "execution_count": null,
   "metadata": {
    "collapsed": true
   },
   "outputs": [],
   "source": []
  },
  {
   "cell_type": "markdown",
   "metadata": {},
   "source": [
    "# 5 užduotis\n",
    "\n",
    "Sukurti funkciją, kuri atlieka teksto suspaudimą. Funkcija priima vieną parametrą x - tekstas ir grąžina tekstą sudarytą iš simbolio ir jo iš eilės einančių pasikartojimų skaičiaus t.y. suspaudimas vykdomas grupuojant iš eilės einančius simbolius.\n",
    "\n",
    "##### Pavyzdys:\n",
    "```python\n",
    "x = \"aaavvvfdff\"\n",
    "```\n",
    "\n",
    "##### Rezultatas\n",
    "```python\n",
    "a3v3f1d1f2\n",
    "```\n",
    "\n",
    "##### Pavyzdys:\n",
    "```python\n",
    "x = \"avtvvvff\"\n",
    "```\n",
    "\n",
    "##### Rezultatas\n",
    "```python\n",
    "a1v1t1v3f2\n",
    "```"
   ]
  },
  {
   "cell_type": "code",
   "execution_count": null,
   "metadata": {
    "collapsed": true
   },
   "outputs": [],
   "source": []
  }
 ],
 "metadata": {
  "kernelspec": {
   "display_name": "Python 3",
   "language": "python",
   "name": "python3"
  },
  "language_info": {
   "codemirror_mode": {
    "name": "ipython",
    "version": 3
   },
   "file_extension": ".py",
   "mimetype": "text/x-python",
   "name": "python",
   "nbconvert_exporter": "python",
   "pygments_lexer": "ipython3",
   "version": "3.6.3"
  }
 },
 "nbformat": 4,
 "nbformat_minor": 2
}

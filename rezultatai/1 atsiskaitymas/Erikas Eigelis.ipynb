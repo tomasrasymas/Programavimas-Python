{
 "cells": [
  {
   "cell_type": "markdown",
   "metadata": {},
   "source": [
    "# 1 užduotis\n",
    "\n",
    "Sukurti funkciją, kuri priima tris parametrus: n - tekstas, a - tekstas, kurio simboliai yra teigiami, b - tekstas, kurio simboliai yra neigiami. Teigiami simboliai yra verti 1, neigiami verti -1, o simboliai, kurių nėra nei a, nei b tekste yra vertas 0. Funkcija suskaičiuoja teksto įvertį ir jį grąžina.\n",
    "\n",
    "##### Pavyzdys:\n",
    "```python\n",
    "n = \"vienas du trys\"  \n",
    "a = \"vn \"  \n",
    "b = \"ayds\"  \n",
    "```\n",
    "\n",
    "##### Rezultatas\n",
    "-1\n",
    "\n",
    "##### Pavyzdys:\n",
    "```python\n",
    "n = \"keturiolika\"  \n",
    "a = \"ktur\"  \n",
    "b = \"ila\"  \n",
    "```\n",
    "##### Rezultatas\n",
    "1\n"
   ]
  },
  {
   "cell_type": "code",
   "execution_count": 1,
   "metadata": {},
   "outputs": [
    {
     "name": "stdout",
     "output_type": "stream",
     "text": [
      "-1\n",
      "1\n"
     ]
    }
   ],
   "source": [
    "def text_value_calculator(text, positive_text, negative_text):\n",
    "    \"\"\"Function returns value of entered text by checking if there are letters in positive and negative text strings \"\"\"\n",
    "    value = 0  # start value set to 0\n",
    "    # iterating through entire text:\n",
    "    for letter in text:\n",
    "        # if letter is found in positive string, value is increased by 1:\n",
    "        if letter in positive_text:\n",
    "            value += 1\n",
    "        # if letter is found in positive string, value is decreased by 1:\n",
    "        elif letter in negative_text:\n",
    "            value -= 1\n",
    "        # in other cases nothing is done\n",
    "    return value  # returning final value\n",
    "\n",
    "\n",
    "print(text_value_calculator(\"vienas du trys\", \"vn \", \"ayds\"))\n",
    "print(text_value_calculator(\"keturiolika\", \"ktur \", \"ila\"))"
   ]
  },
  {
   "cell_type": "markdown",
   "metadata": {},
   "source": [
    "# 2 užduotis\n",
    "\n",
    "Sukurti funkciją, kuri priima vieną parametrą a - vienos dimensijos sąrašas. Funkcijoje atliekamas sąrašo filtravimas paliekant reikšmes iš intervalo 10-100. Funkcija grąžina išfiltruotų reikšmių: vidurkį, didžiausią ir mažiausią reikšmes, bei sumą. Sukurti antrą funkciją, kuri priima vieną parametrą b - sąrašą sudarytą iš sąrašų ir kiekvienam sąrašo elementui iškviečia pirmą funkciją ir atspausdina gautą rezultatą.\n",
    "\n",
    "##### Pavyzdys:\n",
    "```python\n",
    "data_list = [\n",
    "    [1, 10, 34, 110, 400, 30, 20],\n",
    "    [-5, -10, 55, 120, 30],\n",
    "    [2, 67, 23, 78, 200],\n",
    "]\n",
    "```\n",
    "\n",
    "##### Rezultatas\n",
    "```python\n",
    "(23.5, 10, 34, 94)\n",
    "(42.5, 30, 55, 85)\n",
    "(56.0, 23, 78, 168)\n",
    "```\n",
    "\n",
    "##### Pavyzdys:\n",
    "```python\n",
    "data_list = [\n",
    "    [-1, 45, 23, 32, 999],\n",
    "    [67, 99, 23],\n",
    "    [23],\n",
    "]\n",
    "```\n",
    "\n",
    "##### Rezultatas\n",
    "```python\n",
    "(33.333333333333336, 23, 45, 100)\n",
    "(63.0, 23, 99, 189)\n",
    "(23.0, 23, 23, 23)\n",
    "```"
   ]
  },
  {
   "cell_type": "code",
   "execution_count": 3,
   "metadata": {},
   "outputs": [
    {
     "name": "stdout",
     "output_type": "stream",
     "text": [
      "[23.5, 10, 34, 94]\n",
      "[42.5, 30, 55, 85]\n",
      "[56.0, 23, 78, 168]\n",
      "[33.333333333333336, 23, 45, 100]\n",
      "[63.0, 23, 99, 189]\n",
      "[23.0, 23, 23, 23]\n"
     ]
    }
   ],
   "source": [
    "def number_operations(num_list):\n",
    "    filtered_list = list(\n",
    "        filter(lambda x: x in range(10, 100), num_list))  # getting list of values, that are in range (10-100)\n",
    "    return [sum(filtered_list) / len(filtered_list), min(filtered_list), max(filtered_list),\n",
    "            sum(filtered_list)]  # returning list of average, min and max values and sum\n",
    "\n",
    "\n",
    "# lambda function to iterate through 2 level list and to pass internal list to number_operations function:\n",
    "list_iterator = lambda x: [number_operations(x[i]) for i in range(len(x))]\n",
    "\n",
    "test_data_list = [\n",
    "    [1, 10, 34, 110, 400, 30, 20],\n",
    "    [-5, -10, 55, 120, 30],\n",
    "    [2, 67, 23, 78, 200],\n",
    "]\n",
    "test_data_list1 = [\n",
    "    [-1, 45, 23, 32, 999],\n",
    "    [67, 99, 23],\n",
    "    [23],\n",
    "]\n",
    "print(*list_iterator(test_data_list), sep=\"\\n\")\n",
    "print(*list_iterator(test_data_list1), sep=\"\\n\")\n"
   ]
  },
  {
   "cell_type": "markdown",
   "metadata": {},
   "source": [
    "# 3 užduotis\n",
    "\n",
    "Sukurti programą, kuri vartotojo paprašo įvesti simbolių seką - x, bei vieną skaitmenį - y. Atlikti patikrinimus, jog y tikrai skaičius, jog jis yra didesnis už 0, bei x ilgis dalinasi į lygias dalis po y simbolių. Jei šios sąlygos tenkinamos suskaidyti tekstą į lygias dalis po y simbolių ir atspausdinti unikalius simbolius (svarbu išlaikyti simbolių eiliškumą).\n",
    "\n",
    "##### Pavyzdys:\n",
    "```python\n",
    "x = \"AABCAAADA\"\n",
    "y = 3\n",
    "```\n",
    "\n",
    "##### Rezultatas\n",
    "```python\n",
    "AB\n",
    "CA\n",
    "AD\n",
    "```\n",
    "\n",
    "##### Pavyzdys:\n",
    "```python\n",
    "x = \"AABCADAA\"\n",
    "y = 4\n",
    "```\n",
    "\n",
    "##### Rezultatas\n",
    "```python\n",
    "ABC\n",
    "AD\n",
    "```"
   ]
  },
  {
   "cell_type": "code",
   "execution_count": 1,
   "metadata": {},
   "outputs": [
    {
     "name": "stdout",
     "output_type": "stream",
     "text": [
      "Test number: r\n",
      "This was not a number!\n",
      "Please try again: 6\n",
      "Number does not split text in equal parts!\n",
      "Please try again: 3\n",
      "3\n"
     ]
    }
   ],
   "source": [
    "def num_validation(number):\n",
    "    \"\"\"Function checks if value is a number\"\"\"\n",
    "    try:\n",
    "        # tries to return value as integer:\n",
    "        return int(number)\n",
    "    except ValueError:\n",
    "        # if value is not int, function is called recursively with new input:\n",
    "        return num_validation(input(\"This was not a number!\\nPlease try again: \"))\n",
    "\n",
    "\n",
    "def num_value_checker(text, number):\n",
    "    \"\"\"Function checks, if value fits requirements, otherwise it num_validation function is called with request to enter a new number:\"\"\"\n",
    "    if number <= 0:\n",
    "        return num_validation(input(\"Number has to be grater than 0!\\nPlease try again: \"))\n",
    "    elif len(text) % number != 0:\n",
    "        return num_validation(input(\"Number does not split text in equal parts!\\nPlease try again: \"))\n",
    "    else:\n",
    "        # if number fits requirements, it is returned:\n",
    "        return number\n",
    "\n",
    "\n",
    "x = \"AABCAAADA\"\n",
    "y = 3\n",
    "\n",
    "print(num_value_checker(x, num_validation(input(\"Test number: \"))))\n",
    "\n",
    "# Not completed\n"
   ]
  },
  {
   "cell_type": "markdown",
   "metadata": {},
   "source": [
    "# 4 užduotis\n",
    "\n",
    "Sukurti dekoratorių antros užduoties funkcijai, kuri grąžina vidurkį, didžiausią ir mažiausią reikšmes, bei sumą. Dekoratorius priima vieną parametrą x - skaičių. Atimti parametrą x iš kiekvienos dekoruojamos funkcijos grąžinamos reikšmės. \n",
    "\n",
    "##### Pavyzdys:\n",
    "```python\n",
    "data_list = [\n",
    "    [1, 10, 34, 110, 400, 30, 20],\n",
    "    [-5, -10, 55, 120, 30],\n",
    "    [2, 67, 23, 78, 200],\n",
    "]\n",
    "\n",
    "x = 10\n",
    "```\n",
    "\n",
    "##### Rezultatas\n",
    "```python\n",
    "(13.5, 0, 24, 84)\n",
    "(32.5, 20, 45, 75)\n",
    "(46.0, 13, 68, 158)\n",
    "```\n",
    "\n",
    "##### Pavyzdys:\n",
    "```python\n",
    "data_list = [\n",
    "    [-1, 45, 23, 32, 999],\n",
    "    [67, 99, 23],\n",
    "    [23],\n",
    "]\n",
    "\n",
    "x = 10\n",
    "```\n",
    "\n",
    "##### Rezultatas\n",
    "```python\n",
    "(23.333333333333336, 13, 35, 90)\n",
    "(53.0, 13, 89, 179)\n",
    "(13.0, 13, 13, 13)\n",
    "```"
   ]
  },
  {
   "cell_type": "code",
   "execution_count": 4,
   "metadata": {},
   "outputs": [
    {
     "name": "stdout",
     "output_type": "stream",
     "text": [
      "[13.5, 0, 24, 84]\n",
      "[32.5, 20, 45, 75]\n",
      "[46.0, 13, 68, 158]\n",
      "[23.333333333333336, 13, 35, 90]\n",
      "[53.0, 13, 89, 179]\n",
      "[13.0, 13, 13, 13]\n"
     ]
    }
   ],
   "source": [
    "def decorator(function):\n",
    "    def wrapper(num_list):\n",
    "        # mapping function to decrease each value by 10:\n",
    "        return list(map(lambda x: x - 10, function(num_list)))\n",
    "\n",
    "    return wrapper\n",
    "\n",
    "\n",
    "# Using decorator to decorate code, found in Ex. 2:\n",
    "@decorator\n",
    "def number_operations(num_list):\n",
    "    filtered_list = list(\n",
    "        filter(lambda x: x in range(10, 100), num_list))  # getting list of values, that are in range (10-100)\n",
    "    return [sum(filtered_list) / len(filtered_list), min(filtered_list), max(filtered_list),\n",
    "            sum(filtered_list)]  # returning list of average, min and max values and sum\n",
    "\n",
    "\n",
    "# lambda function to iterate through 2 level list and to pass internal list to number_operations function:\n",
    "list_iterator = lambda x: [number_operations(x[i]) for i in range(len(x))]\n",
    "test_data_list = [\n",
    "    [1, 10, 34, 110, 400, 30, 20],\n",
    "    [-5, -10, 55, 120, 30],\n",
    "    [2, 67, 23, 78, 200],\n",
    "]\n",
    "test_data_list1 = [\n",
    "    [-1, 45, 23, 32, 999],\n",
    "    [67, 99, 23],\n",
    "    [23],\n",
    "]\n",
    "print(*list_iterator(test_data_list), sep=\"\\n\")\n",
    "print(*list_iterator(test_data_list1), sep=\"\\n\")\n"
   ]
  },
  {
   "cell_type": "markdown",
   "metadata": {},
   "source": [
    "# 5 užduotis\n",
    "\n",
    "Sukurti funkciją, kuri atlieka teksto suspaudimą. Funkcija priima vieną parametrą x - tekstas ir grąžina tekstą sudarytą iš simbolio ir jo iš eilės einančių pasikartojimų skaičiaus t.y. suspaudimas vykdomas grupuojant iš eilės einančius simbolius.\n",
    "\n",
    "##### Pavyzdys:\n",
    "```python\n",
    "x = \"aaavvvfdff\"\n",
    "```\n",
    "\n",
    "##### Rezultatas\n",
    "```python\n",
    "a3v3f1d1f2\n",
    "```\n",
    "\n",
    "##### Pavyzdys:\n",
    "```python\n",
    "x = \"avtvvvff\"\n",
    "```\n",
    "\n",
    "##### Rezultatas\n",
    "```python\n",
    "a1v1t1v3f2\n",
    "```"
   ]
  },
  {
   "cell_type": "code",
   "execution_count": null,
   "metadata": {
    "collapsed": true
   },
   "outputs": [],
   "source": []
  }
 ],
 "metadata": {
  "kernelspec": {
   "display_name": "Python 3",
   "language": "python",
   "name": "python3"
  },
  "language_info": {
   "codemirror_mode": {
    "name": "ipython",
    "version": 3
   },
   "file_extension": ".py",
   "mimetype": "text/x-python",
   "name": "python",
   "nbconvert_exporter": "python",
   "pygments_lexer": "ipython3",
   "version": "3.6.0"
  }
 },
 "nbformat": 4,
 "nbformat_minor": 2
}

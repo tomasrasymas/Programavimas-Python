{
 "cells": [
  {
   "cell_type": "markdown",
   "metadata": {},
   "source": [
    "# 1 užduotis\n",
    "\n",
    "Sukurti funkciją, kuri priima tris parametrus: n - tekstas, a - tekstas, kurio simboliai yra teigiami, b - tekstas, kurio simboliai yra neigiami. Teigiami simboliai yra verti 1, neigiami verti -1, o simboliai, kurių nėra nei a, nei b tekste yra vertas 0. Funkcija suskaičiuoja teksto įvertį ir jį grąžina.\n",
    "\n",
    "##### Pavyzdys:\n",
    "```python\n",
    "n = \"vienas du trys\"  \n",
    "a = \"vn \"  \n",
    "b = \"ayds\"  \n",
    "```\n",
    "\n",
    "##### Rezultatas\n",
    "-1\n",
    "\n",
    "##### Pavyzdys:\n",
    "```python\n",
    "n = \"keturiolika\"  \n",
    "a = \"ktur\"  \n",
    "b = \"ila\"  \n",
    "```\n",
    "##### Rezultatas\n",
    "1\n"
   ]
  },
  {
   "cell_type": "code",
   "execution_count": 27,
   "metadata": {},
   "outputs": [
    {
     "name": "stdout",
     "output_type": "stream",
     "text": [
      "-1\n"
     ]
    }
   ],
   "source": [
    "n = \"vienas du trys\"  \n",
    "a = \"vn \"  \n",
    "b = \"ayds\"\n",
    "def count_function(n, a, b):\n",
    "    result = 0\n",
    "    if len(n) % 2 != 0: # len atiduoda koks ilgis ir tada patikrina ar dalijas be liekanos\n",
    "        result += 1\n",
    "    else:\n",
    "        result -= 1\n",
    "    if len(a) % 2 != 0:\n",
    "        result += 1\n",
    "    else:\n",
    "        result -= 1\n",
    "    if len(b) % 2 != 0:\n",
    "        result += 1\n",
    "    else:\n",
    "        result -= 1\n",
    "    return result\n",
    "print(count_function(n, a, b))"
   ]
  },
  {
   "cell_type": "markdown",
   "metadata": {},
   "source": [
    "# 2 užduotis\n",
    "\n",
    "Sukurti funkciją, kuri priima vieną parametrą a - vienos dimensijos sąrašas. Funkcijoje atliekamas sąrašo filtravimas paliekant reikšmes iš intervalo 10-100. Funkcija grąžina išfiltruotų reikšmių: vidurkį, didžiausią ir mažiausią reikšmes, bei sumą. Sukurti antrą funkciją, kuri priima vieną parametrą b - sąrašą sudarytą iš sąrašų ir kiekvienam sąrašo elementui iškviečia pirmą funkciją ir atspausdina gautą rezultatą.\n",
    "\n",
    "##### Pavyzdys:\n",
    "```python\n",
    "data_list = [\n",
    "    [1, 10, 34, 110, 400, 30, 20],\n",
    "    [-5, -10, 55, 120, 30],\n",
    "    [2, 67, 23, 78, 200],\n",
    "]\n",
    "```\n",
    "\n",
    "##### Rezultatas\n",
    "```python\n",
    "(23.5, 10, 34, 94)\n",
    "(42.5, 30, 55, 85)\n",
    "(56.0, 23, 78, 168)\n",
    "```\n",
    "\n",
    "##### Pavyzdys:\n",
    "```python\n",
    "data_list = [\n",
    "    [-1, 45, 23, 32, 999],\n",
    "    [67, 99, 23],\n",
    "    [23],\n",
    "]\n",
    "```\n",
    "\n",
    "##### Rezultatas\n",
    "```python\n",
    "(33.333333333333336, 23, 45, 100)\n",
    "(63.0, 23, 99, 189)\n",
    "(23.0, 23, 23, 23)\n",
    "```"
   ]
  },
  {
   "cell_type": "code",
   "execution_count": 24,
   "metadata": {},
   "outputs": [
    {
     "ename": "IndentationError",
     "evalue": "expected an indented block (<ipython-input-24-25dce2021c4f>, line 10)",
     "output_type": "error",
     "traceback": [
      "\u001b[1;36m  File \u001b[1;32m\"<ipython-input-24-25dce2021c4f>\"\u001b[1;36m, line \u001b[1;32m10\u001b[0m\n\u001b[1;33m    def list_filter(a=[]):\u001b[0m\n\u001b[1;37m      ^\u001b[0m\n\u001b[1;31mIndentationError\u001b[0m\u001b[1;31m:\u001b[0m expected an indented block\n"
     ]
    }
   ],
   "source": [
    "a = [1, 10, 34, 110, 400, 30, 20]\n",
    "data_list = [\n",
    "    [1, 10, 34, 110, 400, 30, 20],\n",
    "    [-5, -10, 55, 120, 30],\n",
    "    [2, 67, 23, 78, 200],\n",
    "]\n",
    "def second_function(b = []):\n",
    "    \n",
    "\n",
    "def list_filter(a = []):\n",
    "    a = sorted(a, key = lambda x: x in range(10, 100)) # turetu sudaryti lista su reiksmemis kurios yra tarp range (10, 100)\n",
    "    return sum(a) / len(a), min(a), max(a), sum(a) # grazina 4 reiksmes\n",
    "    #yield sum(a) / len(a)\n",
    "    #yield min(a)\n",
    "    #yield max(a)\n",
    "    #yield sum(a)\n",
    "print(*list_filter(a))"
   ]
  },
  {
   "cell_type": "markdown",
   "metadata": {},
   "source": [
    "# 3 užduotis\n",
    "\n",
    "Sukurti programą, kuri vartotojo paprašo įvesti simbolių seką - x, bei vieną skaitmenį - y. Atlikti patikrinimus, jog y tikrai skaičius, jog jis yra didesnis už 0, bei x ilgis dalinasi į lygias dalis po y simbolių. Jei šios sąlygos tenkinamos suskaidyti tekstą į lygias dalis po y simbolių ir atspausdinti unikalius simbolius (svarbu išlaikyti simbolių eiliškumą).\n",
    "\n",
    "##### Pavyzdys:\n",
    "```python\n",
    "x = \"AABCAAADA\"\n",
    "y = 3\n",
    "```\n",
    "\n",
    "##### Rezultatas\n",
    "```python\n",
    "AB\n",
    "CA\n",
    "AD\n",
    "```\n",
    "\n",
    "##### Pavyzdys:\n",
    "```python\n",
    "x = \"AABCADAA\"\n",
    "y = 4\n",
    "```\n",
    "\n",
    "##### Rezultatas\n",
    "```python\n",
    "ABC\n",
    "AD\n",
    "```"
   ]
  },
  {
   "cell_type": "code",
   "execution_count": 37,
   "metadata": {},
   "outputs": [
    {
     "name": "stdout",
     "output_type": "stream",
     "text": [
      "Input some simbols: abcded\n",
      "Inuput one number: 2\n",
      "['ab', 'cd', 'ed']\n"
     ]
    }
   ],
   "source": [
    "x = input(\"Input some simbols: \")\n",
    "try:\n",
    "    y = int(input(\"Inuput one number: \"))\n",
    "    if y <= 0 and len(x) % y != 0: # tikrina ar ivestas skaicius nera mazesnis arba lygus 0 ir prie to pačio ar dalijasi is ivesto skaičiaus\n",
    "        raise ValueError(\"Number is too small or something else\")\n",
    "    else:\n",
    "        print(list(map(''.join, zip(*[iter(x)]*y)))) # map naudojamas kad pereitu per kiekviena elementa\n",
    "except ValueError:\n",
    "    print(\"You inputed not number\")"
   ]
  },
  {
   "cell_type": "markdown",
   "metadata": {},
   "source": [
    "# 4 užduotis\n",
    "\n",
    "Sukurti dekoratorių antros užduoties funkcijai, kuri grąžina vidurkį, didžiausią ir mažiausią reikšmes, bei sumą. Dekoratorius priima vieną parametrą x - skaičių. Atimti parametrą x iš kiekvienos dekoruojamos funkcijos grąžinamos reikšmės. \n",
    "\n",
    "##### Pavyzdys:\n",
    "```python\n",
    "data_list = [\n",
    "    [1, 10, 34, 110, 400, 30, 20],\n",
    "    [-5, -10, 55, 120, 30],\n",
    "    [2, 67, 23, 78, 200],\n",
    "]\n",
    "\n",
    "x = 10\n",
    "```\n",
    "\n",
    "##### Rezultatas\n",
    "```python\n",
    "(13.5, 0, 24, 84)\n",
    "(32.5, 20, 45, 75)\n",
    "(46.0, 13, 68, 158)\n",
    "```\n",
    "\n",
    "##### Pavyzdys:\n",
    "```python\n",
    "data_list = [\n",
    "    [-1, 45, 23, 32, 999],\n",
    "    [67, 99, 23],\n",
    "    [23],\n",
    "]\n",
    "\n",
    "x = 10\n",
    "```\n",
    "\n",
    "##### Rezultatas\n",
    "```python\n",
    "(23.333333333333336, 13, 35, 90)\n",
    "(53.0, 13, 89, 179)\n",
    "(13.0, 13, 13, 13)\n",
    "```"
   ]
  },
  {
   "cell_type": "code",
   "execution_count": 25,
   "metadata": {},
   "outputs": [
    {
     "ename": "IndentationError",
     "evalue": "expected an indented block (<ipython-input-25-52ec1e021eda>, line 9)",
     "output_type": "error",
     "traceback": [
      "\u001b[1;36m  File \u001b[1;32m\"<ipython-input-25-52ec1e021eda>\"\u001b[1;36m, line \u001b[1;32m9\u001b[0m\n\u001b[1;33m    def second_function(b = []):\u001b[0m\n\u001b[1;37m                                ^\u001b[0m\n\u001b[1;31mIndentationError\u001b[0m\u001b[1;31m:\u001b[0m expected an indented block\n"
     ]
    }
   ],
   "source": [
    "a = [1, 10, 34, 110, 400, 30, 20]\n",
    "data_list = [\n",
    "    [1, 10, 34, 110, 400, 30, 20],\n",
    "    [-5, -10, 55, 120, 30],\n",
    "    [2, 67, 23, 78, 200],\n",
    "]\n",
    "def filter_decorator(func):\n",
    "    def do_stuff(x):\n",
    "        return func() - x\n",
    "def second_function(b = []):\n",
    "    \n",
    "@filter_decorator\n",
    "def list_filter(a = []):\n",
    "    a = sorted(a, key = lambda x: x in range(10, 100))\n",
    "    return sum(a) / len(a), min(a), max(a), sum(a)"
   ]
  },
  {
   "cell_type": "markdown",
   "metadata": {},
   "source": [
    "# 5 užduotis\n",
    "\n",
    "Sukurti funkciją, kuri atlieka teksto suspaudimą. Funkcija priima vieną parametrą x - tekstas ir grąžina tekstą sudarytą iš simbolio ir jo iš eilės einančių pasikartojimų skaičiaus t.y. suspaudimas vykdomas grupuojant iš eilės einančius simbolius.\n",
    "\n",
    "##### Pavyzdys:\n",
    "```python\n",
    "x = \"aaavvvfdff\"\n",
    "```\n",
    "\n",
    "##### Rezultatas\n",
    "```python\n",
    "a3v3f1d1f2\n",
    "```\n",
    "\n",
    "##### Pavyzdys:\n",
    "```python\n",
    "x = \"avtvvvff\"\n",
    "```\n",
    "\n",
    "##### Rezultatas\n",
    "```python\n",
    "a1v1t1v3f2\n",
    "```"
   ]
  },
  {
   "cell_type": "code",
   "execution_count": null,
   "metadata": {
    "collapsed": true
   },
   "outputs": [],
   "source": [
    "a = input(\"Input some text: \")\n",
    "def count_text(text):\n",
    "    counted_text = \n",
    "    return counted_text\n",
    "print(count_text(a))"
   ]
  }
 ],
 "metadata": {
  "kernelspec": {
   "display_name": "Python 3",
   "language": "python",
   "name": "python3"
  },
  "language_info": {
   "codemirror_mode": {
    "name": "ipython",
    "version": 3
   },
   "file_extension": ".py",
   "mimetype": "text/x-python",
   "name": "python",
   "nbconvert_exporter": "python",
   "pygments_lexer": "ipython3",
   "version": "3.6.4"
  }
 },
 "nbformat": 4,
 "nbformat_minor": 2
}
